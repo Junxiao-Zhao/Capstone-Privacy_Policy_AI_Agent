{
 "cells": [
  {
   "cell_type": "code",
   "execution_count": 1,
   "metadata": {},
   "outputs": [],
   "source": [
    "import torch\n",
    "from transformers import pipeline\n",
    "from transformers import AutoTokenizer, AutoModelForCausalLM"
   ]
  },
  {
   "cell_type": "code",
   "execution_count": 2,
   "metadata": {},
   "outputs": [
    {
     "data": {
      "application/vnd.jupyter.widget-view+json": {
       "model_id": "ce0824d939154315beefb79334c5ab32",
       "version_major": 2,
       "version_minor": 0
      },
      "text/plain": [
       "Loading checkpoint shards:   0%|          | 0/6 [00:00<?, ?it/s]"
      ]
     },
     "metadata": {},
     "output_type": "display_data"
    }
   ],
   "source": [
    "pipe = pipeline(\"text-generation\",\n",
    "                model=\"Equall/Saul-7B-Instruct-v1\",\n",
    "                torch_dtype=torch.bfloat16,\n",
    "                device_map=\"auto\")"
   ]
  },
  {
   "cell_type": "code",
   "execution_count": 10,
   "metadata": {},
   "outputs": [],
   "source": [
    "messages = [\n",
    "    {\n",
    "        \"role\":\n",
    "        \"user\",\n",
    "        \"content\":\n",
    "        \"\"\"Judge the following section from a privacy policy, to see whether it's GDPR compliant:\n",
    "    \n",
    "    3. Data Collection and Use\n",
    "\n",
    "We collect personal data that you provide to us directly, such as your name, email address, and any documents you upload for editing. We use this data to provide, maintain, and improve our services, communicate with you, and ensure the security of our platform.\"\"\"\n",
    "    },\n",
    "]\n",
    "prompt = pipe.tokenizer.apply_chat_template(messages,\n",
    "                                            tokenize=False,\n",
    "                                            add_generation_prompt=True)"
   ]
  },
  {
   "cell_type": "code",
   "execution_count": 11,
   "metadata": {},
   "outputs": [
    {
     "name": "stderr",
     "output_type": "stream",
     "text": [
      "Setting `pad_token_id` to `eos_token_id`:2 for open-end generation.\n"
     ]
    },
    {
     "name": "stdout",
     "output_type": "stream",
     "text": [
      " The provided section from the privacy policy is GDPR compliant. It clearly states the purpose and use of personal data collected directly from the user, which is essential for ensuring transparency and consent requirements under GDPR. By stating the specific data collected (name, email address, and any uploaded documents), the user is aware of the information being handled. The purpose of using this data (for providing, maintaining, and improving services, communicating with the user, and ensuring the security of the platform) is explicitly mentioned, which aligns with the lawfulness and fairness principle. However, it would be helpful to include information about data retention and data sharing policies for better compliance with GDPR.\n"
     ]
    }
   ],
   "source": [
    "outputs = pipe(\n",
    "    prompt,\n",
    "    do_sample=True,\n",
    "    top_k=10,\n",
    "    num_return_sequences=1,\n",
    "    max_length=2048,\n",
    "    truncation=True,\n",
    "    #   eos_token_id=tokenizer.eos_token_id,\n",
    "    return_full_text=False)\n",
    "print(outputs[0][\"generated_text\"])"
   ]
  }
 ],
 "metadata": {
  "kernelspec": {
   "display_name": "base",
   "language": "python",
   "name": "python3"
  },
  "language_info": {
   "codemirror_mode": {
    "name": "ipython",
    "version": 3
   },
   "file_extension": ".py",
   "mimetype": "text/x-python",
   "name": "python",
   "nbconvert_exporter": "python",
   "pygments_lexer": "ipython3",
   "version": "3.10.9"
  }
 },
 "nbformat": 4,
 "nbformat_minor": 2
}
