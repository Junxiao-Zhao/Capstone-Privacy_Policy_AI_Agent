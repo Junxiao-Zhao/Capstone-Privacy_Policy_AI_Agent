{
 "cells": [
  {
   "cell_type": "code",
   "execution_count": 1,
   "metadata": {},
   "outputs": [],
   "source": [
    "import torch\n",
    "from transformers import pipeline\n",
    "from transformers import AutoTokenizer, AutoModelForCausalLM"
   ]
  },
  {
   "cell_type": "code",
   "execution_count": 2,
   "metadata": {},
   "outputs": [
    {
     "data": {
      "application/vnd.jupyter.widget-view+json": {
       "model_id": "38ccc8bf641141b0b1a2e149c397134f",
       "version_major": 2,
       "version_minor": 0
      },
      "text/plain": [
       "Loading checkpoint shards:   0%|          | 0/6 [00:00<?, ?it/s]"
      ]
     },
     "metadata": {},
     "output_type": "display_data"
    }
   ],
   "source": [
    "pipe = pipeline(\"text-generation\",\n",
    "                model=\"Equall/Saul-7B-Instruct-v1\",\n",
    "                torch_dtype=torch.bfloat16,\n",
    "                device_map=\"auto\")"
   ]
  },
  {
   "cell_type": "code",
   "execution_count": 3,
   "metadata": {},
   "outputs": [],
   "source": [
    "messages = [\n",
    "    {\n",
    "        \"role\":\n",
    "        \"user\",\n",
    "        \"content\":\n",
    "        \"\"\"Judge the following section from a privacy policy, to see whether it's GDPR compliant:\n",
    "        \n",
    "        **Privacy Policy Introduction**\n",
    "\n",
    "        **Purpose of the Privacy Policy**\n",
    "\n",
    "        Welcome to [Your Organization]'s Privacy Policy. This document outlines how we collect, use, and protect your personal data when you interact with our services. Our goal is to provide you with clear and transparent information about our data practices, ensuring you have the knowledge and control over your personal information.\n",
    "\n",
    "        **Our Commitment to Data Protection**\n",
    "\n",
    "        At [Your Organization], we are committed to safeguarding your privacy and ensuring the security of your personal data. We adhere to the principles of the European General Data Protection Regulation (GDPR), which mandates strict guidelines for data protection and privacy. Our dedication to these principles reflects our commitment to maintaining your trust and confidence in our services. We strive to balance simplicity and comprehensiveness in our privacy practices, empowering you with the understanding and control necessary to manage your personal information effectively.\"\"\"\n",
    "    },\n",
    "]\n",
    "prompt = pipe.tokenizer.apply_chat_template(messages,\n",
    "                                            tokenize=False,\n",
    "                                            add_generation_prompt=True)"
   ]
  },
  {
   "cell_type": "code",
   "execution_count": 4,
   "metadata": {},
   "outputs": [
    {
     "name": "stderr",
     "output_type": "stream",
     "text": [
      "Setting `pad_token_id` to `eos_token_id`:2 for open-end generation.\n"
     ]
    },
    {
     "name": "stdout",
     "output_type": "stream",
     "text": [
      " The provided text is from the introduction and commitment to data protection in the GDPR compliance context, which is GDPR compliant. The text clearly states the purpose of the privacy policy, which is to inform users about the collection, use, and protection of their personal data. It also mentions adherence to the GDPR principles, which shows commitment to data protection and privacy. The text balances simplicity and comprehensiveness in its privacy practices, which is a GDPR recommendation. Overall, it seems that the text is GDPR compliant.\n"
     ]
    }
   ],
   "source": [
    "outputs = pipe(\n",
    "    prompt,\n",
    "    do_sample=True,\n",
    "    top_k=10,\n",
    "    num_return_sequences=1,\n",
    "    max_length=2048,\n",
    "    truncation=True,\n",
    "    #   eos_token_id=tokenizer.eos_token_id,\n",
    "    return_full_text=False)\n",
    "print(outputs[0][\"generated_text\"])"
   ]
  }
 ],
 "metadata": {
  "kernelspec": {
   "display_name": "base",
   "language": "python",
   "name": "python3"
  },
  "language_info": {
   "codemirror_mode": {
    "name": "ipython",
    "version": 3
   },
   "file_extension": ".py",
   "mimetype": "text/x-python",
   "name": "python",
   "nbconvert_exporter": "python",
   "pygments_lexer": "ipython3",
   "version": "3.12.2"
  }
 },
 "nbformat": 4,
 "nbformat_minor": 2
}
