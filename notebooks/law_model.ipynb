{
 "cells": [
  {
   "cell_type": "code",
   "execution_count": 1,
   "metadata": {},
   "outputs": [
    {
     "name": "stderr",
     "output_type": "stream",
     "text": [
      "d:\\Program\\miniconda3\\envs\\DL\\lib\\site-packages\\pydantic\\_internal\\_fields.py:160: UserWarning: Field \"model_id\" has conflict with protected namespace \"model_\".\n",
      "\n",
      "You may be able to resolve this warning by setting `model_config['protected_namespaces'] = ()`.\n",
      "  warnings.warn(\n",
      "d:\\Program\\miniconda3\\envs\\DL\\lib\\site-packages\\transformers\\utils\\generic.py:485: UserWarning: torch.utils._pytree._register_pytree_node is deprecated. Please use torch.utils._pytree.register_pytree_node instead.\n",
      "  _torch_pytree._register_pytree_node(\n"
     ]
    }
   ],
   "source": [
    "import os\n",
    "import uuid\n",
    "from typing import Sequence, List, Any, Dict, Tuple\n",
    "\n",
    "import torch\n",
    "import regex as re\n",
    "import tiktoken\n",
    "import json\n",
    "from llama_index.agent.openai import OpenAIAgent, OpenAIAgentWorker\n",
    "from llama_index.llms.openai import OpenAI\n",
    "from llama_index.core.agent import FunctionCallingAgentWorker, CustomSimpleAgentWorker, ReActAgentWorker\n",
    "from llama_index.agent.introspective import SelfReflectionAgentWorker, IntrospectiveAgentWorker\n",
    "from llama_index.agent.openai.step import OpenAIAgentWorker\n",
    "from llama_index.core import Settings, StorageContext\n",
    "from llama_index.core.indices import load_index_from_storage\n",
    "from llama_index.core.llms import ChatMessage, MessageRole\n",
    "from llama_index.core.tools import BaseTool, FunctionTool, ToolOutput, QueryEngineTool, ToolMetadata\n",
    "from llama_index.core.memory import (\n",
    "    VectorMemory,\n",
    "    SimpleComposableMemory,\n",
    "    ChatSummaryMemoryBuffer,\n",
    "    ChatMemoryBuffer,\n",
    ")\n",
    "from llama_index.core.bridge.pydantic import Field\n",
    "from llama_index.core.agent.types import Task, TaskStep\n",
    "from llama_index.core.chat_engine.types import AgentChatResponse\n",
    "from llama_index.core.indices.vector_store import VectorStoreIndex\n",
    "from llama_index.core.vector_stores.types import VectorStore\n",
    "from llama_index.embeddings.openai import OpenAIEmbedding\n",
    "from llama_index.core.callbacks import CallbackManager, TokenCountingHandler\n",
    "from llama_index.llms.huggingface import HuggingFaceLLM\n",
    "from llama_index.core.agent.utils import add_user_step_to_memory\n",
    "from duckduckgo_search import DDGS\n",
    "from IPython.display import Markdown, display\n",
    "from transformers import AutoTokenizer, AutoModelForCausalLM, BitsAndBytesConfig"
   ]
  },
  {
   "cell_type": "code",
   "execution_count": 2,
   "metadata": {},
   "outputs": [],
   "source": [
    "model = 'gpt-4o'\n",
    "llm = OpenAI(model=model)\n",
    "tokenizer_fn = tiktoken.get_encoding(\"cl100k_base\").encode\n",
    "token_counter = TokenCountingHandler(tokenizer=tokenizer_fn)\n",
    "\n",
    "Settings.llm = llm\n",
    "# Settings.callback_manager = CallbackManager([token_counter])"
   ]
  },
  {
   "cell_type": "code",
   "execution_count": 3,
   "metadata": {},
   "outputs": [
    {
     "name": "stderr",
     "output_type": "stream",
     "text": [
      "d:\\Program\\miniconda3\\envs\\DL\\lib\\site-packages\\huggingface_hub\\file_download.py:1132: FutureWarning: `resume_download` is deprecated and will be removed in version 1.0.0. Downloads always resume when possible. If you want to force a new download, use `force_download=True`.\n",
      "  warnings.warn(\n",
      "d:\\Program\\miniconda3\\envs\\DL\\lib\\site-packages\\transformers\\utils\\generic.py:342: UserWarning: torch.utils._pytree._register_pytree_node is deprecated. Please use torch.utils._pytree.register_pytree_node instead.\n",
      "  _torch_pytree._register_pytree_node(\n",
      "d:\\Program\\miniconda3\\envs\\DL\\lib\\site-packages\\transformers\\utils\\generic.py:342: UserWarning: torch.utils._pytree._register_pytree_node is deprecated. Please use torch.utils._pytree.register_pytree_node instead.\n",
      "  _torch_pytree._register_pytree_node(\n"
     ]
    },
    {
     "data": {
      "application/vnd.jupyter.widget-view+json": {
       "model_id": "a1dfe11868a24666a5e75af2cd012ee7",
       "version_major": 2,
       "version_minor": 0
      },
      "text/plain": [
       "Loading checkpoint shards:   0%|          | 0/6 [00:00<?, ?it/s]"
      ]
     },
     "metadata": {},
     "output_type": "display_data"
    },
    {
     "name": "stderr",
     "output_type": "stream",
     "text": [
      "d:\\Program\\miniconda3\\envs\\DL\\lib\\site-packages\\huggingface_hub\\file_download.py:1132: FutureWarning: `resume_download` is deprecated and will be removed in version 1.0.0. Downloads always resume when possible. If you want to force a new download, use `force_download=True`.\n",
      "  warnings.warn(\n"
     ]
    }
   ],
   "source": [
    "model_name = \"Equall/Saul-7B-Instruct-v1\"\n",
    "tokenizer = AutoTokenizer.from_pretrained(model_name)\n",
    "model = AutoModelForCausalLM.from_pretrained(\n",
    "    model_name,\n",
    "    device_map='auto',\n",
    "    trust_remote_code=True,\n",
    "    use_safetensors=True,\n",
    "    quantization_config=BitsAndBytesConfig(\n",
    "        load_in_4bit=True,\n",
    "        bnb_4bit_compute_dtype=\"bfloat16\",  # bfloat16 is recommended\n",
    "        bnb_4bit_use_double_quant=False,\n",
    "        bnb_4bit_quant_type='nf4',\n",
    "        llm_int8_skip_modules=['lm_head'],\n",
    "    ),\n",
    "    # dtype=torch.bfloat16,\n",
    ")"
   ]
  },
  {
   "cell_type": "code",
   "execution_count": 4,
   "metadata": {},
   "outputs": [],
   "source": [
    "def messages_to_prompt(messages: Sequence[ChatMessage]):\n",
    "\n",
    "    messages = [{\n",
    "        'role': msg.role.value,\n",
    "        'content': msg.content.strip()\n",
    "    } for msg in messages]\n",
    "\n",
    "    prompt = tokenizer.apply_chat_template(\n",
    "        messages,\n",
    "        tokenize=False,\n",
    "        add_generation_prompt=True,\n",
    "    )\n",
    "\n",
    "    return prompt"
   ]
  },
  {
   "cell_type": "code",
   "execution_count": 14,
   "metadata": {},
   "outputs": [],
   "source": [
    "law_llm = HuggingFaceLLM(\n",
    "    model_name=model_name,\n",
    "    model=model,\n",
    "    tokenizer=tokenizer,\n",
    "    messages_to_prompt=messages_to_prompt,\n",
    ")"
   ]
  },
  {
   "cell_type": "code",
   "execution_count": 6,
   "metadata": {},
   "outputs": [],
   "source": [
    "class HuggingFaceAgentWorker(CustomSimpleAgentWorker):\n",
    "\n",
    "    prefix_message: List[ChatMessage] = Field(default_factory=list,\n",
    "                                              description=\"Prefix messages\")\n",
    "\n",
    "    def get_all_messages(self, task: Task) -> List[ChatMessage]:\n",
    "        return (self.prefix_message + task.memory.get(input=task.input) +\n",
    "                task.extra_state[\"new_memory\"].get_all())\n",
    "\n",
    "    def _initialize_state(self, task: Task, **kwargs: Any) -> Dict[str, Any]:\n",
    "        pass\n",
    "\n",
    "    def initialize_step(self, task: Task, **kwargs: Any) -> TaskStep:\n",
    "        \"\"\"Initialize step from task.\"\"\"\n",
    "        sources: List[ToolOutput] = []\n",
    "        # temporary memory for new messages\n",
    "        new_memory = ChatMemoryBuffer.from_defaults()\n",
    "        # initialize task state\n",
    "        task_state = {\n",
    "            \"sources\": sources,\n",
    "            \"n_function_calls\": 0,\n",
    "            \"new_memory\": new_memory,\n",
    "        }\n",
    "        task.extra_state.update(task_state)\n",
    "\n",
    "        return TaskStep(\n",
    "            task_id=task.task_id,\n",
    "            step_id=str(uuid.uuid4()),\n",
    "            input=task.input,\n",
    "        )\n",
    "\n",
    "    def _run_step(self,\n",
    "                  state: Dict[str, Any],\n",
    "                  task: Task,\n",
    "                  input: str | None = None) -> Tuple[AgentChatResponse, bool]:\n",
    "\n",
    "        if input is not None:\n",
    "            user_message = ChatMessage(content=input, role=MessageRole.USER)\n",
    "            task.extra_state[\"new_memory\"].put(user_message)\n",
    "            if self.verbose:\n",
    "                print(f\"Added user message to memory: {input}\")\n",
    "\n",
    "        response = self.llm.chat(self.get_all_messages(task))\n",
    "        # TODO: whether enable function call\n",
    "\n",
    "        if self.verbose and response.message.content:\n",
    "            print(\"=== LLM Response ===\")\n",
    "            print(str(response.message.content))\n",
    "\n",
    "        task.extra_state[\"new_memory\"].put(response.message)\n",
    "\n",
    "        agent_response = AgentChatResponse(\n",
    "            response=str(response.message.content),\n",
    "            sources=task.extra_state[\"sources\"],\n",
    "        )\n",
    "\n",
    "        return agent_response, True\n",
    "\n",
    "    def _finalize_task(self, state: Dict[str, Any], **kwargs: Any) -> None:\n",
    "        pass\n",
    "\n",
    "    def finalize_task(self, task: Task, **kwargs: Any) -> None:\n",
    "        # add new messages to memory\n",
    "        task.memory.set(task.memory.get_all() +\n",
    "                        task.extra_state[\"new_memory\"].get_all())\n",
    "        # reset new memory\n",
    "        task.extra_state[\"new_memory\"].reset()"
   ]
  },
  {
   "cell_type": "code",
   "execution_count": 15,
   "metadata": {},
   "outputs": [],
   "source": [
    "vector_memory = VectorMemory.from_defaults(\n",
    "    vector_store=None,\n",
    "    embed_model=OpenAIEmbedding(),\n",
    "    retriever_kwargs={\"similarity_top_k\": 3},\n",
    ")\n",
    "context_memory = ChatSummaryMemoryBuffer.from_defaults(\n",
    "    chat_history=None,\n",
    "    llm=llm,\n",
    "    token_limit=4000,\n",
    "    tokenizer_fn=tokenizer_fn,\n",
    ")\n",
    "composable_memory = SimpleComposableMemory.from_defaults(\n",
    "    primary_memory=context_memory,\n",
    "    secondary_memory_sources=[vector_memory],\n",
    ")"
   ]
  },
  {
   "cell_type": "code",
   "execution_count": 29,
   "metadata": {},
   "outputs": [],
   "source": [
    "law_agent_worker = HuggingFaceAgentWorker(\n",
    "    tools=[],\n",
    "    llm=law_llm,\n",
    "    callback_manager=CallbackManager([TokenCountingHandler(tokenizer)]),\n",
    "    verbose=True,\n",
    ")\n",
    "law_agent = law_agent_worker.as_agent(memory=composable_memory)"
   ]
  },
  {
   "cell_type": "code",
   "execution_count": 30,
   "metadata": {},
   "outputs": [],
   "source": [
    "law_agent.reset()"
   ]
  },
  {
   "cell_type": "code",
   "execution_count": 31,
   "metadata": {},
   "outputs": [
    {
     "name": "stdout",
     "output_type": "stream",
     "text": [
      "Added user message to memory: Judge this Introduction of the privacy policy for GDPR compliance. \n",
      "    Note that we know this part is incomplete for a real privacy policy, so only provide suggestions for optimizing this part.\n",
      "    DO NOT provide suggestions for the entire privacy policy.\n",
      "\n",
      "Privacy Policy Introduction\n",
      "\n",
      "Purpose of the Privacy Policy\n",
      "\n",
      "Welcome to [Your Organization]'s Privacy Policy. This document outlines how we collect, use, and protect your personal data when you interact with our services. Our goal is to provide you with clear and transparent information about our data practices, ensuring you have the knowledge and control over your personal information.\n",
      "\n",
      "Our Commitment to Data Protection\n",
      "\n",
      "At [Your Organization], we are committed to safeguarding your privacy and ensuring the security of your personal data. We adhere to the principles of the European General Data Protection Regulation (GDPR), which mandates strict guidelines for data protection and privacy. Our dedication to these principles reflects our commitment to maintaining your trust and confidence in our services. We strive to balance simplicity and comprehensiveness in our privacy practices, empowering you with the understanding and control necessary to manage your personal information effectively.\n"
     ]
    },
    {
     "name": "stderr",
     "output_type": "stream",
     "text": [
      "Setting `pad_token_id` to `eos_token_id`:2 for open-end generation.\n"
     ]
    },
    {
     "name": "stdout",
     "output_type": "stream",
     "text": [
      "=== LLM Response ===\n",
      "The introduction to the privacy policy is a good start, but it can be improved to provide more clarity and specificity. Here are some suggestions:\n",
      "\n",
      "1. Clarify the scope of the policy: The introduction should clearly state the types of data covered by the policy, such as personal data, sensitive data, and non-personal data. This will help users understand the extent of the policy's coverage.\n",
      "\n",
      "2. Mention the purpose of the policy: The introduction should explicitly state the purpose of the policy, which is to inform users about how their data is collected, used, and protected. This will help users understand the importance of the policy and its relevance to their interactions with the organization.\n",
      "\n",
      "3. Highlight the organization's commitment to data protection: The introduction should emphasize the organization's commitment to data protection and privacy, and how it adheres to the principles of the GDPR. This will help users understand the organization's dedication to protecting their data and how it aligns with the legal requirements.\n",
      "\n",
      "4. Provide a brief overview of the policy: The introduction should provide a brief overview of the policy, including the key topics covered, such as data collection, data usage, data sharing, data\n"
     ]
    },
    {
     "data": {
      "text/markdown": [
       "<b>The introduction to the privacy policy is a good start, but it can be improved to provide more clarity and specificity. Here are some suggestions:\n",
       "\n",
       "1. Clarify the scope of the policy: The introduction should clearly state the types of data covered by the policy, such as personal data, sensitive data, and non-personal data. This will help users understand the extent of the policy's coverage.\n",
       "\n",
       "2. Mention the purpose of the policy: The introduction should explicitly state the purpose of the policy, which is to inform users about how their data is collected, used, and protected. This will help users understand the importance of the policy and its relevance to their interactions with the organization.\n",
       "\n",
       "3. Highlight the organization's commitment to data protection: The introduction should emphasize the organization's commitment to data protection and privacy, and how it adheres to the principles of the GDPR. This will help users understand the organization's dedication to protecting their data and how it aligns with the legal requirements.\n",
       "\n",
       "4. Provide a brief overview of the policy: The introduction should provide a brief overview of the policy, including the key topics covered, such as data collection, data usage, data sharing, data</b>"
      ],
      "text/plain": [
       "<IPython.core.display.Markdown object>"
      ]
     },
     "metadata": {},
     "output_type": "display_data"
    }
   ],
   "source": [
    "output = law_agent.chat(\n",
    "    \"\"\"Judge this Introduction of the privacy policy for GDPR compliance. \n",
    "    Note that we know this part is incomplete for a real privacy policy, so only provide suggestions for optimizing this part.\n",
    "    DO NOT provide suggestions for the entire privacy policy.\n",
    "\n",
    "Privacy Policy Introduction\n",
    "\n",
    "Purpose of the Privacy Policy\n",
    "\n",
    "Welcome to [Your Organization]'s Privacy Policy. This document outlines how we collect, use, and protect your personal data when you interact with our services. Our goal is to provide you with clear and transparent information about our data practices, ensuring you have the knowledge and control over your personal information.\n",
    "\n",
    "Our Commitment to Data Protection\n",
    "\n",
    "At [Your Organization], we are committed to safeguarding your privacy and ensuring the security of your personal data. We adhere to the principles of the European General Data Protection Regulation (GDPR), which mandates strict guidelines for data protection and privacy. Our dedication to these principles reflects our commitment to maintaining your trust and confidence in our services. We strive to balance simplicity and comprehensiveness in our privacy practices, empowering you with the understanding and control necessary to manage your personal information effectively.\"\"\"\n",
    ")\n",
    "display(Markdown(f\"<b>{output.response}</b>\"))"
   ]
  },
  {
   "cell_type": "code",
   "execution_count": 36,
   "metadata": {},
   "outputs": [
    {
     "data": {
      "text/plain": [
       "0"
      ]
     },
     "execution_count": 36,
     "metadata": {},
     "output_type": "execute_result"
    }
   ],
   "source": [
    "law_agent.callback_manager.handlers[0].total_llm_token_count"
   ]
  },
  {
   "cell_type": "code",
   "execution_count": 8,
   "metadata": {},
   "outputs": [],
   "source": [
    "chat_history = [\n",
    "    ChatMessage(\n",
    "        content=\n",
    "        \"You are an assistant that judges whether the part of a privacy policy is compliant with the GDPR.\",\n",
    "        role=MessageRole.USER,  # SYSTEM\n",
    "    )\n",
    "]"
   ]
  },
  {
   "cell_type": "code",
   "execution_count": 26,
   "metadata": {},
   "outputs": [],
   "source": [
    "# self_reflection_agent_worker = SelfReflectionAgentWorker.from_defaults(\n",
    "#     llm=law_llm,\n",
    "#     verbose=True,\n",
    "# )\n",
    "main_agent_worker = OpenAIAgentWorker.from_tools(\n",
    "    tools=[],\n",
    "    llm=llm,\n",
    "    verbose=True,\n",
    ")\n",
    "introspective_worker_agent = IntrospectiveAgentWorker.from_defaults(\n",
    "    reflective_agent_worker=law_agent_worker,\n",
    "    main_agent_worker=main_agent_worker,\n",
    "    verbose=True,\n",
    ")\n",
    "introspective_agent = introspective_worker_agent.as_agent(\n",
    "    # chat_history=chat_history,\n",
    "    verbose=True, )"
   ]
  },
  {
   "cell_type": "code",
   "execution_count": 27,
   "metadata": {},
   "outputs": [
    {
     "name": "stdout",
     "output_type": "stream",
     "text": [
      "> Running step 41304bf5-e7bf-4df9-a87d-482fcf800bfe. Step input: Judge this Introduction of the privacy policy for GDPR compliance. \n",
      "    Note that we know this part is incomplete for a real privacy policy, so only provide suggestions for optimizing this part.\n",
      "    DO NOT provide suggestions for the entire privacy policy.\n",
      "\n",
      "Privacy Policy Introduction\n",
      "\n",
      "Purpose of the Privacy Policy\n",
      "\n",
      "Welcome to [Your Organization]'s Privacy Policy. This document outlines how we collect, use, and protect your personal data when you interact with our services. Our goal is to provide you with clear and transparent information about our data practices, ensuring you have the knowledge and control over your personal information.\n",
      "\n",
      "Our Commitment to Data Protection\n",
      "\n",
      "At [Your Organization], we are committed to safeguarding your privacy and ensuring the security of your personal data. We adhere to the principles of the European General Data Protection Regulation (GDPR), which mandates strict guidelines for data protection and privacy. Our dedication to these principles reflects our commitment to maintaining your trust and confidence in our services. We strive to balance simplicity and comprehensiveness in our privacy practices, empowering you with the understanding and control necessary to manage your personal information effectively.\n",
      "Added user message to memory: Judge this Introduction of the privacy policy for GDPR compliance. \n",
      "    Note that we know this part is incomplete for a real privacy policy, so only provide suggestions for optimizing this part.\n",
      "    DO NOT provide suggestions for the entire privacy policy.\n",
      "\n",
      "Privacy Policy Introduction\n",
      "\n",
      "Purpose of the Privacy Policy\n",
      "\n",
      "Welcome to [Your Organization]'s Privacy Policy. This document outlines how we collect, use, and protect your personal data when you interact with our services. Our goal is to provide you with clear and transparent information about our data practices, ensuring you have the knowledge and control over your personal information.\n",
      "\n",
      "Our Commitment to Data Protection\n",
      "\n",
      "At [Your Organization], we are committed to safeguarding your privacy and ensuring the security of your personal data. We adhere to the principles of the European General Data Protection Regulation (GDPR), which mandates strict guidelines for data protection and privacy. Our dedication to these principles reflects our commitment to maintaining your trust and confidence in our services. We strive to balance simplicity and comprehensiveness in our privacy practices, empowering you with the understanding and control necessary to manage your personal information effectively.\n"
     ]
    },
    {
     "name": "stderr",
     "output_type": "stream",
     "text": [
      "Setting `pad_token_id` to `eos_token_id`:2 for open-end generation.\n"
     ]
    },
    {
     "name": "stdout",
     "output_type": "stream",
     "text": [
      "Added user message to memory: The introduction of your privacy policy is a good start, but there are a few areas where it can be optimized for GDPR compliance and clarity:\n",
      "\n",
      "1. **Specify the Data Controller**: Clearly identify who the data controller is. This is a requirement under GDPR.\n",
      "\n",
      "2. **Contact Information**: Provide contact details for data protection inquiries, including the Data Protection Officer (DPO) if applicable.\n",
      "\n",
      "3. **Legal Basis for Processing**: Mention the legal basis for processing personal data as required by GDPR.\n",
      "\n",
      "4. **User Rights**: Briefly mention the rights of the data subjects under GDPR.\n",
      "\n",
      "5. **Scope of the Policy**: Clarify the scope of the policy, including who it applies to and what services it covers.\n",
      "\n",
      "Here is a revised version incorporating these suggestions:\n",
      "\n",
      "---\n",
      "\n",
      "**Privacy Policy Introduction**\n",
      "\n",
      "**Purpose of the Privacy Policy**\n",
      "\n",
      "Welcome to [Your Organization]'s Privacy Policy. This document outlines how we collect, use, and protect your personal data when you interact with our services. Our goal is to provide you with clear and transparent information about our data practices, ensuring you have the knowledge and control over your personal information.\n",
      "\n",
      "**Our Commitment to Data Protection**\n",
      "\n",
      "At [Your Organization], we are committed to safeguarding your privacy and ensuring the security of your personal data. We adhere to the principles of the European General Data Protection Regulation (GDPR), which mandates strict guidelines for data protection and privacy. Our dedication to these principles reflects our commitment to maintaining your trust and confidence in our services. We strive to balance simplicity and comprehensiveness in our privacy practices, empowering you with the understanding and control necessary to manage your personal information effectively.\n",
      "\n",
      "**Data Controller and Contact Information**\n",
      "\n",
      "[Your Organization] is the data controller responsible for your personal data. If you have any questions or concerns about our data practices, please contact our Data Protection Officer (DPO) at [DPO Email Address] or [DPO Phone Number].\n",
      "\n",
      "**Legal Basis for Processing**\n",
      "\n",
      "We process your personal data based on the legal grounds established by the GDPR, including your consent, the necessity to perform a contract, compliance with legal obligations, and our legitimate interests.\n",
      "\n",
      "**Your Rights**\n",
      "\n",
      "Under the GDPR, you have several rights regarding your personal data, including the right to access, rectify, erase, restrict processing, and object to processing, as well as the right to data portability. For more detailed information about your rights and how to exercise them, please refer to the relevant sections of this Privacy Policy.\n",
      "\n",
      "**Scope of the Policy**\n",
      "\n",
      "This Privacy Policy applies to all users of our services, including visitors to our website and customers who engage with our products and services. It covers all personal data collected and processed by [Your Organization] in connection with these interactions.\n",
      "\n",
      "---\n",
      "\n",
      "These additions will help ensure that the introduction of your privacy policy is more aligned with GDPR requirements and provides users with essential information upfront.\n",
      "=== LLM Response ===\n",
      "The introduction of your privacy policy is a good start, but there are a few areas where it can be optimized for GDPR compliance and clarity:\n",
      "\n",
      "1. **Specify the Data Controller**: Clearly identify who the data controller is. This is a requirement under GDPR.\n",
      "\n",
      "2. **Contact Information**: Provide contact details for data protection inquiries, including the Data Protection Officer (DPO) if applicable.\n",
      "\n",
      "3. **Legal Basis for Processing**: Mention the legal basis for processing personal data as required by GDPR.\n",
      "\n",
      "4. **User Rights**: Briefly mention the rights of the data subjects under GDPR.\n",
      "\n",
      "5. **Scope of the Policy**: Clarify the scope of the policy, including who it applies to and what services it covers.\n",
      "\n",
      "Here is a revised version incorporating these suggestions:\n",
      "\n",
      "---\n",
      "\n",
      "**Privacy Policy Introduction**\n",
      "\n",
      "**Purpose of the Privacy Policy**\n",
      "\n",
      "Welcome to [Your Organization]'s Privacy Policy. This document outlines how we collect, use, and protect your personal data when you interact with our services. Our goal is to provide you with clear and transparent information about our data practices, ensuring you\n"
     ]
    },
    {
     "data": {
      "text/markdown": [
       "<b>The introduction of your privacy policy is a good start, but there are a few areas where it can be optimized for GDPR compliance and clarity:\n",
       "\n",
       "1. **Specify the Data Controller**: Clearly identify who the data controller is. This is a requirement under GDPR.\n",
       "\n",
       "2. **Contact Information**: Provide contact details for data protection inquiries, including the Data Protection Officer (DPO) if applicable.\n",
       "\n",
       "3. **Legal Basis for Processing**: Mention the legal basis for processing personal data as required by GDPR.\n",
       "\n",
       "4. **User Rights**: Briefly mention the rights of the data subjects under GDPR.\n",
       "\n",
       "5. **Scope of the Policy**: Clarify the scope of the policy, including who it applies to and what services it covers.\n",
       "\n",
       "Here is a revised version incorporating these suggestions:\n",
       "\n",
       "---\n",
       "\n",
       "**Privacy Policy Introduction**\n",
       "\n",
       "**Purpose of the Privacy Policy**\n",
       "\n",
       "Welcome to [Your Organization]'s Privacy Policy. This document outlines how we collect, use, and protect your personal data when you interact with our services. Our goal is to provide you with clear and transparent information about our data practices, ensuring you</b>"
      ],
      "text/plain": [
       "<IPython.core.display.Markdown object>"
      ]
     },
     "metadata": {},
     "output_type": "display_data"
    }
   ],
   "source": [
    "output = introspective_agent.chat(\n",
    "    \"\"\"Judge this Introduction of the privacy policy for GDPR compliance. \n",
    "    Note that we know this part is incomplete for a real privacy policy, so only provide suggestions for optimizing this part.\n",
    "    DO NOT provide suggestions for the entire privacy policy.\n",
    "    Only provide suggestions, do not try to revise it.\n",
    "\n",
    "Privacy Policy Introduction\n",
    "\n",
    "Purpose of the Privacy Policy\n",
    "\n",
    "Welcome to [Your Organization]'s Privacy Policy. This document outlines how we collect, use, and protect your personal data when you interact with our services. Our goal is to provide you with clear and transparent information about our data practices, ensuring you have the knowledge and control over your personal information.\n",
    "\n",
    "Our Commitment to Data Protection\n",
    "\n",
    "At [Your Organization], we are committed to safeguarding your privacy and ensuring the security of your personal data. We adhere to the principles of the European General Data Protection Regulation (GDPR), which mandates strict guidelines for data protection and privacy. Our dedication to these principles reflects our commitment to maintaining your trust and confidence in our services. We strive to balance simplicity and comprehensiveness in our privacy practices, empowering you with the understanding and control necessary to manage your personal information effectively.\"\"\"\n",
    ")\n",
    "display(Markdown(f\"<b>{output.response}</b>\"))"
   ]
  },
  {
   "cell_type": "code",
   "execution_count": 2,
   "metadata": {},
   "outputs": [
    {
     "data": {
      "application/vnd.jupyter.widget-view+json": {
       "model_id": "38ccc8bf641141b0b1a2e149c397134f",
       "version_major": 2,
       "version_minor": 0
      },
      "text/plain": [
       "Loading checkpoint shards:   0%|          | 0/6 [00:00<?, ?it/s]"
      ]
     },
     "metadata": {},
     "output_type": "display_data"
    }
   ],
   "source": [
    "pipe = pipeline(\"text-generation\",\n",
    "                model=\"Equall/Saul-7B-Instruct-v1\",\n",
    "                torch_dtype=torch.bfloat16,\n",
    "                device_map=\"auto\")"
   ]
  },
  {
   "cell_type": "code",
   "execution_count": 3,
   "metadata": {},
   "outputs": [],
   "source": [
    "messages = [\n",
    "    {\n",
    "        \"role\":\n",
    "        \"user\",\n",
    "        \"content\":\n",
    "        \"\"\"Judge the following section from a privacy policy, to see whether it's GDPR compliant:\n",
    "        \n",
    "        **Privacy Policy Introduction**\n",
    "\n",
    "        **Purpose of the Privacy Policy**\n",
    "\n",
    "        Welcome to [Your Organization]'s Privacy Policy. This document outlines how we collect, use, and protect your personal data when you interact with our services. Our goal is to provide you with clear and transparent information about our data practices, ensuring you have the knowledge and control over your personal information.\n",
    "\n",
    "        **Our Commitment to Data Protection**\n",
    "\n",
    "        At [Your Organization], we are committed to safeguarding your privacy and ensuring the security of your personal data. We adhere to the principles of the European General Data Protection Regulation (GDPR), which mandates strict guidelines for data protection and privacy. Our dedication to these principles reflects our commitment to maintaining your trust and confidence in our services. We strive to balance simplicity and comprehensiveness in our privacy practices, empowering you with the understanding and control necessary to manage your personal information effectively.\"\"\"\n",
    "    },\n",
    "]\n",
    "prompt = pipe.tokenizer.apply_chat_template(messages,\n",
    "                                            tokenize=False,\n",
    "                                            add_generation_prompt=True)"
   ]
  },
  {
   "cell_type": "code",
   "execution_count": 4,
   "metadata": {},
   "outputs": [
    {
     "name": "stderr",
     "output_type": "stream",
     "text": [
      "Setting `pad_token_id` to `eos_token_id`:2 for open-end generation.\n"
     ]
    },
    {
     "name": "stdout",
     "output_type": "stream",
     "text": [
      " The provided text is from the introduction and commitment to data protection in the GDPR compliance context, which is GDPR compliant. The text clearly states the purpose of the privacy policy, which is to inform users about the collection, use, and protection of their personal data. It also mentions adherence to the GDPR principles, which shows commitment to data protection and privacy. The text balances simplicity and comprehensiveness in its privacy practices, which is a GDPR recommendation. Overall, it seems that the text is GDPR compliant.\n"
     ]
    }
   ],
   "source": [
    "outputs = pipe(\n",
    "    prompt,\n",
    "    do_sample=True,\n",
    "    top_k=10,\n",
    "    num_return_sequences=1,\n",
    "    max_length=2048,\n",
    "    truncation=True,\n",
    "    #   eos_token_id=tokenizer.eos_token_id,\n",
    "    return_full_text=False)\n",
    "print(outputs[0][\"generated_text\"])"
   ]
  }
 ],
 "metadata": {
  "kernelspec": {
   "display_name": "base",
   "language": "python",
   "name": "python3"
  },
  "language_info": {
   "codemirror_mode": {
    "name": "ipython",
    "version": 3
   },
   "file_extension": ".py",
   "mimetype": "text/x-python",
   "name": "python",
   "nbconvert_exporter": "python",
   "pygments_lexer": "ipython3",
   "version": "3.10.13"
  }
 },
 "nbformat": 4,
 "nbformat_minor": 2
}
