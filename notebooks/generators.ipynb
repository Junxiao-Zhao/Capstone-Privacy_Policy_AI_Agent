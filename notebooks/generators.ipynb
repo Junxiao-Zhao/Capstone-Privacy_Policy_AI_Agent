{
 "cells": [
  {
   "cell_type": "code",
   "execution_count": 1,
   "metadata": {},
   "outputs": [
    {
     "name": "stderr",
     "output_type": "stream",
     "text": [
      "d:\\Program\\miniconda3\\envs\\DL\\lib\\site-packages\\pydantic\\_internal\\_fields.py:160: UserWarning: Field \"model_id\" has conflict with protected namespace \"model_\".\n",
      "\n",
      "You may be able to resolve this warning by setting `model_config['protected_namespaces'] = ()`.\n",
      "  warnings.warn(\n",
      "d:\\Program\\miniconda3\\envs\\DL\\lib\\site-packages\\transformers\\utils\\generic.py:485: UserWarning: torch.utils._pytree._register_pytree_node is deprecated. Please use torch.utils._pytree.register_pytree_node instead.\n",
      "  _torch_pytree._register_pytree_node(\n"
     ]
    }
   ],
   "source": [
    "import sys\n",
    "from typing import List, Dict, Any, Optional\n",
    "\n",
    "import tiktoken\n",
    "import pandas as pd\n",
    "from llama_index.llms.openai import OpenAI\n",
    "from llama_index.core import Settings\n",
    "from llama_index.core import SummaryIndex, VectorStoreIndex\n",
    "from llama_index.readers.web import SimpleWebPageReader\n",
    "from llama_index.core.tools import BaseTool, FunctionTool\n",
    "from llama_index.core.tools import QueryEngineTool, ToolMetadata\n",
    "from llama_index.core.query_engine import SubQuestionQueryEngine\n",
    "from llama_index.core.agent import ReActAgent\n",
    "from llama_index.core.response_synthesizers import TreeSummarize\n",
    "from llama_index.core.query_pipeline import QueryPipeline, FnComponent\n",
    "from llama_index.core import PromptTemplate\n",
    "from llama_index.core import get_response_synthesizer\n",
    "from llama_index.core.response_synthesizers import ResponseMode\n",
    "from llama_index.core.output_parsers import PydanticOutputParser\n",
    "from llama_index.core.callbacks import CallbackManager, TokenCountingHandler\n",
    "from pydantic import BaseModel, Field, conlist, field_validator\n",
    "from enum import Enum\n",
    "from IPython.display import Markdown, display\n",
    "from duckduckgo_search import DDGS\n",
    "\n",
    "sys.path.append('../')\n",
    "\n",
    "from src.generators import (\n",
    "    prepare_regulation_syllabus_pipeline,\n",
    "    prepare_regulation_query_engine,\n",
    "    prepare_section_judge_pipeline,\n",
    ")\n",
    "from src.prompts import (\n",
    "    ASK_SYLLABUS_TEMPLATE,\n",
    "    FORMAT_SYLLABUS_TEMPLATE,\n",
    "    JUDGE_SECTION_TEMPLATE,\n",
    "    FORMAT_JUDGE_TEMPLATE,\n",
    ")\n",
    "from src.formats import (\n",
    "    Syllabus,\n",
    "    SectionNames,\n",
    "    Judges,\n",
    "    Judge,\n",
    ")\n",
    "from src.law_model import prepare_law_llm"
   ]
  },
  {
   "cell_type": "code",
   "execution_count": 2,
   "metadata": {},
   "outputs": [],
   "source": [
    "import nest_asyncio\n",
    "\n",
    "nest_asyncio.apply()"
   ]
  },
  {
   "cell_type": "code",
   "execution_count": 3,
   "metadata": {},
   "outputs": [],
   "source": [
    "llm = OpenAI(model=\"gpt-4o\")\n",
    "Settings.llm = llm"
   ]
  },
  {
   "cell_type": "code",
   "execution_count": 4,
   "metadata": {},
   "outputs": [],
   "source": [
    "tokenizer_fn = tiktoken.encoding_for_model(\"gpt-4o\").encode\n",
    "token_counter = TokenCountingHandler(tokenizer=tokenizer_fn, verbose=True)\n",
    "Settings.callback_manager = CallbackManager([token_counter])"
   ]
  },
  {
   "cell_type": "markdown",
   "metadata": {},
   "source": [
    "## Syllabus Generator"
   ]
  },
  {
   "cell_type": "code",
   "execution_count": 5,
   "metadata": {},
   "outputs": [],
   "source": [
    "links_df = pd.read_csv('../data/regulations/links.csv', encoding='utf-8')\n",
    "regulation_query_engine = prepare_regulation_query_engine(links_df)\n",
    "syllabus_generator = prepare_regulation_syllabus_pipeline(\n",
    "    regulation_query_engine, verbose=True)"
   ]
  },
  {
   "cell_type": "code",
   "execution_count": 6,
   "metadata": {},
   "outputs": [
    {
     "name": "stdout",
     "output_type": "stream",
     "text": [
      "\u001b[1;3;38;2;155;135;227m> Running module 2e71829b-6511-43d3-8fa6-1338ce3eb6eb with input: \n",
      "regulations: GDPR, PIPEDA\n",
      "\n",
      "\u001b[0m\u001b[1;3;38;2;155;135;227m> Running module cb46a61a-cb1c-410b-b29b-bda48156b929 with input: \n",
      "input: I want to write a privacy policy, which should be GDPR, PIPEDA compliant.\n",
      "What sections should it include? And for each section, what key points should be covered?\n",
      "List them as bullet points.\n",
      "\n",
      "\u001b[0mLLM Prompt Token Usage: 470\n",
      "LLM Completion Token Usage: 137\n",
      "Generated 4 sub questions.\n",
      "\u001b[1;3;38;2;237;90;200m[General Data Protection Regulation (GDPR)] Q: What sections should a privacy policy include to be GDPR compliant?\n",
      "\u001b[0m\u001b[1;3;38;2;90;149;237m[General Data Protection Regulation (GDPR)] Q: What key points should be covered in each section of a GDPR compliant privacy policy?\n",
      "\u001b[0m\u001b[1;3;38;2;11;159;203m[Personal Information Protection and Electronic Documents Act (PIPEDA)] Q: What sections should a privacy policy include to be PIPEDA compliant?\n",
      "\u001b[0m\u001b[1;3;38;2;155;135;227m[Personal Information Protection and Electronic Documents Act (PIPEDA)] Q: What key points should be covered in each section of a PIPEDA compliant privacy policy?\n",
      "\u001b[0mLLM Prompt Token Usage: 33999\n",
      "LLM Completion Token Usage: 347\n",
      "\u001b[1;3;38;2;11;159;203m[Personal Information Protection and Electronic Documents Act (PIPEDA)] A: A privacy policy compliant with the Personal Information Protection and Electronic Documents Act (PIPEDA) should include the following sections:\n",
      "\n",
      "1. **Accountability**: Identify the individual(s) responsible for ensuring compliance with PIPEDA principles within the organization.\n",
      "\n",
      "2. **Identifying Purposes**: Clearly state the purposes for which personal information is being collected, used, and disclosed.\n",
      "\n",
      "3. **Consent**: Explain how and when consent will be obtained from individuals for the collection, use, and disclosure of their personal information.\n",
      "\n",
      "4. **Limiting Collection**: Ensure that the collection of personal information is limited to what is necessary for the identified purposes.\n",
      "\n",
      "5. **Limiting Use, Disclosure, and Retention**: Specify that personal information will not be used or disclosed for purposes other than those for which it was collected, except with the individual's consent or as required by law. Also, outline the retention period for personal information.\n",
      "\n",
      "6. **Accuracy**: Describe measures to ensure that personal information is accurate, complete, and up-to-date as necessary for the purposes for which it is used.\n",
      "\n",
      "7. **Safeguards**: Detail the security safeguards in place to protect personal information against loss, theft, unauthorized access, disclosure, copying, use, or modification.\n",
      "\n",
      "8. **Openness**: Provide information about the organization's policies and practices relating to the management of personal information, including how individuals can access their personal information.\n",
      "\n",
      "9. **Individual Access**: Explain how individuals can request access to their personal information and how they can challenge the accuracy and completeness of the information.\n",
      "\n",
      "10. **Challenging Compliance**: Outline the process for individuals to challenge the organization's compliance with PIPEDA principles and how complaints will be addressed.\n",
      "\u001b[0mLLM Prompt Token Usage: 34003\n",
      "LLM Completion Token Usage: 332\n",
      "\u001b[1;3;38;2;155;135;227m[Personal Information Protection and Electronic Documents Act (PIPEDA)] A: A PIPEDA compliant privacy policy should cover the following key points:\n",
      "\n",
      "1. **Accountability**: Identify the individual(s) responsible for ensuring compliance with PIPEDA principles within the organization.\n",
      "\n",
      "2. **Identifying Purposes**: Clearly state the purposes for which personal information is being collected at or before the time of collection.\n",
      "\n",
      "3. **Consent**: Explain how and when consent will be obtained from individuals for the collection, use, and disclosure of their personal information.\n",
      "\n",
      "4. **Limiting Collection**: Ensure that the collection of personal information is limited to what is necessary for the identified purposes and is collected by fair and lawful means.\n",
      "\n",
      "5. **Limiting Use, Disclosure, and Retention**: Describe how personal information will be used and disclosed only for the purposes for which it was collected, and outline the retention period for personal information.\n",
      "\n",
      "6. **Accuracy**: Ensure that personal information is kept as accurate, complete, and up-to-date as necessary for the purposes for which it is to be used.\n",
      "\n",
      "7. **Safeguards**: Detail the security measures in place to protect personal information against loss, theft, unauthorized access, disclosure, copying, use, or modification.\n",
      "\n",
      "8. **Openness**: Provide information about the organization's policies and practices relating to the management of personal information, including how individuals can access their personal information.\n",
      "\n",
      "9. **Individual Access**: Explain how individuals can request access to their personal information and how they can challenge the accuracy and completeness of the information.\n",
      "\n",
      "10. **Challenging Compliance**: Outline the process for individuals to address concerns or complaints regarding the organization's compliance with PIPEDA principles.\n",
      "\u001b[0mLLM Prompt Token Usage: 43051\n",
      "LLM Completion Token Usage: 505\n",
      "\u001b[1;3;38;2;90;149;237m[General Data Protection Regulation (GDPR)] A: A GDPR compliant privacy policy should cover the following key points in each section:\n",
      "\n",
      "1. **Introduction**:\n",
      "   - Purpose of the privacy policy.\n",
      "   - Overview of the organization's commitment to data protection.\n",
      "\n",
      "2. **Data Controller Information**:\n",
      "   - Identity and contact details of the data controller.\n",
      "   - Contact details of the data protection officer, if applicable.\n",
      "\n",
      "3. **Types of Data Collected**:\n",
      "   - Categories of personal data collected (e.g., contact details, financial information).\n",
      "   - Sources of personal data (e.g., directly from users, third parties).\n",
      "\n",
      "4. **Purpose and Legal Basis for Processing**:\n",
      "   - Specific purposes for which personal data is processed.\n",
      "   - Legal basis for each processing activity (e.g., consent, contractual necessity, legal obligation).\n",
      "\n",
      "5. **Data Subject Rights**:\n",
      "   - Rights of data subjects under GDPR (e.g., right to access, rectification, erasure, restriction of processing, data portability, objection).\n",
      "   - How data subjects can exercise their rights.\n",
      "\n",
      "6. **Data Sharing and Disclosure**:\n",
      "   - Categories of recipients with whom personal data is shared.\n",
      "   - Circumstances under which data may be disclosed to third parties.\n",
      "\n",
      "7. **International Data Transfers**:\n",
      "   - Information on transfers of personal data to third countries or international organizations.\n",
      "   - Safeguards in place for such transfers (e.g., adequacy decisions, standard contractual clauses).\n",
      "\n",
      "8. **Data Retention**:\n",
      "   - Retention periods for different categories of personal data.\n",
      "   - Criteria used to determine retention periods.\n",
      "\n",
      "9. **Data Security**:\n",
      "   - Measures taken to ensure the security of personal data.\n",
      "   - Procedures in place to handle data breaches.\n",
      "\n",
      "10. **Automated Decision-Making and Profiling**:\n",
      "    - Information on any automated decision-making, including profiling.\n",
      "    - Logic involved, significance, and consequences of such processing.\n",
      "\n",
      "11. **Cookies and Tracking Technologies**:\n",
      "    - Types of cookies and tracking technologies used.\n",
      "    - Purpose of using cookies and how users can manage their preferences.\n",
      "\n",
      "12. **Changes to the Privacy Policy**:\n",
      "    - How and when changes to the privacy policy will be communicated to users.\n",
      "    - Effective date of the current privacy policy.\n",
      "\n",
      "13. **Complaints and Supervisory Authority**:\n",
      "    - How data subjects can lodge complaints.\n",
      "    - Contact details of the relevant supervisory authority.\n",
      "\n",
      "Each section should be written in clear and plain language to ensure that it is easily understandable by the data subjects.\n",
      "\u001b[0mLLM Prompt Token Usage: 43047\n",
      "LLM Completion Token Usage: 378\n",
      "\u001b[1;3;38;2;237;90;200m[General Data Protection Regulation (GDPR)] A: A GDPR-compliant privacy policy should include the following sections:\n",
      "\n",
      "1. **Identity and Contact Details of the Controller**: Information about who is responsible for data processing and how to contact them.\n",
      "\n",
      "2. **Contact Details of the Data Protection Officer**: If applicable, provide the contact details of the Data Protection Officer.\n",
      "\n",
      "3. **Purposes of Processing**: Clearly state the reasons for processing personal data.\n",
      "\n",
      "4. **Legal Basis for Processing**: Explain the legal grounds for processing personal data.\n",
      "\n",
      "5. **Categories of Personal Data**: Describe the types of personal data being collected and processed.\n",
      "\n",
      "6. **Recipients of Personal Data**: Identify any third parties with whom personal data will be shared.\n",
      "\n",
      "7. **Transfers to Third Countries**: Information about any transfers of personal data to countries outside the EU and the safeguards in place.\n",
      "\n",
      "8. **Data Retention Period**: Specify how long personal data will be stored or the criteria used to determine that period.\n",
      "\n",
      "9. **Rights of Data Subjects**: Inform individuals of their rights under GDPR, including access, rectification, erasure, restriction of processing, data portability, and the right to object.\n",
      "\n",
      "10. **Right to Withdraw Consent**: Explain how individuals can withdraw their consent at any time.\n",
      "\n",
      "11. **Right to Lodge a Complaint**: Provide information on the right to lodge a complaint with a supervisory authority.\n",
      "\n",
      "12. **Automated Decision-Making**: If applicable, include information about any automated decision-making, including profiling, and the logic involved, as well as the significance and consequences of such processing.\n",
      "\n",
      "13. **Security Measures**: Outline the technical and organizational measures in place to protect personal data.\n",
      "\n",
      "14. **Changes to the Privacy Policy**: Explain how changes to the privacy policy will be communicated to data subjects.\n",
      "\n",
      "Including these sections will help ensure that a privacy policy is comprehensive and compliant with GDPR requirements.\n",
      "\u001b[0mLLM Prompt Token Usage: 1794\n",
      "LLM Completion Token Usage: 786\n",
      "\u001b[1;3;38;2;155;135;227m> Running module e83c4fca-c8e8-4ce7-8529-65f7109743b5 with input: \n",
      "query_str: To write a privacy policy that is compliant with both GDPR and PIPEDA, include the following sections and cover the key points for each:\n",
      "\n",
      "1. **Introduction**:\n",
      "   - Purpose of the privacy policy.\n",
      "   - ...\n",
      "\n",
      "\u001b[0m\u001b[1;3;38;2;155;135;227m> Running module 5347250c-1c11-4893-b6c4-cc49ecb141e5 with input: \n",
      "messages: Given the privacy policy sections and key points:\n",
      "\n",
      "To write a privacy policy that is compliant with both GDPR and PIPEDA, include the following sections and cover the key points for each:\n",
      "\n",
      "1. **Introd...\n",
      "\n",
      "\u001b[0mLLM Prompt Token Usage: 1086\n",
      "LLM Completion Token Usage: 818\n",
      "\u001b[1;3;38;2;155;135;227m> Running module 05d05fb1-1a70-4ca7-b778-e6c049d5fd8c with input: \n",
      "input: assistant: ```json\n",
      "{\n",
      "  \"sections\": [\n",
      "    {\n",
      "      \"name\": \"Introduction\",\n",
      "      \"key_points\": [\n",
      "        \"Purpose of the privacy policy.\",\n",
      "        \"Overview of the organization's commitment to data prot...\n",
      "\n",
      "\u001b[0m\u001b[1;3;38;2;155;135;227m> Running module 7c513119-fbb3-4d33-84b3-06686e24fa85 with input: \n",
      "input: sections=[Section(name=<SectionNames.SECTION1: 'Introduction'>, key_points=['Purpose of the privacy policy.', \"Overview of the organization's commitment to data protection.\"]), Section(name=<SectionNa...\n",
      "\n",
      "\u001b[0m"
     ]
    },
    {
     "data": {
      "text/plain": [
       "{'Introduction': ['Purpose of the privacy policy.',\n",
       "  \"Overview of the organization's commitment to data protection.\"],\n",
       " 'Data Controller Information': ['Identify the individual(s) responsible for ensuring compliance with GDPR and PIPEDA principles within the organization.',\n",
       "  'Contact details of the data protection officer, if applicable.'],\n",
       " 'Data Collection and Usage': ['Clearly state the purposes for which personal information is being collected, used, and disclosed.',\n",
       "  'Categories of personal data collected (e.g., contact details, financial information).',\n",
       "  'Sources of personal data (e.g., directly from users, third parties).',\n",
       "  'Legal basis for each processing activity (e.g., consent, contractual necessity, legal obligation).',\n",
       "  'Ensure that the collection of personal information is limited to what is necessary for the identified purposes and is collected by fair and lawful means.',\n",
       "  'Describe how personal information will be used and disclosed only for the purposes for which it was collected.',\n",
       "  'Outline the retention period for personal information.'],\n",
       " 'Data Subject Rights': ['Rights of data subjects under GDPR (e.g., right to access, rectification, erasure, restriction of processing, data portability, objection).',\n",
       "  'How data subjects can exercise their rights.',\n",
       "  'Explain how individuals can request access to their personal information and how they can challenge the accuracy and completeness of the information.',\n",
       "  'Explain how individuals can withdraw their consent at any time.',\n",
       "  'Provide information on the right to lodge a complaint with a supervisory authority.'],\n",
       " 'Data Sharing and Transfers': ['Categories of recipients with whom personal data is shared.',\n",
       "  'Circumstances under which data may be disclosed to third parties.',\n",
       "  'Information on transfers of personal data to third countries or international organizations.',\n",
       "  'Safeguards in place for such transfers (e.g., adequacy decisions, standard contractual clauses).'],\n",
       " 'Data Retention': ['Retention periods for different categories of personal data.',\n",
       "  'Criteria used to determine retention periods.'],\n",
       " 'Disclosure of Personal Information': ['Categories of recipients with whom personal data is shared.',\n",
       "  'Circumstances under which data may be disclosed to third parties.'],\n",
       " 'Security Measures': ['Measures taken to ensure the security of personal data.',\n",
       "  'Procedures in place to handle data breaches.'],\n",
       " 'Automated Decision-Making and Profiling': ['Information on any automated decision-making, including profiling.',\n",
       "  'Logic involved, significance, and consequences of such processing.'],\n",
       " 'Cookies and Tracking Technologies': ['Types of cookies and tracking technologies used.',\n",
       "  'Purpose of using cookies and how users can manage their preferences.'],\n",
       " 'Changes to the Privacy Policy': ['How and when changes to the privacy policy will be communicated to users.',\n",
       "  'Effective date of the current privacy policy.'],\n",
       " 'Contact Information': [\"Provide information about the organization's policies and practices relating to the management of personal information, including how individuals can access their personal information.\",\n",
       "  \"Outline the process for individuals to address concerns or complaints regarding the organization's compliance with GDPR and PIPEDA principles.\"]}"
      ]
     },
     "execution_count": 6,
     "metadata": {},
     "output_type": "execute_result"
    }
   ],
   "source": [
    "output = syllabus_generator.run(regulations=\"GDPR, PIPEDA\")\n",
    "output"
   ]
  },
  {
   "cell_type": "markdown",
   "metadata": {},
   "source": [
    "## Judge Generator"
   ]
  },
  {
   "cell_type": "code",
   "execution_count": 5,
   "metadata": {},
   "outputs": [],
   "source": [
    "generated_section = \"\"\"\\\n",
    "The data we collect depends on the context of your interactions with Microsoft and the choices you make (including your privacy settings), the products and features you use, your location, and applicable law.\n",
    "\n",
    "The data we collect can include the following:\n",
    "\n",
    "Name and contact data. Your first and last name, email address, postal address, phone number, and other similar contact data.\n",
    "\n",
    "Credentials. Passwords, password hints, and similar security information used for authentication and account access.\n",
    "\n",
    "Demographic data. Data about you such as your age, gender, country, and preferred language.\n",
    "\n",
    "Payment data. Data to process payments, such as your payment instrument number (such as a credit card number) and the security code associated with your payment instrument.\n",
    "\n",
    "Subscription and licensing data. Information about your subscriptions, licenses, and other entitlements.\n",
    "\n",
    "Microsoft uses the data we collect to provide you rich, interactive experiences. In particular, we use data to:\n",
    "\n",
    "Provide our products, which includes updating, securing, and troubleshooting, as well as providing support. It also includes sharing data, when it is required to provide the service or carry out the transactions you request.\n",
    "Improve and develop our products.\n",
    "Personalize our products and make recommendations.\n",
    "Advertise and market to you, which includes sending promotional communications, targeting advertising, and presenting you relevant offers.\n",
    "We also use the data to operate our business, which includes analyzing our performance, meeting our legal obligations, developing our workforce, and doing research.\"\"\""
   ]
  },
  {
   "cell_type": "code",
   "execution_count": 6,
   "metadata": {},
   "outputs": [
    {
     "name": "stderr",
     "output_type": "stream",
     "text": [
      "d:\\Program\\miniconda3\\envs\\DL\\lib\\site-packages\\huggingface_hub\\file_download.py:1132: FutureWarning: `resume_download` is deprecated and will be removed in version 1.0.0. Downloads always resume when possible. If you want to force a new download, use `force_download=True`.\n",
      "  warnings.warn(\n",
      "d:\\Program\\miniconda3\\envs\\DL\\lib\\site-packages\\transformers\\utils\\generic.py:342: UserWarning: torch.utils._pytree._register_pytree_node is deprecated. Please use torch.utils._pytree.register_pytree_node instead.\n",
      "  _torch_pytree._register_pytree_node(\n",
      "d:\\Program\\miniconda3\\envs\\DL\\lib\\site-packages\\transformers\\utils\\generic.py:342: UserWarning: torch.utils._pytree._register_pytree_node is deprecated. Please use torch.utils._pytree.register_pytree_node instead.\n",
      "  _torch_pytree._register_pytree_node(\n"
     ]
    },
    {
     "data": {
      "application/vnd.jupyter.widget-view+json": {
       "model_id": "16478cf6453a40028c68ba842265af55",
       "version_major": 2,
       "version_minor": 0
      },
      "text/plain": [
       "Loading checkpoint shards:   0%|          | 0/6 [00:00<?, ?it/s]"
      ]
     },
     "metadata": {},
     "output_type": "display_data"
    },
    {
     "name": "stderr",
     "output_type": "stream",
     "text": [
      "d:\\Program\\miniconda3\\envs\\DL\\lib\\site-packages\\huggingface_hub\\file_download.py:1132: FutureWarning: `resume_download` is deprecated and will be removed in version 1.0.0. Downloads always resume when possible. If you want to force a new download, use `force_download=True`.\n",
      "  warnings.warn(\n"
     ]
    }
   ],
   "source": [
    "law_llm = prepare_law_llm(\"Equall/Saul-7B-Instruct-v1\")"
   ]
  },
  {
   "cell_type": "code",
   "execution_count": 7,
   "metadata": {},
   "outputs": [],
   "source": [
    "judge_pipeline = prepare_section_judge_pipeline(law_llm, verbose=True)"
   ]
  },
  {
   "cell_type": "code",
   "execution_count": 8,
   "metadata": {},
   "outputs": [
    {
     "name": "stdout",
     "output_type": "stream",
     "text": [
      "\u001b[1;3;38;2;155;135;227m> Running module judge_section_template with input: \n",
      "section_name: Data Collection and Usage\n",
      "section_text: The data we collect depends on the context of your interactions with Microsoft and the choices you make (including your privacy settings), the products and features you use, your location, and applica...\n",
      "regulations: GDPR, CCPA\n",
      "\n",
      "\u001b[0m\u001b[1;3;38;2;155;135;227m> Running module law_llm with input: \n",
      "prompt: This Data Collection and Usage is a section of a privacy policy:\n",
      "\n",
      "The data we collect depends on the context of your interactions with Microsoft and the choices you make (including your privacy settin...\n",
      "\n",
      "\u001b[0m"
     ]
    },
    {
     "name": "stderr",
     "output_type": "stream",
     "text": [
      "Setting `pad_token_id` to `eos_token_id`:2 for open-end generation.\n"
     ]
    },
    {
     "name": "stdout",
     "output_type": "stream",
     "text": [
      "LLM Prompt Token Usage: 357\n",
      "LLM Completion Token Usage: 233\n",
      "\u001b[1;3;38;2;155;135;227m> Running module format_judge_template with input: \n",
      "query_str: This section appears to be compliant with the GDPR and CCPA regulations. It provides clear information about the data collected by Microsoft, the purposes for which the data is used, and the legal bas...\n",
      "\n",
      "\u001b[0m\u001b[1;3;38;2;155;135;227m> Running module llm with input: \n",
      "messages: Given the comments from a legal expert:\n",
      "\n",
      "This section appears to be compliant with the GDPR and CCPA regulations. It provides clear information about the data collected by Microsoft, the purposes for ...\n",
      "\n",
      "\u001b[0mLLM Prompt Token Usage: 521\n",
      "LLM Completion Token Usage: 175\n",
      "\u001b[1;3;38;2;155;135;227m> Running module judge_parser with input: \n",
      "input: assistant: ```json\n",
      "{\n",
      "  \"judges\": [\n",
      "    {\n",
      "      \"name\": \"Data Collection and Usage\",\n",
      "      \"suggestions\": \"Clarify the legal basis for processing each type of data collected, such as consent, contract,...\n",
      "\n",
      "\u001b[0m\u001b[1;3;38;2;155;135;227m> Running module determine_judge with input: \n",
      "prompt: This Data Collection and Usage is a section of a privacy policy:\n",
      "\n",
      "The data we collect depends on the context of your interactions with Microsoft and the choices you make (including your privacy settin...\n",
      "judges: judges=[Judge(name=<SectionNames.SECTION3: 'Data Collection and Usage'>, suggestions='Clarify the legal basis for processing each type of data collected, such as consent, contract, or legitimate inter...\n",
      "\n",
      "\u001b[0m"
     ]
    }
   ],
   "source": [
    "output = judge_pipeline.run(\n",
    "    section_name=\"Data Collection and Usage\",\n",
    "    section_text=generated_section,\n",
    "    regulations=\"GDPR, CCPA\",\n",
    ")"
   ]
  },
  {
   "cell_type": "code",
   "execution_count": 9,
   "metadata": {},
   "outputs": [
    {
     "data": {
      "text/plain": [
       "{'pass': False,\n",
       " 'suggestions': 'Clarify the legal basis for processing each type of data collected, such as consent, contract, or legitimate interest.'}"
      ]
     },
     "execution_count": 9,
     "metadata": {},
     "output_type": "execute_result"
    }
   ],
   "source": [
    "output"
   ]
  },
  {
   "cell_type": "markdown",
   "metadata": {},
   "source": [
    "## Save links"
   ]
  },
  {
   "cell_type": "code",
   "execution_count": 11,
   "metadata": {},
   "outputs": [],
   "source": [
    "law_links = {\n",
    "    'regulations': [\n",
    "        'General Data Protection Regulation (GDPR)',\n",
    "        'California Consumer Privacy Act (CCPA)',\n",
    "        'Personal Information Protection and Electronic Documents Act (PIPEDA)'\n",
    "    ],\n",
    "    'links': [\n",
    "        'https://eur-lex.europa.eu/legal-content/EN/TXT/HTML/?uri=CELEX:32016L0680',\n",
    "        'https://leginfo.legislature.ca.gov/faces/codes_displayText.xhtml?division=3.&part=4.&lawCode=CIV&title=1.81.5',\n",
    "        'https://laws-lois.justice.gc.ca/ENG/ACTS/P-8.6/FullText.html'\n",
    "    ]\n",
    "}"
   ]
  },
  {
   "cell_type": "code",
   "execution_count": 12,
   "metadata": {},
   "outputs": [],
   "source": [
    "pd.DataFrame(law_links).to_csv('../data/regulations/links.csv',\n",
    "                               index=False,\n",
    "                               encoding='utf-8')"
   ]
  },
  {
   "cell_type": "markdown",
   "metadata": {},
   "source": [
    "## To QueryEngines"
   ]
  },
  {
   "cell_type": "code",
   "execution_count": 4,
   "metadata": {},
   "outputs": [
    {
     "data": {
      "text/html": [
       "<div>\n",
       "<style scoped>\n",
       "    .dataframe tbody tr th:only-of-type {\n",
       "        vertical-align: middle;\n",
       "    }\n",
       "\n",
       "    .dataframe tbody tr th {\n",
       "        vertical-align: top;\n",
       "    }\n",
       "\n",
       "    .dataframe thead th {\n",
       "        text-align: right;\n",
       "    }\n",
       "</style>\n",
       "<table border=\"1\" class=\"dataframe\">\n",
       "  <thead>\n",
       "    <tr style=\"text-align: right;\">\n",
       "      <th></th>\n",
       "      <th>regulations</th>\n",
       "      <th>links</th>\n",
       "    </tr>\n",
       "  </thead>\n",
       "  <tbody>\n",
       "    <tr>\n",
       "      <th>0</th>\n",
       "      <td>General Data Protection Regulation (GDPR)</td>\n",
       "      <td>https://eur-lex.europa.eu/legal-content/EN/TXT...</td>\n",
       "    </tr>\n",
       "    <tr>\n",
       "      <th>1</th>\n",
       "      <td>California Consumer Privacy Act (CCPA)</td>\n",
       "      <td>https://leginfo.legislature.ca.gov/faces/codes...</td>\n",
       "    </tr>\n",
       "    <tr>\n",
       "      <th>2</th>\n",
       "      <td>Personal Information Protection and Electronic...</td>\n",
       "      <td>https://laws-lois.justice.gc.ca/ENG/ACTS/P-8.6...</td>\n",
       "    </tr>\n",
       "  </tbody>\n",
       "</table>\n",
       "</div>"
      ],
      "text/plain": [
       "                                         regulations  \\\n",
       "0          General Data Protection Regulation (GDPR)   \n",
       "1             California Consumer Privacy Act (CCPA)   \n",
       "2  Personal Information Protection and Electronic...   \n",
       "\n",
       "                                               links  \n",
       "0  https://eur-lex.europa.eu/legal-content/EN/TXT...  \n",
       "1  https://leginfo.legislature.ca.gov/faces/codes...  \n",
       "2  https://laws-lois.justice.gc.ca/ENG/ACTS/P-8.6...  "
      ]
     },
     "execution_count": 4,
     "metadata": {},
     "output_type": "execute_result"
    }
   ],
   "source": [
    "links_df = pd.read_csv('../data/regulations/links.csv', encoding='utf-8')\n",
    "links_df"
   ]
  },
  {
   "cell_type": "code",
   "execution_count": 5,
   "metadata": {},
   "outputs": [],
   "source": [
    "regulation_text = SimpleWebPageReader(html_to_text=True).load_data(\n",
    "    links_df['links'].to_list())"
   ]
  },
  {
   "cell_type": "code",
   "execution_count": 6,
   "metadata": {},
   "outputs": [],
   "source": [
    "# regulation_query_tools = [\n",
    "#     QueryEngineTool(\n",
    "#         query_engine=VectorStoreIndex.from_documents(\n",
    "#             [regulation_text[i]]).as_query_engine(llm=llm),\n",
    "#         metadata=ToolMetadata(\n",
    "#             name=links_df.loc[i, 'regulations'],\n",
    "#             description=(\"refer the text when you want to make something be \"\n",
    "#                          f\"{links_df.loc[i, 'regulations']} compliant\"),\n",
    "#         ),\n",
    "#     ) for i in range(len(regulation_text))\n",
    "# ]"
   ]
  },
  {
   "cell_type": "code",
   "execution_count": 6,
   "metadata": {},
   "outputs": [],
   "source": [
    "regulation_query_tools = [\n",
    "    QueryEngineTool(\n",
    "        query_engine=SummaryIndex.from_documents([\n",
    "            regulation_text[i]\n",
    "        ]).as_query_engine(response_mode=\"tree_summarize\", llm=llm),\n",
    "        metadata=ToolMetadata(\n",
    "            name=links_df.loc[i, 'regulations'],\n",
    "            description=(\"refer the text when you want to make something be \"\n",
    "                         f\"{links_df.loc[i, 'regulations']} compliant\"),\n",
    "        ),\n",
    "    ) for i in range(len(regulation_text))\n",
    "]"
   ]
  },
  {
   "cell_type": "code",
   "execution_count": 7,
   "metadata": {},
   "outputs": [],
   "source": [
    "regulation_query_engine = SubQuestionQueryEngine.from_defaults(\n",
    "    query_engine_tools=regulation_query_tools, llm=llm, verbose=True)"
   ]
  },
  {
   "cell_type": "markdown",
   "metadata": {},
   "source": [
    "## Syllabus Generator (RAW)"
   ]
  },
  {
   "cell_type": "code",
   "execution_count": 6,
   "metadata": {},
   "outputs": [],
   "source": [
    "ask_syllabus_template = PromptTemplate(ASK_SYLLABUS_TEMPLATE)"
   ]
  },
  {
   "cell_type": "code",
   "execution_count": 6,
   "metadata": {},
   "outputs": [],
   "source": [
    "class SectionNames(str, Enum):\n",
    "    SECTION1 = \"Introduction\"\n",
    "    SECTION2 = \"Data Controller Information\"\n",
    "    SECTION3 = \"Data Collection and Usage\"\n",
    "    SECTION4 = \"Data Subject Rights\"\n",
    "    SECTION5 = \"Data Sharing and Transfers\"\n",
    "    SECTION6 = \"Data Retention\"\n",
    "    SECTION7 = \"Disclosure of Personal Information\"\n",
    "    SECTION8 = \"Security Measures\"\n",
    "    SECTION9 = \"Automated Decision-Making and Profiling\"\n",
    "    SECTION10 = \"Cookies and Tracking Technologies\"\n",
    "    SECTION11 = \"Changes to the Privacy Policy\"\n",
    "    SECTION12 = \"Contact Information\"\n",
    "\n",
    "\n",
    "class Section(BaseModel):\n",
    "    name: SectionNames = Field(..., title=\"Section Name\")\n",
    "    key_points: List[str] = Field(..., title=\"List of Key Points\")\n",
    "\n",
    "\n",
    "SectionList = conlist(Section, min_length=12, max_length=12)\n",
    "\n",
    "\n",
    "class Syllabus(BaseModel):\n",
    "    sections: SectionList = Field(..., title=\"List of Sections\")"
   ]
  },
  {
   "cell_type": "code",
   "execution_count": 7,
   "metadata": {},
   "outputs": [],
   "source": [
    "output_parser = PydanticOutputParser(SyllabusFormat)\n",
    "split_section_template = PromptTemplate(\n",
    "    output_parser.format(FORMAT_SYLLABUS_TEMPLATE))\n"
   ]
  },
  {
   "cell_type": "code",
   "execution_count": 14,
   "metadata": {},
   "outputs": [
    {
     "name": "stdout",
     "output_type": "stream",
     "text": [
      "Given the privacy policy sections and key points:\n",
      "\n",
      "{query_str}\n",
      "\n",
      "DO NOT modify the key points!!!\n",
      "Please rearrange the sections and key points and output with the following JSON format:\n",
      "\n",
      "\n",
      "Here's a JSON schema to follow:\n",
      "{{\"$defs\": {{\"Section\": {{\"properties\": {{\"name\": {{\"allOf\": [{{\"$ref\": \"#/$defs/SectionNames\"}}], \"title\": \"Section Name\"}}, \"key_points\": {{\"items\": {{\"type\": \"string\"}}, \"title\": \"List of Key Points\", \"type\": \"array\"}}}}, \"required\": [\"name\", \"key_points\"], \"title\": \"Section\", \"type\": \"object\"}}, \"SectionNames\": {{\"enum\": [\"Introduction\", \"Data Controller Information\", \"Data Collection and Usage\", \"Data Subject Rights\", \"Data Sharing and Transfers\", \"Data Retention\", \"Disclosure of Personal Information\", \"Security Measures\", \"Automated Decision-Making and Profiling\", \"Cookies and Tracking Technologies\", \"Changes to the Privacy Policy\", \"Contact Information\"], \"title\": \"SectionNames\", \"type\": \"string\"}}}}, \"properties\": {{\"sections\": {{\"items\": {{\"$ref\": \"#/$defs/Section\"}}, \"maxItems\": 12, \"minItems\": 12, \"title\": \"List of Sections\", \"type\": \"array\"}}}}, \"required\": [\"sections\"], \"title\": \"Syllabus\", \"type\": \"object\"}}\n",
      "\n",
      "Output a valid JSON object but do not repeat the schema.\n",
      "\n"
     ]
    }
   ],
   "source": [
    "print(split_section_template.template)"
   ]
  },
  {
   "cell_type": "code",
   "execution_count": 8,
   "metadata": {},
   "outputs": [
    {
     "data": {
      "text/plain": [
       "True"
      ]
     },
     "execution_count": 8,
     "metadata": {},
     "output_type": "execute_result"
    }
   ],
   "source": [
    "syllabus_generator.module_dict[list(syllabus_generator.module_dict.keys(\n",
    "))[2]].prompt.template == split_section_template.template"
   ]
  },
  {
   "cell_type": "code",
   "execution_count": 9,
   "metadata": {},
   "outputs": [],
   "source": [
    "p = QueryPipeline(chain=[\n",
    "    ask_syllabus_template,\n",
    "    regulation_query_engine,\n",
    "    split_section_template,\n",
    "    llm,\n",
    "    output_parser,\n",
    "],\n",
    "                  verbose=True)"
   ]
  },
  {
   "cell_type": "code",
   "execution_count": 13,
   "metadata": {},
   "outputs": [
    {
     "name": "stdout",
     "output_type": "stream",
     "text": [
      "\u001b[1;3;38;2;155;135;227m> Running module b637576c-0721-486a-9359-7f481394a8d9 with input: \n",
      "regulations: GDPR, PIPEDA\n",
      "\n",
      "\u001b[0m\u001b[1;3;38;2;155;135;227m> Running module c6be2272-cd88-43cf-be35-48299779b46a with input: \n",
      "input: I want to write a privacy policy, which should be GDPR, PIPEDA compliant. \n",
      "    What sections should it include? And for each section, what key points should be covered?\n",
      "    List them as bullet points....\n",
      "\n",
      "\u001b[0mGenerated 4 sub questions.\n",
      "\u001b[1;3;38;2;237;90;200m[General Data Protection Regulation (GDPR)] Q: What sections should a GDPR compliant privacy policy include?\n",
      "\u001b[0m\u001b[1;3;38;2;90;149;237m[General Data Protection Regulation (GDPR)] Q: For each section of a GDPR compliant privacy policy, what key points should be covered?\n",
      "\u001b[0m\u001b[1;3;38;2;11;159;203m[Personal Information Protection and Electronic Documents Act (PIPEDA)] Q: What sections should a PIPEDA compliant privacy policy include?\n",
      "\u001b[0m\u001b[1;3;38;2;155;135;227m[Personal Information Protection and Electronic Documents Act (PIPEDA)] Q: For each section of a PIPEDA compliant privacy policy, what key points should be covered?\n",
      "\u001b[0m\u001b[1;3;38;2;237;90;200m[General Data Protection Regulation (GDPR)] A: A GDPR compliant privacy policy should include the following sections:\n",
      "\n",
      "1. **Introduction**: Overview of the policy and its purpose.\n",
      "2. **Data Controller Information**: Identity and contact details of the data controller.\n",
      "3. **Data Protection Officer**: Contact details if applicable.\n",
      "4. **Types of Data Collected**: Categories of personal data collected.\n",
      "5. **Purpose of Data Processing**: Specific purposes for which the data is processed.\n",
      "6. **Legal Basis for Processing**: Legal grounds for data processing.\n",
      "7. **Data Subject Rights**: Rights of individuals regarding their personal data, including access, rectification, erasure, restriction of processing, data portability, and objection.\n",
      "8. **Data Retention**: Time limits for storing personal data.\n",
      "9. **Data Sharing**: Information on data recipients, including third parties and international transfers.\n",
      "10. **Security Measures**: Technical and organizational measures to protect personal data.\n",
      "11. **Automated Decision-Making**: Information on any automated decision-making, including profiling.\n",
      "12. **Cookies and Tracking Technologies**: Use of cookies and other tracking technologies.\n",
      "13. **Complaints**: How to lodge a complaint with a supervisory authority.\n",
      "14. **Changes to the Privacy Policy**: How changes to the policy will be communicated.\n",
      "15. **Contact Information**: How to contact the organization for more information or to exercise data subject rights.\n",
      "\u001b[0m\u001b[1;3;38;2;155;135;227m[Personal Information Protection and Electronic Documents Act (PIPEDA)] A: A PIPEDA compliant privacy policy should cover the following key points for each section:\n",
      "\n",
      "1. **Accountability**:\n",
      "   - Designate an individual or individuals responsible for compliance.\n",
      "   - Ensure personal information is protected, even when transferred to third parties.\n",
      "   - Implement policies and practices to protect personal information.\n",
      "\n",
      "2. **Identifying Purposes**:\n",
      "   - Clearly identify and document the purposes for which personal information is collected.\n",
      "   - Inform individuals of these purposes at or before the time of collection.\n",
      "\n",
      "3. **Consent**:\n",
      "   - Obtain the individual's knowledge and consent for the collection, use, or disclosure of personal information.\n",
      "   - Ensure consent is meaningful and informed, considering the sensitivity of the information.\n",
      "\n",
      "4. **Limiting Collection**:\n",
      "   - Limit the collection of personal information to what is necessary for the identified purposes.\n",
      "   - Collect information by fair and lawful means.\n",
      "\n",
      "5. **Limiting Use, Disclosure, and Retention**:\n",
      "   - Use or disclose personal information only for the purposes for which it was collected, unless consent is obtained or required by law.\n",
      "   - Retain personal information only as long as necessary for the fulfillment of those purposes.\n",
      "\n",
      "6. **Accuracy**:\n",
      "   - Ensure personal information is accurate, complete, and up-to-date as necessary for the purposes for which it is used.\n",
      "\n",
      "7. **Safeguards**:\n",
      "   - Protect personal information with security safeguards appropriate to its sensitivity.\n",
      "   - Implement physical, organizational, and technological measures to protect personal information.\n",
      "\n",
      "8. **Openness**:\n",
      "   - Make information about policies and practices relating to personal information management readily available.\n",
      "   - Provide contact information for the individual accountable for compliance.\n",
      "\n",
      "9. **Individual Access**:\n",
      "   - Inform individuals of the existence, use, and disclosure of their personal information upon request.\n",
      "   - Allow individuals to access their personal information and challenge its accuracy and completeness.\n",
      "\n",
      "10. **Challenging Compliance**:\n",
      "    - Provide a process for individuals to challenge compliance with the privacy policy.\n",
      "    - Investigate and respond to complaints regarding personal information handling practices.\n",
      "\u001b[0m\u001b[1;3;38;2;11;159;203m[Personal Information Protection and Electronic Documents Act (PIPEDA)] A: A PIPEDA compliant privacy policy should include the following sections:\n",
      "\n",
      "1. **Accountability**: Designate an individual or individuals responsible for ensuring compliance with PIPEDA principles.\n",
      "2. **Identifying Purposes**: Clearly state the purposes for which personal information is being collected.\n",
      "3. **Consent**: Explain how and when consent will be obtained from individuals for the collection, use, or disclosure of their personal information.\n",
      "4. **Limiting Collection**: Ensure that the collection of personal information is limited to what is necessary for the identified purposes.\n",
      "5. **Limiting Use, Disclosure, and Retention**: Specify that personal information will not be used or disclosed for purposes other than those for which it was collected, except with the consent of the individual or as required by law, and outline retention periods.\n",
      "6. **Accuracy**: Ensure that personal information is accurate, complete, and up-to-date as necessary for the purposes for which it is to be used.\n",
      "7. **Safeguards**: Describe the security measures in place to protect personal information against loss, theft, and unauthorized access, disclosure, copying, use, or modification.\n",
      "8. **Openness**: Make information about the organization's policies and practices relating to the management of personal information readily available.\n",
      "9. **Individual Access**: Provide individuals with access to their personal information and the ability to challenge its accuracy and completeness.\n",
      "10. **Challenging Compliance**: Outline the process for individuals to challenge the organization's compliance with PIPEDA principles.\n",
      "\u001b[0m\u001b[1;3;38;2;90;149;237m[General Data Protection Regulation (GDPR)] A: For a GDPR compliant privacy policy, each section should cover the following key points:\n",
      "\n",
      "1. **Introduction**:\n",
      "   - Purpose of the privacy policy.\n",
      "   - Overview of the organization's commitment to data protection.\n",
      "\n",
      "2. **Data Controller Information**:\n",
      "   - Identity and contact details of the data controller.\n",
      "   - Contact details of the Data Protection Officer (if applicable).\n",
      "\n",
      "3. **Types of Data Collected**:\n",
      "   - Categories of personal data collected (e.g., name, contact details, IP address).\n",
      "   - Sources of data collection (e.g., directly from users, third parties).\n",
      "\n",
      "4. **Purpose and Legal Basis for Processing**:\n",
      "   - Specific purposes for which personal data is processed.\n",
      "   - Legal basis for each processing activity (e.g., consent, contractual necessity, legal obligation).\n",
      "\n",
      "5. **Data Subject Rights**:\n",
      "   - Right to access personal data.\n",
      "   - Right to rectification of inaccurate data.\n",
      "   - Right to erasure (right to be forgotten).\n",
      "   - Right to restrict processing.\n",
      "   - Right to data portability.\n",
      "   - Right to object to processing.\n",
      "   - Right to withdraw consent at any time.\n",
      "\n",
      "6. **Data Sharing and Disclosure**:\n",
      "   - Categories of recipients with whom personal data is shared.\n",
      "   - Situations where data may be disclosed to third parties (e.g., legal requirements).\n",
      "\n",
      "7. **International Data Transfers**:\n",
      "   - Information on transfers of personal data to third countries or international organizations.\n",
      "   - Safeguards in place for such transfers (e.g., adequacy decisions, standard contractual clauses).\n",
      "\n",
      "8. **Data Retention**:\n",
      "   - Criteria used to determine retention periods for personal data.\n",
      "   - Specific retention periods for different types of data, if applicable.\n",
      "\n",
      "9. **Security Measures**:\n",
      "   - Description of technical and organizational measures to protect personal data.\n",
      "   - Procedures in place to handle data breaches.\n",
      "\n",
      "10. **Automated Decision-Making and Profiling**:\n",
      "    - Information on any automated decision-making processes, including profiling.\n",
      "    - Logic involved, significance, and potential consequences for data subjects.\n",
      "\n",
      "11. **Cookies and Tracking Technologies**:\n",
      "    - Types of cookies and tracking technologies used.\n",
      "    - Purpose of using cookies.\n",
      "    - How users can manage cookie preferences.\n",
      "\n",
      "12. **Changes to the Privacy Policy**:\n",
      "    - How and when changes to the privacy policy will be communicated to users.\n",
      "    - Effective date of the current privacy policy.\n",
      "\n",
      "13. **Complaints and Supervisory Authority**:\n",
      "    - Information on how to lodge a complaint with the organization.\n",
      "    - Contact details of the relevant supervisory authority for data protection issues.\n",
      "\n",
      "Each section should be written in clear and plain language to ensure that it is easily understandable by the data subjects.\n",
      "\u001b[0m\u001b[1;3;38;2;155;135;227m> Running module b40bb88f-3f17-4b73-bbe5-9f90f79fe380 with input: \n",
      "query_str: To write a privacy policy that is compliant with both GDPR and PIPEDA, you should include the following sections and cover the key points for each:\n",
      "\n",
      "1. **Introduction**:\n",
      "   - Purpose of the privacy po...\n",
      "\n",
      "\u001b[0m\u001b[1;3;38;2;155;135;227m> Running module 9661b971-5a94-4d7d-9950-60b1bc5755a6 with input: \n",
      "messages: Given the privacy policy sections and key points:\n",
      "\n",
      "To write a privacy policy that is compliant with both GDPR and PIPEDA, you should include the following sections and cover the key points for each:\n",
      "\n",
      "...\n",
      "\n",
      "\u001b[0m\u001b[1;3;38;2;155;135;227m> Running module a283fc2d-ede1-4508-9fbc-cf9ca148ffb6 with input: \n",
      "input: assistant: ```json\n",
      "{\n",
      "  \"sections\": [\n",
      "    {\n",
      "      \"name\": \"Introduction\",\n",
      "      \"key_points\": [\n",
      "        \"Purpose of the privacy policy.\",\n",
      "        \"Overview of the organization's commitment to data prot...\n",
      "\n",
      "\u001b[0m"
     ]
    }
   ],
   "source": [
    "output = p.run(regulations=\"GDPR, PIPEDA\")\n",
    "# display(Markdown(f\"<b>{output.response}</b>\"))"
   ]
  },
  {
   "cell_type": "code",
   "execution_count": 60,
   "metadata": {},
   "outputs": [
    {
     "data": {
      "text/plain": [
       "[Section(name=<SectionNames.SECTION1: 'Introduction'>, key_points=['Purpose of the privacy policy.', \"Overview of the organization's commitment to data protection.\"]),\n",
       " Section(name=<SectionNames.SECTION2: 'Data Controller Information'>, key_points=['Identity and contact details of the data controller.', 'Contact details of the Data Protection Officer (if applicable).']),\n",
       " Section(name=<SectionNames.SECTION3: 'Data Collection and Usage'>, key_points=['Categories of personal data collected (e.g., contact details, financial information).', 'Methods of data collection (e.g., directly from users, through cookies).', 'Specific purposes for which personal data is processed.', 'Legal basis for each processing activity (e.g., consent, performance of a contract, legal obligation).', \"Obtain the individual's knowledge and consent for the collection, use, or disclosure of personal information, except where inappropriate.\", 'Ensure consent is meaningful by explaining the purposes in a manner that individuals can understand.', 'Limit the collection of personal information to what is necessary for the identified purposes.', 'Collect information by fair and lawful means.']),\n",
       " Section(name=<SectionNames.SECTION4: 'Data Subject Rights'>, key_points=['Right to access personal data.', 'Right to rectification, erasure, and restriction of processing.', 'Right to data portability.', 'Right to object to processing.', 'Right to withdraw consent at any time.']),\n",
       " Section(name=<SectionNames.SECTION5: 'Data Sharing and Transfers'>, key_points=['Categories of recipients with whom personal data is shared.', 'Information on international data transfers and safeguards in place (e.g., adequacy decisions, standard contractual clauses).']),\n",
       " Section(name=<SectionNames.SECTION6: 'Data Retention'>, key_points=['Criteria used to determine retention periods for personal data.', 'Specific retention periods where applicable.', 'Retain personal information only as long as necessary for the fulfillment of those purposes.']),\n",
       " Section(name=<SectionNames.SECTION7: 'Disclosure of Personal Information'>, key_points=['Use or disclose personal information only for the purposes for which it was collected, unless consent is obtained or as required by law.', 'Inform individuals of the existence, use, and disclosure of their personal information upon request.', 'Provide access to personal information and allow individuals to challenge the accuracy and completeness of the information and have it amended as appropriate.']),\n",
       " Section(name=<SectionNames.SECTION8: 'Security Measures'>, key_points=['Description of technical and organizational measures to protect personal data.', 'Procedures in place to handle data breaches.']),\n",
       " Section(name=<SectionNames.SECTION9: 'Automated Decision-Making and Profiling'>, key_points=['Information on any automated decision-making, including profiling.', 'Significance and consequences of such processing for data subjects.']),\n",
       " Section(name=<SectionNames.SECTION10: 'Cookies and Tracking Technologies'>, key_points=['Types of cookies and tracking technologies used.', 'Purpose of using cookies.', 'How users can manage cookie preferences.']),\n",
       " Section(name=<SectionNames.SECTION11: 'Changes to the Privacy Policy'>, key_points=['How and when changes to the privacy policy will be communicated to users.', 'Effective date of the current privacy policy.']),\n",
       " Section(name=<SectionNames.SECTION12: 'Contact Information'>, key_points=['Information on how to lodge a complaint with the organization.', 'Contact details of the relevant supervisory authority for data protection issues.', \"Provide mechanisms for individuals to challenge the organization's compliance with the above principles.\", 'Investigate and respond to complaints regarding the handling of personal information.'])]"
      ]
     },
     "execution_count": 60,
     "metadata": {},
     "output_type": "execute_result"
    }
   ],
   "source": [
    "output.sections"
   ]
  },
  {
   "cell_type": "code",
   "execution_count": 61,
   "metadata": {},
   "outputs": [
    {
     "data": {
      "text/markdown": [
       "<b>**1. Introduction**\n",
       "\n",
       "&ensp;- Purpose of the privacy policy.\n",
       "\n",
       "&ensp;- Overview of the organization's commitment to data protection.</b>"
      ],
      "text/plain": [
       "<IPython.core.display.Markdown object>"
      ]
     },
     "metadata": {},
     "output_type": "display_data"
    },
    {
     "data": {
      "text/markdown": [
       "<b>**2. Data Controller Information**\n",
       "\n",
       "&ensp;- Identity and contact details of the data controller.\n",
       "\n",
       "&ensp;- Contact details of the Data Protection Officer (if applicable).</b>"
      ],
      "text/plain": [
       "<IPython.core.display.Markdown object>"
      ]
     },
     "metadata": {},
     "output_type": "display_data"
    },
    {
     "data": {
      "text/markdown": [
       "<b>**3. Data Collection and Usage**\n",
       "\n",
       "&ensp;- Categories of personal data collected (e.g., contact details, financial information).\n",
       "\n",
       "&ensp;- Methods of data collection (e.g., directly from users, through cookies).\n",
       "\n",
       "&ensp;- Specific purposes for which personal data is processed.\n",
       "\n",
       "&ensp;- Legal basis for each processing activity (e.g., consent, performance of a contract, legal obligation).\n",
       "\n",
       "&ensp;- Obtain the individual's knowledge and consent for the collection, use, or disclosure of personal information, except where inappropriate.\n",
       "\n",
       "&ensp;- Ensure consent is meaningful by explaining the purposes in a manner that individuals can understand.\n",
       "\n",
       "&ensp;- Limit the collection of personal information to what is necessary for the identified purposes.\n",
       "\n",
       "&ensp;- Collect information by fair and lawful means.</b>"
      ],
      "text/plain": [
       "<IPython.core.display.Markdown object>"
      ]
     },
     "metadata": {},
     "output_type": "display_data"
    },
    {
     "data": {
      "text/markdown": [
       "<b>**4. Data Subject Rights**\n",
       "\n",
       "&ensp;- Right to access personal data.\n",
       "\n",
       "&ensp;- Right to rectification, erasure, and restriction of processing.\n",
       "\n",
       "&ensp;- Right to data portability.\n",
       "\n",
       "&ensp;- Right to object to processing.\n",
       "\n",
       "&ensp;- Right to withdraw consent at any time.</b>"
      ],
      "text/plain": [
       "<IPython.core.display.Markdown object>"
      ]
     },
     "metadata": {},
     "output_type": "display_data"
    },
    {
     "data": {
      "text/markdown": [
       "<b>**5. Data Sharing and Transfers**\n",
       "\n",
       "&ensp;- Categories of recipients with whom personal data is shared.\n",
       "\n",
       "&ensp;- Information on international data transfers and safeguards in place (e.g., adequacy decisions, standard contractual clauses).</b>"
      ],
      "text/plain": [
       "<IPython.core.display.Markdown object>"
      ]
     },
     "metadata": {},
     "output_type": "display_data"
    },
    {
     "data": {
      "text/markdown": [
       "<b>**6. Data Retention**\n",
       "\n",
       "&ensp;- Criteria used to determine retention periods for personal data.\n",
       "\n",
       "&ensp;- Specific retention periods where applicable.\n",
       "\n",
       "&ensp;- Retain personal information only as long as necessary for the fulfillment of those purposes.</b>"
      ],
      "text/plain": [
       "<IPython.core.display.Markdown object>"
      ]
     },
     "metadata": {},
     "output_type": "display_data"
    },
    {
     "data": {
      "text/markdown": [
       "<b>**7. Disclosure of Personal Information**\n",
       "\n",
       "&ensp;- Use or disclose personal information only for the purposes for which it was collected, unless consent is obtained or as required by law.\n",
       "\n",
       "&ensp;- Inform individuals of the existence, use, and disclosure of their personal information upon request.\n",
       "\n",
       "&ensp;- Provide access to personal information and allow individuals to challenge the accuracy and completeness of the information and have it amended as appropriate.</b>"
      ],
      "text/plain": [
       "<IPython.core.display.Markdown object>"
      ]
     },
     "metadata": {},
     "output_type": "display_data"
    },
    {
     "data": {
      "text/markdown": [
       "<b>**8. Security Measures**\n",
       "\n",
       "&ensp;- Description of technical and organizational measures to protect personal data.\n",
       "\n",
       "&ensp;- Procedures in place to handle data breaches.</b>"
      ],
      "text/plain": [
       "<IPython.core.display.Markdown object>"
      ]
     },
     "metadata": {},
     "output_type": "display_data"
    },
    {
     "data": {
      "text/markdown": [
       "<b>**9. Automated Decision-Making and Profiling**\n",
       "\n",
       "&ensp;- Information on any automated decision-making, including profiling.\n",
       "\n",
       "&ensp;- Significance and consequences of such processing for data subjects.</b>"
      ],
      "text/plain": [
       "<IPython.core.display.Markdown object>"
      ]
     },
     "metadata": {},
     "output_type": "display_data"
    },
    {
     "data": {
      "text/markdown": [
       "<b>**10. Cookies and Tracking Technologies**\n",
       "\n",
       "&ensp;- Types of cookies and tracking technologies used.\n",
       "\n",
       "&ensp;- Purpose of using cookies.\n",
       "\n",
       "&ensp;- How users can manage cookie preferences.</b>"
      ],
      "text/plain": [
       "<IPython.core.display.Markdown object>"
      ]
     },
     "metadata": {},
     "output_type": "display_data"
    },
    {
     "data": {
      "text/markdown": [
       "<b>**11. Changes to the Privacy Policy**\n",
       "\n",
       "&ensp;- How and when changes to the privacy policy will be communicated to users.\n",
       "\n",
       "&ensp;- Effective date of the current privacy policy.</b>"
      ],
      "text/plain": [
       "<IPython.core.display.Markdown object>"
      ]
     },
     "metadata": {},
     "output_type": "display_data"
    },
    {
     "data": {
      "text/markdown": [
       "<b>**12. Contact Information**\n",
       "\n",
       "&ensp;- Information on how to lodge a complaint with the organization.\n",
       "\n",
       "&ensp;- Contact details of the relevant supervisory authority for data protection issues.\n",
       "\n",
       "&ensp;- Provide mechanisms for individuals to challenge the organization's compliance with the above principles.\n",
       "\n",
       "&ensp;- Investigate and respond to complaints regarding the handling of personal information.</b>"
      ],
      "text/plain": [
       "<IPython.core.display.Markdown object>"
      ]
     },
     "metadata": {},
     "output_type": "display_data"
    }
   ],
   "source": [
    "for i, section in enumerate(output.sections):\n",
    "    display(\n",
    "        Markdown(f\"<b>**{i+1}. {section.name.value}**\\n\\n&ensp;- \" +\n",
    "                 '\\n\\n&ensp;- '.join(section.key_points) + \"</b>\"))"
   ]
  },
  {
   "cell_type": "code",
   "execution_count": 27,
   "metadata": {},
   "outputs": [
    {
     "data": {
      "text/plain": [
       "['Purpose of the privacy policy.',\n",
       " \"Overview of the organization's commitment to data protection.\",\n",
       " 'Scope of the privacy policy.']"
      ]
     },
     "execution_count": 27,
     "metadata": {},
     "output_type": "execute_result"
    }
   ],
   "source": [
    "output.sections[0].key_points"
   ]
  },
  {
   "cell_type": "code",
   "execution_count": 11,
   "metadata": {},
   "outputs": [
    {
     "name": "stdout",
     "output_type": "stream",
     "text": [
      "Generated 4 sub questions.\n",
      "\u001b[1;3;38;2;237;90;200m[General Data Protection Regulation (GDPR)] Q: What sections should a GDPR compliant privacy policy include?\n",
      "\u001b[0m\u001b[1;3;38;2;90;149;237m[General Data Protection Regulation (GDPR)] Q: For each section of a GDPR compliant privacy policy, what key points should be covered?\n",
      "\u001b[0m\u001b[1;3;38;2;11;159;203m[California Consumer Privacy Act (CCPA)] Q: What sections should a CCPA compliant privacy policy include?\n",
      "\u001b[0m\u001b[1;3;38;2;155;135;227m[California Consumer Privacy Act (CCPA)] Q: For each section of a CCPA compliant privacy policy, what key points should be covered?\n",
      "\u001b[0m\u001b[1;3;38;2;237;90;200m[General Data Protection Regulation (GDPR)] A: A GDPR compliant privacy policy should include the following sections:\n",
      "\n",
      "1. **Introduction**: An overview of the policy and its purpose.\n",
      "2. **Data Controller Information**: Details about the entity responsible for data processing.\n",
      "3. **Data Protection Officer**: Contact information if a Data Protection Officer is appointed.\n",
      "4. **Types of Data Collected**: Description of the personal data being collected.\n",
      "5. **Purpose of Data Processing**: Explanation of why the data is being collected and processed.\n",
      "6. **Legal Basis for Processing**: The legal grounds for processing personal data.\n",
      "7. **Data Subject Rights**: Information on the rights of data subjects, including access, rectification, erasure, restriction of processing, data portability, and the right to object.\n",
      "8. **Data Retention**: How long the data will be stored.\n",
      "9. **Data Sharing**: Information on who the data will be shared with, including third parties and international transfers.\n",
      "10. **Security Measures**: Description of the technical and organizational measures in place to protect personal data.\n",
      "11. **Automated Decision-Making**: Information on any automated decision-making processes, including profiling.\n",
      "12. **Cookies and Tracking Technologies**: Details on the use of cookies and other tracking technologies.\n",
      "13. **Complaints**: How to lodge a complaint with a supervisory authority.\n",
      "14. **Changes to the Privacy Policy**: How changes to the policy will be communicated.\n",
      "15. **Contact Information**: How to contact the data controller for more information or to exercise rights.\n",
      "\u001b[0m\u001b[1;3;38;2;11;159;203m[California Consumer Privacy Act (CCPA)] A: A CCPA compliant privacy policy should include the following sections:\n",
      "\n",
      "1. **Categories of Personal Information Collected**: A description of the categories of personal information collected about consumers.\n",
      "2. **Sources of Personal Information**: The categories of sources from which the personal information is collected.\n",
      "3. **Business or Commercial Purpose for Collecting, Selling, or Sharing Personal Information**: The business or commercial purposes for collecting, selling, or sharing personal information.\n",
      "4. **Categories of Third Parties**: The categories of third parties to whom the business discloses personal information.\n",
      "5. **Specific Pieces of Personal Information**: The specific pieces of personal information collected about the consumer.\n",
      "6. **Consumers’ Rights**: Information about consumers' rights under the CCPA, including the right to request deletion, correction of inaccurate personal information, and the right to know what personal information is being collected.\n",
      "7. **Opt-Out Rights**: Information on the consumer’s right to opt-out of the sale or sharing of their personal information.\n",
      "8. **Sensitive Personal Information**: If applicable, the categories of sensitive personal information collected and the purposes for which it is collected or used.\n",
      "9. **Retention Period**: The length of time the business intends to retain each category of personal information, including sensitive personal information.\n",
      "10. **Non-Discrimination**: A statement that the business will not discriminate against consumers for exercising their CCPA rights.\n",
      "11. **Financial Incentives**: If applicable, a description of any financial incentives offered in exchange for the collection, sale, or retention of personal information.\n",
      "12. **Contact Information**: Methods for consumers to submit requests regarding their personal information, including at least one designated method such as a toll-free telephone number or an email address.\n",
      "\n",
      "These sections ensure that the privacy policy is comprehensive and provides consumers with the necessary information to understand their rights and how their personal information is handled.\n",
      "\u001b[0m\u001b[1;3;38;2;90;149;237m[General Data Protection Regulation (GDPR)] A: For a GDPR-compliant privacy policy, each section should cover the following key points:\n",
      "\n",
      "1. **Introduction**:\n",
      "   - Purpose of the privacy policy.\n",
      "   - Overview of the organization's commitment to data protection.\n",
      "\n",
      "2. **Data Controller Information**:\n",
      "   - Name and contact details of the data controller.\n",
      "   - Contact details of the Data Protection Officer (DPO), if applicable.\n",
      "\n",
      "3. **Types of Data Collected**:\n",
      "   - Categories of personal data collected (e.g., identification data, contact details, financial information).\n",
      "   - Methods of data collection (e.g., directly from users, through website forms).\n",
      "\n",
      "4. **Purpose of Data Processing**:\n",
      "   - Specific purposes for which personal data is processed (e.g., service provision, marketing, legal compliance).\n",
      "   - Legal basis for processing (e.g., consent, contractual necessity, legal obligation).\n",
      "\n",
      "5. **Data Sharing and Recipients**:\n",
      "   - Categories of recipients with whom data may be shared (e.g., service providers, business partners).\n",
      "   - Information on international data transfers and safeguards in place.\n",
      "\n",
      "6. **Data Subject Rights**:\n",
      "   - Rights of data subjects under GDPR (e.g., access, rectification, erasure, restriction of processing, data portability, objection).\n",
      "   - How data subjects can exercise their rights.\n",
      "\n",
      "7. **Data Retention**:\n",
      "   - Criteria for determining data retention periods.\n",
      "   - Specific retention periods for different types of data, if applicable.\n",
      "\n",
      "8. **Security Measures**:\n",
      "   - Description of technical and organizational measures in place to protect personal data.\n",
      "   - Procedures for handling data breaches.\n",
      "\n",
      "9. **Cookies and Tracking Technologies**:\n",
      "   - Types of cookies and tracking technologies used.\n",
      "   - Purpose of using cookies and how users can manage their cookie preferences.\n",
      "\n",
      "10. **Changes to the Privacy Policy**:\n",
      "    - How and when changes to the privacy policy will be communicated to users.\n",
      "    - Effective date of the current privacy policy.\n",
      "\n",
      "11. **Contact Information**:\n",
      "    - How users can contact the organization for privacy-related inquiries or complaints.\n",
      "\n",
      "Each section should be written in clear and plain language to ensure that it is easily understandable by the data subjects.\n",
      "\u001b[0m\u001b[1;3;38;2;155;135;227m[California Consumer Privacy Act (CCPA)] A: For a California Consumer Privacy Act (CCPA) compliant privacy policy, each section should cover the following key points:\n",
      "\n",
      "1. **Introduction**:\n",
      "   - Purpose of the privacy policy.\n",
      "   - Overview of the CCPA and consumer rights.\n",
      "\n",
      "2. **Categories of Personal Information Collected**:\n",
      "   - Types of personal information collected (e.g., identifiers, commercial information, biometric information).\n",
      "   - Sources from which personal information is collected.\n",
      "\n",
      "3. **Purposes for Collecting Personal Information**:\n",
      "   - Specific purposes for which each category of personal information is collected and used.\n",
      "   - Whether the information is sold or shared.\n",
      "\n",
      "4. **Consumer Rights**:\n",
      "   - Right to know what personal information is collected.\n",
      "   - Right to access personal information.\n",
      "   - Right to delete personal information.\n",
      "   - Right to correct inaccurate personal information.\n",
      "   - Right to opt-out of the sale or sharing of personal information.\n",
      "   - Right to limit the use and disclosure of sensitive personal information.\n",
      "   - Right of no retaliation following opt-out or exercise of other rights.\n",
      "\n",
      "5. **Methods for Submitting Requests**:\n",
      "   - How consumers can submit requests to exercise their rights (e.g., toll-free number, email, online form).\n",
      "   - Verification process for consumer requests.\n",
      "\n",
      "6. **Response Time and Process**:\n",
      "   - Timeframe for responding to consumer requests (typically within 45 days).\n",
      "   - Possible extensions and notification of such extensions.\n",
      "\n",
      "7. **Disclosure of Personal Information**:\n",
      "   - Categories of third parties to whom personal information is disclosed.\n",
      "   - Business or commercial purposes for disclosing personal information.\n",
      "\n",
      "8. **Security Measures**:\n",
      "   - Description of security measures in place to protect personal information.\n",
      "   - Procedures for addressing data breaches.\n",
      "\n",
      "9. **Financial Incentives**:\n",
      "   - Description of any financial incentives offered in exchange for personal information.\n",
      "   - Terms of the financial incentive program and how consumers can opt-in or opt-out.\n",
      "\n",
      "10. **Changes to the Privacy Policy**:\n",
      "    - How and when changes to the privacy policy will be communicated to consumers.\n",
      "    - Effective date of the privacy policy.\n",
      "\n",
      "11. **Contact Information**:\n",
      "    - Contact details for consumers to ask questions or submit complaints regarding the privacy policy.\n",
      "\n",
      "Each section should be clear, concise, and easily understandable to ensure consumers are fully informed of their rights and the business's practices regarding personal information.\n",
      "\u001b[0m"
     ]
    },
    {
     "data": {
      "text/markdown": [
       "<b>To write a privacy policy that is both GDPR and CCPA compliant, you should include the following sections and cover the key points for each:\n",
       "\n",
       "1. **Introduction**:\n",
       "   - Purpose of the privacy policy.\n",
       "   - Overview of the organization's commitment to data protection.\n",
       "   - Overview of GDPR and CCPA compliance.\n",
       "\n",
       "2. **Data Controller Information**:\n",
       "   - Name and contact details of the data controller.\n",
       "   - Contact details of the Data Protection Officer (DPO), if applicable.\n",
       "\n",
       "3. **Categories of Personal Information Collected**:\n",
       "   - Types of personal information collected (e.g., identifiers, contact details, financial information, biometric information).\n",
       "   - Methods of data collection (e.g., directly from users, through website forms).\n",
       "\n",
       "4. **Sources of Personal Information**:\n",
       "   - Categories of sources from which personal information is collected.\n",
       "\n",
       "5. **Purpose of Data Processing**:\n",
       "   - Specific purposes for which personal data is processed (e.g., service provision, marketing, legal compliance).\n",
       "   - Legal basis for processing (e.g., consent, contractual necessity, legal obligation).\n",
       "   - Whether the information is sold or shared.\n",
       "\n",
       "6. **Legal Basis for Processing**:\n",
       "   - The legal grounds for processing personal data under GDPR.\n",
       "\n",
       "7. **Data Subject and Consumer Rights**:\n",
       "   - Rights of data subjects under GDPR (e.g., access, rectification, erasure, restriction of processing, data portability, objection).\n",
       "   - Rights of consumers under CCPA (e.g., right to know, access, delete, correct inaccurate personal information, opt-out of sale or sharing, limit use of sensitive personal information, no retaliation).\n",
       "   - How data subjects and consumers can exercise their rights.\n",
       "\n",
       "8. **Data Retention**:\n",
       "   - Criteria for determining data retention periods.\n",
       "   - Specific retention periods for different types of data, if applicable.\n",
       "\n",
       "9. **Data Sharing and Recipients**:\n",
       "   - Categories of recipients with whom data may be shared (e.g., service providers, business partners).\n",
       "   - Information on international data transfers and safeguards in place.\n",
       "\n",
       "10. **Security Measures**:\n",
       "    - Description of technical and organizational measures in place to protect personal data.\n",
       "    - Procedures for handling data breaches.\n",
       "\n",
       "11. **Automated Decision-Making**:\n",
       "    - Information on any automated decision-making processes, including profiling.\n",
       "\n",
       "12. **Cookies and Tracking Technologies**:\n",
       "    - Types of cookies and tracking technologies used.\n",
       "    - Purpose of using cookies and how users can manage their cookie preferences.\n",
       "\n",
       "13. **Financial Incentives**:\n",
       "    - Description of any financial incentives offered in exchange for personal information.\n",
       "    - Terms of the financial incentive program and how consumers can opt-in or opt-out.\n",
       "\n",
       "14. **Non-Discrimination**:\n",
       "    - Statement that the business will not discriminate against consumers for exercising their CCPA rights.\n",
       "\n",
       "15. **Complaints**:\n",
       "    - How to lodge a complaint with a supervisory authority.\n",
       "\n",
       "16. **Changes to the Privacy Policy**:\n",
       "    - How and when changes to the privacy policy will be communicated to users.\n",
       "    - Effective date of the current privacy policy.\n",
       "\n",
       "17. **Contact Information**:\n",
       "    - How users can contact the organization for privacy-related inquiries or complaints.\n",
       "    - Methods for consumers to submit requests regarding their personal information, including at least one designated method such as a toll-free telephone number or an email address.\n",
       "\n",
       "Each section should be written in clear and plain language to ensure that it is easily understandable by the data subjects and consumers.</b>"
      ],
      "text/plain": [
       "<IPython.core.display.Markdown object>"
      ]
     },
     "metadata": {},
     "output_type": "display_data"
    }
   ],
   "source": [
    "output = regulation_query_engine.query(\n",
    "    \"\"\"I want to write a privacy policy, which should be GDPR and CCPA compliant.\n",
    "    What sections should it include? And for each section, what key points should be covered?\n",
    "    List them as bullet points.\n",
    "    \"\"\")\n",
    "display(Markdown(f\"<b>{output.response}</b>\"))"
   ]
  },
  {
   "cell_type": "code",
   "execution_count": 9,
   "metadata": {},
   "outputs": [
    {
     "name": "stdout",
     "output_type": "stream",
     "text": [
      "Generated 22 sub questions.\n",
      "\u001b[1;3;38;2;237;90;200m[General Data Protection Regulation (GDPR)] Q: What should be included in the Introduction section to be GDPR compliant?\n",
      "\u001b[0m\u001b[1;3;38;2;90;149;237m[General Data Protection Regulation (GDPR)] Q: What should be included in the Identity and Contact Details of the Controller section to be GDPR compliant?\n",
      "\u001b[0m\u001b[1;3;38;2;11;159;203m[General Data Protection Regulation (GDPR)] Q: What should be included in the Data Collection and Use section to be GDPR compliant?\n",
      "\u001b[0m\u001b[1;3;38;2;155;135;227m[General Data Protection Regulation (GDPR)] Q: What should be included in the Data Subject Rights section to be GDPR compliant?\n",
      "\u001b[0m\u001b[1;3;38;2;237;90;200m[General Data Protection Regulation (GDPR)] Q: What should be included in the Data Sharing and Transfers section to be GDPR compliant?\n",
      "\u001b[0m\u001b[1;3;38;2;90;149;237m[General Data Protection Regulation (GDPR)] Q: What should be included in the Data Retention section to be GDPR compliant?\n",
      "\u001b[0m\u001b[1;3;38;2;11;159;203m[General Data Protection Regulation (GDPR)] Q: What should be included in the Security Measures section to be GDPR compliant?\n",
      "\u001b[0m\u001b[1;3;38;2;155;135;227m[General Data Protection Regulation (GDPR)] Q: What should be included in the Automated Decision-Making and Profiling section to be GDPR compliant?\n",
      "\u001b[0m\u001b[1;3;38;2;237;90;200m[General Data Protection Regulation (GDPR)] Q: What should be included in the Cookies and Tracking Technologies section to be GDPR compliant?\n",
      "\u001b[0m\u001b[1;3;38;2;90;149;237m[General Data Protection Regulation (GDPR)] Q: What should be included in the Changes to the Privacy Policy section to be GDPR compliant?\n",
      "\u001b[0m\u001b[1;3;38;2;11;159;203m[General Data Protection Regulation (GDPR)] Q: What should be included in the Contact Information section to be GDPR compliant?\n",
      "\u001b[0m\u001b[1;3;38;2;155;135;227m[California Consumer Privacy Act (CCPA)] Q: What should be included in the Introduction section to be CCPA compliant?\n",
      "\u001b[0m\u001b[1;3;38;2;237;90;200m[California Consumer Privacy Act (CCPA)] Q: What should be included in the Identity and Contact Details of the Controller section to be CCPA compliant?\n",
      "\u001b[0m\u001b[1;3;38;2;90;149;237m[California Consumer Privacy Act (CCPA)] Q: What should be included in the Data Collection and Use section to be CCPA compliant?\n",
      "\u001b[0m\u001b[1;3;38;2;11;159;203m[California Consumer Privacy Act (CCPA)] Q: What should be included in the Data Subject Rights section to be CCPA compliant?\n",
      "\u001b[0m\u001b[1;3;38;2;155;135;227m[California Consumer Privacy Act (CCPA)] Q: What should be included in the Data Sharing and Transfers section to be CCPA compliant?\n",
      "\u001b[0m\u001b[1;3;38;2;237;90;200m[California Consumer Privacy Act (CCPA)] Q: What should be included in the Data Retention section to be CCPA compliant?\n",
      "\u001b[0m\u001b[1;3;38;2;90;149;237m[California Consumer Privacy Act (CCPA)] Q: What should be included in the Security Measures section to be CCPA compliant?\n",
      "\u001b[0m\u001b[1;3;38;2;11;159;203m[California Consumer Privacy Act (CCPA)] Q: What should be included in the Automated Decision-Making and Profiling section to be CCPA compliant?\n",
      "\u001b[0m\u001b[1;3;38;2;155;135;227m[California Consumer Privacy Act (CCPA)] Q: What should be included in the Cookies and Tracking Technologies section to be CCPA compliant?\n",
      "\u001b[0m\u001b[1;3;38;2;237;90;200m[California Consumer Privacy Act (CCPA)] Q: What should be included in the Changes to the Privacy Policy section to be CCPA compliant?\n",
      "\u001b[0m\u001b[1;3;38;2;90;149;237m[California Consumer Privacy Act (CCPA)] Q: What should be included in the Contact Information section to be CCPA compliant?\n",
      "\u001b[0m\u001b[1;3;38;2;237;90;200m[California Consumer Privacy Act (CCPA)] A: To be compliant with the CCPA, the Identity and Contact Details of the Controller section should include the name or names of the owner or owners, director, officer, or management employee of the business, along with their contact information, including a business title.\n",
      "\u001b[0m\u001b[1;3;38;2;90;149;237m[California Consumer Privacy Act (CCPA)] A: To be compliant, the Security Measures section should include reasonable security procedures and practices appropriate to the nature of the personal information. These measures should protect the personal information from unauthorized or illegal access, destruction, use, modification, or disclosure.\n",
      "\u001b[0m\u001b[1;3;38;2;237;90;200m[California Consumer Privacy Act (CCPA)] A: To be compliant, the Data Retention section should include the length of time the business intends to retain each category of personal information, including sensitive personal information. If specifying the exact retention period is not possible, the criteria used to determine that period should be provided. Additionally, it should be stated that personal information will not be retained for longer than is reasonably necessary for the disclosed purpose for which it was collected.\n",
      "\u001b[0m\u001b[1;3;38;2;90;149;237m[California Consumer Privacy Act (CCPA)] A: To be compliant, the Contact Information section should ensure that individuals responsible for handling consumer inquiries about the business's privacy practices or compliance are informed of all relevant requirements and know how to direct consumers to exercise their rights. Additionally, it should provide clear and conspicuous links on the business's internet homepages for consumers to opt-out of the sale or sharing of their personal information and to limit the use or disclosure of their sensitive personal information.\n",
      "\u001b[0m\u001b[1;3;38;2;237;90;200m[General Data Protection Regulation (GDPR)] A: To ensure GDPR compliance in the Introduction section, the following information should be included:\n",
      "\n",
      "1. The identity of the data controller.\n",
      "2. The existence of the data processing operation.\n",
      "3. The purposes of the data processing.\n",
      "4. The right of the data subject to lodge a complaint.\n",
      "5. The right of the data subject to request access to, rectification or erasure of personal data, or restriction of processing.\n",
      "\u001b[0m\u001b[1;3;38;2;11;159;203m[General Data Protection Regulation (GDPR)] A: To be GDPR compliant, the Contact Information section should include the identity of the controller, the existence of the processing operation, the purposes of the processing, the right to lodge a complaint, and the existence of the right to request from the controller access to and rectification or erasure of personal data or restriction of processing. Additionally, in specific cases, it should inform the data subject of the legal basis for the processing and how long the data will be stored, if such information is necessary to guarantee fair processing.\n",
      "\u001b[0m\u001b[1;3;38;2;90;149;237m[General Data Protection Regulation (GDPR)] A: To be GDPR compliant, the Identity and Contact Details of the Controller section should include the identity of the controller, the existence of the processing operation, the purposes of the processing, the right to lodge a complaint, and the existence of the right to request from the controller access to and rectification or erasure of personal data or restriction of processing. Additionally, it should inform the data subject of the legal basis for the processing and how long the data will be stored, as necessary to guarantee fair processing.\n",
      "\u001b[0m\u001b[1;3;38;2;11;159;203m[General Data Protection Regulation (GDPR)] A: To be GDPR compliant, the Security Measures section should include an evaluation of the risks inherent in the processing of personal data and the implementation of measures to mitigate those risks. These measures should ensure an appropriate level of security, including confidentiality, and take into account the state of the art, the costs of implementation, the risk, and the nature of the personal data to be protected. Specific measures could include encryption and other technical and organizational measures to prevent unauthorized access, accidental or unlawful destruction, loss, alteration, or disclosure of personal data.\n",
      "\u001b[0m\u001b[1;3;38;2;155;135;227m[General Data Protection Regulation (GDPR)] A: The Data Subject Rights section should include the following information to be GDPR compliant:\n",
      "\n",
      "1. The identity of the controller.\n",
      "2. The existence of the processing operation.\n",
      "3. The purposes of the processing.\n",
      "4. The right to lodge a complaint.\n",
      "5. The right to request from the controller access to and rectification or erasure of personal data or restriction of processing.\n",
      "6. The legal basis for the processing.\n",
      "7. The duration for which the data will be stored.\n",
      "8. Information on how to exercise these rights, including the right to obtain a copy of the personal data undergoing processing.\n",
      "\u001b[0m\u001b[1;3;38;2;11;159;203m[California Consumer Privacy Act (CCPA)] A: To be compliant, the Automated Decision-Making and Profiling section should include clear and conspicuous links that allow consumers to opt out of the sale or sharing of their personal information and to limit the use or disclosure of their sensitive personal information. It should also describe the consumer's rights and provide a mechanism for consumers to exercise these rights without requiring them to create an account or provide unnecessary additional information. Additionally, the section should ensure that any personal information collected in connection with these requests is used solely for the purpose of complying with the requests.\n",
      "\u001b[0m\u001b[1;3;38;2;155;135;227m[California Consumer Privacy Act (CCPA)] A: To be compliant, the Cookies and Tracking Technologies section should include a description of the consumer's rights regarding the sale or sharing of their personal information and the use of their sensitive personal information. It should provide a clear and conspicuous link titled \"Do Not Sell or Share My Personal Information\" and another link titled \"Limit the Use of My Sensitive Personal Information.\" Alternatively, a single, clearly labeled link that allows consumers to opt out of both the sale or sharing of their personal information and the use or disclosure of their sensitive personal information can be used. Additionally, the section should inform consumers about any financial incentives related to the retention, use, sale, or sharing of their personal information.\n",
      "\u001b[0m\u001b[1;3;38;2;155;135;227m[California Consumer Privacy Act (CCPA)] A: To be compliant with the California Consumer Privacy Act (CCPA), the Introduction section should include the following:\n",
      "\n",
      "1. **Categories of Personal Information**: Clearly state the categories of personal information that will be collected.\n",
      "2. **Purposes for Collection**: Explain the purposes for which each category of personal information will be used.\n",
      "3. **Disclosure of Sale or Sharing**: Indicate whether the personal information will be sold or shared.\n",
      "4. **Sensitive Personal Information**: If sensitive personal information is collected, specify the categories and purposes for its collection and use, and whether it will be sold or shared.\n",
      "5. **Retention Period**: Provide the length of time the business intends to retain each category of personal information, or the criteria used to determine that period.\n",
      "6. **Opt-Out Information**: Include information on how consumers can opt out of the sale of their personal information.\n",
      "7. **Accessibility**: Ensure that the information is easily understood by the average consumer, accessible to consumers with disabilities, and available in the primary language used to interact with the consumer.\n",
      "\u001b[0m\u001b[1;3;38;2;90;149;237m[General Data Protection Regulation (GDPR)] A: To be GDPR compliant, the Data Retention section should include the following:\n",
      "\n",
      "1. **Purpose Limitation**: Clearly state that personal data will only be retained for as long as necessary to fulfill the purposes for which it was collected.\n",
      "\n",
      "2. **Time Limits**: Establish and specify appropriate time limits for the erasure of personal data or for periodic reviews to determine the necessity of continued storage.\n",
      "\n",
      "3. **Review Procedures**: Outline procedural measures to ensure that the established time limits for data retention are observed.\n",
      "\n",
      "4. **Legal Basis**: Include information on the legal basis for processing the data and how long the data will be stored, taking into account the specific circumstances of the data processing.\n",
      "\n",
      "5. **Data Subject Rights**: Inform data subjects of their rights to request access to, rectification, or erasure of their personal data, or to restrict processing.\n",
      "\n",
      "6. **Compliance Responsibility**: State that the controller is responsible for and must be able to demonstrate compliance with the data retention policies.\n",
      "\n",
      "By including these elements, the Data Retention section will align with GDPR requirements.\n",
      "\u001b[0m\u001b[1;3;38;2;237;90;200m[California Consumer Privacy Act (CCPA)] A: To be compliant with the CCPA, the Changes to the Privacy Policy section should include:\n",
      "\n",
      "1. **Disclosure of Consumer Rights**: Clearly state the consumer's right to request correction of inaccurate personal information and the right to know what personal information is being collected, including the categories of personal information, sources, purposes, and third parties involved.\n",
      "\n",
      "2. **Procedures for Requests**: Outline the process for consumers to submit verifiable requests to correct inaccurate personal information and to access their personal information.\n",
      "\n",
      "3. **Business Obligations**: Explain the business's obligations to use commercially reasonable efforts to correct inaccurate personal information and to disclose the required information upon receiving a verifiable consumer request.\n",
      "\n",
      "4. **Frequency and Circumstances**: Specify how often and under what circumstances consumers can request corrections, including any exceptions and steps to resolve accuracy concerns.\n",
      "\n",
      "5. **Opt-Out Information**: Include information about the consumer's right to opt out of the sale of personal information and how to exercise this right, potentially including a recognizable and uniform opt-out logo or button.\n",
      "\n",
      "6. **Updates and Notifications**: Describe how and when the privacy policy will be updated, and how consumers will be notified of these changes.\n",
      "\n",
      "7. **Accessibility**: Ensure that the privacy policy is easily understood by the average consumer, accessible to consumers with disabilities, and available in the primary language used to interact with the consumer.\n",
      "\u001b[0m\u001b[1;3;38;2;155;135;227m[California Consumer Privacy Act (CCPA)] A: To be compliant, the Data Sharing and Transfers section should include:\n",
      "\n",
      "1. Identification of the consumer and association of the information provided in the verifiable consumer request with any personal information previously collected.\n",
      "2. Categories of personal information sold or shared during the applicable period, along with the categories of third parties to whom the information was sold or shared.\n",
      "3. Categories of personal information disclosed for a business purpose during the applicable period, along with the categories of persons to whom the information was disclosed.\n",
      "4. A description of consumer rights and methods for submitting requests.\n",
      "5. A list of categories of personal information collected in the preceding 12 months, sources of the information, purposes for collecting, selling, or sharing it, and categories of third parties to whom it was disclosed.\n",
      "6. Separate lists of categories of personal information sold or shared, and disclosed for a business purpose in the preceding 12 months, or a statement if no such information was sold, shared, or disclosed.\n",
      "7. Information on how to opt out of the sale or sharing of personal information and limit the use of sensitive personal information, including links titled “Do Not Sell or Share My Personal Information” and “Limit the Use of My Sensitive Personal Information” on the business’s homepage.\n",
      "8. Terms of any financial incentives offered for the retention, use, sale, or sharing of personal information if applicable.\n",
      "\u001b[0m\u001b[1;3;38;2;11;159;203m[California Consumer Privacy Act (CCPA)] A: To be CCPA compliant, the Data Subject Rights section should include the following:\n",
      "\n",
      "1. The right to request correction of inaccurate personal information.\n",
      "2. The right to know what personal information is being collected, including:\n",
      "   - The categories of personal information collected.\n",
      "   - The categories of sources from which the personal information is collected.\n",
      "   - The business or commercial purpose for collecting, selling, or sharing personal information.\n",
      "   - The categories of third parties to whom the business discloses personal information.\n",
      "   - The specific pieces of personal information collected about the consumer.\n",
      "3. The right to opt-out of the sale or sharing of personal information.\n",
      "4. The right to limit the use or disclosure of sensitive personal information.\n",
      "5. Information on how to exercise these rights, including links titled “Do Not Sell or Share My Personal Information” and “Limit the Use of My Sensitive Personal Information” on the business’s internet homepages.\n",
      "6. Disclosure of any financial incentives offered for the retention, use, sale, or sharing of personal information.\n",
      "7. Assurance that personal information collected for verification purposes will not be used for unrelated purposes and will not be retained longer than necessary for verification.\n",
      "\u001b[0m\u001b[1;3;38;2;90;149;237m[General Data Protection Regulation (GDPR)] A: To be GDPR compliant, the Changes to the Privacy Policy section should include the following elements:\n",
      "\n",
      "1. **Notification of Changes**: Clearly state that users will be informed about any changes to the privacy policy. This can be done through direct communication methods such as email or through a prominent notice on the website.\n",
      "\n",
      "2. **Effective Date**: Include the date when the changes will take effect. This helps users understand from when the new terms apply.\n",
      "\n",
      "3. **Description of Changes**: Provide a summary or detailed description of what has changed in the privacy policy. This ensures transparency and helps users understand the implications of the changes.\n",
      "\n",
      "4. **User Rights**: Inform users of their rights regarding the changes, such as the right to withdraw consent if they do not agree with the new terms.\n",
      "\n",
      "5. **Access to Previous Versions**: Offer access to previous versions of the privacy policy for reference. This can be done by maintaining an archive of past policies on the website.\n",
      "\n",
      "6. **Contact Information**: Provide contact details for users to reach out if they have questions or concerns about the changes. This could include an email address or a contact form.\n",
      "\n",
      "By including these elements, the Changes to the Privacy Policy section will align with GDPR requirements, ensuring transparency and protecting the rights of data subjects.\n",
      "\u001b[0m\u001b[1;3;38;2;237;90;200m[General Data Protection Regulation (GDPR)] A: To be GDPR compliant, the Cookies and Tracking Technologies section should include the following information:\n",
      "\n",
      "1. **Types of Cookies and Tracking Technologies Used**: Clearly describe the different types of cookies and tracking technologies being used (e.g., session cookies, persistent cookies, third-party cookies, web beacons, etc.).\n",
      "\n",
      "2. **Purpose of Each Cookie and Tracking Technology**: Explain the purpose of each cookie and tracking technology, such as whether they are used for essential website functions, performance analytics, personalization, or targeted advertising.\n",
      "\n",
      "3. **Data Collected**: Specify what types of personal data are collected through these cookies and tracking technologies.\n",
      "\n",
      "4. **Legal Basis for Processing**: Indicate the legal basis for processing the data collected via cookies and tracking technologies, such as user consent or legitimate interest.\n",
      "\n",
      "5. **Duration of Data Storage**: Provide information on how long the data collected through cookies and tracking technologies will be stored.\n",
      "\n",
      "6. **Third-Party Access**: Disclose any third parties that have access to the data collected through cookies and tracking technologies, including any transfers to third countries or international organizations.\n",
      "\n",
      "7. **User Rights**: Inform users of their rights regarding cookies and tracking technologies, including the right to withdraw consent at any time and how to do so.\n",
      "\n",
      "8. **Instructions for Managing Cookies**: Provide clear instructions on how users can manage their cookie preferences, including how to disable cookies through browser settings or other mechanisms.\n",
      "\n",
      "9. **Impact of Disabling Cookies**: Explain the potential impact on the user experience if certain cookies are disabled.\n",
      "\n",
      "10. **Contact Information**: Include contact details for the data controller or data protection officer for users who have further questions or concerns.\n",
      "\n",
      "This information should be presented in a clear and accessible manner, using plain language to ensure that all users, including vulnerable individuals such as children, can understand it.\n",
      "\u001b[0m\u001b[1;3;38;2;90;149;237m[California Consumer Privacy Act (CCPA)] A: To be compliant with the CCPA, the Data Collection and Use section should include the following:\n",
      "\n",
      "1. **Categories of Personal Information Collected**: Clearly list the categories of personal information that the business collects.\n",
      "\n",
      "2. **Categories of Sensitive Personal Information Collected**: If the business collects sensitive personal information, specify the categories and the purposes for which they are collected or used. Also, indicate whether this information is sold or shared.\n",
      "\n",
      "3. **Retention Period**: State the length of time the business intends to retain each category of personal information, including sensitive personal information. If specifying the exact period is not possible, provide the criteria used to determine the retention period.\n",
      "\n",
      "4. **Purpose of Collection and Use**: Describe the purposes for which each category of personal information is collected and used. Ensure that the collection, use, retention, and sharing of personal information are reasonably necessary and proportionate to achieve the disclosed purposes.\n",
      "\n",
      "5. **Third-Party Agreements**: If the business sells or shares personal information with third parties, service providers, or contractors, include information about the agreements that specify the limited and specified purposes for which the information is sold or disclosed. These agreements should also ensure compliance with applicable obligations and provide the same level of privacy protection.\n",
      "\n",
      "6. **Security Measures**: Outline the reasonable security procedures and practices implemented to protect personal information from unauthorized or illegal access, destruction, use, modification, or disclosure.\n",
      "\n",
      "7. **Consumer Rights**: Inform consumers of their rights to request the deletion of their personal information and provide instructions on how to exercise these rights.\n",
      "\n",
      "8. **Opt-Out Options**: Provide clear and conspicuous links on the business’s internet homepages for consumers to opt out of the sale or sharing of their personal information and to limit the use or disclosure of their sensitive personal information.\n",
      "\n",
      "By including these elements, the Data Collection and Use section will meet the requirements set forth by the CCPA.\n",
      "\u001b[0m\u001b[1;3;38;2;155;135;227m[General Data Protection Regulation (GDPR)] A: To be GDPR compliant, the Automated Decision-Making and Profiling section should include the following elements:\n",
      "\n",
      "1. **Transparency and Information**: Clearly inform data subjects about the existence of automated decision-making, including profiling, and provide meaningful information about the logic involved, as well as the significance and the envisaged consequences of such processing for the data subject.\n",
      "\n",
      "2. **Legal Basis**: Ensure that automated decision-making, including profiling, is based on one of the following legal bases:\n",
      "   - Necessary for the performance of a contract.\n",
      "   - Authorized by Union or Member State law.\n",
      "   - Based on the data subject's explicit consent.\n",
      "\n",
      "3. **Rights of Data Subjects**: Inform data subjects of their rights, including:\n",
      "   - The right to obtain human intervention.\n",
      "   - The right to express their point of view.\n",
      "   - The right to contest the decision.\n",
      "\n",
      "4. **Safeguards**: Implement appropriate safeguards to protect the rights, freedoms, and legitimate interests of data subjects, such as:\n",
      "   - Measures to ensure fairness, transparency, and non-discrimination.\n",
      "   - Procedures for preventing errors, inaccuracies, and biases.\n",
      "\n",
      "5. **Data Minimization and Accuracy**: Ensure that the data used for automated decision-making and profiling is adequate, relevant, and limited to what is necessary in relation to the purposes for which they are processed. Also, ensure the accuracy of the data.\n",
      "\n",
      "6. **Impact Assessments**: Conduct Data Protection Impact Assessments (DPIAs) when the processing is likely to result in a high risk to the rights and freedoms of natural persons.\n",
      "\n",
      "7. **Security Measures**: Implement appropriate technical and organizational measures to ensure a level of security appropriate to the risk, including measures to protect against unauthorized or unlawful processing and against accidental loss, destruction, or damage.\n",
      "\n",
      "8. **Regular Reviews**: Regularly review and update the automated decision-making and profiling processes to ensure ongoing compliance with GDPR requirements.\n",
      "\n",
      "By including these elements, the Automated Decision-Making and Profiling section will align with GDPR compliance requirements.\n",
      "\u001b[0m\u001b[1;3;38;2;11;159;203m[General Data Protection Regulation (GDPR)] A: To be GDPR compliant, the Data Collection and Use section should include the following:\n",
      "\n",
      "1. **Identity of the Controller**: Clearly state who is responsible for the data processing.\n",
      "2. **Existence of the Processing Operation**: Inform data subjects that their data will be processed.\n",
      "3. **Purposes of the Processing**: Specify why the data is being collected and how it will be used.\n",
      "4. **Legal Basis for Processing**: Ensure that the processing is lawful and necessary for the performance of a task carried out by a competent authority.\n",
      "5. **Categories of Personal Data**: Distinguish between different categories of data subjects and types of personal data being processed.\n",
      "6. **Data Subject Rights**: Inform data subjects of their rights, including the right to access, rectify, erase, or restrict the processing of their personal data.\n",
      "7. **Safeguards for Sensitive Data**: Include appropriate safeguards for processing sensitive personal data.\n",
      "8. **Time Limits for Data Storage**: Provide information on the time limits for the storage and periodic review of personal data.\n",
      "9. **Quality and Accuracy of Data**: Ensure that personal data is accurate, complete, and up-to-date, and inform recipients if incorrect data has been transmitted.\n",
      "10. **Automated Decision-Making**: Inform data subjects if decisions will be made based solely on automated processing and provide safeguards for such processing.\n",
      "11. **Right to Lodge a Complaint**: Inform data subjects of their right to lodge a complaint with a supervisory authority.\n",
      "12. **Additional Information for Identity Verification**: If additional information is needed to confirm the identity of the data subject, state that this information will only be used for that specific purpose and not stored longer than necessary.\n",
      "\n",
      "This information should be easily accessible, clear, and understandable, especially for vulnerable persons such as children.\n",
      "\u001b[0m\u001b[1;3;38;2;237;90;200m[General Data Protection Regulation (GDPR)] A: To be GDPR compliant, the Data Sharing and Transfers section should include the following:\n",
      "\n",
      "1. **Conditions for Transfers to Third Countries or International Organisations**: Ensure that any transfer of personal data to recipients in third countries or international organisations is subject to the same conditions as those applicable to similar data transmissions within the Member State of the competent authority.\n",
      "\n",
      "2. **Sensitive Personal Data**: Include specific protections for sensitive personal data, such as data revealing racial or ethnic origin. Ensure that processing such data is subject to appropriate safeguards and is allowed only under specific legal conditions.\n",
      "\n",
      "3. **Automated Decision-Making**: Provide the data subject with the right not to be subject to decisions based solely on automated processing that produce adverse legal effects or significantly affect them. Include suitable safeguards, such as the right to obtain human intervention and to challenge the decision.\n",
      "\n",
      "4. **Information Accessibility**: Ensure that information provided to the data subject is easily accessible and understandable, using clear and plain language. Adapt the information to the needs of vulnerable persons, such as children.\n",
      "\n",
      "5. **Facilitating Data Subject Rights**: Include mechanisms for the data subject to request and obtain access to, rectification or erasure of personal data, and restriction of processing free of charge. Ensure the controller responds to requests without undue delay, unless limitations apply.\n",
      "\n",
      "6. **Identity Confirmation**: If additional information is requested to confirm the identity of the data subject, ensure that this information is processed only for that specific purpose and not stored longer than necessary.\n",
      "\n",
      "7. **Mandatory Information**: Provide at least the following information to the data subject: the identity of the controller, the existence of the processing operation, the purposes of the processing, the right to lodge a complaint, and the right to request access to and rectification or erasure of personal data or restriction of processing.\n",
      "\n",
      "8. **Adequacy Decisions**: Mention that transfers to third countries or international organisations can take place without specific authorisation if the Commission has decided that they offer an adequate level of data protection.\n",
      "\n",
      "9. **Periodic Review and Monitoring**: Include provisions for the periodic review and monitoring of adequacy decisions to ensure ongoing compliance with data protection standards.\n",
      "\n",
      "10. **Consultation and Remediation**: Outline procedures for consultations between the Commission and third countries or international organisations if they no longer ensure an adequate level of data protection, and the steps to remedy the situation.\n",
      "\n",
      "11. **Appropriate Safeguards**: Ensure that transfers not based on an adequacy decision are allowed only where appropriate safeguards are provided in a legally binding instrument or where the controller has assessed and ensured appropriate safeguards exist.\n",
      "\n",
      "By including these elements, the Data Sharing and Transfers section will align with GDPR requirements.\n",
      "\u001b[0m"
     ]
    },
    {
     "data": {
      "text/markdown": [
       "<b>To ensure your privacy policy is compliant with both GDPR and CCPA, each section should include the following elements:\n",
       "\n",
       "### 1. Introduction\n",
       "- **GDPR**:\n",
       "  - Identity of the data controller.\n",
       "  - Existence of the data processing operation.\n",
       "  - Purposes of the data processing.\n",
       "  - Right of the data subject to lodge a complaint.\n",
       "  - Right of the data subject to request access to, rectification or erasure of personal data, or restriction of processing.\n",
       "- **CCPA**:\n",
       "  - Categories of personal information collected.\n",
       "  - Purposes for collection.\n",
       "  - Disclosure of sale or sharing of personal information.\n",
       "  - Categories and purposes of sensitive personal information collected.\n",
       "  - Retention period for each category of personal information.\n",
       "  - Opt-out information.\n",
       "  - Accessibility for consumers with disabilities and in the primary language used to interact with the consumer.\n",
       "\n",
       "### 2. Identity and Contact Details of the Controller\n",
       "- **GDPR**:\n",
       "  - Identity of the controller.\n",
       "  - Existence of the processing operation.\n",
       "  - Purposes of the processing.\n",
       "  - Right to lodge a complaint.\n",
       "  - Right to request access to and rectification or erasure of personal data or restriction of processing.\n",
       "  - Legal basis for the processing.\n",
       "  - Data storage duration.\n",
       "- **CCPA**:\n",
       "  - Name or names of the owner, director, officer, or management employee.\n",
       "  - Contact information, including business title.\n",
       "\n",
       "### 3. Data Collection and Use\n",
       "- **GDPR**:\n",
       "  - Identity of the controller.\n",
       "  - Existence of the processing operation.\n",
       "  - Purposes of the processing.\n",
       "  - Legal basis for processing.\n",
       "  - Categories of personal data.\n",
       "  - Data subject rights.\n",
       "  - Safeguards for sensitive data.\n",
       "  - Time limits for data storage.\n",
       "  - Quality and accuracy of data.\n",
       "  - Automated decision-making information.\n",
       "  - Right to lodge a complaint.\n",
       "  - Additional information for identity verification.\n",
       "- **CCPA**:\n",
       "  - Categories of personal information collected.\n",
       "  - Categories of sensitive personal information collected.\n",
       "  - Retention period for each category of personal information.\n",
       "  - Purpose of collection and use.\n",
       "  - Third-party agreements.\n",
       "  - Security measures.\n",
       "  - Consumer rights to request deletion.\n",
       "  - Opt-out options.\n",
       "\n",
       "### 4. Data Subject Rights\n",
       "- **GDPR**:\n",
       "  - Identity of the controller.\n",
       "  - Existence of the processing operation.\n",
       "  - Purposes of the processing.\n",
       "  - Right to lodge a complaint.\n",
       "  - Right to request access to and rectification or erasure of personal data or restriction of processing.\n",
       "  - Legal basis for the processing.\n",
       "  - Data storage duration.\n",
       "  - How to exercise these rights.\n",
       "- **CCPA**:\n",
       "  - Right to request correction of inaccurate personal information.\n",
       "  - Right to know what personal information is being collected.\n",
       "  - Right to opt-out of the sale or sharing of personal information.\n",
       "  - Right to limit the use or disclosure of sensitive personal information.\n",
       "  - How to exercise these rights.\n",
       "  - Disclosure of financial incentives.\n",
       "\n",
       "### 5. Data Sharing and Transfers\n",
       "- **GDPR**:\n",
       "  - Conditions for transfers to third countries or international organizations.\n",
       "  - Protections for sensitive personal data.\n",
       "  - Automated decision-making safeguards.\n",
       "  - Information accessibility.\n",
       "  - Mechanisms for data subject rights.\n",
       "  - Identity confirmation procedures.\n",
       "  - Mandatory information.\n",
       "  - Adequacy decisions.\n",
       "  - Periodic review and monitoring.\n",
       "  - Consultation and remediation procedures.\n",
       "  - Appropriate safeguards for non-adequacy decision transfers.\n",
       "- **CCPA**:\n",
       "  - Identification of the consumer and association of information.\n",
       "  - Categories of personal information sold or shared.\n",
       "  - Categories of personal information disclosed for a business purpose.\n",
       "  - Description of consumer rights and methods for submitting requests.\n",
       "  - Lists of categories of personal information collected, sold, shared, and disclosed.\n",
       "  - Opt-out information.\n",
       "  - Terms of financial incentives.\n",
       "\n",
       "### 6. Data Retention\n",
       "- **GDPR**:\n",
       "  - Purpose limitation.\n",
       "  - Time limits for data retention.\n",
       "  - Review procedures.\n",
       "  - Legal basis for processing and storage duration.\n",
       "  - Data subject rights.\n",
       "  - Compliance responsibility.\n",
       "- **CCPA**:\n",
       "  - Retention period for each category of personal information.\n",
       "  - Criteria used to determine retention period.\n",
       "  - Statement on retention duration relative to the disclosed purpose.\n",
       "\n",
       "### 7. Security Measures\n",
       "- **GDPR**:\n",
       "  - Evaluation of risks inherent in data processing.\n",
       "  - Implementation of measures to mitigate risks.\n",
       "  - Appropriate level of security, including confidentiality.\n",
       "  - Technical and organizational measures (e.g., encryption).\n",
       "- **CCPA**:\n",
       "  - Reasonable security procedures and practices.\n",
       "  - Protection against unauthorized or illegal access, destruction, use, modification, or disclosure.\n",
       "\n",
       "### 8. Automated Decision-Making and Profiling\n",
       "- **GDPR**:\n",
       "  - Transparency and information about automated decision-making.\n",
       "  - Legal basis for automated decision-making.\n",
       "  - Rights of data subjects (human intervention, express point of view, contest decision).\n",
       "  - Safeguards for fairness, transparency, and non-discrimination.\n",
       "  - Data minimization and accuracy.\n",
       "  - Data Protection Impact Assessments (DPIAs).\n",
       "  - Security measures.\n",
       "  - Regular reviews.\n",
       "- **CCPA**:\n",
       "  - Opt-out links for sale or sharing of personal information.\n",
       "  - Description of consumer rights.\n",
       "  - Mechanism for exercising rights without creating an account.\n",
       "  - Use of personal information solely for compliance with requests.\n",
       "\n",
       "### 9. Cookies and Tracking Technologies\n",
       "- **GDPR**:\n",
       "  - Types of cookies and tracking technologies used.\n",
       "  - Purpose of each cookie and tracking technology.\n",
       "  - Data collected.\n",
       "  - Legal basis for processing.\n",
       "  - Duration of data storage.\n",
       "  - Third-party access.\n",
       "  - User rights.\n",
       "  - Instructions for managing cookies.\n",
       "  - Impact of disabling cookies.\n",
       "  - Contact information.\n",
       "- **CCPA**:\n",
       "  - Description of consumer rights regarding cookies and tracking technologies.\n",
       "  - Opt-out links for sale or sharing of personal information.\n",
       "  - Information on financial incentives related to personal information.\n",
       "\n",
       "### 10. Changes to the Privacy Policy\n",
       "- **GDPR**:\n",
       "  - Notification of changes.\n",
       "  - Effective date of changes.\n",
       "  - Description of changes.\n",
       "  - User rights regarding changes.\n",
       "  - Access to previous versions.\n",
       "  - Contact information.\n",
       "- **CCPA**:\n",
       "  - Disclosure of consumer rights.\n",
       "  - Procedures for requests.\n",
       "  - Business obligations.\n",
       "  - Frequency and circumstances for requests.\n",
       "  - Opt-out information.\n",
       "  - Updates and notifications.\n",
       "  - Accessibility.\n",
       "\n",
       "### 11. Contact Information\n",
       "- **GDPR**:\n",
       "  - Identity of the controller.\n",
       "  - Existence of the processing operation.\n",
       "  - Purposes of the processing.\n",
       "  - Right to lodge a complaint.\n",
       "  - Right to request access to and rectification or erasure of personal data or restriction of processing.\n",
       "  - Legal basis for processing.\n",
       "  - Data storage duration.\n",
       "- **CCPA**:\n",
       "  - Contact information for handling consumer inquiries.\n",
       "  - Opt-out links for sale or sharing of personal information.\n",
       "  - Links to limit the use or disclosure of sensitive personal information.</b>"
      ],
      "text/plain": [
       "<IPython.core.display.Markdown object>"
      ]
     },
     "metadata": {},
     "output_type": "display_data"
    }
   ],
   "source": [
    "output = regulation_query_engine.query(\n",
    "    \"\"\"I want to write a privacy policy, which should be GDPR and CCPA compliant.\n",
    "    \n",
    "    It includes the following sections:\n",
    "    1. Introduction\n",
    "    2. Identity and Contact Details of the Controller\n",
    "    3. Data Collection and Use\n",
    "    4. Data Subject Rights\n",
    "    5. Data Sharing and Transfers\n",
    "    6. Data Retention\n",
    "    7. Security Measures\n",
    "    8. Automated Decision-Making and Profiling\n",
    "    9. Cookies and Tracking Technologies\n",
    "    10. Changes to the Privacy Policy\n",
    "    11. Contact Information\n",
    "\n",
    "    Now given the sections, I want to know what should be included in each section to be compliant with GDPR and CCPA.\n",
    "    List them as bullet points.\n",
    "    \"\"\")\n",
    "display(Markdown(f\"<b>{output.response}</b>\"))"
   ]
  },
  {
   "cell_type": "code",
   "execution_count": 13,
   "metadata": {},
   "outputs": [],
   "source": [
    "# from llama_index.postprocessor.cohere_rerank import CohereRerank\n",
    "from llama_index.core.response_synthesizers import TreeSummarize\n",
    "from llama_index.core.query_pipeline import QueryPipeline\n",
    "from llama_index.core import PromptTemplate\n",
    "\n",
    "# define modules\n",
    "prompt_str = \"Please generate a question about Paul Graham's life regarding the following topic {topic}\"\n",
    "prompt_tmpl = PromptTemplate(prompt_str)\n",
    "llm = OpenAI(model=\"gpt-3.5-turbo\")\n",
    "retriever = SummaryIndex.from_documents([regulation_text[0]\n",
    "                                         ]).as_retriever(similarity_top_k=3)\n",
    "# reranker = CohereRerank()\n",
    "summarizer = TreeSummarize(llm=llm)"
   ]
  },
  {
   "cell_type": "code",
   "execution_count": null,
   "metadata": {},
   "outputs": [],
   "source": [
    "index = SummaryIndex.from_documents([regulation_text[0]])"
   ]
  },
  {
   "cell_type": "code",
   "execution_count": 9,
   "metadata": {},
   "outputs": [],
   "source": [
    "synthesizer = get_response_synthesizer(llm=llm,\n",
    "                                       response_mode=ResponseMode.COMPACT)"
   ]
  },
  {
   "cell_type": "code",
   "execution_count": null,
   "metadata": {},
   "outputs": [
    {
     "data": {
      "text/plain": [
       "[NodeWithScore(node=TextNode(id_='8c8e6d71-525e-431a-9e1f-5265fba77978', embedding=None, metadata={}, excluded_embed_metadata_keys=[], excluded_llm_metadata_keys=[], relationships={<NodeRelationship.SOURCE: '1'>: RelatedNodeInfo(node_id='https://eur-lex.europa.eu/legal-content/EN/TXT/HTML/?uri=CELEX:32016L0680', node_type=<ObjectType.DOCUMENT: '4'>, metadata={}, hash='caf142112d0f6a347f255b21c17bed3b471f6c85a139a8ffc943ead6774c8819'), <NodeRelationship.NEXT: '3'>: RelatedNodeInfo(node_id='738348da-0799-4937-9547-8bee98317c52', node_type=<ObjectType.TEXT: '1'>, metadata={}, hash='ca82bc8311cc6b2e31c37be9b4f045d8b8594ac366ae78e8f72c551c3520a820')}, text='4.5.2016\\n\\n|\\n\\nEN\\n\\n|\\n\\nOfficial Journal of the European Union\\n\\n|\\n\\nL 119/89  \\n  \\n---|---|---|---  \\n  \\n* * *\\n\\nDIRECTIVE (EU) 2016/680 OF THE EUROPEAN PARLIAMENT AND OF THE COUNCIL\\n\\nof 27 April 2016\\n\\non the protection of natural persons with regard to the processing of personal\\ndata by competent authorities for the purposes of the prevention,\\ninvestigation, detection or prosecution of criminal offences or the execution\\nof criminal penalties, and on the free movement of such data, and repealing\\nCouncil Framework Decision 2008/977/JHA\\n\\nTHE EUROPEAN PARLIAMENT AND THE COUNCIL OF THE EUROPEAN UNION,\\n\\nHaving regard to the Treaty on the Functioning of the European Union, and in\\nparticular Article 16(2) thereof,\\n\\nHaving regard to the proposal from the European Commission,\\n\\nAfter transmission of the draft legislative act to the national parliaments,\\n\\nHaving regard to the opinion of the Committee of the Regions (1),\\n\\nActing in accordance with the ordinary legislative procedure (2),\\n\\nWhereas:\\n\\n(1)\\n\\n|\\n\\nThe protection of natural persons in relation to the processing of personal\\ndata is a fundamental right. Article 8(1) of the Charter of Fundamental Rights\\nof the European Union (‘the Charter’) and Article 16(1) of the Treaty on the\\nFunctioning of the European Union (TFEU) provide that everyone has the right\\nto the protection of personal data concerning him or her.  \\n  \\n---|---  \\n  \\n(2)\\n\\n|\\n\\nThe principles of, and rules on the protection of natural persons with regard\\nto the processing of their personal data should, whatever their nationality or\\nresidence, respect their fundamental rights and freedoms, in particular their\\nright to the protection of personal data. This Directive is intended to\\ncontribute to the accomplishment of an area of freedom, security and justice.  \\n  \\n---|---  \\n  \\n(3)\\n\\n|\\n\\nRapid technological developments and globalisation have brought new challenges\\nfor the protection of personal data. The scale of the collection and sharing\\nof personal data has increased significantly. Technology allows personal data\\nto be processed on an unprecedented scale in order to pursue activities such\\nas the prevention, investigation, detection or prosecution of criminal\\noffences or the execution of criminal penalties.  \\n  \\n---|---  \\n  \\n(4)\\n\\n|\\n\\nThe free flow of personal data between competent authorities for the purposes\\nof the prevention, investigation, detection or prosecution of criminal\\noffences or the execution of criminal penalties, including the safeguarding\\nagainst and the prevention of threats to public security within the Union and\\nthe transfer of such personal data to third countries and international\\norganisations, should be facilitated while ensuring a high level of protection\\nof personal data. Those developments require the building of a strong and more\\ncoherent framework for the protection of personal data in the Union, backed by\\nstrong enforcement.  \\n  \\n---|---  \\n  \\n(5)\\n\\n|\\n\\nDirective 95/46/EC of the European Parliament and of the Council (3) applies\\nto all processing of personal data in Member States in both the public and the\\nprivate sectors. However, it does not apply to the processing of personal data\\nin the course of an activity which falls outside the scope of Community law,\\nsuch as activities in the areas of judicial cooperation in criminal matters\\nand police cooperation.  \\n  \\n---|---  \\n  \\n(6)\\n\\n|\\n\\nCouncil Framework Decision 2008/977/JHA (4) applies in the areas of judicial\\ncooperation in criminal matters and police cooperation. The scope of\\napplication of that Framework Decision is limited to the processing of\\npersonal data transmitted or made available between Member States.  \\n  \\n---|---  \\n  \\n(7)\\n\\n|\\n\\nEnsuring a consistent and high level of protection of the personal data of\\nnatural persons and facilitating the exchange of personal data between\\ncompetent authorities of Members States is crucial in order to ensure\\neffective judicial cooperation in criminal matters and police cooperation. To\\nthat end, the level of protection of the rights and freedoms of natural\\npersons with regard to the processing of personal data by competent\\nauthorities for the purposes of the prevention, investigation, detection or\\nprosecution of criminal offences or the execution of criminal penalties,\\nincluding the safeguarding against and the prevention of threats to public\\nsecurity, should be equivalent in all Member States. Effective protection of\\npersonal data throughout the Union requires the strengthening of the rights of\\ndata subjects and of the obligations of those who process personal data, as\\nwell as equivalent powers for monitoring and ensuring compliance with the\\nrules for the protection of personal data in the Member States.', start_char_idx=0, end_char_idx=4695, text_template='{metadata_str}\\n\\n{content}', metadata_template='{key}: {value}', metadata_seperator='\\n'), score=None),\n",
       " NodeWithScore(node=TextNode(id_='738348da-0799-4937-9547-8bee98317c52', embedding=None, metadata={}, excluded_embed_metadata_keys=[], excluded_llm_metadata_keys=[], relationships={<NodeRelationship.SOURCE: '1'>: RelatedNodeInfo(node_id='https://eur-lex.europa.eu/legal-content/EN/TXT/HTML/?uri=CELEX:32016L0680', node_type=<ObjectType.DOCUMENT: '4'>, metadata={}, hash='caf142112d0f6a347f255b21c17bed3b471f6c85a139a8ffc943ead6774c8819'), <NodeRelationship.PREVIOUS: '2'>: RelatedNodeInfo(node_id='8c8e6d71-525e-431a-9e1f-5265fba77978', node_type=<ObjectType.TEXT: '1'>, metadata={}, hash='1032fd3070a1f0b485467774a713c812df636ea5f49c40d5b27b1533262b03eb'), <NodeRelationship.NEXT: '3'>: RelatedNodeInfo(node_id='c405c00a-7a87-48b2-a333-9f1b1d24279b', node_type=<ObjectType.TEXT: '1'>, metadata={}, hash='b69a2913522dc83a1c096e64ebe3d6fa397c86c9cd5f6bfb78f4ed5dcb67facf')}, text='---|---  \\n  \\n(7)\\n\\n|\\n\\nEnsuring a consistent and high level of protection of the personal data of\\nnatural persons and facilitating the exchange of personal data between\\ncompetent authorities of Members States is crucial in order to ensure\\neffective judicial cooperation in criminal matters and police cooperation. To\\nthat end, the level of protection of the rights and freedoms of natural\\npersons with regard to the processing of personal data by competent\\nauthorities for the purposes of the prevention, investigation, detection or\\nprosecution of criminal offences or the execution of criminal penalties,\\nincluding the safeguarding against and the prevention of threats to public\\nsecurity, should be equivalent in all Member States. Effective protection of\\npersonal data throughout the Union requires the strengthening of the rights of\\ndata subjects and of the obligations of those who process personal data, as\\nwell as equivalent powers for monitoring and ensuring compliance with the\\nrules for the protection of personal data in the Member States.  \\n  \\n---|---  \\n  \\n(8)\\n\\n|\\n\\nArticle 16(2) TFEU mandates the European Parliament and the Council to lay\\ndown the rules relating to the protection of natural person s with regard to\\nthe processing of personal data and the rules relating to the free movement of\\npersonal data.  \\n  \\n---|---  \\n  \\n(9)\\n\\n|\\n\\nOn that basis, Regulation (EU) 2016/679 of the European Parliament and of the\\nCouncil (5) lays down general rules to protect natural persons in relation to\\nthe processing of personal data and to ensure the free movement of personal\\ndata within the Union.  \\n  \\n---|---  \\n  \\n(10)\\n\\n|\\n\\nIn Declaration No 21 on the protection of personal data in the fields of\\njudicial cooperation in criminal matters and police cooperation, annexed to\\nthe final act of the intergovernmental conference which adopted the Treaty of\\nLisbon, the conference acknowledged that specific rules on the protection of\\npersonal data and the free movement of personal data in the fields of judicial\\ncooperation in criminal matters and police cooperation based on Article 16\\nTFEU may prove necessary because of the specific nature of those fields.  \\n  \\n---|---  \\n  \\n(11)\\n\\n|\\n\\nIt is therefore appropriate for those fields to be addressed by a directive\\nthat lays down the specific rules relating to the protection of natural\\npersons with regard to the processing of personal data by competent\\nauthorities for the purposes of the prevention, investigation, detection or\\nprosecution of criminal offences or the execution of criminal penalties,\\nincluding the safeguarding against and the prevention of threats to public\\nsecurity, respecting the specific nature of those activities. Such competent\\nauthorities may include not only public authorities such as the judicial\\nauthorities, the police or other law-enforcement authorities but also any\\nother body or entity entrusted by Member State law to exercise public\\nauthority and public powers for the purposes of this Directive. Where such a\\nbody or entity processes personal data for purposes other than for the\\npurposes of this Directive, Regulation (EU) 2016/679 applies. Regulation (EU)\\n2016/679 therefore applies in cases where a body or entity collects personal\\ndata for other purposes and further processes those personal data in order to\\ncomply with a legal obligation to which it is subject. For example, for the\\npurposes of investigation detection or prosecution of criminal offences\\nfinancial institutions retain certain personal data which are processed by\\nthem, and provide those personal data only to the competent national\\nauthorities in specific cases and in accordance with Member State law. A body\\nor entity which processes personal data on behalf of such authorities within\\nthe scope of this Directive should be bound by a contract or other legal act\\nand by the provisions applicable to processors pursuant to this Directive,\\nwhile the application of Regulation (EU) 2016/679 remains unaffected for the\\nprocessing of personal data by the processor outside the scope of this\\nDirective.  \\n  \\n---|---  \\n  \\n(12)\\n\\n|\\n\\nThe activities carried out by the police or other law-enforcement authorities\\nare focused mainly on the prevention, investigation, detection or prosecution\\nof criminal offences, including police activities without prior knowledge if\\nan incident is a criminal offence or not. Such activities can also include the\\nexercise of authority by taking coercive measures such as police activities at\\ndemonstrations, major sporting events and riots. They also include maintaining\\nlaw and order as a task conferred on the police or other law-enforcement\\nauthorities where necessary to safeguard against and prevent threats to public\\nsecurity and to fundamental interests of the society protected by law which\\nmay lead to a criminal offence.', start_char_idx=3647, end_char_idx=8463, text_template='{metadata_str}\\n\\n{content}', metadata_template='{key}: {value}', metadata_seperator='\\n'), score=None),\n",
       " NodeWithScore(node=TextNode(id_='c405c00a-7a87-48b2-a333-9f1b1d24279b', embedding=None, metadata={}, excluded_embed_metadata_keys=[], excluded_llm_metadata_keys=[], relationships={<NodeRelationship.SOURCE: '1'>: RelatedNodeInfo(node_id='https://eur-lex.europa.eu/legal-content/EN/TXT/HTML/?uri=CELEX:32016L0680', node_type=<ObjectType.DOCUMENT: '4'>, metadata={}, hash='caf142112d0f6a347f255b21c17bed3b471f6c85a139a8ffc943ead6774c8819'), <NodeRelationship.PREVIOUS: '2'>: RelatedNodeInfo(node_id='738348da-0799-4937-9547-8bee98317c52', node_type=<ObjectType.TEXT: '1'>, metadata={}, hash='ca82bc8311cc6b2e31c37be9b4f045d8b8594ac366ae78e8f72c551c3520a820'), <NodeRelationship.NEXT: '3'>: RelatedNodeInfo(node_id='fc9c1739-f4b3-4f16-b4e4-35eeb05a71b9', node_type=<ObjectType.TEXT: '1'>, metadata={}, hash='4489904a8ac7661930184b0b99cbdd03e216513594fec1306620e7034b60e7a5')}, text=\"---|---  \\n  \\n(12)\\n\\n|\\n\\nThe activities carried out by the police or other law-enforcement authorities\\nare focused mainly on the prevention, investigation, detection or prosecution\\nof criminal offences, including police activities without prior knowledge if\\nan incident is a criminal offence or not. Such activities can also include the\\nexercise of authority by taking coercive measures such as police activities at\\ndemonstrations, major sporting events and riots. They also include maintaining\\nlaw and order as a task conferred on the police or other law-enforcement\\nauthorities where necessary to safeguard against and prevent threats to public\\nsecurity and to fundamental interests of the society protected by law which\\nmay lead to a criminal offence. Member States may entrust competent\\nauthorities with other tasks which are not necessarily carried out for the\\npurposes of the prevention, investigation, detection or prosecution of\\ncriminal offences, including the safeguarding against and the prevention of\\nthreats to public security, so that the processing of personal data for those\\nother purposes, in so far as it is within the scope of Union law, falls within\\nthe scope of Regulation (EU) 2016/679.  \\n  \\n---|---  \\n  \\n(13)\\n\\n|\\n\\nA criminal offence within the meaning of this Directive should be an\\nautonomous concept of Union law as interpreted by the Court of Justice of the\\nEuropean Union (the ‘Court of Justice’).  \\n  \\n---|---  \\n  \\n(14)\\n\\n|\\n\\nSince this Directive should not apply to the processing of personal data in\\nthe course of an activity which falls outside the scope of Union law,\\nactivities concerning national security, activities of agencies or units\\ndealing with national security issues and the processing of personal data by\\nthe Member States when carrying out activities which fall within the scope of\\nChapter 2 of Title V of the Treaty on European Union (TEU) should not be\\nconsidered to be activities falling within the scope of this Directive.  \\n  \\n---|---  \\n  \\n(15)\\n\\n|\\n\\nIn order to ensure the same level of protection for natural persons through\\nlegally enforceable rights throughout the Union and to prevent divergences\\nhampering the exchange of personal data between competent authorities, this\\nDirective should provide for harmonised rules for the protection and the free\\nmovement of personal data processed for the purposes of the prevention,\\ninvestigation, detection or prosecution of criminal offences or the execution\\nof criminal penalties, including the safeguarding against and the prevention\\nof threats to public security. The approximation of Member States' laws should\\nnot result in any lessening of the personal data protection they afford but\\nshould, on the contrary, seek to ensure a high level of protection within the\\nUnion. Member States should not be precluded from providing higher safeguards\\nthan those established in this Directive for the protection of the rights and\\nfreedoms of the data subject with regard to the processing of personal data by\\ncompetent authorities.  \\n  \\n---|---  \\n  \\n(16)\\n\\n|\\n\\nThis Directive is without prejudice to the principle of public access to\\nofficial documents. Under Regulation (EU) 2016/679 personal data in official\\ndocuments held by a public authority or a public or private body for the\\nperformance of a task carried out in the public interest may be disclosed by\\nthat authority or body in accordance with Union or Member State law to which\\nthe public authority or body is subject in order to reconcile public access to\\nofficial documents with the right to the protection of personal data.  \\n  \\n---|---  \\n  \\n(17)\\n\\n|\\n\\nThe protection afforded by this Directive should apply to natural persons,\\nwhatever their nationality or place of residence, in relation to the\\nprocessing of their personal data.  \\n  \\n---|---  \\n  \\n(18)\\n\\n|\\n\\nIn order to prevent creating a serious risk of circumvention, the protection\\nof natural persons should be technologically neutral and should not depend on\\nthe techniques used. The protection of natural persons should apply to the\\nprocessing of personal data by automated means, as well as to manual\\nprocessing, if the personal data are contained or are intended to be contained\\nin a filing system. Files or sets of files, as well as their cover pages,\\nwhich are not structured according to specific criteria should not fall within\\nthe scope of this Directive.  \\n  \\n---|---  \\n  \\n(19)\\n\\n|\\n\\nRegulation (EC) No 45/2001 of the European Parliament and of the Council (6)\\napplies to the processing of personal data by the Union institutions, bodies,\\noffices and agencies. Regulation (EC) No 45/2001 and other Union legal acts\\napplicable to such processing of personal data should be adapted to the\\nprinciples and rules established in Regulation (EU) 2016/679.\", start_char_idx=7712, end_char_idx=12466, text_template='{metadata_str}\\n\\n{content}', metadata_template='{key}: {value}', metadata_seperator='\\n'), score=None),\n",
       " NodeWithScore(node=TextNode(id_='fc9c1739-f4b3-4f16-b4e4-35eeb05a71b9', embedding=None, metadata={}, excluded_embed_metadata_keys=[], excluded_llm_metadata_keys=[], relationships={<NodeRelationship.SOURCE: '1'>: RelatedNodeInfo(node_id='https://eur-lex.europa.eu/legal-content/EN/TXT/HTML/?uri=CELEX:32016L0680', node_type=<ObjectType.DOCUMENT: '4'>, metadata={}, hash='caf142112d0f6a347f255b21c17bed3b471f6c85a139a8ffc943ead6774c8819'), <NodeRelationship.PREVIOUS: '2'>: RelatedNodeInfo(node_id='c405c00a-7a87-48b2-a333-9f1b1d24279b', node_type=<ObjectType.TEXT: '1'>, metadata={}, hash='b69a2913522dc83a1c096e64ebe3d6fa397c86c9cd5f6bfb78f4ed5dcb67facf'), <NodeRelationship.NEXT: '3'>: RelatedNodeInfo(node_id='4ea02be0-8eb7-42fc-b648-cc0b19f75d11', node_type=<ObjectType.TEXT: '1'>, metadata={}, hash='a1196ad882ae943382bf9ba79d7a2a5b6a8043c2b1710d44d238abfea354e9e4')}, text='The protection of natural persons should apply to the\\nprocessing of personal data by automated means, as well as to manual\\nprocessing, if the personal data are contained or are intended to be contained\\nin a filing system. Files or sets of files, as well as their cover pages,\\nwhich are not structured according to specific criteria should not fall within\\nthe scope of this Directive.  \\n  \\n---|---  \\n  \\n(19)\\n\\n|\\n\\nRegulation (EC) No 45/2001 of the European Parliament and of the Council (6)\\napplies to the processing of personal data by the Union institutions, bodies,\\noffices and agencies. Regulation (EC) No 45/2001 and other Union legal acts\\napplicable to such processing of personal data should be adapted to the\\nprinciples and rules established in Regulation (EU) 2016/679.  \\n  \\n---|---  \\n  \\n(20)\\n\\n|\\n\\nThis Directive does not preclude Member States from specifying processing\\noperations and processing procedures in national rules on criminal procedures\\nin relation to the processing of personal data by courts and other judicial\\nauthorities, in particular as regards personal data contained in a judicial\\ndecision or in records in relation to criminal proceedings.  \\n  \\n---|---  \\n  \\n(21)\\n\\n|\\n\\nThe principles of data protection should apply to any information concerning\\nan identified or identifiable natural person. To determine whether a natural\\nperson is identifiable, account should be taken of all the means reasonably\\nlikely to be used, such as singling out, either by the controller or by\\nanother person to identify the natural person directly or indirectly. To\\nascertain whether means are reasonably likely to be used to identify the\\nnatural person, account should be taken of all objective factors, such as the\\ncosts of and the amount of time required for identification, taking into\\nconsideration the available technology at the time of the processing and\\ntechnological developments. The principles of data protection should therefore\\nnot apply to anonymous information, namely information which does not relate\\nto an identified or identifiable natural person or to personal data rendered\\nanonymous in such a manner that the data subject is no longer identifiable.  \\n  \\n---|---  \\n  \\n(22)\\n\\n|\\n\\nPublic authorities to which personal data are disclosed in accordance with a\\nlegal obligation for the exercise of their official mission, such as tax and\\ncustoms authorities, financial investigation units, independent administrative\\nauthorities, or financial market authorities responsible for the regulation\\nand supervision of securities markets should not be regarded as recipients if\\nthey receive personal data which are necessary to carry out a particular\\ninquiry in the general interest, in accordance with Union or Member State law.\\nThe requests for disclosure sent by the public authorities should always be in\\nwriting, reasoned and occasional and should not concern the entirety of a\\nfiling system or lead to the interconnection of filing systems. The processing\\nof personal data by those public authorities should comply with the applicable\\ndata protection rules according to the purposes of the processing.  \\n  \\n---|---  \\n  \\n(23)\\n\\n|\\n\\nGenetic data should be defined as personal data relating to the inherited or\\nacquired genetic characteristics of a natural person which give unique\\ninformation about the physiology or health of that natural person and which\\nresult from the analysis of a biological sample from the natural person in\\nquestion, in particular chromosomal, deoxyribonucleic acid (DNA) or\\nribonucleic acid (RNA) analysis, or from the analysis of another element\\nenabling equivalent information to be obtained. Considering the complexity and\\nsensitivity of genetic information, there is a great risk of misuse and re-use\\nfor various purposes by the controller. Any discrimination based on genetic\\nfeatures should in principle be prohibited.  \\n  \\n---|---  \\n  \\n(24)\\n\\n|\\n\\nPersonal data concerning health should include all data pertaining to the\\nhealth status of a data subject which reveal information relating to the past,\\ncurrent or future physical or mental health status of the data subject. This\\nincludes information about the natural person collected in the course of the\\nregistration for, or the provision of, health care services as referred to in\\nDirective 2011/24/EU of the European Parliament and of the Council (7) to that\\nnatural person; a number, symbol or particular assigned to a natural person to\\nuniquely identify the natural person for health purposes; information derived\\nfrom the testing or examination of a body part or bodily substance, including\\nfrom genetic data and biological samples; and any information on, for example,\\na disease, disability, disease risk, medical history, clinical treatment or\\nthe physiological or biomedical state of the data subject independent of its\\nsource, for example from a physician or other health professional, a hospital,\\na medical device or an in vitro diagnostic test.  \\n  \\n---|---  \\n  \\n(25)\\n\\n|\\n\\nAll Member States are affiliated to the International Criminal Police\\nOrganisation (Interpol).', start_char_idx=11691, end_char_idx=16762, text_template='{metadata_str}\\n\\n{content}', metadata_template='{key}: {value}', metadata_seperator='\\n'), score=None),\n",
       " NodeWithScore(node=TextNode(id_='4ea02be0-8eb7-42fc-b648-cc0b19f75d11', embedding=None, metadata={}, excluded_embed_metadata_keys=[], excluded_llm_metadata_keys=[], relationships={<NodeRelationship.SOURCE: '1'>: RelatedNodeInfo(node_id='https://eur-lex.europa.eu/legal-content/EN/TXT/HTML/?uri=CELEX:32016L0680', node_type=<ObjectType.DOCUMENT: '4'>, metadata={}, hash='caf142112d0f6a347f255b21c17bed3b471f6c85a139a8ffc943ead6774c8819'), <NodeRelationship.PREVIOUS: '2'>: RelatedNodeInfo(node_id='fc9c1739-f4b3-4f16-b4e4-35eeb05a71b9', node_type=<ObjectType.TEXT: '1'>, metadata={}, hash='4489904a8ac7661930184b0b99cbdd03e216513594fec1306620e7034b60e7a5'), <NodeRelationship.NEXT: '3'>: RelatedNodeInfo(node_id='0f39031a-4bfb-4324-8885-c55e0445530e', node_type=<ObjectType.TEXT: '1'>, metadata={}, hash='5aaa2171bc2a3a70102099e748627994ab7a69908eab816374bc37111a7c7441')}, text='This\\nincludes information about the natural person collected in the course of the\\nregistration for, or the provision of, health care services as referred to in\\nDirective 2011/24/EU of the European Parliament and of the Council (7) to that\\nnatural person; a number, symbol or particular assigned to a natural person to\\nuniquely identify the natural person for health purposes; information derived\\nfrom the testing or examination of a body part or bodily substance, including\\nfrom genetic data and biological samples; and any information on, for example,\\na disease, disability, disease risk, medical history, clinical treatment or\\nthe physiological or biomedical state of the data subject independent of its\\nsource, for example from a physician or other health professional, a hospital,\\na medical device or an in vitro diagnostic test.  \\n  \\n---|---  \\n  \\n(25)\\n\\n|\\n\\nAll Member States are affiliated to the International Criminal Police\\nOrganisation (Interpol). To fulfil its mission, Interpol receives, stores and\\ncirculates personal data to assist competent authorities in preventing and\\ncombating international crime. It is therefore appropriate to strengthen\\ncooperation between the Union and Interpol by promoting an efficient exchange\\nof personal data whilst ensuring respect for fundamental rights and freedoms\\nregarding the automatic processing of personal data. Where personal data are\\ntransferred from the Union to Interpol, and to countries which have delegated\\nmembers to Interpol, this Directive, in particular the provisions on\\ninternational transfers, should apply. This Directive should be without\\nprejudice to the specific rules laid down in Council Common Position\\n2005/69/JHA (8) and Council Decision 2007/533/JHA (9).  \\n  \\n---|---  \\n  \\n(26)\\n\\n|\\n\\nAny processing of personal data must be lawful, fair and transparent in\\nrelation to the natural persons concerned, and only processed for specific\\npurposes laid down by law. This does not in itself prevent the law-enforcement\\nauthorities from carrying out activities such as covert investigations or\\nvideo surveillance. Such activities can be done for the purposes of the\\nprevention, investigation, detection or prosecution of criminal offences or\\nthe execution of criminal penalties, including the safeguarding against and\\nthe prevention of threats to public security, as long as they are laid down by\\nlaw and constitute a necessary and proportionate measure in a democratic\\nsociety with due regard for the legitimate interests of the natural person\\nconcerned. The data protection principle of fair processing is a distinct\\nnotion from the right to a fair trial as defined in Article 47 of the Charter\\nand in Article 6 of the European Convention for the Protection of Human Rights\\nand Fundamental Freedoms (ECHR). Natural persons should be made aware of\\nrisks, rules, safeguards and rights in relation to the processing of their\\npersonal data and how to exercise their rights in relation to the processing.\\nIn particular, the specific purposes for which the personal data are processed\\nshould be explicit and legitimate and determined at the time of the collection\\nof the personal data. The personal data should be adequate and relevant for\\nthe purposes for which they are processed. It should, in particular, be\\nensured that the personal data collected are not excessive and not kept longer\\nthan is necessary for the purpose for which they are processed. Personal data\\nshould be processed only if the purpose of the processing could not reasonably\\nbe fulfilled by other means. In order to ensure that the data are not kept\\nlonger than necessary, time limits should be established by the controller for\\nerasure or for a periodic review. Member States should lay down appropriate\\nsafeguards for personal data stored for longer periods for archiving in the\\npublic interest, scientific, statistical or historical use.  \\n  \\n---|---  \\n  \\n(27)\\n\\n|\\n\\nFor the prevention, investigation and prosecution of criminal offences, it is\\nnecessary for competent authorities to process personal data collected in the\\ncontext of the prevention, investigation, detection or prosecution of specific\\ncriminal offences beyond that context in order to develop an understanding of\\ncriminal activities and to make links between different criminal offences\\ndetected.  \\n  \\n---|---  \\n  \\n(28)\\n\\n|\\n\\nIn order to maintain security in relation to processing and to prevent\\nprocessing in infringement of this Directive, personal data should be\\nprocessed in a manner that ensures an appropriate level of security and\\nconfidentiality, including by preventing unauthorised access to or use of\\npersonal data and the equipment used for the processing, and that takes into\\naccount available state of the art and technology, the costs of implementation\\nin relation to the risks and the nature of the personal data to be protected.', start_char_idx=15807, end_char_idx=20653, text_template='{metadata_str}\\n\\n{content}', metadata_template='{key}: {value}', metadata_seperator='\\n'), score=None),\n",
       " NodeWithScore(node=TextNode(id_='0f39031a-4bfb-4324-8885-c55e0445530e', embedding=None, metadata={}, excluded_embed_metadata_keys=[], excluded_llm_metadata_keys=[], relationships={<NodeRelationship.SOURCE: '1'>: RelatedNodeInfo(node_id='https://eur-lex.europa.eu/legal-content/EN/TXT/HTML/?uri=CELEX:32016L0680', node_type=<ObjectType.DOCUMENT: '4'>, metadata={}, hash='caf142112d0f6a347f255b21c17bed3b471f6c85a139a8ffc943ead6774c8819'), <NodeRelationship.PREVIOUS: '2'>: RelatedNodeInfo(node_id='4ea02be0-8eb7-42fc-b648-cc0b19f75d11', node_type=<ObjectType.TEXT: '1'>, metadata={}, hash='a1196ad882ae943382bf9ba79d7a2a5b6a8043c2b1710d44d238abfea354e9e4'), <NodeRelationship.NEXT: '3'>: RelatedNodeInfo(node_id='c013d62c-11bc-4515-9b7e-0414af329f48', node_type=<ObjectType.TEXT: '1'>, metadata={}, hash='5acf479473f9106293b8a187cc70c18ee60d64c9b8fe702a9f6155073b9a1810')}, text='---|---  \\n  \\n(27)\\n\\n|\\n\\nFor the prevention, investigation and prosecution of criminal offences, it is\\nnecessary for competent authorities to process personal data collected in the\\ncontext of the prevention, investigation, detection or prosecution of specific\\ncriminal offences beyond that context in order to develop an understanding of\\ncriminal activities and to make links between different criminal offences\\ndetected.  \\n  \\n---|---  \\n  \\n(28)\\n\\n|\\n\\nIn order to maintain security in relation to processing and to prevent\\nprocessing in infringement of this Directive, personal data should be\\nprocessed in a manner that ensures an appropriate level of security and\\nconfidentiality, including by preventing unauthorised access to or use of\\npersonal data and the equipment used for the processing, and that takes into\\naccount available state of the art and technology, the costs of implementation\\nin relation to the risks and the nature of the personal data to be protected.  \\n  \\n---|---  \\n  \\n(29)\\n\\n|\\n\\nPersonal data should be collected for specified, explicit and legitimate\\npurposes within the scope of this Directive and should not be processed for\\npurposes incompatible with the purposes of the prevention, investigation,\\ndetection or prosecution of criminal offences or the execution of criminal\\npenalties, including the safeguarding against and the prevention of threats to\\npublic security. If personal data are processed by the same or another\\ncontroller for a purpose within the scope of this Directive other than that\\nfor which it has been collected, such processing should be permitted under the\\ncondition that such processing is authorised in accordance with applicable\\nlegal provisions and is necessary for and proportionate to that other purpose.  \\n  \\n---|---  \\n  \\n(30)\\n\\n|\\n\\nThe principle of accuracy of data should be applied while taking account of\\nthe nature and purpose of the processing concerned. In particular in judicial\\nproceedings, statements containing personal data are based on the subjective\\nperception of natural persons and are not always verifiable. Consequently, the\\nrequirement of accuracy should not appertain to the accuracy of a statement\\nbut merely to the fact that a specific statement has been made.  \\n  \\n---|---  \\n  \\n(31)\\n\\n|\\n\\nIt is inherent to the processing of personal data in the areas of judicial\\ncooperation in criminal matters and police cooperation that personal data\\nrelating to different categories of data subjects are processed. Therefore, a\\nclear distinction should, where applicable and as far as possible, be made\\nbetween personal data of different categories of data subjects such as:\\nsuspects; persons convicted of a criminal offence; victims and other parties,\\nsuch as witnesses; persons possessing relevant information or contacts; and\\nassociates of suspects and convicted criminals. This should not prevent the\\napplication of the right of presumption of innocence as guaranteed by the\\nCharter and by the ECHR, as interpreted in the case-law of the Court of\\nJustice and by the European Court of Human Rights respectively.  \\n  \\n---|---  \\n  \\n(32)\\n\\n|\\n\\nThe competent authorities should ensure that personal data which are\\ninaccurate, incomplete or no longer up to date are not transmitted or made\\navailable. In order to ensure the protection of natural persons, the accuracy,\\ncompleteness or the extent to which the personal data are up to date and the\\nreliability of the personal data transmitted or made available, the competent\\nauthorities should, as far as possible, add necessary information in all\\ntransmissions of personal data.  \\n  \\n---|---  \\n  \\n(33)\\n\\n|\\n\\nWhere this Directive refers to Member State law, a legal basis or a\\nlegislative measure, this does not necessarily require a legislative act\\nadopted by a parliament, without prejudice to requirements pursuant to the\\nconstitutional order of the Member State concerned. However, such a Member\\nState law, legal basis or legislative measure should be clear and precise and\\nits application foreseeable for those subject to it, as required by the case-\\nlaw of the Court of Justice and the European Court of Human Rights. Member\\nState law regulating the processing of personal data within the scope of this\\nDirective should specify at least the objectives, the personal data to be\\nprocessed, the purposes of the processing and procedures for preserving the\\nintegrity and confidentiality of personal data and procedures for its\\ndestruction, thus providing sufficient guarantees against the risk of abuse\\nand arbitrariness.  \\n  \\n---|---  \\n  \\n(34)\\n\\n|\\n\\nThe processing of personal data by competent authorities for the purposes of\\nthe prevention, investigation, detection or prosecution of criminal offences\\nor the execution of criminal penalties, including the safeguarding against and\\nthe prevention of threats to public security, should cover any operation or\\nset of operations which are performed upon personal data or sets of personal\\ndata for those purposes, whether by automated means or otherwise, such as\\ncollection, recording, organisation, structuring, storage, adaptation or\\nalteration, retrieval, consultation, use, alignment or combination,\\nrestriction of processing, erasure or destruction.', start_char_idx=19687, end_char_idx=24886, text_template='{metadata_str}\\n\\n{content}', metadata_template='{key}: {value}', metadata_seperator='\\n'), score=None),\n",
       " NodeWithScore(node=TextNode(id_='c013d62c-11bc-4515-9b7e-0414af329f48', embedding=None, metadata={}, excluded_embed_metadata_keys=[], excluded_llm_metadata_keys=[], relationships={<NodeRelationship.SOURCE: '1'>: RelatedNodeInfo(node_id='https://eur-lex.europa.eu/legal-content/EN/TXT/HTML/?uri=CELEX:32016L0680', node_type=<ObjectType.DOCUMENT: '4'>, metadata={}, hash='caf142112d0f6a347f255b21c17bed3b471f6c85a139a8ffc943ead6774c8819'), <NodeRelationship.PREVIOUS: '2'>: RelatedNodeInfo(node_id='0f39031a-4bfb-4324-8885-c55e0445530e', node_type=<ObjectType.TEXT: '1'>, metadata={}, hash='5aaa2171bc2a3a70102099e748627994ab7a69908eab816374bc37111a7c7441'), <NodeRelationship.NEXT: '3'>: RelatedNodeInfo(node_id='771cc923-3310-4dcb-87ac-178a0b1856d5', node_type=<ObjectType.TEXT: '1'>, metadata={}, hash='cbb6245e2437349f3456cd8ab4604a0c51bc12fd113650ccb08ff248b36e69d5')}, text='---|---  \\n  \\n(34)\\n\\n|\\n\\nThe processing of personal data by competent authorities for the purposes of\\nthe prevention, investigation, detection or prosecution of criminal offences\\nor the execution of criminal penalties, including the safeguarding against and\\nthe prevention of threats to public security, should cover any operation or\\nset of operations which are performed upon personal data or sets of personal\\ndata for those purposes, whether by automated means or otherwise, such as\\ncollection, recording, organisation, structuring, storage, adaptation or\\nalteration, retrieval, consultation, use, alignment or combination,\\nrestriction of processing, erasure or destruction. In particular, the rules of\\nthis Directive should apply to the transmission of personal data for the\\npurposes of this Directive to a recipient not subject to this Directive. Such\\na recipient should encompass a natural or legal person, public authority,\\nagency or any other body to which personal data are lawfully disclosed by the\\ncompetent authority. Where personal data were initially collected by a\\ncompetent authority for one of the purposes of this Directive, Regulation (EU)\\n2016/679 should apply to the processing of those data for purposes other than\\nthe purposes of this Directive where such processing is authorised by Union or\\nMember State law. In particular, the rules of Regulation (EU) 2016/679 should\\napply to the transmission of personal data for purposes outside the scope of\\nthis Directive. For the processing of personal data by a recipient that is not\\na competent authority or that is not acting as such within the meaning of this\\nDirective and to which personal data are lawfully disclosed by a competent\\nauthority, Regulation (EU) 2016/679 should apply. While implementing this\\nDirective, Member States should also be able to further specify the\\napplication of the rules of Regulation (EU) 2016/679, subject to the\\nconditions set out therein.  \\n  \\n---|---  \\n  \\n(35)\\n\\n|\\n\\nIn order to be lawful, the processing of personal data under this Directive\\nshould be necessary for the performance of a task carried out in the public\\ninterest by a competent authority based on Union or Member State law for the\\npurposes of the prevention, investigation, detection or prosecution of\\ncriminal offences or the execution of criminal penalties, including the\\nsafeguarding against and the prevention of threats to public security. Those\\nactivities should cover the protection of vital interests of the data subject.\\nThe performance of the tasks of preventing, investigating, detecting or\\nprosecuting criminal offences institutionally conferred by law to the\\ncompetent authorities allows them to require or order natural persons to\\ncomply with requests made. In such a case, the consent of the data subject, as\\ndefined in Regulation (EU) 2016/679, should not provide a legal ground for\\nprocessing personal data by competent authorities. Where the data subject is\\nrequired to comply with a legal obligation, the data subject has no genuine\\nand free choice, so that the reaction of the data subject could not be\\nconsidered to be a freely given indication of his or her wishes. This should\\nnot preclude Member States from providing, by law, that the data subject may\\nagree to the processing of his or her personal data for the purposes of this\\nDirective, such as DNA tests in criminal investigations or the monitoring of\\nhis or her location with electronic tags for the execution of criminal\\npenalties.  \\n  \\n---|---  \\n  \\n(36)\\n\\n|\\n\\nMember States should provide that where Union or Member State law applicable\\nto the transmitting competent authority provides for specific conditions\\napplicable in specific circumstances to the processing of personal data, such\\nas the use of handling codes, the transmitting competent authority should\\ninform the recipient of such personal data of those conditions and the\\nrequirement to respect them. Such conditions could, for example, include a\\nprohibition against transmitting the personal data further to others, or using\\nthem for purposes other than those for which they were transmitted to the\\nrecipient, or informing the data subject in the case of a limitation of the\\nright of information without the prior approval of the transmitting competent\\nauthority. Those obligations should also apply to transfers by the\\ntransmitting competent authority to recipients in third countries or\\ninternational organisations. Member States should ensure that the transmitting\\ncompetent authority does not apply such conditions to recipients in other\\nMember States or to agencies, offices and bodies established pursuant to\\nChapters 4 and 5 of Title V of the TFEU other than those applicable to similar\\ndata transmissions within the Member State of that competent authority.  \\n  \\n---|---  \\n  \\n(37)\\n\\n|\\n\\nPersonal data which are, by their nature, particularly sensitive in relation\\nto fundamental rights and freedoms merit specific protection as the context of\\ntheir processing could create significant risks to the fundamental rights and\\nfreedoms.', start_char_idx=24213, end_char_idx=29255, text_template='{metadata_str}\\n\\n{content}', metadata_template='{key}: {value}', metadata_seperator='\\n'), score=None),\n",
       " NodeWithScore(node=TextNode(id_='771cc923-3310-4dcb-87ac-178a0b1856d5', embedding=None, metadata={}, excluded_embed_metadata_keys=[], excluded_llm_metadata_keys=[], relationships={<NodeRelationship.SOURCE: '1'>: RelatedNodeInfo(node_id='https://eur-lex.europa.eu/legal-content/EN/TXT/HTML/?uri=CELEX:32016L0680', node_type=<ObjectType.DOCUMENT: '4'>, metadata={}, hash='caf142112d0f6a347f255b21c17bed3b471f6c85a139a8ffc943ead6774c8819'), <NodeRelationship.PREVIOUS: '2'>: RelatedNodeInfo(node_id='c013d62c-11bc-4515-9b7e-0414af329f48', node_type=<ObjectType.TEXT: '1'>, metadata={}, hash='5acf479473f9106293b8a187cc70c18ee60d64c9b8fe702a9f6155073b9a1810'), <NodeRelationship.NEXT: '3'>: RelatedNodeInfo(node_id='cf439f49-1860-404d-9a6a-9f499d2f06ed', node_type=<ObjectType.TEXT: '1'>, metadata={}, hash='37d93a07a007803b133110063f6770290e5f2a6ba255986c36a8f8c820eb3bba')}, text=\"Those obligations should also apply to transfers by the\\ntransmitting competent authority to recipients in third countries or\\ninternational organisations. Member States should ensure that the transmitting\\ncompetent authority does not apply such conditions to recipients in other\\nMember States or to agencies, offices and bodies established pursuant to\\nChapters 4 and 5 of Title V of the TFEU other than those applicable to similar\\ndata transmissions within the Member State of that competent authority.  \\n  \\n---|---  \\n  \\n(37)\\n\\n|\\n\\nPersonal data which are, by their nature, particularly sensitive in relation\\nto fundamental rights and freedoms merit specific protection as the context of\\ntheir processing could create significant risks to the fundamental rights and\\nfreedoms. Those personal data should include personal data revealing racial or\\nethnic origin, whereby the use of the term ‘racial origin’ in this Directive\\ndoes not imply an acceptance by the Union of theories which attempt to\\ndetermine the existence of separate human races. Such personal data should not\\nbe processed, unless processing is subject to appropriate safeguards for the\\nrights and freedoms of the data subject laid down by law and is allowed in\\ncases authorised by law; where not already authorised by such a law, the\\nprocessing is necessary to protect the vital interests of the data subject or\\nof another person; or the processing relates to data which are manifestly made\\npublic by the data subject. Appropriate safeguards for the rights and freedoms\\nof the data subject could include the possibility to collect those data only\\nin connection with other data on the natural person concerned, the possibility\\nto secure the data collected adequately, stricter rules on the access of staff\\nof the competent authority to the data and the prohibition of transmission of\\nthose data. The processing of such data should also be allowed by law where\\nthe data subject has explicitly agreed to the processing that is particularly\\nintrusive to him or her. However, the consent of the data subject should not\\nprovide in itself a legal ground for processing such sensitive personal data\\nby competent authorities.  \\n  \\n---|---  \\n  \\n(38)\\n\\n|\\n\\nThe data subject should have the right not to be subject to a decision\\nevaluating personal aspects relating to him or her which is based solely on\\nautomated processing and which produces adverse legal effects concerning, or\\nsignificantly affects, him or her. In any case, such processing should be\\nsubject to suitable safeguards, including the provision of specific\\ninformation to the data subject and the right to obtain human intervention, in\\nparticular to express his or her point of view, to obtain an explanation of\\nthe decision reached after such assessment or to challenge the decision.\\nProfiling that results in discrimination against natural persons on the basis\\nof personal data which are by their nature particularly sensitive in relation\\nto fundamental rights and freedoms should be prohibited under the conditions\\nlaid down in Articles 21 and 52 of the Charter.  \\n  \\n---|---  \\n  \\n(39)\\n\\n|\\n\\nIn order to enable him or her to exercise his or her rights, any information\\nto the data subject should be easily accessible, including on the website of\\nthe controller, and easy to understand, using clear and plain language. Such\\ninformation should be adapted to the needs of vulnerable persons such as\\nchildren.  \\n  \\n---|---  \\n  \\n(40)\\n\\n|\\n\\nModalities should be provided for facilitating the exercise of the data\\nsubject's rights under the provisions adopted pursuant to this Directive,\\nincluding mechanisms to request and, if applicable, obtain, free of charge, in\\nparticular, access to and rectification or erasure of personal data and\\nrestriction of processing. The controller should be obliged to respond to\\nrequests of the data subject without undue delay, unless the controller\\napplies limitations to data subject rights in accordance with this Directive.\\nMoreover, if requests are manifestly unfounded or excessive, such as where the\\ndata subject unreasonably and repetitiously requests information or where the\\ndata subject abuses his or her right to receive information, for example, by\\nproviding false or misleading information when making the request, the\\ncontroller should be able to charge a reasonable fee or refuse to act on the\\nrequest.  \\n  \\n---|---  \\n  \\n(41)\\n\\n|\\n\\nWhere the controller requests the provision of additional information\\nnecessary to confirm the identity of the data subject, that information should\\nbe processed only for that specific purpose and should not be stored for\\nlonger than needed for that purpose.  \\n  \\n---|---  \\n  \\n(42)\\n\\n|\\n\\nAt least the following information should be made available to the data\\nsubject: the identity of the controller, the existence of the processing\\noperation, the purposes of the processing, the right to lodge a complaint and\\nthe existence of the right to request from the controller access to and\\nrectification or erasure of personal data or restriction of processing. This\\ncould take place on the website of the competent authority.\", start_char_idx=28483, end_char_idx=33586, text_template='{metadata_str}\\n\\n{content}', metadata_template='{key}: {value}', metadata_seperator='\\n'), score=None),\n",
       " NodeWithScore(node=TextNode(id_='cf439f49-1860-404d-9a6a-9f499d2f06ed', embedding=None, metadata={}, excluded_embed_metadata_keys=[], excluded_llm_metadata_keys=[], relationships={<NodeRelationship.SOURCE: '1'>: RelatedNodeInfo(node_id='https://eur-lex.europa.eu/legal-content/EN/TXT/HTML/?uri=CELEX:32016L0680', node_type=<ObjectType.DOCUMENT: '4'>, metadata={}, hash='caf142112d0f6a347f255b21c17bed3b471f6c85a139a8ffc943ead6774c8819'), <NodeRelationship.PREVIOUS: '2'>: RelatedNodeInfo(node_id='771cc923-3310-4dcb-87ac-178a0b1856d5', node_type=<ObjectType.TEXT: '1'>, metadata={}, hash='cbb6245e2437349f3456cd8ab4604a0c51bc12fd113650ccb08ff248b36e69d5'), <NodeRelationship.NEXT: '3'>: RelatedNodeInfo(node_id='e64bd31c-d294-4e36-afd6-c8cc8c3136af', node_type=<ObjectType.TEXT: '1'>, metadata={}, hash='0667c23121e78799dc8e54cb7750a9539081fba5adf14550db44414cf0ab1bf3')}, text='---|---  \\n  \\n(41)\\n\\n|\\n\\nWhere the controller requests the provision of additional information\\nnecessary to confirm the identity of the data subject, that information should\\nbe processed only for that specific purpose and should not be stored for\\nlonger than needed for that purpose.  \\n  \\n---|---  \\n  \\n(42)\\n\\n|\\n\\nAt least the following information should be made available to the data\\nsubject: the identity of the controller, the existence of the processing\\noperation, the purposes of the processing, the right to lodge a complaint and\\nthe existence of the right to request from the controller access to and\\nrectification or erasure of personal data or restriction of processing. This\\ncould take place on the website of the competent authority. In addition, in\\nspecific cases and in order to enable the exercise of his or her rights, the\\ndata subject should be informed of the legal basis for the processing and of\\nhow long the data will be stored, in so far as such further information is\\nnecessary, taking into account the specific circumstances in which the data\\nare processed, to guarantee fair processing in respect of the data subject.  \\n  \\n---|---  \\n  \\n(43)\\n\\n|\\n\\nA natural person should have the right of access to data which has been\\ncollected concerning him or her, and to exercise this right easily and at\\nreasonable intervals, in order to be aware of and verify the lawfulness of the\\nprocessing. Every data subject should therefore have the right to know, and\\nobtain communications about, the purposes for which the data are processed,\\nthe period during which the data are processed and the recipients of the data,\\nincluding those in third countries. Where such communications include\\ninformation as to the origin of the personal data, the information should not\\nreveal the identity of natural persons, in particular confidential sources.\\nFor that right to be complied with, it is sufficient that the data subject be\\nin possession of a full summary of those data in an intelligible form, that is\\nto say a form which allows that data subject to become aware of those data and\\nto verify that they are accurate and processed in accordance with this\\nDirective, so that it is possible for him or her to exercise the rights\\nconferred on him or her by this Directive. Such a summary could be provided in\\nthe form of a copy of the personal data undergoing processing.  \\n  \\n---|---  \\n  \\n(44)\\n\\n|\\n\\nMember States should be able to adopt legislative measures delaying,\\nrestricting or omitting the information to data subjects or restricting,\\nwholly or partly, the access to their personal data to the extent that and as\\nlong as such a measure constitutes a necessary and proportionate measure in a\\ndemocratic society with due regard for the fundamental rights and the\\nlegitimate interests of the natural person concerned, to avoid obstructing\\nofficial or legal inquiries, investigations or procedures, to avoid\\nprejudicing the prevention, investigation, detection or prosecution of\\ncriminal offences or the execution of criminal penalties, to protect public\\nsecurity or national security, or to protect the rights and freedoms of\\nothers. The controller should assess, by way of a concrete and individual\\nexamination of each case, whether the right of access should be partially or\\ncompletely restricted.  \\n  \\n---|---  \\n  \\n(45)\\n\\n|\\n\\nAny refusal or restriction of access should in principle be set out in writing\\nto the data subject and include the factual or legal reasons on which the\\ndecision is based.  \\n  \\n---|---  \\n  \\n(46)\\n\\n|\\n\\nAny restriction of the rights of the data subject must comply with the Charter\\nand with the ECHR, as interpreted in the case-law of the Court of Justice and\\nby the European Court of Human Rights respectively, and in particular respect\\nthe essence of those rights and freedoms.  \\n  \\n---|---  \\n  \\n(47)\\n\\n|\\n\\nA natural person should have the right to have inaccurate personal data\\nconcerning him or her rectified, in particular where it relates to facts, and\\nthe right to erasure where the processing of such data infringes this\\nDirective. However, the right to rectification should not affect, for example,\\nthe content of a witness testimony. A natural person should also have the\\nright to restriction of processing where he or she contests the accuracy of\\npersonal data and its accuracy or inaccuracy cannot be ascertained or where\\nthe personal data have to be maintained for purpose of evidence. In\\nparticular, instead of erasing personal data, processing should be restricted\\nif in a specific case there are reasonable grounds to believe that erasure\\ncould affect the legitimate interests of the data subject. In such a case,\\nrestricted data should be processed only for the purpose which prevented their\\nerasure. Methods to restrict the processing of personal data could include,\\ninter alia, moving the selected data to another processing system, for example\\nfor archiving purposes, or making the selected data unavailable.', start_char_idx=32847, end_char_idx=37792, text_template='{metadata_str}\\n\\n{content}', metadata_template='{key}: {value}', metadata_seperator='\\n'), score=None),\n",
       " NodeWithScore(node=TextNode(id_='e64bd31c-d294-4e36-afd6-c8cc8c3136af', embedding=None, metadata={}, excluded_embed_metadata_keys=[], excluded_llm_metadata_keys=[], relationships={<NodeRelationship.SOURCE: '1'>: RelatedNodeInfo(node_id='https://eur-lex.europa.eu/legal-content/EN/TXT/HTML/?uri=CELEX:32016L0680', node_type=<ObjectType.DOCUMENT: '4'>, metadata={}, hash='caf142112d0f6a347f255b21c17bed3b471f6c85a139a8ffc943ead6774c8819'), <NodeRelationship.PREVIOUS: '2'>: RelatedNodeInfo(node_id='cf439f49-1860-404d-9a6a-9f499d2f06ed', node_type=<ObjectType.TEXT: '1'>, metadata={}, hash='37d93a07a007803b133110063f6770290e5f2a6ba255986c36a8f8c820eb3bba'), <NodeRelationship.NEXT: '3'>: RelatedNodeInfo(node_id='c6d26a57-c0e5-436a-b1b6-92d2df927909', node_type=<ObjectType.TEXT: '1'>, metadata={}, hash='3c98cfa8b1323dcae5ab58b317ebe4d38898eef5d5495f20bbb047c2b743966b')}, text=\"However, the right to rectification should not affect, for example,\\nthe content of a witness testimony. A natural person should also have the\\nright to restriction of processing where he or she contests the accuracy of\\npersonal data and its accuracy or inaccuracy cannot be ascertained or where\\nthe personal data have to be maintained for purpose of evidence. In\\nparticular, instead of erasing personal data, processing should be restricted\\nif in a specific case there are reasonable grounds to believe that erasure\\ncould affect the legitimate interests of the data subject. In such a case,\\nrestricted data should be processed only for the purpose which prevented their\\nerasure. Methods to restrict the processing of personal data could include,\\ninter alia, moving the selected data to another processing system, for example\\nfor archiving purposes, or making the selected data unavailable. In automated\\nfiling systems the restriction of processing should in principle be ensured by\\ntechnical means. The fact that the processing of personal data is restricted\\nshould be indicated in the system in such a manner that it is clear that the\\nprocessing of the personal data is restricted. Such rectification or erasure\\nof personal data or restriction of processing should be communicated to\\nrecipients to whom the data have been disclosed and to the competent\\nauthorities from which the inaccurate data originated. The controllers should\\nalso abstain from further dissemination of such data.  \\n  \\n---|---  \\n  \\n(48)\\n\\n|\\n\\nWhere the controller denies a data subject his or her right to information,\\naccess to or rectification or erasure of personal data or restriction of\\nprocessing, the data subject should have the right to request that the\\nnational supervisory authority verify the lawfulness of the processing. The\\ndata subject should be informed of that right. Where the supervisory authority\\nacts on behalf of the data subject, the data subject should be informed by the\\nsupervisory authority at least that all necessary verifications or reviews by\\nthe supervisory authority have taken place. The supervisory authority should\\nalso inform the data subject of the right to seek a judicial remedy.  \\n  \\n---|---  \\n  \\n(49)\\n\\n|\\n\\nWhere the personal data are processed in the course of a criminal\\ninvestigation and court proceedings in criminal matters, Member States should\\nbe able to provide that the exercise the right to information, access to and\\nrectification or erasure of personal data and restriction of processing is\\ncarried out in accordance with national rules on judicial proceedings.  \\n  \\n---|---  \\n  \\n(50)\\n\\n|\\n\\nThe responsibility and liability of the controller for any processing of\\npersonal data carried out by the controller or on the controller's behalf\\nshould be established. In particular, the controller should be obliged to\\nimplement appropriate and effective measures and should be able to demonstrate\\nthat processing activities are in compliance with this Directive. Such\\nmeasures should take into account the nature, scope, context and purposes of\\nthe processing and the risk to the rights and freedoms of natural persons. The\\nmeasures taken by the controller should include drawing up and implementing\\nspecific safeguards in respect of the treatment of personal data of vulnerable\\nnatural persons, such as children.  \\n  \\n---|---  \\n  \\n(51)\\n\\n|\\n\\nThe risk to the rights and freedoms of natural persons, of varying likelihood\\nand severity, may result from data processing which could lead to physical,\\nmaterial or non-material damage, in particular: where the processing may give\\nrise to discrimination, identity theft or fraud, financial loss, damage to the\\nreputation, loss of confidentiality of data protected by professional secrecy,\\nunauthorised reversal of pseudonymisation or any other significant economic or\\nsocial disadvantage; where data subjects might be deprived of their rights and\\nfreedoms or from exercising control over their personal data; where personal\\ndata are processed which reveal racial or ethnic origin, political opinions,\\nreligion or philosophical beliefs or trade union membership; where genetic\\ndata or biometric data are processed in order to uniquely identify a person or\\nwhere data concerning health or data concerning sex life and sexual\\norientation or criminal convictions and offences or related security measures\\nare processed; where personal aspects are evaluated, in particular analysing\\nand predicting aspects concerning performance at work, economic situation,\\nhealth, personal preferences or interests, reliability or behaviour, location\\nor movements, in order to create or use personal profiles; where personal data\\nof vulnerable natural persons, in particular children, are processed; or where\\nprocessing involves a large amount of personal data and affects a large number\\nof data subjects.  \\n  \\n---|---  \\n  \\n(52)\\n\\n|\\n\\nThe likelihood and severity of the risk should be determined by reference to\\nthe nature, scope, context and purposes of the processing. Risk should be\\nevaluated on the basis of an objective assessment, through which it is\\nestablished whether data-processing operations involve a high risk. A high\\nrisk is a particular risk of prejudice to the rights and freedoms of data\\nsubjects.\", start_char_idx=36904, end_char_idx=42153, text_template='{metadata_str}\\n\\n{content}', metadata_template='{key}: {value}', metadata_seperator='\\n'), score=None),\n",
       " NodeWithScore(node=TextNode(id_='c6d26a57-c0e5-436a-b1b6-92d2df927909', embedding=None, metadata={}, excluded_embed_metadata_keys=[], excluded_llm_metadata_keys=[], relationships={<NodeRelationship.SOURCE: '1'>: RelatedNodeInfo(node_id='https://eur-lex.europa.eu/legal-content/EN/TXT/HTML/?uri=CELEX:32016L0680', node_type=<ObjectType.DOCUMENT: '4'>, metadata={}, hash='caf142112d0f6a347f255b21c17bed3b471f6c85a139a8ffc943ead6774c8819'), <NodeRelationship.PREVIOUS: '2'>: RelatedNodeInfo(node_id='e64bd31c-d294-4e36-afd6-c8cc8c3136af', node_type=<ObjectType.TEXT: '1'>, metadata={}, hash='0667c23121e78799dc8e54cb7750a9539081fba5adf14550db44414cf0ab1bf3'), <NodeRelationship.NEXT: '3'>: RelatedNodeInfo(node_id='caf92fa2-8b33-47fb-8811-12006c7b6341', node_type=<ObjectType.TEXT: '1'>, metadata={}, hash='5e1a4e6e51bfee7325be723a6e80598aed61e46bebb6dd5770c243869aa60ab3')}, text='---|---  \\n  \\n(52)\\n\\n|\\n\\nThe likelihood and severity of the risk should be determined by reference to\\nthe nature, scope, context and purposes of the processing. Risk should be\\nevaluated on the basis of an objective assessment, through which it is\\nestablished whether data-processing operations involve a high risk. A high\\nrisk is a particular risk of prejudice to the rights and freedoms of data\\nsubjects.  \\n  \\n---|---  \\n  \\n(53)\\n\\n|\\n\\nThe protection of the rights and freedoms of natural persons with regard to\\nthe processing of personal data requires that appropriate technical and\\norganisational measures are taken, to ensure that the requirements of this\\nDirective are met. The implementation of such measures should not depend\\nsolely on economic considerations. In order to be able to demonstrate\\ncompliance with this Directive, the controller should adopt internal policies\\nand implement measures which adhere in particular to the principles of data\\nprotection by design and data protection by default. Where the controller has\\ncarried out a data protection impact assessment pursuant to this Directive,\\nthe results should be taken into account when developing those measures and\\nprocedures. The measures could consist, inter alia, of the use of\\npseudonymisation, as early as possible. The use of pseudonymisation for the\\npurposes of this Directive can serve as a tool that could facilitate, in\\nparticular, the free flow of personal data within the area of freedom,\\nsecurity and justice.  \\n  \\n---|---  \\n  \\n(54)\\n\\n|\\n\\nThe protection of the rights and freedoms of data subjects as well as the\\nresponsibility and liability of controllers and processors, also in relation\\nto the monitoring by and measures of supervisory authorities, requires a clear\\nattribution of the responsibilities set out in this Directive, including where\\na controller determines the purposes and means of the processing jointly with\\nother controllers or where a processing operation is carried out on behalf of\\na controller.  \\n  \\n---|---  \\n  \\n(55)\\n\\n|\\n\\nThe carrying-out of processing by a processor should be governed by a legal\\nact including a contract binding the processor to the controller and\\nstipulating, in particular, that the processor should act only on instructions\\nfrom the controller. The processor should take into account the principle of\\ndata protection by design and by default.  \\n  \\n---|---  \\n  \\n(56)\\n\\n|\\n\\nIn order to demonstrate compliance with this Directive, the controller or\\nprocessor should maintain records regarding all categories of processing\\nactivities under its responsibility. Each controller and processor should be\\nobliged to cooperate with the supervisory authority and make those records\\navailable to it on request, so that they might serve for monitoring those\\nprocessing operations. The controller or the processor processing personal\\ndata in non-automated processing systems should have in place effective\\nmethods of demonstrating the lawfulness of the processing, of enabling self-\\nmonitoring and of ensuring data integrity and data security, such as logs or\\nother forms of records.  \\n  \\n---|---  \\n  \\n(57)\\n\\n|\\n\\nLogs should be kept at least for operations in automated processing systems\\nsuch as collection, alteration, consultation, disclosure including transfers,\\ncombination or erasure. The identification of the person who consulted or\\ndisclosed personal data should be logged and from that identification it\\nshould be possible to establish the justification for the processing\\noperations. The logs should solely be used for the verification of the\\nlawfulness of the processing, self-monitoring, for ensuring data integrity and\\ndata security and criminal proceedings. Self-monitoring also includes internal\\ndisciplinary proceedings of competent authorities.  \\n  \\n---|---  \\n  \\n(58)\\n\\n|\\n\\nA data protection impact assessment should be carried out by the controller\\nwhere the processing operations are likely to result in a high risk to the\\nrights and freedoms of data subjects by virtue of their nature, scope or\\npurposes, which should include, in particular, the measures, safeguards and\\nmechanisms envisaged to ensure the protection of personal data and to\\ndemonstrate compliance with this Directive. Impact assessments should cover\\nrelevant systems and processes of processing operations, but not individual\\ncases.  \\n  \\n---|---  \\n  \\n(59)\\n\\n|\\n\\nIn order to ensure effective protection of the rights and freedoms of data\\nsubjects, the controller or processor should consult the supervisory\\nauthority, in certain cases, prior to the processing.  \\n  \\n---|---  \\n  \\n(60)\\n\\n|\\n\\nIn order to maintain security and to prevent processing that infringes this\\nDirective, the controller or processor should evaluate the risks inherent in\\nthe processing and should implement measures to mitigate those risks, such as\\nencryption. Such measures should ensure an appropriate level of security,\\nincluding confidentiality and take into account the state of the art, the\\ncosts of implementation in relation to the risk and the nature of the personal\\ndata to be protected.', start_char_idx=41751, end_char_idx=46804, text_template='{metadata_str}\\n\\n{content}', metadata_template='{key}: {value}', metadata_seperator='\\n'), score=None),\n",
       " NodeWithScore(node=TextNode(id_='caf92fa2-8b33-47fb-8811-12006c7b6341', embedding=None, metadata={}, excluded_embed_metadata_keys=[], excluded_llm_metadata_keys=[], relationships={<NodeRelationship.SOURCE: '1'>: RelatedNodeInfo(node_id='https://eur-lex.europa.eu/legal-content/EN/TXT/HTML/?uri=CELEX:32016L0680', node_type=<ObjectType.DOCUMENT: '4'>, metadata={}, hash='caf142112d0f6a347f255b21c17bed3b471f6c85a139a8ffc943ead6774c8819'), <NodeRelationship.PREVIOUS: '2'>: RelatedNodeInfo(node_id='c6d26a57-c0e5-436a-b1b6-92d2df927909', node_type=<ObjectType.TEXT: '1'>, metadata={}, hash='3c98cfa8b1323dcae5ab58b317ebe4d38898eef5d5495f20bbb047c2b743966b'), <NodeRelationship.NEXT: '3'>: RelatedNodeInfo(node_id='372b0790-9c97-478e-9332-32acb01e00e5', node_type=<ObjectType.TEXT: '1'>, metadata={}, hash='54075341cbb9edaabeb9b618344b96b73d5afa00e406962d0468e769dd977b28')}, text='Impact assessments should cover\\nrelevant systems and processes of processing operations, but not individual\\ncases.  \\n  \\n---|---  \\n  \\n(59)\\n\\n|\\n\\nIn order to ensure effective protection of the rights and freedoms of data\\nsubjects, the controller or processor should consult the supervisory\\nauthority, in certain cases, prior to the processing.  \\n  \\n---|---  \\n  \\n(60)\\n\\n|\\n\\nIn order to maintain security and to prevent processing that infringes this\\nDirective, the controller or processor should evaluate the risks inherent in\\nthe processing and should implement measures to mitigate those risks, such as\\nencryption. Such measures should ensure an appropriate level of security,\\nincluding confidentiality and take into account the state of the art, the\\ncosts of implementation in relation to the risk and the nature of the personal\\ndata to be protected. In assessing data security risks, consideration should\\nbe given to the risks that are presented by data processing, such as the\\naccidental or unlawful destruction, loss, alteration or unauthorised\\ndisclosure of or access to personal data transmitted, stored or otherwise\\nprocessed, which may, in particular, lead to physical, material or non-\\nmaterial damage. The controller and processor should ensure that the\\nprocessing of personal data is not carried out by unauthorised persons.  \\n  \\n---|---  \\n  \\n(61)\\n\\n|\\n\\nA personal data breach may, if not addressed in an appropriate and timely\\nmanner, result in physical, material or non-material damage to natural persons\\nsuch as loss of control over their personal data or limitation of their\\nrights, discrimination, identity theft or fraud, financial loss, unauthorised\\nreversal of pseudonymisation, damage to reputation, loss of confidentiality of\\npersonal data protected by professional secrecy or any other significant\\neconomic or social disadvantage to the natural person concerned. Therefore, as\\nsoon as the controller becomes aware that a personal data breach has occurred,\\nthe controller should notify the personal data breach to the supervisory\\nauthority without undue delay and, where feasible, not later than 72 hours\\nafter having become aware of it, unless the controller is able to demonstrate,\\nin accordance with the accountability principle, that the personal data breach\\nis unlikely to result in a risk to the rights and freedoms of natural persons.\\nWhere such notification cannot be achieved within 72 hours, the reasons for\\nthe delay should accompany the notification and information may be provided in\\nphases without undue further delay.  \\n  \\n---|---  \\n  \\n(62)\\n\\n|\\n\\nNatural persons should be informed without undue delay where the personal data\\nbreach is likely to result in a high risk to the rights and freedoms of\\nnatural persons, in order to allow them to take the necessary precautions. The\\ncommunication should describe the nature of the personal data breach and\\ninclude recommendations for the natural person concerned to mitigate potential\\nadverse effects. Communication to data subjects should be made as soon as\\nreasonably feasible, in close cooperation with the supervisory authority, and\\nrespecting guidance provided by it or other relevant authorities. For example,\\nthe need to mitigate an immediate risk of damage would call for a prompt\\ncommunication to data subjects, whereas the need to implement appropriate\\nmeasures against continuing or similar data breaches may justify more time for\\nthe communication. Where avoiding obstruction of official or legal inquiries,\\ninvestigations or procedures, avoiding prejudice to the prevention, detection,\\ninvestigation or prosecution of criminal offences or the execution of criminal\\npenalties, protecting public security, protecting national security or\\nprotecting the rights and freedoms of others cannot be achieved by delaying or\\nrestricting the communication of a personal data breach to the natural person\\nconcerned, such communication could, in exceptional circumstances, be omitted.  \\n  \\n---|---  \\n  \\n(63)\\n\\n|\\n\\nThe controller should designate a person who would assist it in monitoring\\ninternal compliance with the provisions adopted pursuant to this Directive,\\nexcept where a Member State decides to exempt courts and other independent\\njudicial authorities when acting in their judicial capacity. That person could\\nbe a member of the existing staff of the controller who received special\\ntraining in data protection law and practice in order to acquire expert\\nknowledge in that field. The necessary level of expert knowledge should be\\ndetermined, in particular, according to the data processing carried out and\\nthe protection required for the personal data processed by the controller. His\\nor her task could be carried out on a part-time or full-time basis. A data\\nprotection officer may be appointed jointly by several controllers, taking\\ninto account their organisational structure and size, for example in the case\\nof shared resources in central units. That person can also be appointed to\\ndifferent positions within the structure of the relevant controllers. That\\nperson should help the controller and the employees processing personal data\\nby informing and advising them on compliance with their relevant data\\nprotection obligations.', start_char_idx=45958, end_char_idx=51169, text_template='{metadata_str}\\n\\n{content}', metadata_template='{key}: {value}', metadata_seperator='\\n'), score=None),\n",
       " NodeWithScore(node=TextNode(id_='372b0790-9c97-478e-9332-32acb01e00e5', embedding=None, metadata={}, excluded_embed_metadata_keys=[], excluded_llm_metadata_keys=[], relationships={<NodeRelationship.SOURCE: '1'>: RelatedNodeInfo(node_id='https://eur-lex.europa.eu/legal-content/EN/TXT/HTML/?uri=CELEX:32016L0680', node_type=<ObjectType.DOCUMENT: '4'>, metadata={}, hash='caf142112d0f6a347f255b21c17bed3b471f6c85a139a8ffc943ead6774c8819'), <NodeRelationship.PREVIOUS: '2'>: RelatedNodeInfo(node_id='caf92fa2-8b33-47fb-8811-12006c7b6341', node_type=<ObjectType.TEXT: '1'>, metadata={}, hash='5e1a4e6e51bfee7325be723a6e80598aed61e46bebb6dd5770c243869aa60ab3'), <NodeRelationship.NEXT: '3'>: RelatedNodeInfo(node_id='ce899ef7-3d1e-4171-a8d0-1a107cc7afb4', node_type=<ObjectType.TEXT: '1'>, metadata={}, hash='de430b65e384e95ccc61f9286939678f23177ab5efd58fe0f892d3791ad34713')}, text='That person could\\nbe a member of the existing staff of the controller who received special\\ntraining in data protection law and practice in order to acquire expert\\nknowledge in that field. The necessary level of expert knowledge should be\\ndetermined, in particular, according to the data processing carried out and\\nthe protection required for the personal data processed by the controller. His\\nor her task could be carried out on a part-time or full-time basis. A data\\nprotection officer may be appointed jointly by several controllers, taking\\ninto account their organisational structure and size, for example in the case\\nof shared resources in central units. That person can also be appointed to\\ndifferent positions within the structure of the relevant controllers. That\\nperson should help the controller and the employees processing personal data\\nby informing and advising them on compliance with their relevant data\\nprotection obligations. Such data protection officers should be in a position\\nto perform their duties and tasks in an independent manner in accordance with\\nMember State law.  \\n  \\n---|---  \\n  \\n(64)\\n\\n|\\n\\nMember States should ensure that a transfer to a third country or to an\\ninternational organisation takes place only if necessary for the prevention,\\ninvestigation, detection or prosecution of criminal offences or the execution\\nof criminal penalties, including the safeguarding against and the prevention\\nof threats to public security, and that the controller in the third country or\\ninternational organisation is an authority competent within the meaning of\\nthis Directive. A transfer should be carried out only by competent authorities\\nacting as controllers, except where processors are explicitly instructed to\\ntransfer on behalf of controllers. Such a transfer may take place in cases\\nwhere the Commission has decided that the third country or international\\norganisation in question ensures an adequate level of protection, where\\nappropriate safeguards have been provided, or where derogations for specific\\nsituations apply. Where personal data are transferred from the Union to\\ncontrollers, to processors or to other recipients in third countries or\\ninternational organisations, the level of protection of natural persons\\nprovided for in the Union by this Directive should not be undermined,\\nincluding in cases of onward transfers of personal data from the third country\\nor international organisation to controllers or processors in the same or in\\nanother third country or international organisation.  \\n  \\n---|---  \\n  \\n(65)\\n\\n|\\n\\nWhere personal data are transferred from a Member State to third countries or\\ninternational organisations, such a transfer should, in principle, take place\\nonly after the Member State from which the data were obtained has given its\\nauthorisation to the transfer. The interests of efficient law-enforcement\\ncooperation require that where the nature of a threat to the public security\\nof a Member State or a third country or to the essential interests of a Member\\nState is so immediate as to render it impossible to obtain prior authorisation\\nin good time, the competent authority should be able to transfer the relevant\\npersonal data to the third country or international organisation concerned\\nwithout such a prior authorisation. Member States should provide that any\\nspecific conditions concerning the transfer should be communicated to third\\ncountries or international organisations. Onward transfers of personal data\\nshould be subject to prior authorisation by the competent authority that\\ncarried out the original transfer. When deciding on a request for the\\nauthorisation of an onward transfer, the competent authority that carried out\\nthe original transfer should take due account of all relevant factors,\\nincluding the seriousness of the criminal offence, the specific conditions\\nsubject to which, and the purpose for which, the data was originally\\ntransferred, the nature and conditions of the execution of the criminal\\npenalty, and the level of personal data protection in the third country or an\\ninternational organisation to which personal data are onward transferred. The\\ncompetent authority that carried out the original transfer should also be able\\nto subject the onward transfer to specific conditions. Such specific\\nconditions can be described, for example, in handling codes.  \\n  \\n---|---  \\n  \\n(66)\\n\\n|\\n\\nThe Commission should be able to decide with effect for the entire Union that\\ncertain third countries, a territory or one or more specified sectors within a\\nthird country, or an international organisation, offer an adequate level of\\ndata protection, thus providing legal certainty and uniformity throughout the\\nUnion as regards the third countries or international organisations which are\\nconsidered to provide such a level of protection. In such cases, transfers of\\npersonal data to those countries should be able to take place without the need\\nto obtain any specific authorisation, except where another Member State from\\nwhich the data were obtained has to give its authorisation to the transfer.', start_char_idx=50228, end_char_idx=55297, text_template='{metadata_str}\\n\\n{content}', metadata_template='{key}: {value}', metadata_seperator='\\n'), score=None),\n",
       " NodeWithScore(node=TextNode(id_='ce899ef7-3d1e-4171-a8d0-1a107cc7afb4', embedding=None, metadata={}, excluded_embed_metadata_keys=[], excluded_llm_metadata_keys=[], relationships={<NodeRelationship.SOURCE: '1'>: RelatedNodeInfo(node_id='https://eur-lex.europa.eu/legal-content/EN/TXT/HTML/?uri=CELEX:32016L0680', node_type=<ObjectType.DOCUMENT: '4'>, metadata={}, hash='caf142112d0f6a347f255b21c17bed3b471f6c85a139a8ffc943ead6774c8819'), <NodeRelationship.PREVIOUS: '2'>: RelatedNodeInfo(node_id='372b0790-9c97-478e-9332-32acb01e00e5', node_type=<ObjectType.TEXT: '1'>, metadata={}, hash='54075341cbb9edaabeb9b618344b96b73d5afa00e406962d0468e769dd977b28'), <NodeRelationship.NEXT: '3'>: RelatedNodeInfo(node_id='cfaf2314-b52c-435f-8904-478676893a9d', node_type=<ObjectType.TEXT: '1'>, metadata={}, hash='3f7008e2aff27a2877794161b4e6e829cda7046fa675a034b122dcf66359726b')}, text=\"The\\ncompetent authority that carried out the original transfer should also be able\\nto subject the onward transfer to specific conditions. Such specific\\nconditions can be described, for example, in handling codes.  \\n  \\n---|---  \\n  \\n(66)\\n\\n|\\n\\nThe Commission should be able to decide with effect for the entire Union that\\ncertain third countries, a territory or one or more specified sectors within a\\nthird country, or an international organisation, offer an adequate level of\\ndata protection, thus providing legal certainty and uniformity throughout the\\nUnion as regards the third countries or international organisations which are\\nconsidered to provide such a level of protection. In such cases, transfers of\\npersonal data to those countries should be able to take place without the need\\nto obtain any specific authorisation, except where another Member State from\\nwhich the data were obtained has to give its authorisation to the transfer.  \\n  \\n---|---  \\n  \\n(67)\\n\\n|\\n\\nIn line with the fundamental values on which the Union is founded, in\\nparticular the protection of human rights, the Commission should, in its\\nassessment of the third country, or of a territory or specified sector within\\na third country, take into account how a particular third country respects the\\nrule of law, access to justice as well as international human rights norms and\\nstandards and its general and sectoral law, including legislation concerning\\npublic security, defence and national security, as well as public order and\\ncriminal law. The adoption of an adequacy decision with regard to a territory\\nor a specified sector in a third country should take into account clear and\\nobjective criteria, such as specific processing activities and the scope of\\napplicable legal standards and legislation in force in the third country. The\\nthird country should offer guarantees ensuring an adequate level of protection\\nessentially equivalent to that ensured within the Union, in particular where\\ndata are processed in one or several specific sectors. In particular, the\\nthird country should ensure effective independent data protection supervision\\nand provide for cooperation mechanisms with the Member States' data protection\\nauthorities, and the data subjects should be provided with effective and\\nenforceable rights and effective administrative and judicial redress.  \\n  \\n---|---  \\n  \\n(68)\\n\\n|\\n\\nApart from the international commitments the third country or international\\norganisation has entered into, the Commission should also take account of\\nobligations arising from the third country's or international organisation's\\nparticipation in multilateral or regional systems, in particular in relation\\nto the protection of personal data, as well as the implementation of such\\nobligations. In particular the third country's accession to the Council of\\nEurope Convention of 28 January 1981 for the Protection of Individuals with\\nregard to the Automatic Processing of Personal Data and its Additional\\nProtocol should be taken into account. The Commission should consult with the\\nEuropean Data Protection Board established by Regulation (EU) 2016/679 (the\\n‘Board’) when assessing the level of protection in third countries or\\ninternational organisations. The Commission should also take into account any\\nrelevant Commission adequacy decision adopted in accordance with Article 45 of\\nRegulation (EU) 2016/679.  \\n  \\n---|---  \\n  \\n(69)\\n\\n|\\n\\nThe Commission should monitor the functioning of decisions on the level of\\nprotection in a third country, a territory or a specified sector within a\\nthird country, or an international organisation. In its adequacy decisions,\\nthe Commission should provide for a periodic review mechanism of their\\nfunctioning. That periodic review should be undertaken in consultation with\\nthe third country or international organisation in question and should take\\ninto account all relevant developments in the third country or international\\norganisation.  \\n  \\n---|---  \\n  \\n(70)\\n\\n|\\n\\nThe Commission should also be able to recognise that a third country, a\\nterritory or a specified sector within a third country, or an international\\norganisation, no longer ensures an adequate level of data protection.\\nConsequently, the transfer of personal data to that third country or\\ninternational organisation should be prohibited unless the requirements in\\nthis Directive relating to transfers subject to appropriate safeguards and\\nderogations for specific situations are fulfilled. Provision should be made\\nfor procedures for consultations between the Commission and such third\\ncountries or international organisations. The Commission should, in a timely\\nmanner, inform the third country or international organisation of the reasons\\nand enter into consultations with it in order to remedy the situation.  \\n  \\n---|---  \\n  \\n(71)\\n\\n|\\n\\nTransfers not based on such an adequacy decision should be allowed only where\\nappropriate safeguards have been provided in a legally binding instrument\\nwhich ensures the protection of personal data or where the controller has\\nassessed all the circumstances surrounding the data transfer and, on the basis\\nof that assessment, considers that appropriate safeguards with regard to the\\nprotection of personal data exist.\", start_char_idx=54359, end_char_idx=59575, text_template='{metadata_str}\\n\\n{content}', metadata_template='{key}: {value}', metadata_seperator='\\n'), score=None),\n",
       " NodeWithScore(node=TextNode(id_='cfaf2314-b52c-435f-8904-478676893a9d', embedding=None, metadata={}, excluded_embed_metadata_keys=[], excluded_llm_metadata_keys=[], relationships={<NodeRelationship.SOURCE: '1'>: RelatedNodeInfo(node_id='https://eur-lex.europa.eu/legal-content/EN/TXT/HTML/?uri=CELEX:32016L0680', node_type=<ObjectType.DOCUMENT: '4'>, metadata={}, hash='caf142112d0f6a347f255b21c17bed3b471f6c85a139a8ffc943ead6774c8819'), <NodeRelationship.PREVIOUS: '2'>: RelatedNodeInfo(node_id='ce899ef7-3d1e-4171-a8d0-1a107cc7afb4', node_type=<ObjectType.TEXT: '1'>, metadata={}, hash='de430b65e384e95ccc61f9286939678f23177ab5efd58fe0f892d3791ad34713'), <NodeRelationship.NEXT: '3'>: RelatedNodeInfo(node_id='867b2c91-389f-4c6a-8f4e-e1d7dc84237d', node_type=<ObjectType.TEXT: '1'>, metadata={}, hash='7d4cee533617d33c110b628b9d5b736dcb0ebe02f751f6027bfc7f34d38a1bf5')}, text='Consequently, the transfer of personal data to that third country or\\ninternational organisation should be prohibited unless the requirements in\\nthis Directive relating to transfers subject to appropriate safeguards and\\nderogations for specific situations are fulfilled. Provision should be made\\nfor procedures for consultations between the Commission and such third\\ncountries or international organisations. The Commission should, in a timely\\nmanner, inform the third country or international organisation of the reasons\\nand enter into consultations with it in order to remedy the situation.  \\n  \\n---|---  \\n  \\n(71)\\n\\n|\\n\\nTransfers not based on such an adequacy decision should be allowed only where\\nappropriate safeguards have been provided in a legally binding instrument\\nwhich ensures the protection of personal data or where the controller has\\nassessed all the circumstances surrounding the data transfer and, on the basis\\nof that assessment, considers that appropriate safeguards with regard to the\\nprotection of personal data exist. Such legally binding instruments could, for\\nexample, be legally binding bilateral agreements which have been concluded by\\nthe Member States and implemented in their legal order and which could be\\nenforced by their data subjects, ensuring compliance with data protection\\nrequirements and the rights of the data subjects, including the right to\\nobtain effective administrative or judicial redress. The controller should be\\nable to take into account cooperation agreements concluded between Europol or\\nEurojust and third countries which allow for the exchange of personal data\\nwhen carrying out the assessment of all the circumstances surrounding the data\\ntransfer. The controller should be able to also take into account the fact\\nthat the transfer of personal data will be subject to confidentiality\\nobligations and the principle of specificity, ensuring that the data will not\\nbe processed for other purposes than for the purposes of the transfer. In\\naddition, the controller should take into account that the personal data will\\nnot be used to request, hand down or execute a death penalty or any form of\\ncruel and inhuman treatment. While those conditions could be considered to be\\nappropriate safeguards allowing the transfer of data, the controller should be\\nable to require additional safeguards.  \\n  \\n---|---  \\n  \\n(72)\\n\\n|\\n\\nWhere no adequacy decision or appropriate safeguards exist, a transfer or a\\ncategory of transfers could take place only in specific situations, if\\nnecessary to protect the vital interests of the data subject or another\\nperson, or to safeguard legitimate interests of the data subject where the law\\nof the Member State transferring the personal data so provides; for the\\nprevention of an immediate and serious threat to the public security of a\\nMember State or a third country; in an individual case for the purposes of the\\nprevention, investigation, detection or prosecution of criminal offences or\\nthe execution of criminal penalties, including the safeguarding against and\\nthe prevention of threats to public security; or in an individual case for the\\nestablishment, exercise or defence of legal claims. Those derogations should\\nbe interpreted restrictively and should not allow frequent, massive and\\nstructural transfers of personal data, or large-scale transfers of data, but\\nshould be limited to data strictly necessary. Such transfers should be\\ndocumented and should be made available to the supervisory authority on\\nrequest in order to monitor the lawfulness of the transfer.  \\n  \\n---|---  \\n  \\n(73)\\n\\n|\\n\\nCompetent authorities of Member States apply bilateral or multilateral\\ninternational agreements in force, concluded with third countries in the field\\nof judicial cooperation in criminal matters and police cooperation, for the\\nexchange of relevant information to allow them to perform their legally\\nassigned tasks. In principle, this takes place through, or at least with, the\\ncooperation of the authorities competent in the third countries concerned for\\nthe purposes of this Directive, sometimes even in the absence of a bilateral\\nor multilateral international agreement. However, in specific individual\\ncases, the regular procedures requiring contacting such an authority in the\\nthird country may be ineffective or inappropriate, in particular because the\\ntransfer could not be carried out in a timely manner, or because that\\nauthority in the third country does not respect the rule of law or\\ninternational human rights norms and standards, so that competent authorities\\nof Member States could decide to transfer personal data directly to recipients\\nestablished in those third countries. This may be the case where there is an\\nurgent need to transfer personal data to save the life of a person who is in\\ndanger of becoming a victim of a criminal offence or in the interest of\\npreventing an imminent perpetration of a crime, including terrorism. Even if\\nsuch a transfer between competent authorities and recipients established in\\nthird countries should take place only in specific individual cases, this\\nDirective should provide for conditions to regulate such cases. Those\\nprovisions should not be considered to be derogations from any existing\\nbilateral or multilateral international agreements in the field of judicial\\ncooperation in criminal matters and police cooperation.', start_char_idx=58540, end_char_idx=63890, text_template='{metadata_str}\\n\\n{content}', metadata_template='{key}: {value}', metadata_seperator='\\n'), score=None),\n",
       " NodeWithScore(node=TextNode(id_='867b2c91-389f-4c6a-8f4e-e1d7dc84237d', embedding=None, metadata={}, excluded_embed_metadata_keys=[], excluded_llm_metadata_keys=[], relationships={<NodeRelationship.SOURCE: '1'>: RelatedNodeInfo(node_id='https://eur-lex.europa.eu/legal-content/EN/TXT/HTML/?uri=CELEX:32016L0680', node_type=<ObjectType.DOCUMENT: '4'>, metadata={}, hash='caf142112d0f6a347f255b21c17bed3b471f6c85a139a8ffc943ead6774c8819'), <NodeRelationship.PREVIOUS: '2'>: RelatedNodeInfo(node_id='cfaf2314-b52c-435f-8904-478676893a9d', node_type=<ObjectType.TEXT: '1'>, metadata={}, hash='3f7008e2aff27a2877794161b4e6e829cda7046fa675a034b122dcf66359726b'), <NodeRelationship.NEXT: '3'>: RelatedNodeInfo(node_id='4f9a0318-74b5-480e-9440-35a750b999be', node_type=<ObjectType.TEXT: '1'>, metadata={}, hash='4f0b49c24b144b0a8d5f436d25a11ff22400f9503fc1ec1a749b12835a744f2c')}, text=\"This may be the case where there is an\\nurgent need to transfer personal data to save the life of a person who is in\\ndanger of becoming a victim of a criminal offence or in the interest of\\npreventing an imminent perpetration of a crime, including terrorism. Even if\\nsuch a transfer between competent authorities and recipients established in\\nthird countries should take place only in specific individual cases, this\\nDirective should provide for conditions to regulate such cases. Those\\nprovisions should not be considered to be derogations from any existing\\nbilateral or multilateral international agreements in the field of judicial\\ncooperation in criminal matters and police cooperation. Those rules should\\napply in addition to the other rules of this Directive, in particular those on\\nthe lawfulness of processing and Chapter V.  \\n  \\n---|---  \\n  \\n(74)\\n\\n|\\n\\nWhere personal data move across borders it may put at increased risk the\\nability of natural persons to exercise data protection rights to protect\\nthemselves from the unlawful use or disclosure of those data. At the same\\ntime, supervisory authorities may find that they are unable to pursue\\ncomplaints or conduct investigations relating to the activities outside their\\nborders. Their efforts to work together in the cross-border context may also\\nbe hampered by insufficient preventative or remedial powers and inconsistent\\nlegal regimes. Therefore, there is a need to promote closer cooperation among\\ndata protection supervisory authorities to help them exchange information with\\ntheir foreign counterparts.  \\n  \\n---|---  \\n  \\n(75)\\n\\n|\\n\\nThe establishment in Member States of supervisory authorities that are able to\\nexercise their functions with complete independence is an essential component\\nof the protection of natural persons with regard to the processing of their\\npersonal data. The supervisory authorities should monitor the application of\\nthe provisions adopted pursuant to this Directive and should contribute to\\ntheir consistent application throughout the Union in order to protect natural\\npersons with regard to the processing of their personal data. To that end, the\\nsupervisory authorities should cooperate with each other and with the\\nCommission.  \\n  \\n---|---  \\n  \\n(76)\\n\\n|\\n\\nMember States may entrust a supervisory authority already established under\\nRegulation (EU) 2016/679 with the responsibility for the tasks to be performed\\nby the national supervisory authorities to be established under this\\nDirective.  \\n  \\n---|---  \\n  \\n(77)\\n\\n|\\n\\nMember States should be allowed to establish more than one supervisory\\nauthority to reflect their constitutional, organisational and administrative\\nstructure. Each supervisory authority should be provided with the financial\\nand human resources, premises and infrastructure, which are necessary for the\\neffective performance of their tasks, including for the tasks related to\\nmutual assistance and cooperation with other supervisory authorities\\nthroughout the Union. Each supervisory authority should have a separate,\\npublic annual budget, which may be part of the overall state or national\\nbudget.  \\n  \\n---|---  \\n  \\n(78)\\n\\n|\\n\\nSupervisory authorities should be subject to independent control or monitoring\\nmechanisms regarding their financial expenditure, provided that such financial\\ncontrol does not affect their independence.  \\n  \\n---|---  \\n  \\n(79)\\n\\n|\\n\\nThe general conditions for the member or members of the supervisory authority\\nshould be laid down by Member State law and should in particular provide that\\nthose members should be either appointed by the parliament or the government\\nor the head of State of the Member State based on a proposal from the\\ngovernment or a member of the government, or the parliament or its chamber, or\\nby an independent body entrusted by Member State law with the appointment by\\nmeans of a transparent procedure. In order to ensure the independence of the\\nsupervisory authority, the member or members should act with integrity, should\\nrefrain from any action incompatible with their duties and should not, during\\ntheir term of office, engage in any incompatible occupation, whether gainful\\nor not. In order to ensure the independence of the supervisory authority, the\\nstaff should be chosen by the supervisory authority which may include an\\nintervention by an independent body entrusted by Member State law.  \\n  \\n---|---  \\n  \\n(80)\\n\\n|\\n\\nWhile this Directive applies also to the activities of national courts and\\nother judicial authorities, the competence of the supervisory authorities\\nshould not cover the processing of personal data where courts are acting in\\ntheir judicial capacity, in order to safeguard the independence of judges in\\nthe performance of their judicial tasks. That exemption should be limited to\\njudicial activities in court cases and not apply to other activities where\\njudges might be involved in accordance with Member State law. Member States\\nshould also be able to provide that the competence of the supervisory\\nauthority does not cover the processing of personal data of other independent\\njudicial authorities when acting in their judicial capacity, for example\\npublic prosecutor's office.\", start_char_idx=63202, end_char_idx=68354, text_template='{metadata_str}\\n\\n{content}', metadata_template='{key}: {value}', metadata_seperator='\\n'), score=None),\n",
       " NodeWithScore(node=TextNode(id_='4f9a0318-74b5-480e-9440-35a750b999be', embedding=None, metadata={}, excluded_embed_metadata_keys=[], excluded_llm_metadata_keys=[], relationships={<NodeRelationship.SOURCE: '1'>: RelatedNodeInfo(node_id='https://eur-lex.europa.eu/legal-content/EN/TXT/HTML/?uri=CELEX:32016L0680', node_type=<ObjectType.DOCUMENT: '4'>, metadata={}, hash='caf142112d0f6a347f255b21c17bed3b471f6c85a139a8ffc943ead6774c8819'), <NodeRelationship.PREVIOUS: '2'>: RelatedNodeInfo(node_id='867b2c91-389f-4c6a-8f4e-e1d7dc84237d', node_type=<ObjectType.TEXT: '1'>, metadata={}, hash='7d4cee533617d33c110b628b9d5b736dcb0ebe02f751f6027bfc7f34d38a1bf5'), <NodeRelationship.NEXT: '3'>: RelatedNodeInfo(node_id='bf3c3878-7991-4919-b8ca-a404f56ab400', node_type=<ObjectType.TEXT: '1'>, metadata={}, hash='d7d4d19a5ecd1f0f364fbad852d193699b7f92db6a9de7e2ffeb9c848b0900b6')}, text=\"In order to ensure the independence of the supervisory authority, the\\nstaff should be chosen by the supervisory authority which may include an\\nintervention by an independent body entrusted by Member State law.  \\n  \\n---|---  \\n  \\n(80)\\n\\n|\\n\\nWhile this Directive applies also to the activities of national courts and\\nother judicial authorities, the competence of the supervisory authorities\\nshould not cover the processing of personal data where courts are acting in\\ntheir judicial capacity, in order to safeguard the independence of judges in\\nthe performance of their judicial tasks. That exemption should be limited to\\njudicial activities in court cases and not apply to other activities where\\njudges might be involved in accordance with Member State law. Member States\\nshould also be able to provide that the competence of the supervisory\\nauthority does not cover the processing of personal data of other independent\\njudicial authorities when acting in their judicial capacity, for example\\npublic prosecutor's office. In any event, the compliance with the rules of\\nthis Directive by the courts and other independent judicial authorities is\\nalways subject to independent supervision in accordance with Article 8(3) of\\nthe Charter.  \\n  \\n---|---  \\n  \\n(81)\\n\\n|\\n\\nEach supervisory authority should handle complaints lodged by any data subject\\nand should investigate the matter or transmit it to the competent supervisory\\nauthority. The investigation following a complaint should be carried out,\\nsubject to judicial review, to the extent that is appropriate in the specific\\ncase. The supervisory authority should inform the data subject of the progress\\nand the outcome of the complaint within a reasonable period. If the case\\nrequires further investigation or coordination with another supervisory\\nauthority, intermediate information should be provided to the data subject.  \\n  \\n---|---  \\n  \\n(82)\\n\\n|\\n\\nIn order to ensure effective, reliable and consistent monitoring of compliance\\nwith and enforcement of this Directive throughout the Union pursuant to the\\nTFEU as interpreted by the Court of Justice, the supervisory authorities\\nshould have in each Member State the same tasks and effective powers,\\nincluding investigative, corrective, and advisory powers which constitute\\nnecessary means to perform their tasks. However, their powers should not\\ninterfere with specific rules for criminal proceedings, including\\ninvestigation and prosecution of criminal offences, or the independence of the\\njudiciary. Without prejudice to the powers of prosecutorial authorities under\\nMember State law, supervisory authorities should also have the power to bring\\ninfringements of this Directive to the attention of the judicial authorities\\nor to engage in legal proceedings. The powers of supervisory authorities\\nshould be exercised in accordance with appropriate procedural safeguards laid\\ndown by Union and Member State law, impartially, fairly and within a\\nreasonable time. In particular each measure should be appropriate, necessary\\nand proportionate in view of ensuring compliance with this Directive, taking\\ninto account the circumstances of each individual case, respect the right of\\nevery person to be heard before any individual measure that would adversely\\naffect the person concerned is taken, and avoiding superfluous costs and\\nexcessive inconvenience to the person concerned. Investigative powers as\\nregards access to premises should be exercised in accordance with specific\\nrequirements in Member State law, such as the requirement to obtain a prior\\njudicial authorisation. The adoption of a legally binding decision should be\\nsubject to judicial review in the Member State of the supervisory authority\\nthat adopted the decision.  \\n  \\n---|---  \\n  \\n(83)\\n\\n|\\n\\nThe supervisory authorities should assist one another in performing their\\ntasks and provide mutual assistance, so as to ensure the consistent\\napplication and enforcement of the provisions adopted pursuant to this\\nDirective.  \\n  \\n---|---  \\n  \\n(84)\\n\\n|\\n\\nThe Board should contribute to the consistent application of this Directive\\nthroughout the Union, including advising the Commission and promoting the\\ncooperation of the supervisory authorities throughout the Union.  \\n  \\n---|---  \\n  \\n(85)\\n\\n|\\n\\nEvery data subject should have the right to lodge a complaint with a single\\nsupervisory authority and to an effective judicial remedy in accordance with\\nArticle 47 of the Charter where the data subject considers that his or her\\nrights under provisions adopted pursuant to this Directive are infringed or\\nwhere the supervisory authority does not act on a complaint, partially or\\nwholly rejects or dismisses a complaint or does not act where such action is\\nnecessary to protect the rights of the data subject. The investigation\\nfollowing a complaint should be carried out, subject to judicial review, to\\nthe extent that is appropriate in the specific case. The competent supervisory\\nauthority should inform the data subject of the progress and the outcome of\\nthe complaint within a reasonable period. If the case requires further\\ninvestigation or coordination with another supervisory authority, intermediate\\ninformation should be provided to the data subject.\", start_char_idx=67339, end_char_idx=72535, text_template='{metadata_str}\\n\\n{content}', metadata_template='{key}: {value}', metadata_seperator='\\n'), score=None),\n",
       " NodeWithScore(node=TextNode(id_='bf3c3878-7991-4919-b8ca-a404f56ab400', embedding=None, metadata={}, excluded_embed_metadata_keys=[], excluded_llm_metadata_keys=[], relationships={<NodeRelationship.SOURCE: '1'>: RelatedNodeInfo(node_id='https://eur-lex.europa.eu/legal-content/EN/TXT/HTML/?uri=CELEX:32016L0680', node_type=<ObjectType.DOCUMENT: '4'>, metadata={}, hash='caf142112d0f6a347f255b21c17bed3b471f6c85a139a8ffc943ead6774c8819'), <NodeRelationship.PREVIOUS: '2'>: RelatedNodeInfo(node_id='4f9a0318-74b5-480e-9440-35a750b999be', node_type=<ObjectType.TEXT: '1'>, metadata={}, hash='4f0b49c24b144b0a8d5f436d25a11ff22400f9503fc1ec1a749b12835a744f2c'), <NodeRelationship.NEXT: '3'>: RelatedNodeInfo(node_id='c72521ee-d795-4f57-979a-1291a4a9fead', node_type=<ObjectType.TEXT: '1'>, metadata={}, hash='f8c0db0532d6fbca3110059a873e493dbe2c2801b52a8adfe17df0add1957c0d')}, text='---|---  \\n  \\n(85)\\n\\n|\\n\\nEvery data subject should have the right to lodge a complaint with a single\\nsupervisory authority and to an effective judicial remedy in accordance with\\nArticle 47 of the Charter where the data subject considers that his or her\\nrights under provisions adopted pursuant to this Directive are infringed or\\nwhere the supervisory authority does not act on a complaint, partially or\\nwholly rejects or dismisses a complaint or does not act where such action is\\nnecessary to protect the rights of the data subject. The investigation\\nfollowing a complaint should be carried out, subject to judicial review, to\\nthe extent that is appropriate in the specific case. The competent supervisory\\nauthority should inform the data subject of the progress and the outcome of\\nthe complaint within a reasonable period. If the case requires further\\ninvestigation or coordination with another supervisory authority, intermediate\\ninformation should be provided to the data subject. In order to facilitate the\\nsubmission of complaints, each supervisory authority should take measures such\\nas providing a complaint submission form which can also be completed\\nelectronically, without excluding other means of communication.  \\n  \\n---|---  \\n  \\n(86)\\n\\n|\\n\\nEach natural or legal person should have the right to an effective judicial\\nremedy before the competent national court against a decision of a supervisory\\nauthority which produces legal effects concerning that person. Such a decision\\nconcerns in particular the exercise of investigative, corrective and\\nauthorisation powers by the supervisory authority or the dismissal or\\nrejection of complaints. However, that right does not encompass other measures\\nof supervisory authorities which are not legally binding, such as opinions\\nissued by or advice provided by the supervisory authority. Proceedings against\\na supervisory authority should be brought before the courts of the Member\\nState where the supervisory authority is established and should be conducted\\nin accordance with Member State law. Those courts should exercise full\\njurisdiction which should include jurisdiction to examine all questions of\\nfact and law relevant to the dispute before it.  \\n  \\n---|---  \\n  \\n(87)\\n\\n|\\n\\nWhere a data subject considers that his or her rights under this Directive are\\ninfringed, he or she should have the right to mandate a body which aims to\\nprotect the rights and interests of data subjects in relation to the\\nprotection of their personal data and is constituted according to Member State\\nlaw to lodge a complaint on his or her behalf with a supervisory authority and\\nto exercise the right to a judicial remedy. The right of representation of\\ndata subjects should be without prejudice to Member State procedural law which\\nmay require mandatory representation of data subjects by a lawyer, as defined\\nin Council Directive 77/249/EEC (10), before national courts.  \\n  \\n---|---  \\n  \\n(88)\\n\\n|\\n\\nAny damage which a person may suffer as a result of processing that infringes\\nthe provisions adopted pursuant to this Directive should be compensated by the\\ncontroller or any other authority competent under Member State law. The\\nconcept of damage should be broadly interpreted in the light of the case-law\\nof the Court of Justice in a manner which fully reflects the objectives of\\nthis Directive. This is without prejudice to any claims for damage deriving\\nfrom the violation of other rules in Union or Member State law. When reference\\nis made to processing that is unlawful or that infringes the provisions\\nadopted pursuant to this Directive it also covers processing that infringes\\nimplementing acts adopted pursuant to this Directive. Data subjects should\\nreceive full and effective compensation for the damage that they have\\nsuffered.  \\n  \\n---|---  \\n  \\n(89)\\n\\n|\\n\\nPenalties should be imposed on any natural or legal person, whether governed\\nby private or public law, who infringes this Directive. Member States should\\nensure that the penalties are effective, proportionate and dissuasive and\\nshould take all measures to implement the penalties.  \\n  \\n---|---  \\n  \\n(90)\\n\\n|\\n\\nIn order to ensure uniform conditions for the implementation of this\\nDirective, implementing powers should be conferred on the Commission with\\nregard to the adequate level of protection afforded by a third country, a\\nterritory or a specified sector within a third country, or an international\\norganisation and the format and procedures for mutual assistance and the\\narrangements for the exchange of information by electronic means between\\nsupervisory authorities, and between supervisory authorities and the Board.\\nThose powers should be exercised in accordance with Regulation (EU) No\\n182/2011 of the European Parliament and of the Council (11).', start_char_idx=71555, end_char_idx=76302, text_template='{metadata_str}\\n\\n{content}', metadata_template='{key}: {value}', metadata_seperator='\\n'), score=None),\n",
       " NodeWithScore(node=TextNode(id_='c72521ee-d795-4f57-979a-1291a4a9fead', embedding=None, metadata={}, excluded_embed_metadata_keys=[], excluded_llm_metadata_keys=[], relationships={<NodeRelationship.SOURCE: '1'>: RelatedNodeInfo(node_id='https://eur-lex.europa.eu/legal-content/EN/TXT/HTML/?uri=CELEX:32016L0680', node_type=<ObjectType.DOCUMENT: '4'>, metadata={}, hash='caf142112d0f6a347f255b21c17bed3b471f6c85a139a8ffc943ead6774c8819'), <NodeRelationship.PREVIOUS: '2'>: RelatedNodeInfo(node_id='bf3c3878-7991-4919-b8ca-a404f56ab400', node_type=<ObjectType.TEXT: '1'>, metadata={}, hash='d7d4d19a5ecd1f0f364fbad852d193699b7f92db6a9de7e2ffeb9c848b0900b6'), <NodeRelationship.NEXT: '3'>: RelatedNodeInfo(node_id='2232d8db-29db-4b4a-897a-4c92748e511d', node_type=<ObjectType.TEXT: '1'>, metadata={}, hash='7fd39e670f480488b18b107d301fdeddae8657e23d6fff87385e27ab3ab51e5d')}, text='---|---  \\n  \\n(89)\\n\\n|\\n\\nPenalties should be imposed on any natural or legal person, whether governed\\nby private or public law, who infringes this Directive. Member States should\\nensure that the penalties are effective, proportionate and dissuasive and\\nshould take all measures to implement the penalties.  \\n  \\n---|---  \\n  \\n(90)\\n\\n|\\n\\nIn order to ensure uniform conditions for the implementation of this\\nDirective, implementing powers should be conferred on the Commission with\\nregard to the adequate level of protection afforded by a third country, a\\nterritory or a specified sector within a third country, or an international\\norganisation and the format and procedures for mutual assistance and the\\narrangements for the exchange of information by electronic means between\\nsupervisory authorities, and between supervisory authorities and the Board.\\nThose powers should be exercised in accordance with Regulation (EU) No\\n182/2011 of the European Parliament and of the Council (11).  \\n  \\n---|---  \\n  \\n(91)\\n\\n|\\n\\nThe examination procedure should be used for the adoption of implementing acts\\non the adequate level of protection afforded by a third country, a territory\\nor a specified sector within a third country, or an international organisation\\nand on the format and procedures for mutual assistance and the arrangements\\nfor the exchange of information by electronic means between supervisory\\nauthorities, and between supervisory authorities and the Board, given that\\nthose acts are of a general scope.  \\n  \\n---|---  \\n  \\n(92)\\n\\n|\\n\\nThe Commission should adopt immediately applicable implementing acts where, in\\nduly justified cases relating to a third country, a territory or a specified\\nsector within a third country, or an international organisation which no\\nlonger ensure an adequate level of protection, imperative grounds of urgency\\nso require.  \\n  \\n---|---  \\n  \\n(93)\\n\\n|\\n\\nSince the objectives of this Directive, namely to protect the fundamental\\nrights and freedoms of natural persons and in particular their right to the\\nprotection of personal data and to ensure the free exchange of personal data\\nby competent authorities within the Union, cannot be sufficiently achieved by\\nthe Member States and can rather, by reason of the scale or effects of the\\naction, be better achieved at Union level, the Union may adopt measures, in\\naccordance with the principle of subsidiarity as set out in Article 5 of the\\nTEU. In accordance with the principle of proportionality as set out in that\\nArticle, this Directive does not go beyond what is necessary in order to\\nachieve those objectives  \\n  \\n---|---  \\n  \\n(94)\\n\\n|\\n\\nSpecific provisions of acts of the Union adopted in the field of judicial\\ncooperation in criminal matters and police cooperation which were adopted\\nprior to the date of the adoption of this Directive, regulating the processing\\nof personal data between Member States or the access of designated authorities\\nof Member States to information systems established pursuant to the Treaties,\\nshould remain unaffected, such as, for example, the specific provisions\\nconcerning the protection of personal data applied pursuant to Council\\nDecision 2008/615/JHA (12), or Article 23 of the Convention on Mutual\\nAssistance in Criminal Matters between the Member States of the European Union\\n(13). Since Article 8 of the Charter and Article 16 TFEU require that the\\nfundamental right to the protection of personal data be ensured in a\\nconsistent manner throughout the Union, the Commission should evaluate the\\nsituation with regard to the relationship between this Directive and the acts\\nadopted prior to the date of adoption of this Directive regulating the\\nprocessing of personal data between Member States or the access of designated\\nauthorities of Member States to information systems established pursuant to\\nthe Treaties, in order to assess the need for alignment of those specific\\nprovisions with this Directive. Where appropriate, the Commission should make\\nproposals with a view to ensuring consistent legal rules relating to the\\nprocessing of personal data.  \\n  \\n---|---  \\n  \\n(95)\\n\\n|\\n\\nIn order to ensure a comprehensive and consistent protection of personal data\\nin the Union, international agreements which were concluded by Member States\\nprior to the date of entry into force of this Directive and which comply with\\nthe relevant Union law applicable prior to that date should remain in force\\nuntil amended, replaced or revoked.  \\n  \\n---|---  \\n  \\n(96)\\n\\n|\\n\\nMember States should be allowed a period of not more than two years from the\\ndate of entry into force of this Directive to transpose it. Processing already\\nunder way on that date should be brought into conformity with this Directive\\nwithin the period of two years after which this Directive enters into force.\\nHowever, where such processing complies with the Union law applicable prior to\\nthe date of entry into force of this Directive, the requirements of this\\nDirective concerning the prior consultation of the supervisory authority\\nshould not apply to the processing operations already under way on that date\\ngiven that those requirements, by their very nature, are to be met prior to\\nthe processing.', start_char_idx=75326, end_char_idx=80482, text_template='{metadata_str}\\n\\n{content}', metadata_template='{key}: {value}', metadata_seperator='\\n'), score=None),\n",
       " NodeWithScore(node=TextNode(id_='2232d8db-29db-4b4a-897a-4c92748e511d', embedding=None, metadata={}, excluded_embed_metadata_keys=[], excluded_llm_metadata_keys=[], relationships={<NodeRelationship.SOURCE: '1'>: RelatedNodeInfo(node_id='https://eur-lex.europa.eu/legal-content/EN/TXT/HTML/?uri=CELEX:32016L0680', node_type=<ObjectType.DOCUMENT: '4'>, metadata={}, hash='caf142112d0f6a347f255b21c17bed3b471f6c85a139a8ffc943ead6774c8819'), <NodeRelationship.PREVIOUS: '2'>: RelatedNodeInfo(node_id='c72521ee-d795-4f57-979a-1291a4a9fead', node_type=<ObjectType.TEXT: '1'>, metadata={}, hash='f8c0db0532d6fbca3110059a873e493dbe2c2801b52a8adfe17df0add1957c0d'), <NodeRelationship.NEXT: '3'>: RelatedNodeInfo(node_id='e2c2b60e-ddad-475b-8dd0-0e60fc0bc205', node_type=<ObjectType.TEXT: '1'>, metadata={}, hash='d8f056a37166ea6e6da5b4293b538997755cd27963765776bd261c67efb7fe82')}, text=\"---|---  \\n  \\n(96)\\n\\n|\\n\\nMember States should be allowed a period of not more than two years from the\\ndate of entry into force of this Directive to transpose it. Processing already\\nunder way on that date should be brought into conformity with this Directive\\nwithin the period of two years after which this Directive enters into force.\\nHowever, where such processing complies with the Union law applicable prior to\\nthe date of entry into force of this Directive, the requirements of this\\nDirective concerning the prior consultation of the supervisory authority\\nshould not apply to the processing operations already under way on that date\\ngiven that those requirements, by their very nature, are to be met prior to\\nthe processing. Where Member States use the longer implementation period\\nexpiring seven years after the date of entry into force of this Directive for\\nmeeting the logging obligations for automated processing systems set up prior\\nto that date, the controller or the processor should have in place effective\\nmethods for demonstrating the lawfulness of the data processing, for enabling\\nself-monitoring and for ensuring data integrity and data security, such as\\nlogs or other forms of records.  \\n  \\n---|---  \\n  \\n(97)\\n\\n|\\n\\nThis Directive is without prejudice to the rules on combating the sexual abuse\\nand sexual exploitation of children and child pornography as laid down in\\nDirective 2011/93/EU of the European Parliament and of the Council (14).  \\n  \\n---|---  \\n  \\n(98)\\n\\n|\\n\\nFramework Decision 2008/977/JHA should therefore be repealed.  \\n  \\n---|---  \\n  \\n(99)\\n\\n|\\n\\nIn accordance with Article 6a of Protocol No 21 on the position of the United\\nKingdom and Ireland in respect of the area of freedom, security and justice,\\nas annexed to the TEU and to the TFEU, the United Kingdom and Ireland are not\\nbound by the rules laid down in this Directive which relate to the processing\\nof personal data by the Member States when carrying out activities which fall\\nwithin the scope of Chapter 4 or Chapter 5 of Title V of Part Three of the\\nTFEU where the United Kingdom and Ireland are not bound by the rules governing\\nthe forms of judicial cooperation in criminal matters or police cooperation\\nwhich require compliance with the provisions laid down on the basis of Article\\n16 TFEU.  \\n  \\n---|---  \\n  \\n(100)\\n\\n|\\n\\nIn accordance with Articles 2 and 2a of Protocol No 22 on the position of\\nDenmark, as annexed to the TEU and to the TFEU, Denmark is not bound by the\\nrules laid down in this Directive or subject to their application which relate\\nto the processing of personal data by the Member States when carrying out\\nactivities which fall within the scope of Chapter 4 or Chapter 5 of Title V of\\nPart Three of the TFEU. Given that this Directive builds upon the Schengen\\nacquis, under Title V of Part Three of the TFEU, Denmark, in accordance with\\nArticle 4 of that Protocol, is to decide within six months after adoption of\\nthis Directive whether it will implement it in its national law.  \\n  \\n---|---  \\n  \\n(101)\\n\\n|\\n\\nAs regards Iceland and Norway, this Directive constitutes a development of\\nprovisions of the Schengen acquis, as provided for by the Agreement concluded\\nby the Council of the European Union and the Republic of Iceland and the\\nKingdom of Norway concerning the association of those two States with the\\nimplementation, application and development of the Schengen acquis (15).  \\n  \\n---|---  \\n  \\n(102)\\n\\n|\\n\\nAs regards Switzerland, this Directive constitutes a development of provisions\\nof the Schengen acquis, as provided for by the Agreement between the European\\nUnion, the European Community and the Swiss Confederation concerning the\\nassociation of the Swiss Confederation with the implementation, application\\nand development of the Schengen acquis (16).  \\n  \\n---|---  \\n  \\n(103)\\n\\n|\\n\\nAs regards Liechtenstein, this Directive constitutes a development of\\nprovisions of the Schengen acquis, as provided for by the Protocol between the\\nEuropean Union, the European Community, the Swiss Confederation and the\\nPrincipality of Liechtenstein on the accession of the Principality of\\nLiechtenstein to the Agreement between the European Union, the European\\nCommunity and the Swiss Confederation on the Swiss Confederation's association\\nwith the implementation, application and development of the Schengen acquis\\n(17).  \\n  \\n---|---  \\n  \\n(104)\\n\\n|\\n\\nThis Directive respects the fundamental rights and observes the principles\\nrecognised in the Charter as enshrined in the TFEU, in particular the right to\\nrespect for private and family life, the right to the protection of personal\\ndata, the right to an effective remedy and to a fair trial.\", start_char_idx=79757, end_char_idx=84388, text_template='{metadata_str}\\n\\n{content}', metadata_template='{key}: {value}', metadata_seperator='\\n'), score=None),\n",
       " NodeWithScore(node=TextNode(id_='e2c2b60e-ddad-475b-8dd0-0e60fc0bc205', embedding=None, metadata={}, excluded_embed_metadata_keys=[], excluded_llm_metadata_keys=[], relationships={<NodeRelationship.SOURCE: '1'>: RelatedNodeInfo(node_id='https://eur-lex.europa.eu/legal-content/EN/TXT/HTML/?uri=CELEX:32016L0680', node_type=<ObjectType.DOCUMENT: '4'>, metadata={}, hash='caf142112d0f6a347f255b21c17bed3b471f6c85a139a8ffc943ead6774c8819'), <NodeRelationship.PREVIOUS: '2'>: RelatedNodeInfo(node_id='2232d8db-29db-4b4a-897a-4c92748e511d', node_type=<ObjectType.TEXT: '1'>, metadata={}, hash='7fd39e670f480488b18b107d301fdeddae8657e23d6fff87385e27ab3ab51e5d'), <NodeRelationship.NEXT: '3'>: RelatedNodeInfo(node_id='e0d5777b-84c2-490c-b42d-1c4be77396b7', node_type=<ObjectType.TEXT: '1'>, metadata={}, hash='18636ef20a5d8aca7ecf3c55bf7867b07416791bb88a820c39d92b463b90948f')}, text=\"---|---  \\n  \\n(103)\\n\\n|\\n\\nAs regards Liechtenstein, this Directive constitutes a development of\\nprovisions of the Schengen acquis, as provided for by the Protocol between the\\nEuropean Union, the European Community, the Swiss Confederation and the\\nPrincipality of Liechtenstein on the accession of the Principality of\\nLiechtenstein to the Agreement between the European Union, the European\\nCommunity and the Swiss Confederation on the Swiss Confederation's association\\nwith the implementation, application and development of the Schengen acquis\\n(17).  \\n  \\n---|---  \\n  \\n(104)\\n\\n|\\n\\nThis Directive respects the fundamental rights and observes the principles\\nrecognised in the Charter as enshrined in the TFEU, in particular the right to\\nrespect for private and family life, the right to the protection of personal\\ndata, the right to an effective remedy and to a fair trial. Limitations placed\\non those rights are in accordance with Article 52(1) of the Charter as they\\nare necessary to meet objectives of general interest recognised by the Union\\nor the need to protect the rights and freedoms of others.  \\n  \\n---|---  \\n  \\n(105)\\n\\n|\\n\\nIn accordance with the Joint Political Declaration of 28 September 2011 of\\nMember States and the Commission on explanatory documents, Member States have\\nundertaken to accompany, in justified cases, the notification of their\\ntransposition measures with one or more documents explaining the relationship\\nbetween the components of a directive and the corresponding parts of national\\ntransposition measures. With regard to this Directive, the legislator\\nconsiders the transmission of such documents to be justified.  \\n  \\n---|---  \\n  \\n(106)\\n\\n|\\n\\nThe European Data Protection Supervisor was consulted in accordance with\\nArticle 28(2) of Regulation (EC) No 45/2001 and delivered an opinion on 7\\nMarch 2012 (18).  \\n  \\n---|---  \\n  \\n(107)\\n\\n|\\n\\nThis Directive should not preclude Member States from implementing the\\nexercise of the rights of data subjects on information, access to and\\nrectification or erasure of personal data and restriction of processing in the\\ncourse of criminal proceedings, and their possible restrictions thereto, in\\nnational rules on criminal procedure,  \\n  \\n---|---  \\n  \\nHAVE ADOPTED THIS DIRECTIVE:\\n\\nCHAPTER I\\n\\nGeneral provisions\\n\\nArticle 1\\n\\nSubject-matter and objectives\\n\\n1\\\\. This Directive lays down the rules relating to the protection of natural\\npersons with regard to the processing of personal data by competent\\nauthorities for the purposes of the prevention, investigation, detection or\\nprosecution of criminal offences or the execution of criminal penalties,\\nincluding the safeguarding against and the prevention of threats to public\\nsecurity.\\n\\n2\\\\. In accordance with this Directive, Member States shall:\\n\\n(a)\\n\\n|\\n\\nprotect the fundamental rights and freedoms of natural persons and in\\nparticular their right to the protection of personal data; and  \\n  \\n---|---  \\n  \\n(b)\\n\\n|\\n\\nensure that the exchange of personal data by competent authorities within the\\nUnion, where such exchange is required by Union or Member State law, is\\nneither restricted nor prohibited for reasons connected with the protection of\\nnatural persons with regard to the processing of personal data.  \\n  \\n---|---  \\n  \\n3\\\\. This Directive shall not preclude Member States from providing higher\\nsafeguards than those established in this Directive for the protection of the\\nrights and freedoms of the data subject with regard to the processing of\\npersonal data by competent authorities.\\n\\nArticle 2\\n\\nScope\\n\\n1\\\\. This Directive applies to the processing of personal data by competent\\nauthorities for the purposes set out in Article 1(1).\\n\\n2\\\\. This Directive applies to the processing of personal data wholly or partly\\nby automated means, and to the processing other than by automated means of\\npersonal data which form part of a filing system or are intended to form part\\nof a filing system.\\n\\n3\\\\. This Directive does not apply to the processing of personal data:\\n\\n(a)\\n\\n|\\n\\nin the course of an activity which falls outside the scope of Union law;  \\n  \\n---|---  \\n  \\n(b)\\n\\n|\\n\\nby the Union institutions, bodies, offices and agencies.\", start_char_idx=83523, end_char_idx=87654, text_template='{metadata_str}\\n\\n{content}', metadata_template='{key}: {value}', metadata_seperator='\\n'), score=None),\n",
       " NodeWithScore(node=TextNode(id_='e0d5777b-84c2-490c-b42d-1c4be77396b7', embedding=None, metadata={}, excluded_embed_metadata_keys=[], excluded_llm_metadata_keys=[], relationships={<NodeRelationship.SOURCE: '1'>: RelatedNodeInfo(node_id='https://eur-lex.europa.eu/legal-content/EN/TXT/HTML/?uri=CELEX:32016L0680', node_type=<ObjectType.DOCUMENT: '4'>, metadata={}, hash='caf142112d0f6a347f255b21c17bed3b471f6c85a139a8ffc943ead6774c8819'), <NodeRelationship.PREVIOUS: '2'>: RelatedNodeInfo(node_id='e2c2b60e-ddad-475b-8dd0-0e60fc0bc205', node_type=<ObjectType.TEXT: '1'>, metadata={}, hash='d8f056a37166ea6e6da5b4293b538997755cd27963765776bd261c67efb7fe82'), <NodeRelationship.NEXT: '3'>: RelatedNodeInfo(node_id='0e148511-e119-43f4-88c9-c75c804c3e5c', node_type=<ObjectType.TEXT: '1'>, metadata={}, hash='82d6ce2fe621346c00c6fab0e554b86401f35b055f081d466ec7efdd0077f892')}, text=\"---|---  \\n  \\n3\\\\. This Directive shall not preclude Member States from providing higher\\nsafeguards than those established in this Directive for the protection of the\\nrights and freedoms of the data subject with regard to the processing of\\npersonal data by competent authorities.\\n\\nArticle 2\\n\\nScope\\n\\n1\\\\. This Directive applies to the processing of personal data by competent\\nauthorities for the purposes set out in Article 1(1).\\n\\n2\\\\. This Directive applies to the processing of personal data wholly or partly\\nby automated means, and to the processing other than by automated means of\\npersonal data which form part of a filing system or are intended to form part\\nof a filing system.\\n\\n3\\\\. This Directive does not apply to the processing of personal data:\\n\\n(a)\\n\\n|\\n\\nin the course of an activity which falls outside the scope of Union law;  \\n  \\n---|---  \\n  \\n(b)\\n\\n|\\n\\nby the Union institutions, bodies, offices and agencies.  \\n  \\n---|---  \\n  \\nArticle 3\\n\\nDefinitions\\n\\nFor the purposes of this Directive:\\n\\n(1)\\n\\n|\\n\\n‘personal data’ means any information relating to an identified or\\nidentifiable natural person (‘data subject’); an identifiable natural person\\nis one who can be identified, directly or indirectly, in particular by\\nreference to an identifier such as a name, an identification number, location\\ndata, an online identifier or to one or more factors specific to the physical,\\nphysiological, genetic, mental, economic, cultural or social identity of that\\nnatural person;  \\n  \\n---|---  \\n  \\n(2)\\n\\n|\\n\\n‘processing’ means any operation or set of operations which is performed on\\npersonal data or on sets of personal data, whether or not by automated means,\\nsuch as collection, recording, organisation, structuring, storage, adaptation\\nor alteration, retrieval, consultation, use, disclosure by transmission,\\ndissemination or otherwise making available, alignment or combination,\\nrestriction, erasure or destruction;  \\n  \\n---|---  \\n  \\n(3)\\n\\n|\\n\\n‘restriction of processing’ means the marking of stored personal data with the\\naim of limiting their processing in the future;  \\n  \\n---|---  \\n  \\n(4)\\n\\n|\\n\\n‘profiling’ means any form of automated processing of personal data consisting\\nof the use of personal data to evaluate certain personal aspects relating to a\\nnatural person, in particular to analyse or predict aspects concerning that\\nnatural person's performance at work, economic situation, health, personal\\npreferences, interests, reliability, behaviour, location or movements;  \\n  \\n---|---  \\n  \\n(5)\\n\\n|\\n\\n‘pseudonymisation’ means the processing of personal data in such a manner that\\nthe personal data can no longer be attributed to a specific data subject\\nwithout the use of additional information, provided that such additional\\ninformation is kept separately and is subject to technical and organisational\\nmeasures to ensure that the personal data are not attributed to an identified\\nor identifiable natural person;  \\n  \\n---|---  \\n  \\n(6)\\n\\n|\\n\\n‘filing system’ means any structured set of personal data which are accessible\\naccording to specific criteria, whether centralised, decentralised or\\ndispersed on a functional or geographical basis;  \\n  \\n---|---  \\n  \\n(7)\\n\\n|\\n\\n‘competent authority’ means:\\n\\n|\\n\\n(a)\\n\\n|\\n\\nany public authority competent for the prevention, investigation, detection or\\nprosecution of criminal offences or the execution of criminal penalties,\\nincluding the safeguarding against and the prevention of threats to public\\nsecurity; or  \\n  \\n---|---  \\n  \\n(b)\\n\\n|\\n\\nany other body or entity entrusted by Member State law to exercise public\\nauthority and public powers for the purposes of the prevention, investigation,\\ndetection or prosecution of criminal offences or the execution of criminal\\npenalties, including the safeguarding against and the prevention of threats to\\npublic security;  \\n  \\n---|---  \\n  \\n(8)\\n\\n|\\n\\n‘controller’ means the competent authority which, alone or jointly with\\nothers, determines the purposes and means of the processing of personal data;\\nwhere the purposes and means of such processing are determined by Union or\\nMember State law, the controller or the specific criteria for its nomination\\nmay be provided for by Union or Member State law;  \\n  \\n---|---  \\n  \\n(9)\\n\\n|\\n\\n‘processor’ means a natural or legal person, public authority, agency or other\\nbody which processes personal data on behalf of the controller;  \\n  \\n---|---  \\n  \\n(10)\\n\\n|\\n\\n‘recipient’ means a natural or legal person, public authority, agency or\\nanother body, to which the personal data are disclosed, whether a third party\\nor not.\", start_char_idx=86740, end_char_idx=91258, text_template='{metadata_str}\\n\\n{content}', metadata_template='{key}: {value}', metadata_seperator='\\n'), score=None),\n",
       " NodeWithScore(node=TextNode(id_='0e148511-e119-43f4-88c9-c75c804c3e5c', embedding=None, metadata={}, excluded_embed_metadata_keys=[], excluded_llm_metadata_keys=[], relationships={<NodeRelationship.SOURCE: '1'>: RelatedNodeInfo(node_id='https://eur-lex.europa.eu/legal-content/EN/TXT/HTML/?uri=CELEX:32016L0680', node_type=<ObjectType.DOCUMENT: '4'>, metadata={}, hash='caf142112d0f6a347f255b21c17bed3b471f6c85a139a8ffc943ead6774c8819'), <NodeRelationship.PREVIOUS: '2'>: RelatedNodeInfo(node_id='e0d5777b-84c2-490c-b42d-1c4be77396b7', node_type=<ObjectType.TEXT: '1'>, metadata={}, hash='18636ef20a5d8aca7ecf3c55bf7867b07416791bb88a820c39d92b463b90948f'), <NodeRelationship.NEXT: '3'>: RelatedNodeInfo(node_id='b135542e-08b7-45e6-a546-a2732e2ac88e', node_type=<ObjectType.TEXT: '1'>, metadata={}, hash='7b540dc9843b95127e83431b4a7dcee0e0a82939e55d8f7077946c63236bfa25')}, text='However, public authorities which may receive personal data in the\\nframework of a particular inquiry in accordance with Member State law shall\\nnot be regarded as recipients; the processing of those data by those public\\nauthorities shall be in compliance with the applicable data protection rules\\naccording to the purposes of the processing;  \\n  \\n---|---  \\n  \\n(11)\\n\\n|\\n\\n‘personal data breach’ means a breach of security leading to the accidental or\\nunlawful destruction, loss, alteration, unauthorised disclosure of, or access\\nto, personal data transmitted, stored or otherwise processed;  \\n  \\n---|---  \\n  \\n(12)\\n\\n|\\n\\n‘genetic data’ means personal data, relating to the inherited or acquired\\ngenetic characteristics of a natural person which give unique information\\nabout the physiology or the health of that natural person and which result, in\\nparticular, from an analysis of a biological sample from the natural person in\\nquestion;  \\n  \\n---|---  \\n  \\n(13)\\n\\n|\\n\\n‘biometric data’ means personal data resulting from specific technical\\nprocessing relating to the physical, physiological or behavioural\\ncharacteristics of a natural person, which allow or confirm the unique\\nidentification of that natural person, such as facial images or dactyloscopic\\ndata;  \\n  \\n---|---  \\n  \\n(14)\\n\\n|\\n\\n‘data concerning health’ means personal data related to the physical or mental\\nhealth of a natural person, including the provision of health care services,\\nwhich reveal information about his or her health status;  \\n  \\n---|---  \\n  \\n(15)\\n\\n|\\n\\n‘supervisory authority’ means an independent public authority which is\\nestablished by a Member State pursuant to Article 41;  \\n  \\n---|---  \\n  \\n(16)\\n\\n|\\n\\n‘international organisation’ means an organisation and its subordinate bodies\\ngoverned by public international law, or any other body which is set up by, or\\non the basis of, an agreement between two or more countries.  \\n  \\n---|---  \\n  \\nCHAPTER II\\n\\nPrinciples\\n\\nArticle 4\\n\\nPrinciples relating to processing of personal data\\n\\n1\\\\. Member States shall provide for personal data to be:\\n\\n(a)\\n\\n|\\n\\nprocessed lawfully and fairly;  \\n  \\n---|---  \\n  \\n(b)\\n\\n|\\n\\ncollected for specified, explicit and legitimate purposes and not processed in\\na manner that is incompatible with those purposes;  \\n  \\n---|---  \\n  \\n(c)\\n\\n|\\n\\nadequate, relevant and not excessive in relation to the purposes for which\\nthey are processed;  \\n  \\n---|---  \\n  \\n(d)\\n\\n|\\n\\naccurate and, where necessary, kept up to date; every reasonable step must be\\ntaken to ensure that personal data that are inaccurate, having regard to the\\npurposes for which they are processed, are erased or rectified without delay;  \\n  \\n---|---  \\n  \\n(e)\\n\\n|\\n\\nkept in a form which permits identification of data subjects for no longer\\nthan is necessary for the purposes for which they are processed;  \\n  \\n---|---  \\n  \\n(f)\\n\\n|\\n\\nprocessed in a manner that ensures appropriate security of the personal data,\\nincluding protection against unauthorised or unlawful processing and against\\naccidental loss, destruction or damage, using appropriate technical or\\norganisational measures.  \\n  \\n---|---  \\n  \\n2\\\\. Processing by the same or another controller for any of the purposes set\\nout in Article 1(1) other than that for which the personal data are collected\\nshall be permitted in so far as:\\n\\n(a)\\n\\n|\\n\\nthe controller is authorised to process such personal data for such a purpose\\nin accordance with Union or Member State law; and  \\n  \\n---|---  \\n  \\n(b)\\n\\n|\\n\\nprocessing is necessary and proportionate to that other purpose in accordance\\nwith Union or Member State law.  \\n  \\n---|---  \\n  \\n3\\\\. Processing by the same or another controller may include archiving in the\\npublic interest, scientific, statistical or historical use, for the purposes\\nset out in Article 1(1), subject to appropriate safeguards for the rights and\\nfreedoms of data subjects.\\n\\n4\\\\. The controller shall be responsible for, and be able to demonstrate\\ncompliance with, paragraphs 1, 2 and 3.\\n\\nArticle 5\\n\\nTime-limits for storage and review\\n\\nMember States shall provide for appropriate time limits to be established for\\nthe erasure of personal data or for a periodic review of the need for the\\nstorage of personal data. Procedural measures shall ensure that those time\\nlimits are observed.', start_char_idx=91259, end_char_idx=95491, text_template='{metadata_str}\\n\\n{content}', metadata_template='{key}: {value}', metadata_seperator='\\n'), score=None),\n",
       " NodeWithScore(node=TextNode(id_='b135542e-08b7-45e6-a546-a2732e2ac88e', embedding=None, metadata={}, excluded_embed_metadata_keys=[], excluded_llm_metadata_keys=[], relationships={<NodeRelationship.SOURCE: '1'>: RelatedNodeInfo(node_id='https://eur-lex.europa.eu/legal-content/EN/TXT/HTML/?uri=CELEX:32016L0680', node_type=<ObjectType.DOCUMENT: '4'>, metadata={}, hash='caf142112d0f6a347f255b21c17bed3b471f6c85a139a8ffc943ead6774c8819'), <NodeRelationship.PREVIOUS: '2'>: RelatedNodeInfo(node_id='0e148511-e119-43f4-88c9-c75c804c3e5c', node_type=<ObjectType.TEXT: '1'>, metadata={}, hash='82d6ce2fe621346c00c6fab0e554b86401f35b055f081d466ec7efdd0077f892'), <NodeRelationship.NEXT: '3'>: RelatedNodeInfo(node_id='5358b290-2f1d-49fe-8f62-83ce132da635', node_type=<ObjectType.TEXT: '1'>, metadata={}, hash='d76497919d0f5e9340f4348158092bcec7d5695ca7d1e14c5493073d003653c0')}, text='---|---  \\n  \\n3\\\\. Processing by the same or another controller may include archiving in the\\npublic interest, scientific, statistical or historical use, for the purposes\\nset out in Article 1(1), subject to appropriate safeguards for the rights and\\nfreedoms of data subjects.\\n\\n4\\\\. The controller shall be responsible for, and be able to demonstrate\\ncompliance with, paragraphs 1, 2 and 3.\\n\\nArticle 5\\n\\nTime-limits for storage and review\\n\\nMember States shall provide for appropriate time limits to be established for\\nthe erasure of personal data or for a periodic review of the need for the\\nstorage of personal data. Procedural measures shall ensure that those time\\nlimits are observed.\\n\\nArticle 6\\n\\nDistinction between different categories of data subject\\n\\nMember States shall provide for the controller, where applicable and as far as\\npossible, to make a clear distinction between personal data of different\\ncategories of data subjects, such as:\\n\\n(a)\\n\\n|\\n\\npersons with regard to whom there are serious grounds for believing that they\\nhave committed or are about to commit a criminal offence;  \\n  \\n---|---  \\n  \\n(b)\\n\\n|\\n\\npersons convicted of a criminal offence;  \\n  \\n---|---  \\n  \\n(c)\\n\\n|\\n\\nvictims of a criminal offence or persons with regard to whom certain facts\\ngive rise to reasons for believing that he or she could be the victim of a\\ncriminal offence; and  \\n  \\n---|---  \\n  \\n(d)\\n\\n|\\n\\nother parties to a criminal offence, such as persons who might be called on to\\ntestify in investigations in connection with criminal offences or subsequent\\ncriminal proceedings, persons who can provide information on criminal\\noffences, or contacts or associates of one of the persons referred to in\\npoints (a) and (b).  \\n  \\n---|---  \\n  \\nArticle 7\\n\\nDistinction between personal data and verification of quality of personal data\\n\\n1\\\\. Member States shall provide for personal data based on facts to be\\ndistinguished, as far as possible, from personal data based on personal\\nassessments.\\n\\n2\\\\. Member States shall provide for the competent authorities to take all\\nreasonable steps to ensure that personal data which are inaccurate, incomplete\\nor no longer up to date are not transmitted or made available. To that end,\\neach competent authority shall, as far as practicable, verify the quality of\\npersonal data before they are transmitted or made available. As far as\\npossible, in all transmissions of personal data, necessary information\\nenabling the receiving competent authority to assess the degree of accuracy,\\ncompleteness and reliability of personal data, and the extent to which they\\nare up to date shall be added.\\n\\n3\\\\. If it emerges that incorrect personal data have been transmitted or\\npersonal data have been unlawfully transmitted, the recipient shall be\\nnotified without delay. In such a case, the personal data shall be rectified\\nor erased or processing shall be restricted in accordance with Article 16.\\n\\nArticle 8\\n\\nLawfulness of processing\\n\\n1\\\\. Member States shall provide for processing to be lawful only if and to the\\nextent that processing is necessary for the performance of a task carried out\\nby a competent authority for the purposes set out in Article 1(1) and that it\\nis based on Union or Member State law.\\n\\n2\\\\. Member State law regulating processing within the scope of this Directive\\nshall specify at least the objectives of processing, the personal data to be\\nprocessed and the purposes of the processing.\\n\\nArticle 9\\n\\nSpecific processing conditions\\n\\n1\\\\. Personal data collected by competent authorities for the purposes set out\\nin Article 1(1) shall not be processed for purposes other than those set out\\nin Article 1(1) unless such processing is authorised by Union or Member State\\nlaw. Where personal data are processed for such other purposes, Regulation\\n(EU) 2016/679 shall apply unless the processing is carried out in an activity\\nwhich falls outside the scope of Union law.\\n\\n2\\\\. Where competent authorities are entrusted by Member State law with the\\nperformance of tasks other than those performed for the purposes set out in\\nArticle 1(1), Regulation (EU) 2016/679 shall apply to processing for such\\npurposes, including for archiving purposes in the public interest, scientific\\nor historical research purposes or statistical purposes, unless the processing\\nis carried out in an activity which falls outside the scope of Union law.\\n\\n3\\\\. Member States shall, where Union or Member State law applicable to the\\ntransmitting competent authority provides specific conditions for processing,\\nprovide for the transmitting competent authority to inform the recipient of\\nsuch personal data of those conditions and the requirement to comply with\\nthem.\\n\\n4\\\\.', start_char_idx=94810, end_char_idx=99460, text_template='{metadata_str}\\n\\n{content}', metadata_template='{key}: {value}', metadata_seperator='\\n'), score=None),\n",
       " NodeWithScore(node=TextNode(id_='5358b290-2f1d-49fe-8f62-83ce132da635', embedding=None, metadata={}, excluded_embed_metadata_keys=[], excluded_llm_metadata_keys=[], relationships={<NodeRelationship.SOURCE: '1'>: RelatedNodeInfo(node_id='https://eur-lex.europa.eu/legal-content/EN/TXT/HTML/?uri=CELEX:32016L0680', node_type=<ObjectType.DOCUMENT: '4'>, metadata={}, hash='caf142112d0f6a347f255b21c17bed3b471f6c85a139a8ffc943ead6774c8819'), <NodeRelationship.PREVIOUS: '2'>: RelatedNodeInfo(node_id='b135542e-08b7-45e6-a546-a2732e2ac88e', node_type=<ObjectType.TEXT: '1'>, metadata={}, hash='7b540dc9843b95127e83431b4a7dcee0e0a82939e55d8f7077946c63236bfa25'), <NodeRelationship.NEXT: '3'>: RelatedNodeInfo(node_id='bcbdacc2-ec8d-4452-9085-abc092638629', node_type=<ObjectType.TEXT: '1'>, metadata={}, hash='bcfac6095f61b2b6ead4996d08d7287f4bfdafe47a17fd749ec59f9e1db296cc')}, text=\"Where personal data are processed for such other purposes, Regulation\\n(EU) 2016/679 shall apply unless the processing is carried out in an activity\\nwhich falls outside the scope of Union law.\\n\\n2\\\\. Where competent authorities are entrusted by Member State law with the\\nperformance of tasks other than those performed for the purposes set out in\\nArticle 1(1), Regulation (EU) 2016/679 shall apply to processing for such\\npurposes, including for archiving purposes in the public interest, scientific\\nor historical research purposes or statistical purposes, unless the processing\\nis carried out in an activity which falls outside the scope of Union law.\\n\\n3\\\\. Member States shall, where Union or Member State law applicable to the\\ntransmitting competent authority provides specific conditions for processing,\\nprovide for the transmitting competent authority to inform the recipient of\\nsuch personal data of those conditions and the requirement to comply with\\nthem.\\n\\n4\\\\. Member States shall provide for the transmitting competent authority not\\nto apply conditions pursuant to paragraph 3 to recipients in other Member\\nStates or to agencies, offices and bodies established pursuant to Chapters 4\\nand 5 of Title V of the TFEU other than those applicable to similar\\ntransmissions of data within the Member State of the transmitting competent\\nauthority.\\n\\nArticle 10\\n\\nProcessing of special categories of personal data\\n\\nProcessing of personal data revealing racial or ethnic origin, political\\nopinions, religious or philosophical beliefs, or trade union membership, and\\nthe processing of genetic data, biometric data for the purpose of uniquely\\nidentifying a natural person, data concerning health or data concerning a\\nnatural person's sex life or sexual orientation shall be allowed only where\\nstrictly necessary, subject to appropriate safeguards for the rights and\\nfreedoms of the data subject, and only:\\n\\n(a)\\n\\n|\\n\\nwhere authorised by Union or Member State law;  \\n  \\n---|---  \\n  \\n(b)\\n\\n|\\n\\nto protect the vital interests of the data subject or of another natural\\nperson; or  \\n  \\n---|---  \\n  \\n(c)\\n\\n|\\n\\nwhere such processing relates to data which are manifestly made public by the\\ndata subject.  \\n  \\n---|---  \\n  \\nArticle 11\\n\\nAutomated individual decision-making\\n\\n1\\\\. Member States shall provide for a decision based solely on automated\\nprocessing, including profiling, which produces an adverse legal effect\\nconcerning the data subject or significantly affects him or her, to be\\nprohibited unless authorised by Union or Member State law to which the\\ncontroller is subject and which provides appropriate safeguards for the rights\\nand freedoms of the data subject, at least the right to obtain human\\nintervention on the part of the controller.\\n\\n2\\\\. Decisions referred to in paragraph 1 of this Article shall not be based on\\nspecial categories of personal data referred to in Article 10, unless suitable\\nmeasures to safeguard the data subject's rights and freedoms and legitimate\\ninterests are in place.\\n\\n3\\\\. Profiling that results in discrimination against natural persons on the\\nbasis of special categories of personal data referred to in Article 10 shall\\nbe prohibited, in accordance with Union law.\\n\\nCHAPTER III\\n\\nRights of the data subject\\n\\nArticle 12\\n\\nCommunication and modalities for exercising the rights of the data subject\\n\\n1\\\\. Member States shall provide for the controller to take reasonable steps to\\nprovide any information referred to in Article 13 and make any communication\\nwith regard to Articles 11, 14 to 18 and 31 relating to processing to the data\\nsubject in a concise, intelligible and easily accessible form, using clear and\\nplain language. The information shall be provided by any appropriate means,\\nincluding by electronic means. As a general rule, the controller shall provide\\nthe information in the same form as the request.\\n\\n2\\\\. Member States shall provide for the controller to facilitate the exercise\\nof the rights of the data subject under Articles 11 and 14 to 18.\\n\\n3\\\\. Member States shall provide for the controller to inform the data subject\\nin writing about the follow up to his or her request without undue delay.\\n\\n4\\\\. Member States shall provide for the information provided under Article 13\\nand any communication made or action taken pursuant to Articles 11, 14 to 18\\nand 31 to be provided free of charge. Where requests from a data subject are\\nmanifestly unfounded or excessive, in particular because of their repetitive\\ncharacter, the controller may either:\\n\\n(a)\\n\\n|\\n\\ncharge a reasonable fee, taking into account the administrative costs of\\nproviding the information or communication or taking the action requested; or  \\n  \\n---|---  \\n  \\n(b)\\n\\n|\\n\\nrefuse to act on the request.  \\n  \\n---|---  \\n  \\nThe controller shall bear the burden of demonstrating the manifestly unfounded\\nor excessive character of the request.\\n\\n5\\\\.\", start_char_idx=98497, end_char_idx=103331, text_template='{metadata_str}\\n\\n{content}', metadata_template='{key}: {value}', metadata_seperator='\\n'), score=None),\n",
       " NodeWithScore(node=TextNode(id_='bcbdacc2-ec8d-4452-9085-abc092638629', embedding=None, metadata={}, excluded_embed_metadata_keys=[], excluded_llm_metadata_keys=[], relationships={<NodeRelationship.SOURCE: '1'>: RelatedNodeInfo(node_id='https://eur-lex.europa.eu/legal-content/EN/TXT/HTML/?uri=CELEX:32016L0680', node_type=<ObjectType.DOCUMENT: '4'>, metadata={}, hash='caf142112d0f6a347f255b21c17bed3b471f6c85a139a8ffc943ead6774c8819'), <NodeRelationship.PREVIOUS: '2'>: RelatedNodeInfo(node_id='5358b290-2f1d-49fe-8f62-83ce132da635', node_type=<ObjectType.TEXT: '1'>, metadata={}, hash='d76497919d0f5e9340f4348158092bcec7d5695ca7d1e14c5493073d003653c0'), <NodeRelationship.NEXT: '3'>: RelatedNodeInfo(node_id='9934ed78-5878-4131-a0d5-280669dc46fb', node_type=<ObjectType.TEXT: '1'>, metadata={}, hash='8f408dcd74c89131b924a8e9bf9d731ae095ffc3d4cedb6506822a014bc05fb3')}, text='3\\\\. Member States shall provide for the controller to inform the data subject\\nin writing about the follow up to his or her request without undue delay.\\n\\n4\\\\. Member States shall provide for the information provided under Article 13\\nand any communication made or action taken pursuant to Articles 11, 14 to 18\\nand 31 to be provided free of charge. Where requests from a data subject are\\nmanifestly unfounded or excessive, in particular because of their repetitive\\ncharacter, the controller may either:\\n\\n(a)\\n\\n|\\n\\ncharge a reasonable fee, taking into account the administrative costs of\\nproviding the information or communication or taking the action requested; or  \\n  \\n---|---  \\n  \\n(b)\\n\\n|\\n\\nrefuse to act on the request.  \\n  \\n---|---  \\n  \\nThe controller shall bear the burden of demonstrating the manifestly unfounded\\nor excessive character of the request.\\n\\n5\\\\. Where the controller has reasonable doubts concerning the identity of the\\nnatural person making a request referred to in Article 14 or 16, the\\ncontroller may request the provision of additional information necessary to\\nconfirm the identity of the data subject.\\n\\nArticle 13\\n\\nInformation to be made available or given to the data subject\\n\\n1\\\\. Member States shall provide for the controller to make available to the\\ndata subject at least the following information:\\n\\n(a)\\n\\n|\\n\\nthe identity and the contact details of the controller;  \\n  \\n---|---  \\n  \\n(b)\\n\\n|\\n\\nthe contact details of the data protection officer, where applicable;  \\n  \\n---|---  \\n  \\n(c)\\n\\n|\\n\\nthe purposes of the processing for which the personal data are intended;  \\n  \\n---|---  \\n  \\n(d)\\n\\n|\\n\\nthe right to lodge a complaint with a supervisory authority and the contact\\ndetails of the supervisory authority;  \\n  \\n---|---  \\n  \\n(e)\\n\\n|\\n\\nthe existence of the right to request from the controller access to and\\nrectification or erasure of personal data and restriction of processing of the\\npersonal data concerning the data subject.  \\n  \\n---|---  \\n  \\n2\\\\. In addition to the information referred to in paragraph 1, Member States\\nshall provide by law for the controller to give to the data subject, in\\nspecific cases, the following further information to enable the exercise of\\nhis or her rights:\\n\\n(a)\\n\\n|\\n\\nthe legal basis for the processing;  \\n  \\n---|---  \\n  \\n(b)\\n\\n|\\n\\nthe period for which the personal data will be stored, or, where that is not\\npossible, the criteria used to determine that period;  \\n  \\n---|---  \\n  \\n(c)\\n\\n|\\n\\nwhere applicable, the categories of recipients of the personal data, including\\nin third countries or international organisations;  \\n  \\n---|---  \\n  \\n(d)\\n\\n|\\n\\nwhere necessary, further information, in particular where the personal data\\nare collected without the knowledge of the data subject.  \\n  \\n---|---  \\n  \\n3\\\\. Member States may adopt legislative measures delaying, restricting or\\nomitting the provision of the information to the data subject pursuant to\\nparagraph 2 to the extent that, and for as long as, such a measure constitutes\\na necessary and proportionate measure in a democratic society with due regard\\nfor the fundamental rights and the legitimate interests of the natural person\\nconcerned, in order to:\\n\\n(a)\\n\\n|\\n\\navoid obstructing official or legal inquiries, investigations or procedures;  \\n  \\n---|---  \\n  \\n(b)\\n\\n|\\n\\navoid prejudicing the prevention, detection, investigation or prosecution of\\ncriminal offences or the execution of criminal penalties;  \\n  \\n---|---  \\n  \\n(c)\\n\\n|\\n\\nprotect public security;  \\n  \\n---|---  \\n  \\n(d)\\n\\n|\\n\\nprotect national security;  \\n  \\n---|---  \\n  \\n(e)\\n\\n|\\n\\nprotect the rights and freedoms of others.  \\n  \\n---|---  \\n  \\n4\\\\. Member States may adopt legislative measures in order to determine\\ncategories of processing which may wholly or partly fall under any of the\\npoints listed in paragraph 3.', start_char_idx=102475, end_char_idx=106230, text_template='{metadata_str}\\n\\n{content}', metadata_template='{key}: {value}', metadata_seperator='\\n'), score=None),\n",
       " NodeWithScore(node=TextNode(id_='9934ed78-5878-4131-a0d5-280669dc46fb', embedding=None, metadata={}, excluded_embed_metadata_keys=[], excluded_llm_metadata_keys=[], relationships={<NodeRelationship.SOURCE: '1'>: RelatedNodeInfo(node_id='https://eur-lex.europa.eu/legal-content/EN/TXT/HTML/?uri=CELEX:32016L0680', node_type=<ObjectType.DOCUMENT: '4'>, metadata={}, hash='caf142112d0f6a347f255b21c17bed3b471f6c85a139a8ffc943ead6774c8819'), <NodeRelationship.PREVIOUS: '2'>: RelatedNodeInfo(node_id='bcbdacc2-ec8d-4452-9085-abc092638629', node_type=<ObjectType.TEXT: '1'>, metadata={}, hash='bcfac6095f61b2b6ead4996d08d7287f4bfdafe47a17fd749ec59f9e1db296cc'), <NodeRelationship.NEXT: '3'>: RelatedNodeInfo(node_id='97ffa007-7f7b-441f-8aa0-5f0e86b52ae7', node_type=<ObjectType.TEXT: '1'>, metadata={}, hash='62726a2603d1989571eb2fc8cbbf93ed47f2ab1cf7f841c45287fa0a925847f1')}, text=\"---|---  \\n  \\n4\\\\. Member States may adopt legislative measures in order to determine\\ncategories of processing which may wholly or partly fall under any of the\\npoints listed in paragraph 3.\\n\\nArticle 14\\n\\nRight of access by the data subject\\n\\nSubject to Article 15, Member States shall provide for the right of the data\\nsubject to obtain from the controller confirmation as to whether or not\\npersonal data concerning him or her are being processed, and, where that is\\nthe case, access to the personal data and the following information:\\n\\n(a)\\n\\n|\\n\\nthe purposes of and legal basis for the processing;  \\n  \\n---|---  \\n  \\n(b)\\n\\n|\\n\\nthe categories of personal data concerned;  \\n  \\n---|---  \\n  \\n(c)\\n\\n|\\n\\nthe recipients or categories of recipients to whom the personal data have been\\ndisclosed, in particular recipients in third countries or international\\norganisations;  \\n  \\n---|---  \\n  \\n(d)\\n\\n|\\n\\nwhere possible, the envisaged period for which the personal data will be\\nstored, or, if not possible, the criteria used to determine that period;  \\n  \\n---|---  \\n  \\n(e)\\n\\n|\\n\\nthe existence of the right to request from the controller rectification or\\nerasure of personal data or restriction of processing of personal data\\nconcerning the data subject;  \\n  \\n---|---  \\n  \\n(f)\\n\\n|\\n\\nthe right to lodge a complaint with the supervisory authority and the contact\\ndetails of the supervisory authority;  \\n  \\n---|---  \\n  \\n(g)\\n\\n|\\n\\ncommunication of the personal data undergoing processing and of any available\\ninformation as to their origin.  \\n  \\n---|---  \\n  \\nArticle 15\\n\\nLimitations to the right of access\\n\\n1\\\\. Member States may adopt legislative measures restricting, wholly or\\npartly, the data subject's right of access to the extent that, and for as long\\nas such a partial or complete restriction constitutes a necessary and\\nproportionate measure in a democratic society with due regard for the\\nfundamental rights and legitimate interests of the natural person concerned,\\nin order to:\\n\\n(a)\\n\\n|\\n\\navoid obstructing official or legal inquiries, investigations or procedures;  \\n  \\n---|---  \\n  \\n(b)\\n\\n|\\n\\navoid prejudicing the prevention, detection, investigation or prosecution of\\ncriminal offences or the execution of criminal penalties;  \\n  \\n---|---  \\n  \\n(c)\\n\\n|\\n\\nprotect public security;  \\n  \\n---|---  \\n  \\n(d)\\n\\n|\\n\\nprotect national security;  \\n  \\n---|---  \\n  \\n(e)\\n\\n|\\n\\nprotect the rights and freedoms of others.  \\n  \\n---|---  \\n  \\n2\\\\. Member States may adopt legislative measures in order to determine\\ncategories of processing which may wholly or partly fall under points (a) to\\n(e) of paragraph 1.\\n\\n3\\\\. In the cases referred to in paragraphs 1 and 2, Member States shall\\nprovide for the controller to inform the data subject, without undue delay, in\\nwriting of any refusal or restriction of access and of the reasons for the\\nrefusal or the restriction. Such information may be omitted where the\\nprovision thereof would undermine a purpose under paragraph 1. Member States\\nshall provide for the controller to inform the data subject of the possibility\\nof lodging a complaint with a supervisory authority or seeking a judicial\\nremedy.\\n\\n4\\\\. Member States shall provide for the controller to document the factual or\\nlegal reasons on which the decision is based. That information shall be made\\navailable to the supervisory authorities.\\n\\nArticle 16\\n\\nRight to rectification or erasure of personal data and restriction of\\nprocessing\\n\\n1\\\\. Member States shall provide for the right of the data subject to obtain\\nfrom the controller without undue delay the rectification of inaccurate\\npersonal data relating to him or her. Taking into account the purposes of the\\nprocessing, Member States shall provide for the data subject to have the right\\nto have incomplete personal data completed, including by means of providing a\\nsupplementary statement.\\n\\n2\\\\. Member States shall require the controller to erase personal data without\\nundue delay and provide for the right of the data subject to obtain from the\\ncontroller the erasure of personal data concerning him or her without undue\\ndelay where processing infringes the provisions adopted pursuant to Article 4,\\n8 or 10, or where personal data must be erased in order to comply with a legal\\nobligation to which the controller is subject.\\n\\n3\\\\. Instead of erasure, the controller shall restrict processing where:\\n\\n(a)\\n\\n|\\n\\nthe accuracy of the personal data is contested by the data subject and their\\naccuracy or inaccuracy cannot be ascertained; or  \\n  \\n---|---  \\n  \\n(b)\\n\\n|\\n\\nthe personal data must be maintained for the purposes of evidence.  \\n  \\n---|---  \\n  \\nWhere processing is restricted pursuant to point (a) of the first\\nsubparagraph, the controller shall inform the data subject before lifting the\\nrestriction of processing.\\n\\n4\\\\. Member States shall provide for the controller to inform the data subject\\nin writing of any refusal of rectification or erasure of personal data or\\nrestriction of processing and of the reasons for the refusal.\", start_char_idx=106043, end_char_idx=110978, text_template='{metadata_str}\\n\\n{content}', metadata_template='{key}: {value}', metadata_seperator='\\n'), score=None),\n",
       " NodeWithScore(node=TextNode(id_='97ffa007-7f7b-441f-8aa0-5f0e86b52ae7', embedding=None, metadata={}, excluded_embed_metadata_keys=[], excluded_llm_metadata_keys=[], relationships={<NodeRelationship.SOURCE: '1'>: RelatedNodeInfo(node_id='https://eur-lex.europa.eu/legal-content/EN/TXT/HTML/?uri=CELEX:32016L0680', node_type=<ObjectType.DOCUMENT: '4'>, metadata={}, hash='caf142112d0f6a347f255b21c17bed3b471f6c85a139a8ffc943ead6774c8819'), <NodeRelationship.PREVIOUS: '2'>: RelatedNodeInfo(node_id='9934ed78-5878-4131-a0d5-280669dc46fb', node_type=<ObjectType.TEXT: '1'>, metadata={}, hash='8f408dcd74c89131b924a8e9bf9d731ae095ffc3d4cedb6506822a014bc05fb3'), <NodeRelationship.NEXT: '3'>: RelatedNodeInfo(node_id='aca8b9ea-a25d-4802-bcfb-17dbaf896403', node_type=<ObjectType.TEXT: '1'>, metadata={}, hash='91d9a2a525e4da9d21d3e87aaddf614c109feb685b35e53df58dccdb649078ea')}, text='3\\\\. Instead of erasure, the controller shall restrict processing where:\\n\\n(a)\\n\\n|\\n\\nthe accuracy of the personal data is contested by the data subject and their\\naccuracy or inaccuracy cannot be ascertained; or  \\n  \\n---|---  \\n  \\n(b)\\n\\n|\\n\\nthe personal data must be maintained for the purposes of evidence.  \\n  \\n---|---  \\n  \\nWhere processing is restricted pursuant to point (a) of the first\\nsubparagraph, the controller shall inform the data subject before lifting the\\nrestriction of processing.\\n\\n4\\\\. Member States shall provide for the controller to inform the data subject\\nin writing of any refusal of rectification or erasure of personal data or\\nrestriction of processing and of the reasons for the refusal. Member States\\nmay adopt legislative measures restricting, wholly or partly, the obligation\\nto provide such information to the extent that such a restriction constitutes\\na necessary and proportionate measure in a democratic society with due regard\\nfor the fundamental rights and legitimate interests of the natural person\\nconcerned in order to:\\n\\n(a)\\n\\n|\\n\\navoid obstructing official or legal inquiries, investigations or procedures;  \\n  \\n---|---  \\n  \\n(b)\\n\\n|\\n\\navoid prejudicing the prevention, detection, investigation or prosecution of\\ncriminal offences or the execution of criminal penalties;  \\n  \\n---|---  \\n  \\n(c)\\n\\n|\\n\\nprotect public security;  \\n  \\n---|---  \\n  \\n(d)\\n\\n|\\n\\nprotect national security;  \\n  \\n---|---  \\n  \\n(e)\\n\\n|\\n\\nprotect the rights and freedoms of others.  \\n  \\n---|---  \\n  \\nMember States shall provide for the controller to inform the data subject of\\nthe possibility of lodging a complaint with a supervisory authority or seeking\\na judicial remedy.\\n\\n5\\\\. Member States shall provide for the controller to communicate the\\nrectification of inaccurate personal data to the competent authority from\\nwhich the inaccurate personal data originate.\\n\\n6\\\\. Member States shall, where personal data has been rectified or erased or\\nprocessing has been restricted pursuant to paragraphs 1, 2 and 3, provide for\\nthe controller to notify the recipients and that the recipients shall rectify\\nor erase the personal data or restrict processing of the personal data under\\ntheir responsibility.\\n\\nArticle 17\\n\\nExercise of rights by the data subject and verification by the supervisory\\nauthority\\n\\n1\\\\. In the cases referred to in Article 13(3), Article 15(3) and Article 16(4)\\nMember States shall adopt measures providing that the rights of the data\\nsubject may also be exercised through the competent supervisory authority.\\n\\n2\\\\. Member States shall provide for the controller to inform the data subject\\nof the possibility of exercising his or her rights through the supervisory\\nauthority pursuant to paragraph 1.\\n\\n3\\\\. Where the right referred to in paragraph 1 is exercised, the supervisory\\nauthority shall inform the data subject at least that all necessary\\nverifications or a review by the supervisory authority have taken place. The\\nsupervisory authority shall also inform the data subject of his or her right\\nto seek a judicial remedy.\\n\\nArticle 18\\n\\nRights of the data subject in criminal investigations and proceedings\\n\\nMember States may provide for the exercise of the rights referred to in\\nArticles 13, 14 and 16 to be carried out in accordance with Member State law\\nwhere the personal data are contained in a judicial decision or record or case\\nfile processed in the course of criminal investigations and proceedings.\\n\\nCHAPTER IV\\n\\nController and processor\\n\\nSection 1\\n\\nGeneral obligations\\n\\nArticle 19\\n\\nObligations of the controller\\n\\n1\\\\. Member States shall provide for the controller, taking into account the\\nnature, scope, context and purposes of processing as well as the risks of\\nvarying likelihood and severity for the rights and freedoms of natural\\npersons, to implement appropriate technical and organisational measures to\\nensure and to be able to demonstrate that processing is performed in\\naccordance with this Directive. Those measures shall be reviewed and updated\\nwhere necessary.\\n\\n2\\\\. Where proportionate in relation to the processing activities, the measures\\nreferred to in paragraph 1 shall include the implementation of appropriate\\ndata protection policies by the controller.\\n\\nArticle 20\\n\\nData protection by design and by default\\n\\n1\\\\. Member States shall provide for the controller, taking into account the\\nstate of the art, the cost of implementation and the nature, scope, context\\nand purposes of processing, as well as the risks of varying likelihood and\\nseverity for rights and freedoms of natural persons posed by the processing,\\nboth at the time of the determination of the means for processing and at the\\ntime of the processing itself, to implement appropriate technical and\\norganisational measures, such as pseudonymisation, which are designed to\\nimplement data protection principles, such as data minimisation, in an\\neffective manner and to integrate the necessary safeguards into the\\nprocessing, in order to meet the requirements of this Directive and protect\\nthe rights of data subjects.\\n\\n2\\\\.', start_char_idx=110275, end_char_idx=115286, text_template='{metadata_str}\\n\\n{content}', metadata_template='{key}: {value}', metadata_seperator='\\n'), score=None),\n",
       " NodeWithScore(node=TextNode(id_='aca8b9ea-a25d-4802-bcfb-17dbaf896403', embedding=None, metadata={}, excluded_embed_metadata_keys=[], excluded_llm_metadata_keys=[], relationships={<NodeRelationship.SOURCE: '1'>: RelatedNodeInfo(node_id='https://eur-lex.europa.eu/legal-content/EN/TXT/HTML/?uri=CELEX:32016L0680', node_type=<ObjectType.DOCUMENT: '4'>, metadata={}, hash='caf142112d0f6a347f255b21c17bed3b471f6c85a139a8ffc943ead6774c8819'), <NodeRelationship.PREVIOUS: '2'>: RelatedNodeInfo(node_id='97ffa007-7f7b-441f-8aa0-5f0e86b52ae7', node_type=<ObjectType.TEXT: '1'>, metadata={}, hash='62726a2603d1989571eb2fc8cbbf93ed47f2ab1cf7f841c45287fa0a925847f1'), <NodeRelationship.NEXT: '3'>: RelatedNodeInfo(node_id='fc59e241-370d-4cdf-9630-61d0b4102bb6', node_type=<ObjectType.TEXT: '1'>, metadata={}, hash='8edde7b08111151623ecdb08d96f05d237c13d71f061dd9cf5b95cd6c62d29f8')}, text=\"Where proportionate in relation to the processing activities, the measures\\nreferred to in paragraph 1 shall include the implementation of appropriate\\ndata protection policies by the controller.\\n\\nArticle 20\\n\\nData protection by design and by default\\n\\n1\\\\. Member States shall provide for the controller, taking into account the\\nstate of the art, the cost of implementation and the nature, scope, context\\nand purposes of processing, as well as the risks of varying likelihood and\\nseverity for rights and freedoms of natural persons posed by the processing,\\nboth at the time of the determination of the means for processing and at the\\ntime of the processing itself, to implement appropriate technical and\\norganisational measures, such as pseudonymisation, which are designed to\\nimplement data protection principles, such as data minimisation, in an\\neffective manner and to integrate the necessary safeguards into the\\nprocessing, in order to meet the requirements of this Directive and protect\\nthe rights of data subjects.\\n\\n2\\\\. Member States shall provide for the controller to implement appropriate\\ntechnical and organisational measures ensuring that, by default, only personal\\ndata which are necessary for each specific purpose of the processing are\\nprocessed. That obligation applies to the amount of personal data collected,\\nthe extent of their processing, the period of their storage and their\\naccessibility. In particular, such measures shall ensure that by default\\npersonal data are not made accessible without the individual's intervention to\\nan indefinite number of natural persons.\\n\\nArticle 21\\n\\nJoint controllers\\n\\n1\\\\. Member States shall, where two or more controllers jointly determine the\\npurposes and means of processing, provide for them to be joint controllers.\\nThey shall, in a transparent manner, determine their respective\\nresponsibilities for compliance with this Directive, in particular as regards\\nthe exercise of the rights of the data subject and their respective duties to\\nprovide the information referred to in Article 13, by means of an arrangement\\nbetween them unless, and in so far as, the respective responsibilities of the\\ncontrollers are determined by Union or Member State law to which the\\ncontrollers are subject. The arrangement shall designate the contact point for\\ndata subjects. Member States may designate which of the joint controllers can\\nact as a single contact point for data subjects to exercise their rights.\\n\\n2\\\\. Irrespective of the terms of the arrangement referred to in paragraph 1,\\nMember States may provide for the data subject to exercise his or her rights\\nunder the provisions adopted pursuant to this Directive in respect of and\\nagainst each of the controllers.\\n\\nArticle 22\\n\\nProcessor\\n\\n1\\\\. Member States shall, where processing is to be carried out on behalf of a\\ncontroller, provide for the controller to use only processors providing\\nsufficient guarantees to implement appropriate technical and organisational\\nmeasures in such a manner that the processing will meet the requirements of\\nthis Directive and ensure the protection of the rights of the data subject.\\n\\n2\\\\. Member States shall provide for the processor not to engage another\\nprocessor without prior specific or general written authorisation by the\\ncontroller. In the case of general written authorisation, the processor shall\\ninform the controller of any intended changes concerning the addition or\\nreplacement of other processors, thereby giving the controller the opportunity\\nto object to such changes.\\n\\n3\\\\. Member States shall provide for the processing by a processor to be\\ngoverned by a contract or other legal act under Union or Member State law,\\nthat is binding on the processor with regard to the controller and that sets\\nout the subject-matter and duration of the processing, the nature and purpose\\nof the processing, the type of personal data and categories of data subjects\\nand the obligations and rights of the controller. That contract or other legal\\nact shall stipulate, in particular, that the processor:\\n\\n(a)\\n\\n|\\n\\nacts only on instructions from the controller;  \\n  \\n---|---  \\n  \\n(b)\\n\\n|\\n\\nensures that persons authorised to process the personal data have committed\\nthemselves to confidentiality or are under an appropriate statutory obligation\\nof confidentiality;  \\n  \\n---|---  \\n  \\n(c)\\n\\n|\\n\\nassists the controller by any appropriate means to ensure compliance with the\\nprovisions on the data subject's rights;  \\n  \\n---|---  \\n  \\n(d)\\n\\n|\\n\\nat the choice of the controller, deletes or returns all the personal data to\\nthe controller after the end of the provision of data processing services, and\\ndeletes existing copies unless Union or Member State law requires storage of\\nthe personal data;  \\n  \\n---|---  \\n  \\n(e)\\n\\n|\\n\\nmakes available to the controller all information necessary to demonstrate\\ncompliance with this Article;  \\n  \\n---|---  \\n  \\n(f)\\n\\n|\\n\\ncomplies with the conditions referred to in paragraphs 2 and 3 for engaging\\nanother processor.  \\n  \\n---|---  \\n  \\n4\\\\. The contract or the other legal act referred to in paragraph 3 shall be in\\nwriting, including in an electronic form.\\n\\n5\\\\.\", start_char_idx=114265, end_char_idx=119369, text_template='{metadata_str}\\n\\n{content}', metadata_template='{key}: {value}', metadata_seperator='\\n'), score=None),\n",
       " NodeWithScore(node=TextNode(id_='fc59e241-370d-4cdf-9630-61d0b4102bb6', embedding=None, metadata={}, excluded_embed_metadata_keys=[], excluded_llm_metadata_keys=[], relationships={<NodeRelationship.SOURCE: '1'>: RelatedNodeInfo(node_id='https://eur-lex.europa.eu/legal-content/EN/TXT/HTML/?uri=CELEX:32016L0680', node_type=<ObjectType.DOCUMENT: '4'>, metadata={}, hash='caf142112d0f6a347f255b21c17bed3b471f6c85a139a8ffc943ead6774c8819'), <NodeRelationship.PREVIOUS: '2'>: RelatedNodeInfo(node_id='aca8b9ea-a25d-4802-bcfb-17dbaf896403', node_type=<ObjectType.TEXT: '1'>, metadata={}, hash='91d9a2a525e4da9d21d3e87aaddf614c109feb685b35e53df58dccdb649078ea'), <NodeRelationship.NEXT: '3'>: RelatedNodeInfo(node_id='3c6dc843-39cc-4ed0-a382-703aa5aacaf0', node_type=<ObjectType.TEXT: '1'>, metadata={}, hash='0c9b37ef4122ad1a986e68fa405ed0729528a1963ab7850703b18c1696263947')}, text='---|---  \\n  \\n4\\\\. The contract or the other legal act referred to in paragraph 3 shall be in\\nwriting, including in an electronic form.\\n\\n5\\\\. If a processor determines, in infringement of this Directive, the purposes\\nand means of processing, that processor shall be considered to be a controller\\nin respect of that processing.\\n\\nArticle 23\\n\\nProcessing under the authority of the controller or processor\\n\\nMember States shall provide for the processor and any person acting under the\\nauthority of the controller or of the processor, who has access to personal\\ndata, not to process those data except on instructions from the controller,\\nunless required to do so by Union or Member State law.\\n\\nArticle 24\\n\\nRecords of processing activities\\n\\n1\\\\. Member States shall provide for controllers to maintain a record of all\\ncategories of processing activities under their responsibility. That record\\nshall contain all of the following information:\\n\\n(a)\\n\\n|\\n\\nthe name and contact details of the controller and, where applicable, the\\njoint controller and the data protection officer;  \\n  \\n---|---  \\n  \\n(b)\\n\\n|\\n\\nthe purposes of the processing;  \\n  \\n---|---  \\n  \\n(c)\\n\\n|\\n\\nthe categories of recipients to whom the personal data have been or will be\\ndisclosed including recipients in third countries or international\\norganisations;  \\n  \\n---|---  \\n  \\n(d)\\n\\n|\\n\\na description of the categories of data subject and of the categories of\\npersonal data;  \\n  \\n---|---  \\n  \\n(e)\\n\\n|\\n\\nwhere applicable, the use of profiling;  \\n  \\n---|---  \\n  \\n(f)\\n\\n|\\n\\nwhere applicable, the categories of transfers of personal data to a third\\ncountry or an international organisation;  \\n  \\n---|---  \\n  \\n(g)\\n\\n|\\n\\nan indication of the legal basis for the processing operation, including\\ntransfers, for which the personal data are intended;  \\n  \\n---|---  \\n  \\n(h)\\n\\n|\\n\\nwhere possible, the envisaged time limits for erasure of the different\\ncategories of personal data;  \\n  \\n---|---  \\n  \\n(i)\\n\\n|\\n\\nwhere possible, a general description of the technical and organisational\\nsecurity measures referred to in Article 29(1).  \\n  \\n---|---  \\n  \\n2\\\\. Member States shall provide for each processor to maintain a record of all\\ncategories of processing activities carried out on behalf of a controller,\\ncontaining:\\n\\n(a)\\n\\n|\\n\\nthe name and contact details of the processor or processors, of each\\ncontroller on behalf of which the processor is acting and, where applicable,\\nthe data protection officer;  \\n  \\n---|---  \\n  \\n(b)\\n\\n|\\n\\nthe categories of processing carried out on behalf of each controller;  \\n  \\n---|---  \\n  \\n(c)\\n\\n|\\n\\nwhere applicable, transfers of personal data to a third country or an\\ninternational organisation where explicitly instructed to do so by the\\ncontroller, including the identification of that third country or\\ninternational organisation;  \\n  \\n---|---  \\n  \\n(d)\\n\\n|\\n\\nwhere possible, a general description of the technical and organisational\\nsecurity measures referred to in Article 29(1).  \\n  \\n---|---  \\n  \\n3\\\\. The records referred to in paragraphs 1 and 2 shall be in writing,\\nincluding in electronic form.\\n\\nThe controller and the processor shall make those records available to the\\nsupervisory authority on request.\\n\\nArticle 25\\n\\nLogging\\n\\n1\\\\. Member States shall provide for logs to be kept for at least the following\\nprocessing operations in automated processing systems: collection, alteration,\\nconsultation, disclosure including transfers, combination and erasure. The\\nlogs of consultation and disclosure shall make it possible to establish the\\njustification, date and time of such operations and, as far as possible, the\\nidentification of the person who consulted or disclosed personal data, and the\\nidentity of the recipients of such personal data.\\n\\n2\\\\. The logs shall be used solely for verification of the lawfulness of\\nprocessing, self-monitoring, ensuring the integrity and security of the\\npersonal data, and for criminal proceedings.\\n\\n3\\\\. The controller and the processor shall make the logs available to the\\nsupervisory authority on request.\\n\\nArticle 26\\n\\nCooperation with the supervisory authority\\n\\nMember States shall provide for the controller and the processor to cooperate,\\non request, with the supervisory authority in the performance of its tasks on\\nrequest.\\n\\nArticle 27\\n\\nData protection impact assessment\\n\\n1\\\\. Where a type of processing, in particular, using new technologies, and\\ntaking into account the nature, scope, context and purposes of the processing\\nis likely to result in a high risk to the rights and freedoms of natural\\npersons, Member States shall provide for the controller to carry out, prior to\\nthe processing, an assessment of the impact of the envisaged processing\\noperations on the protection of personal data.\\n\\n2\\\\.', start_char_idx=119231, end_char_idx=123924, text_template='{metadata_str}\\n\\n{content}', metadata_template='{key}: {value}', metadata_seperator='\\n'), score=None),\n",
       " NodeWithScore(node=TextNode(id_='3c6dc843-39cc-4ed0-a382-703aa5aacaf0', embedding=None, metadata={}, excluded_embed_metadata_keys=[], excluded_llm_metadata_keys=[], relationships={<NodeRelationship.SOURCE: '1'>: RelatedNodeInfo(node_id='https://eur-lex.europa.eu/legal-content/EN/TXT/HTML/?uri=CELEX:32016L0680', node_type=<ObjectType.DOCUMENT: '4'>, metadata={}, hash='caf142112d0f6a347f255b21c17bed3b471f6c85a139a8ffc943ead6774c8819'), <NodeRelationship.PREVIOUS: '2'>: RelatedNodeInfo(node_id='fc59e241-370d-4cdf-9630-61d0b4102bb6', node_type=<ObjectType.TEXT: '1'>, metadata={}, hash='8edde7b08111151623ecdb08d96f05d237c13d71f061dd9cf5b95cd6c62d29f8'), <NodeRelationship.NEXT: '3'>: RelatedNodeInfo(node_id='429561c5-c102-4783-9dd3-b3628d37816d', node_type=<ObjectType.TEXT: '1'>, metadata={}, hash='b8dc4c46f0f3ee361ef532ebcc63239456fc0b075dba7732cf42cfb75c8f6136')}, text='3\\\\. The controller and the processor shall make the logs available to the\\nsupervisory authority on request.\\n\\nArticle 26\\n\\nCooperation with the supervisory authority\\n\\nMember States shall provide for the controller and the processor to cooperate,\\non request, with the supervisory authority in the performance of its tasks on\\nrequest.\\n\\nArticle 27\\n\\nData protection impact assessment\\n\\n1\\\\. Where a type of processing, in particular, using new technologies, and\\ntaking into account the nature, scope, context and purposes of the processing\\nis likely to result in a high risk to the rights and freedoms of natural\\npersons, Member States shall provide for the controller to carry out, prior to\\nthe processing, an assessment of the impact of the envisaged processing\\noperations on the protection of personal data.\\n\\n2\\\\. The assessment referred to in paragraph 1 shall contain at least a general\\ndescription of the envisaged processing operations, an assessment of the risks\\nto the rights and freedoms of data subjects, the measures envisaged to address\\nthose risks, safeguards, security measures and mechanisms to ensure the\\nprotection of personal data and to demonstrate compliance with this Directive,\\ntaking into account the rights and legitimate interests of the data subjects\\nand other persons concerned.\\n\\nArticle 28\\n\\nPrior consultation of the supervisory authority\\n\\n1\\\\. Member States shall provide for the controller or processor to consult the\\nsupervisory authority prior to processing which will form part of a new filing\\nsystem to be created, where:\\n\\n(a)\\n\\n|\\n\\na data protection impact assessment as provided for in Article 27 indicates\\nthat the processing would result in a high risk in the absence of measures\\ntaken by the controller to mitigate the risk; or  \\n  \\n---|---  \\n  \\n(b)\\n\\n|\\n\\nthe type of processing, in particular, where using new technologies,\\nmechanisms or procedures, involves a high risk to the rights and freedoms of\\ndata subjects.  \\n  \\n---|---  \\n  \\n2\\\\. Member States shall provide for the supervisory authority to be consulted\\nduring the preparation of a proposal for a legislative measure to be adopted\\nby a national parliament or of a regulatory measure based on such a\\nlegislative measure, which relates to processing.\\n\\n3\\\\. Member States shall provide that the supervisory authority may establish a\\nlist of the processing operations which are subject to prior consultation\\npursuant to paragraph 1.\\n\\n4\\\\. Member States shall provide for the controller to provide the supervisory\\nauthority with the data protection impact assessment pursuant to Article 27\\nand, on request, with any other information to allow the supervisory authority\\nto make an assessment of the compliance of the processing and in particular of\\nthe risks for the protection of personal data of the data subject and of the\\nrelated safeguards.\\n\\n5\\\\. Member States shall, where the supervisory authority is of the opinion\\nthat the intended processing referred to in paragraph 1 of this Article would\\ninfringe the provisions adopted pursuant to this Directive, in particular\\nwhere the controller has insufficiently identified or mitigated the risk,\\nprovide for the supervisory authority to provide, within a period of up to six\\nweeks of receipt of the request for consultation, written advice to the\\ncontroller and, where applicable, to the processor, and may use any of its\\npowers referred to in Article 47. That period may be extended by a month,\\ntaking into account the complexity of the intended processing. The supervisory\\nauthority shall inform the controller and, where applicable, the processor of\\nany such extension within one month of receipt of the request for\\nconsultation, together with the reasons for the delay.\\n\\nSection 2\\n\\nSecurity of personal data\\n\\nArticle 29\\n\\nSecurity of processing\\n\\n1\\\\. Member States shall provide for the controller and the processor, taking\\ninto account the state of the art, the costs of implementation and the nature,\\nscope, context and purposes of the processing as well as the risk of varying\\nlikelihood and severity for the rights and freedoms of natural persons, to\\nimplement appropriate technical and organisational measures to ensure a level\\nof security appropriate to the risk, in particular as regards the processing\\nof special categories of personal data referred to in Article 10.\\n\\n2\\\\.', start_char_idx=123117, end_char_idx=127428, text_template='{metadata_str}\\n\\n{content}', metadata_template='{key}: {value}', metadata_seperator='\\n'), score=None),\n",
       " NodeWithScore(node=TextNode(id_='429561c5-c102-4783-9dd3-b3628d37816d', embedding=None, metadata={}, excluded_embed_metadata_keys=[], excluded_llm_metadata_keys=[], relationships={<NodeRelationship.SOURCE: '1'>: RelatedNodeInfo(node_id='https://eur-lex.europa.eu/legal-content/EN/TXT/HTML/?uri=CELEX:32016L0680', node_type=<ObjectType.DOCUMENT: '4'>, metadata={}, hash='caf142112d0f6a347f255b21c17bed3b471f6c85a139a8ffc943ead6774c8819'), <NodeRelationship.PREVIOUS: '2'>: RelatedNodeInfo(node_id='3c6dc843-39cc-4ed0-a382-703aa5aacaf0', node_type=<ObjectType.TEXT: '1'>, metadata={}, hash='0c9b37ef4122ad1a986e68fa405ed0729528a1963ab7850703b18c1696263947'), <NodeRelationship.NEXT: '3'>: RelatedNodeInfo(node_id='f5e0f37f-ffc2-407d-b539-d34fb7989a4e', node_type=<ObjectType.TEXT: '1'>, metadata={}, hash='82d3540c5c5afef688f344f4baf3d7141f59fadb17b588b50f7b7fd52a507397')}, text='That period may be extended by a month,\\ntaking into account the complexity of the intended processing. The supervisory\\nauthority shall inform the controller and, where applicable, the processor of\\nany such extension within one month of receipt of the request for\\nconsultation, together with the reasons for the delay.\\n\\nSection 2\\n\\nSecurity of personal data\\n\\nArticle 29\\n\\nSecurity of processing\\n\\n1\\\\. Member States shall provide for the controller and the processor, taking\\ninto account the state of the art, the costs of implementation and the nature,\\nscope, context and purposes of the processing as well as the risk of varying\\nlikelihood and severity for the rights and freedoms of natural persons, to\\nimplement appropriate technical and organisational measures to ensure a level\\nof security appropriate to the risk, in particular as regards the processing\\nof special categories of personal data referred to in Article 10.\\n\\n2\\\\. In respect of automated processing, each Member State shall provide for\\nthe controller or processor, following an evaluation of the risks, to\\nimplement measures designed to:\\n\\n(a)\\n\\n|\\n\\ndeny unauthorised persons access to processing equipment used for processing\\n(‘equipment access control’);  \\n  \\n---|---  \\n  \\n(b)\\n\\n|\\n\\nprevent the unauthorised reading, copying, modification or removal of data\\nmedia (‘data media control’);  \\n  \\n---|---  \\n  \\n(c)\\n\\n|\\n\\nprevent the unauthorised input of personal data and the unauthorised\\ninspection, modification or deletion of stored personal data (‘storage\\ncontrol’);  \\n  \\n---|---  \\n  \\n(d)\\n\\n|\\n\\nprevent the use of automated processing systems by unauthorised persons using\\ndata communication equipment (‘user control’);  \\n  \\n---|---  \\n  \\n(e)\\n\\n|\\n\\nensure that persons authorised to use an automated processing system have\\naccess only to the personal data covered by their access authorisation (‘data\\naccess control’);  \\n  \\n---|---  \\n  \\n(f)\\n\\n|\\n\\nensure that it is possible to verify and establish the bodies to which\\npersonal data have been or may be transmitted or made available using data\\ncommunication equipment (‘communication control’);  \\n  \\n---|---  \\n  \\n(g)\\n\\n|\\n\\nensure that it is subsequently possible to verify and establish which personal\\ndata have been input into automated processing systems and when and by whom\\nthe personal data were input (‘input control’);  \\n  \\n---|---  \\n  \\n(h)\\n\\n|\\n\\nprevent the unauthorised reading, copying, modification or deletion of\\npersonal data during transfers of personal data or during transportation of\\ndata media (‘transport control’);  \\n  \\n---|---  \\n  \\n(i)\\n\\n|\\n\\nensure that installed systems may, in the case of interruption, be restored\\n(‘recovery’);  \\n  \\n---|---  \\n  \\n(j)\\n\\n|\\n\\nensure that the functions of the system perform, that the appearance of faults\\nin the functions is reported (‘reliability’) and that stored personal data\\ncannot be corrupted by means of a malfunctioning of the system (‘integrity’).  \\n  \\n---|---  \\n  \\nArticle 30\\n\\nNotification of a personal data breach to the supervisory authority\\n\\n1\\\\. Member States shall, in the case of a personal data breach, provide for\\nthe controller to notify without undue delay and, where feasible, not later\\nthan 72 hours after having become aware of it, the personal data breach to the\\nsupervisory authority, unless the personal data breach is unlikely to result\\nin a risk to the rights and freedoms of natural persons. Where the\\nnotification to the supervisory authority is not made within 72 hours, it\\nshall be accompanied by reasons for the delay.\\n\\n2\\\\. The processor shall notify the controller without undue delay after\\nbecoming aware of a personal data breach.\\n\\n3\\\\. The notification referred to in paragraph 1 shall at least:\\n\\n(a)\\n\\n|\\n\\ndescribe the nature of the personal data breach including, where possible, the\\ncategories and approximate number of data subjects concerned and the\\ncategories and approximate number of personal data records concerned;  \\n  \\n---|---  \\n  \\n(b)\\n\\n|\\n\\ncommunicate the name and contact details of the data protection officer or\\nother contact point where more information can be obtained;  \\n  \\n---|---  \\n  \\n(c)\\n\\n|\\n\\ndescribe the likely consequences of the personal data breach;  \\n  \\n---|---  \\n  \\n(d)\\n\\n|\\n\\ndescribe the measures taken or proposed to be taken by the controller to\\naddress the personal data breach, including, where appropriate, measures to\\nmitigate its possible adverse effects.  \\n  \\n---|---  \\n  \\n4\\\\. Where, and in so far as, it is not possible to provide the information at\\nthe same time, the information may be provided in phases without undue further\\ndelay.\\n\\n5\\\\. Member States shall provide for the controller to document any personal\\ndata breaches referred to in paragraph 1, comprising the facts relating to the\\npersonal data breach, its effects and the remedial action taken. That\\ndocumentation shall enable the supervisory authority to verify compliance with\\nthis Article.\\n\\n6\\\\.', start_char_idx=126502, end_char_idx=131377, text_template='{metadata_str}\\n\\n{content}', metadata_template='{key}: {value}', metadata_seperator='\\n'), score=None),\n",
       " NodeWithScore(node=TextNode(id_='f5e0f37f-ffc2-407d-b539-d34fb7989a4e', embedding=None, metadata={}, excluded_embed_metadata_keys=[], excluded_llm_metadata_keys=[], relationships={<NodeRelationship.SOURCE: '1'>: RelatedNodeInfo(node_id='https://eur-lex.europa.eu/legal-content/EN/TXT/HTML/?uri=CELEX:32016L0680', node_type=<ObjectType.DOCUMENT: '4'>, metadata={}, hash='caf142112d0f6a347f255b21c17bed3b471f6c85a139a8ffc943ead6774c8819'), <NodeRelationship.PREVIOUS: '2'>: RelatedNodeInfo(node_id='429561c5-c102-4783-9dd3-b3628d37816d', node_type=<ObjectType.TEXT: '1'>, metadata={}, hash='b8dc4c46f0f3ee361ef532ebcc63239456fc0b075dba7732cf42cfb75c8f6136'), <NodeRelationship.NEXT: '3'>: RelatedNodeInfo(node_id='6740bd15-77b4-425a-b4bf-9746a028f79e', node_type=<ObjectType.TEXT: '1'>, metadata={}, hash='a5b7e39e490a2fe03e1e0d24be4161746cf0b30f01f101e72b4720f7743fa685')}, text='---|---  \\n  \\n4\\\\. Where, and in so far as, it is not possible to provide the information at\\nthe same time, the information may be provided in phases without undue further\\ndelay.\\n\\n5\\\\. Member States shall provide for the controller to document any personal\\ndata breaches referred to in paragraph 1, comprising the facts relating to the\\npersonal data breach, its effects and the remedial action taken. That\\ndocumentation shall enable the supervisory authority to verify compliance with\\nthis Article.\\n\\n6\\\\. Member States shall, where the personal data breach involves personal data\\nthat have been transmitted by or to the controller of another Member State,\\nprovide for the information referred to in paragraph 3 to be communicated to\\nthe controller of that Member State without undue delay.\\n\\nArticle 31\\n\\nCommunication of a personal data breach to the data subject\\n\\n1\\\\. Member States shall, where the personal data breach is likely to result in\\na high risk to the rights and freedoms of natural persons, provide for the\\ncontroller to communicate the personal data breach to the data subject without\\nundue delay.\\n\\n2\\\\. The communication to the data subject referred to in paragraph 1 of this\\nArticle shall describe in clear and plain language the nature of the personal\\ndata breach and shall contain at least the information and measures referred\\nto in points (b), (c) and (d) of Article 30(3).\\n\\n3\\\\. The communication to the data subject referred to in paragraph 1 shall not\\nbe required if any of the following conditions are met:\\n\\n(a)\\n\\n|\\n\\nthe controller has implemented appropriate technological and organisational\\nprotection measures, and those measures were applied to the personal data\\naffected by the personal data breach, in particular those that render the\\npersonal data unintelligible to any person who is not authorised to access it,\\nsuch as encryption;  \\n  \\n---|---  \\n  \\n(b)\\n\\n|\\n\\nthe controller has taken subsequent measures which ensure that the high risk\\nto the rights and freedoms of data subjects referred to in paragraph 1 is no\\nlonger likely to materialise;  \\n  \\n---|---  \\n  \\n(c)\\n\\n|\\n\\nit would involve a disproportionate effort. In such a case, there shall\\ninstead be a public communication or a similar measure whereby the data\\nsubjects are informed in an equally effective manner.  \\n  \\n---|---  \\n  \\n4\\\\. If the controller has not already communicated the personal data breach to\\nthe data subject, the supervisory authority, having considered the likelihood\\nof the personal data breach resulting in a high risk, may require it to do so,\\nor may decide that any of the conditions referred to in paragraph 3 are met.\\n\\n5\\\\. The communication to the data subject referred to in paragraph 1 of this\\nArticle may be delayed, restricted or omitted subject to the conditions and on\\nthe grounds referred to in Article 13(3).\\n\\nSection 3\\n\\nData protection officer\\n\\nArticle 32\\n\\nDesignation of the data protection officer\\n\\n1\\\\. Member States shall provide for the controller to designate a data\\nprotection officer. Member States may exempt courts and other independent\\njudicial authorities when acting in their judicial capacity from that\\nobligation.\\n\\n2\\\\. The data protection officer shall be designated on the basis of his or her\\nprofessional qualities and, in particular, his or her expert knowledge of data\\nprotection law and practice and ability to fulfil the tasks referred to in\\nArticle 34.\\n\\n3\\\\. A single data protection officer may be designated for several competent\\nauthorities, taking account of their organisational structure and size.\\n\\n4\\\\. Member States shall provide for the controller to publish the contact\\ndetails of the data protection officer and communicate them to the supervisory\\nauthority.\\n\\nArticle 33\\n\\nPosition of the data protection officer\\n\\n1\\\\. Member States shall provide for the controller to ensure that the data\\nprotection officer is involved, properly and in a timely manner, in all issues\\nwhich relate to the protection of personal data.\\n\\n2\\\\. The controller shall support the data protection officer in performing the\\ntasks referred to in Article 34 by providing resources necessary to carry out\\nthose tasks and access to personal data and processing operations, and to\\nmaintain his or her expert knowledge.', start_char_idx=130877, end_char_idx=135103, text_template='{metadata_str}\\n\\n{content}', metadata_template='{key}: {value}', metadata_seperator='\\n'), score=None),\n",
       " NodeWithScore(node=TextNode(id_='6740bd15-77b4-425a-b4bf-9746a028f79e', embedding=None, metadata={}, excluded_embed_metadata_keys=[], excluded_llm_metadata_keys=[], relationships={<NodeRelationship.SOURCE: '1'>: RelatedNodeInfo(node_id='https://eur-lex.europa.eu/legal-content/EN/TXT/HTML/?uri=CELEX:32016L0680', node_type=<ObjectType.DOCUMENT: '4'>, metadata={}, hash='caf142112d0f6a347f255b21c17bed3b471f6c85a139a8ffc943ead6774c8819'), <NodeRelationship.PREVIOUS: '2'>: RelatedNodeInfo(node_id='f5e0f37f-ffc2-407d-b539-d34fb7989a4e', node_type=<ObjectType.TEXT: '1'>, metadata={}, hash='82d3540c5c5afef688f344f4baf3d7141f59fadb17b588b50f7b7fd52a507397'), <NodeRelationship.NEXT: '3'>: RelatedNodeInfo(node_id='6fc98089-cd2e-4858-b438-9646b0a62547', node_type=<ObjectType.TEXT: '1'>, metadata={}, hash='30eccf8d83dc349d90b175f6459363128555a451513b7e5ea8456eb32846192b')}, text='3\\\\. A single data protection officer may be designated for several competent\\nauthorities, taking account of their organisational structure and size.\\n\\n4\\\\. Member States shall provide for the controller to publish the contact\\ndetails of the data protection officer and communicate them to the supervisory\\nauthority.\\n\\nArticle 33\\n\\nPosition of the data protection officer\\n\\n1\\\\. Member States shall provide for the controller to ensure that the data\\nprotection officer is involved, properly and in a timely manner, in all issues\\nwhich relate to the protection of personal data.\\n\\n2\\\\. The controller shall support the data protection officer in performing the\\ntasks referred to in Article 34 by providing resources necessary to carry out\\nthose tasks and access to personal data and processing operations, and to\\nmaintain his or her expert knowledge.\\n\\nArticle 34\\n\\nTasks of the data protection officer\\n\\nMember States shall provide for the controller to entrust the data protection\\nofficer at least with the following tasks:\\n\\n(a)\\n\\n|\\n\\nto inform and advise the controller and the employees who carry out processing\\nof their obligations pursuant to this Directive and to other Union or Member\\nState data protection provisions;  \\n  \\n---|---  \\n  \\n(b)\\n\\n|\\n\\nto monitor compliance with this Directive, with other Union or Member State\\ndata protection provisions and with the policies of the controller in relation\\nto the protection of personal data, including the assignment of\\nresponsibilities, awareness-raising and training of staff involved in\\nprocessing operations, and the related audits;  \\n  \\n---|---  \\n  \\n(c)\\n\\n|\\n\\nto provide advice where requested as regards the data protection impact\\nassessment and monitor its performance pursuant to Article 27;  \\n  \\n---|---  \\n  \\n(d)\\n\\n|\\n\\nto cooperate with the supervisory authority;  \\n  \\n---|---  \\n  \\n(e)\\n\\n|\\n\\nto act as the contact point for the supervisory authority on issues relating\\nto processing, including the prior consultation referred to in Article 28, and\\nto consult, where appropriate, with regard to any other matter.  \\n  \\n---|---  \\n  \\nCHAPTER V\\n\\nTransfers of personal data to third countries or international organisations\\n\\nArticle 35\\n\\nGeneral principles for transfers of personal data\\n\\n1\\\\. Member States shall provide for any transfer by competent authorities of\\npersonal data which are undergoing processing or are intended for processing\\nafter transfer to a third country or to an international organisation\\nincluding for onward transfers to another third country or international\\norganisation to take place, subject to compliance with the national provisions\\nadopted pursuant to other provisions of this Directive, only where the\\nconditions laid down in this Chapter are met, namely:\\n\\n(a)\\n\\n|\\n\\nthe transfer is necessary for the purposes set out in Article 1(1);  \\n  \\n---|---  \\n  \\n(b)\\n\\n|\\n\\nthe personal data are transferred to a controller in a third country or\\ninternational organisation that is an authority competent for the purposes\\nreferred to in Article 1(1);  \\n  \\n---|---  \\n  \\n(c)\\n\\n|\\n\\nwhere personal data are transmitted or made available from another Member\\nState, that Member State has given its prior authorisation to the transfer in\\naccordance with its national law;  \\n  \\n---|---  \\n  \\n(d)\\n\\n|\\n\\nthe Commission has adopted an adequacy decision pursuant to Article 36, or, in\\nthe absence of such a decision, appropriate safeguards have been provided or\\nexist pursuant to Article 37, or, in the absence of an adequacy decision\\npursuant to Article 36 and of appropriate safeguards in accordance with\\nArticle 37, derogations for specific situations apply pursuant to Article 38;\\nand  \\n  \\n---|---  \\n  \\n(e)\\n\\n|\\n\\nin the case of an onward transfer to another third country or international\\norganisation, the competent authority that carried out the original transfer\\nor another competent authority of the same Member State authorises the onward\\ntransfer, after taking into due account all relevant factors, including the\\nseriousness of the criminal offence, the purpose for which the personal data\\nwas originally transferred and the level of personal data protection in the\\nthird country or an international organisation to which personal data are\\nonward transferred.  \\n  \\n---|---  \\n  \\n2\\\\. Member States shall provide for transfers without the prior authorisation\\nby another Member State in accordance with point (c) of paragraph 1 to be\\npermitted only if the transfer of the personal data is necessary for the\\nprevention of an immediate and serious threat to public security of a Member\\nState or a third country or to essential interests of a Member State and the\\nprior authorisation cannot be obtained in good time. The authority responsible\\nfor giving prior authorisation shall be informed without delay.\\n\\n3\\\\. All provisions in this Chapter shall be applied in order to ensure that\\nthe level of protection of natural persons ensured by this Directive is not\\nundermined.\\n\\nArticle 36\\n\\nTransfers on the basis of an adequacy decision\\n\\n1\\\\.', start_char_idx=134263, end_char_idx=139235, text_template='{metadata_str}\\n\\n{content}', metadata_template='{key}: {value}', metadata_seperator='\\n'), score=None),\n",
       " NodeWithScore(node=TextNode(id_='6fc98089-cd2e-4858-b438-9646b0a62547', embedding=None, metadata={}, excluded_embed_metadata_keys=[], excluded_llm_metadata_keys=[], relationships={<NodeRelationship.SOURCE: '1'>: RelatedNodeInfo(node_id='https://eur-lex.europa.eu/legal-content/EN/TXT/HTML/?uri=CELEX:32016L0680', node_type=<ObjectType.DOCUMENT: '4'>, metadata={}, hash='caf142112d0f6a347f255b21c17bed3b471f6c85a139a8ffc943ead6774c8819'), <NodeRelationship.PREVIOUS: '2'>: RelatedNodeInfo(node_id='6740bd15-77b4-425a-b4bf-9746a028f79e', node_type=<ObjectType.TEXT: '1'>, metadata={}, hash='a5b7e39e490a2fe03e1e0d24be4161746cf0b30f01f101e72b4720f7743fa685'), <NodeRelationship.NEXT: '3'>: RelatedNodeInfo(node_id='1b0b2e5a-e36b-4014-910a-7d716f119698', node_type=<ObjectType.TEXT: '1'>, metadata={}, hash='dafdf35daf64d6a273353b4ea04c84195689d85d13d0dcc0c4fcc6209b84182a')}, text='---|---  \\n  \\n2\\\\. Member States shall provide for transfers without the prior authorisation\\nby another Member State in accordance with point (c) of paragraph 1 to be\\npermitted only if the transfer of the personal data is necessary for the\\nprevention of an immediate and serious threat to public security of a Member\\nState or a third country or to essential interests of a Member State and the\\nprior authorisation cannot be obtained in good time. The authority responsible\\nfor giving prior authorisation shall be informed without delay.\\n\\n3\\\\. All provisions in this Chapter shall be applied in order to ensure that\\nthe level of protection of natural persons ensured by this Directive is not\\nundermined.\\n\\nArticle 36\\n\\nTransfers on the basis of an adequacy decision\\n\\n1\\\\. Member States shall provide that a transfer of personal data to a third\\ncountry or an international organisation may take place where the Commission\\nhas decided that the third country, a territory or one or more specified\\nsectors within that third country, or the international organisation in\\nquestion ensures an adequate level of protection. Such a transfer shall not\\nrequire any specific authorisation.\\n\\n2\\\\. When assessing the adequacy of the level of protection, the Commission\\nshall, in particular, take account of the following elements:\\n\\n(a)\\n\\n|\\n\\nthe rule of law, respect for human rights and fundamental freedoms, relevant\\nlegislation, both general and sectoral, including concerning public security,\\ndefence, national security and criminal law and the access of public\\nauthorities to personal data, as well as the implementation of such\\nlegislation, data protection rules, professional rules and security measures,\\nincluding rules for the onward transfer of personal data to another third\\ncountry or international organisation, which are complied with in that country\\nor international organisation, case-law, as well as effective and enforceable\\ndata subject rights and effective administrative and judicial redress for the\\ndata subjects whose personal data are transferred;  \\n  \\n---|---  \\n  \\n(b)\\n\\n|\\n\\nthe existence and effective functioning of one or more independent supervisory\\nauthorities in the third country or to which an international organisation is\\nsubject, with responsibility for ensuring and enforcing compliance with data\\nprotection rules, including adequate enforcement powers, for assisting and\\nadvising data subjects in exercising their rights and for cooperation with the\\nsupervisory authorities of the Member States; and  \\n  \\n---|---  \\n  \\n(c)\\n\\n|\\n\\nthe international commitments the third country or international organisation\\nconcerned has entered into, or other obligations arising from legally binding\\nconventions or instruments as well as from its participation in multilateral\\nor regional systems, in particular in relation to the protection of personal\\ndata.  \\n  \\n---|---  \\n  \\n3\\\\. The Commission, after assessing the adequacy of the level of protection,\\nmay decide, by means of implementing act, that a third country, a territory or\\none or more specified sectors within a third country, or an international\\norganisation ensures an adequate level of protection within the meaning of\\nparagraph 2 of this Article. The implementing act shall provide a mechanism\\nfor periodic review, at least every four years, which shall take into account\\nall relevant developments in the third country or international organisation.\\nThe implementing act shall specify its territorial and sectoral application\\nand, where applicable, identify the supervisory authority or authorities\\nreferred to in point (b) of paragraph 2 of this Article. The implementing act\\nshall be adopted in accordance with the examination procedure referred to in\\nArticle 58(2).\\n\\n4\\\\. The Commission shall, on an ongoing basis, monitor developments in third\\ncountries and international organisations that could affect the functioning of\\ndecisions adopted pursuant to paragraph 3.\\n\\n5\\\\. The Commission shall, where available information reveals, in particular\\nfollowing the review referred to in paragraph 3 of this Article, that a third\\ncountry, a territory or one or more specified sectors within a third country,\\nor an international organisation no longer ensures an adequate level of\\nprotection within the meaning of paragraph 2 of this Article, to the extent\\nnecessary, repeal, amend or suspend the decision referred to in paragraph 3 of\\nthis Article by means of implementing acts without retro-active effect. Those\\nimplementing acts shall be adopted in accordance with the examination\\nprocedure referred to in Article 58(2).\\n\\nOn duly justified imperative grounds of urgency, the Commission shall adopt\\nimmediately applicable implementing acts in accordance with the procedure\\nreferred to in Article 58(3).\\n\\n6\\\\. The Commission shall enter into consultations with the third country or\\ninternational organisation with a view to remedying the situation giving rise\\nto the decision made pursuant to paragraph 5.\\n\\n7\\\\. Member States shall provide for a decision pursuant to paragraph 5 to be\\nwithout prejudice to transfers of personal data to the third country, the\\nterritory or one or more specified sectors within that third country, or the\\ninternational organisation in question pursuant to Articles 37 and 38.', start_char_idx=138471, end_char_idx=143729, text_template='{metadata_str}\\n\\n{content}', metadata_template='{key}: {value}', metadata_seperator='\\n'), score=None),\n",
       " NodeWithScore(node=TextNode(id_='1b0b2e5a-e36b-4014-910a-7d716f119698', embedding=None, metadata={}, excluded_embed_metadata_keys=[], excluded_llm_metadata_keys=[], relationships={<NodeRelationship.SOURCE: '1'>: RelatedNodeInfo(node_id='https://eur-lex.europa.eu/legal-content/EN/TXT/HTML/?uri=CELEX:32016L0680', node_type=<ObjectType.DOCUMENT: '4'>, metadata={}, hash='caf142112d0f6a347f255b21c17bed3b471f6c85a139a8ffc943ead6774c8819'), <NodeRelationship.PREVIOUS: '2'>: RelatedNodeInfo(node_id='6fc98089-cd2e-4858-b438-9646b0a62547', node_type=<ObjectType.TEXT: '1'>, metadata={}, hash='30eccf8d83dc349d90b175f6459363128555a451513b7e5ea8456eb32846192b'), <NodeRelationship.NEXT: '3'>: RelatedNodeInfo(node_id='594245a3-efff-4e67-b93e-e5c95e0b8391', node_type=<ObjectType.TEXT: '1'>, metadata={}, hash='f1cd6d5045d12776999447a1a222e49da88fafb884bd27d3390ddf84299d5e60')}, text='Those\\nimplementing acts shall be adopted in accordance with the examination\\nprocedure referred to in Article 58(2).\\n\\nOn duly justified imperative grounds of urgency, the Commission shall adopt\\nimmediately applicable implementing acts in accordance with the procedure\\nreferred to in Article 58(3).\\n\\n6\\\\. The Commission shall enter into consultations with the third country or\\ninternational organisation with a view to remedying the situation giving rise\\nto the decision made pursuant to paragraph 5.\\n\\n7\\\\. Member States shall provide for a decision pursuant to paragraph 5 to be\\nwithout prejudice to transfers of personal data to the third country, the\\nterritory or one or more specified sectors within that third country, or the\\ninternational organisation in question pursuant to Articles 37 and 38.\\n\\n8\\\\. The Commission shall publish in the Official Journal of the European Union\\nand on its website a list of the third countries, territories and specified\\nsectors within a third country and international organisations for which it\\nhas decided that an adequate level of protection is or is no longer ensured.\\n\\nArticle 37\\n\\nTransfers subject to appropriate safeguards\\n\\n1\\\\. In the absence of a decision pursuant to Article 36(3), Member States\\nshall provide that a transfer of personal data to a third country or an\\ninternational organisation may take place where:\\n\\n(a)\\n\\n|\\n\\nappropriate safeguards with regard to the protection of personal data are\\nprovided for in a legally binding instrument; or  \\n  \\n---|---  \\n  \\n(b)\\n\\n|\\n\\nthe controller has assessed all the circumstances surrounding the transfer of\\npersonal data and concludes that appropriate safeguards exist with regard to\\nthe protection of personal data.  \\n  \\n---|---  \\n  \\n2\\\\. The controller shall inform the supervisory authority about categories of\\ntransfers under point (b) of paragraph 1.\\n\\n3\\\\. When a transfer is based on point (b) of paragraph 1, such a transfer\\nshall be documented and the documentation shall be made available to the\\nsupervisory authority on request, including the date and time of the transfer,\\ninformation about the receiving competent authority, the justification for the\\ntransfer and the personal data transferred.\\n\\nArticle 38\\n\\nDerogations for specific situations\\n\\n1\\\\. In the absence of an adequacy decision pursuant to Article 36, or of\\nappropriate safeguards pursuant to Article 37, Member States shall provide\\nthat a transfer or a category of transfers of personal data to a third country\\nor an international organisation may take place only on the condition that the\\ntransfer is necessary:\\n\\n(a)\\n\\n|\\n\\nin order to protect the vital interests of the data subject or another person;  \\n  \\n---|---  \\n  \\n(b)\\n\\n|\\n\\nto safeguard legitimate interests of the data subject, where the law of the\\nMember State transferring the personal data so provides;  \\n  \\n---|---  \\n  \\n(c)\\n\\n|\\n\\nfor the prevention of an immediate and serious threat to public security of a\\nMember State or a third country;  \\n  \\n---|---  \\n  \\n(d)\\n\\n|\\n\\nin individual cases for the purposes set out in Article 1(1); or  \\n  \\n---|---  \\n  \\n(e)\\n\\n|\\n\\nin an individual case for the establishment, exercise or defence of legal\\nclaims relating to the purposes set out in Article 1(1).  \\n  \\n---|---  \\n  \\n2\\\\. Personal data shall not be transferred if the transferring competent\\nauthority determines that fundamental rights and freedoms of the data subject\\nconcerned override the public interest in the transfer set out in points (d)\\nand (e) of paragraph 1.\\n\\n3\\\\. Where a transfer is based on paragraph 1, such a transfer shall be\\ndocumented and the documentation shall be made available to the supervisory\\nauthority on request, including the date and time of the transfer, information\\nabout the receiving competent authority, the justification for the transfer\\nand the personal data transferred.\\n\\nArticle 39\\n\\nTransfers of personal data to recipients established in third countries\\n\\n1\\\\.', start_char_idx=142932, end_char_idx=146834, text_template='{metadata_str}\\n\\n{content}', metadata_template='{key}: {value}', metadata_seperator='\\n'), score=None),\n",
       " NodeWithScore(node=TextNode(id_='594245a3-efff-4e67-b93e-e5c95e0b8391', embedding=None, metadata={}, excluded_embed_metadata_keys=[], excluded_llm_metadata_keys=[], relationships={<NodeRelationship.SOURCE: '1'>: RelatedNodeInfo(node_id='https://eur-lex.europa.eu/legal-content/EN/TXT/HTML/?uri=CELEX:32016L0680', node_type=<ObjectType.DOCUMENT: '4'>, metadata={}, hash='caf142112d0f6a347f255b21c17bed3b471f6c85a139a8ffc943ead6774c8819'), <NodeRelationship.PREVIOUS: '2'>: RelatedNodeInfo(node_id='1b0b2e5a-e36b-4014-910a-7d716f119698', node_type=<ObjectType.TEXT: '1'>, metadata={}, hash='dafdf35daf64d6a273353b4ea04c84195689d85d13d0dcc0c4fcc6209b84182a'), <NodeRelationship.NEXT: '3'>: RelatedNodeInfo(node_id='d29160a3-3e17-468c-838a-42424e502e27', node_type=<ObjectType.TEXT: '1'>, metadata={}, hash='44358ee01a00e7fb78d993cfcd6abb75930eb3be1826809b33f7154bc8699188')}, text='---|---  \\n  \\n2\\\\. Personal data shall not be transferred if the transferring competent\\nauthority determines that fundamental rights and freedoms of the data subject\\nconcerned override the public interest in the transfer set out in points (d)\\nand (e) of paragraph 1.\\n\\n3\\\\. Where a transfer is based on paragraph 1, such a transfer shall be\\ndocumented and the documentation shall be made available to the supervisory\\nauthority on request, including the date and time of the transfer, information\\nabout the receiving competent authority, the justification for the transfer\\nand the personal data transferred.\\n\\nArticle 39\\n\\nTransfers of personal data to recipients established in third countries\\n\\n1\\\\. By way of derogation from point (b) of Article 35(1) and without prejudice\\nto any international agreement referred to in paragraph 2 of this Article,\\nUnion or Member State law may provide for the competent authorities referred\\nto in point (7)(a) of Article 3, in individual and specific cases, to transfer\\npersonal data directly to recipients established in third countries only if\\nthe other provisions of this Directive are complied with and all of the\\nfollowing conditions are fulfilled:\\n\\n(a)\\n\\n|\\n\\nthe transfer is strictly necessary for the performance of a task of the\\ntransferring competent authority as provided for by Union or Member State law\\nfor the purposes set out in Article 1(1);  \\n  \\n---|---  \\n  \\n(b)\\n\\n|\\n\\nthe transferring competent authority determines that no fundamental rights and\\nfreedoms of the data subject concerned override the public interest\\nnecessitating the transfer in the case at hand;  \\n  \\n---|---  \\n  \\n(c)\\n\\n|\\n\\nthe transferring competent authority considers that the transfer to an\\nauthority that is competent for the purposes referred to in Article 1(1) in\\nthe third country is ineffective or inappropriate, in particular because the\\ntransfer cannot be achieved in good time;  \\n  \\n---|---  \\n  \\n(d)\\n\\n|\\n\\nthe authority that is competent for the purposes referred to in Article 1(1)\\nin the third country is informed without undue delay, unless this is\\nineffective or inappropriate;  \\n  \\n---|---  \\n  \\n(e)\\n\\n|\\n\\nthe transferring competent authority informs the recipient of the specified\\npurpose or purposes for which the personal data are only to be processed by\\nthe latter provided that such processing is necessary.  \\n  \\n---|---  \\n  \\n2\\\\. An international agreement referred to in paragraph 1 shall be any\\nbilateral or multilateral international agreement in force between Member\\nStates and third countries in the field of judicial cooperation in criminal\\nmatters and police cooperation.\\n\\n3\\\\. The transferring competent authority shall inform the supervisory\\nauthority about transfers under this Article.\\n\\n4\\\\. Where a transfer is based on paragraph 1, such a transfer shall be\\ndocumented.\\n\\nArticle 40\\n\\nInternational cooperation for the protection of personal data\\n\\nIn relation to third countries and international organisations, the Commission\\nand Member States shall take appropriate steps to:\\n\\n(a)\\n\\n|\\n\\ndevelop international cooperation mechanisms to facilitate the effective\\nenforcement of legislation for the protection of personal data;  \\n  \\n---|---  \\n  \\n(b)\\n\\n|\\n\\nprovide international mutual assistance in the enforcement of legislation for\\nthe protection of personal data, including through notification, complaint\\nreferral, investigative assistance and information exchange, subject to\\nappropriate safeguards for the protection of personal data and other\\nfundamental rights and freedoms;  \\n  \\n---|---  \\n  \\n(c)\\n\\n|\\n\\nengage relevant stakeholders in discussion and activities aimed at furthering\\ninternational cooperation in the enforcement of legislation for the protection\\nof personal data;  \\n  \\n---|---  \\n  \\n(d)\\n\\n|\\n\\npromote the exchange and documentation of personal data protection legislation\\nand practice, including on jurisdictional conflicts with third countries.  \\n  \\n---|---  \\n  \\nCHAPTER VI\\n\\nIndependent supervisory authorities\\n\\nSection 1\\n\\nIndependent status\\n\\nArticle 41\\n\\nSupervisory authority\\n\\n1\\\\. Each Member State shall provide for one or more independent public\\nauthorities to be responsible for monitoring the application of this\\nDirective, in order to protect the fundamental rights and freedoms of natural\\npersons in relation to processing and to facilitate the free flow of personal\\ndata within the Union (‘supervisory authority’).\\n\\n2\\\\. Each supervisory authority shall contribute to the consistent application\\nof this Directive throughout the Union. For that purpose, the supervisory\\nauthorities shall cooperate with each other and with the Commission in\\naccordance with Chapter VII.\\n\\n3\\\\. Member States may provide for a supervisory authority established under\\nRegulation (EU) 2016/679 to be the supervisory authority referred to in this\\nDirective and to assume responsibility for the tasks of the supervisory\\nauthority to be established under paragraph 1 of this Article.\\n\\n4\\\\. Where more than one supervisory authority is established in a Member\\nState, that Member State shall designate the supervisory authority which are\\nto represent those authorities in the Board referred to in Article 51.\\n\\nArticle 42\\n\\nIndependence\\n\\n1\\\\.', start_char_idx=146142, end_char_idx=151303, text_template='{metadata_str}\\n\\n{content}', metadata_template='{key}: {value}', metadata_seperator='\\n'), score=None),\n",
       " NodeWithScore(node=TextNode(id_='d29160a3-3e17-468c-838a-42424e502e27', embedding=None, metadata={}, excluded_embed_metadata_keys=[], excluded_llm_metadata_keys=[], relationships={<NodeRelationship.SOURCE: '1'>: RelatedNodeInfo(node_id='https://eur-lex.europa.eu/legal-content/EN/TXT/HTML/?uri=CELEX:32016L0680', node_type=<ObjectType.DOCUMENT: '4'>, metadata={}, hash='caf142112d0f6a347f255b21c17bed3b471f6c85a139a8ffc943ead6774c8819'), <NodeRelationship.PREVIOUS: '2'>: RelatedNodeInfo(node_id='594245a3-efff-4e67-b93e-e5c95e0b8391', node_type=<ObjectType.TEXT: '1'>, metadata={}, hash='f1cd6d5045d12776999447a1a222e49da88fafb884bd27d3390ddf84299d5e60'), <NodeRelationship.NEXT: '3'>: RelatedNodeInfo(node_id='97dff2b8-70fc-42f7-b279-d3d7fc1126d0', node_type=<ObjectType.TEXT: '1'>, metadata={}, hash='d71ae2293a7b229a86cf674342de00c7f188aa456c2783db5fbe4a42c2f1d3cb')}, text=\"2\\\\. Each supervisory authority shall contribute to the consistent application\\nof this Directive throughout the Union. For that purpose, the supervisory\\nauthorities shall cooperate with each other and with the Commission in\\naccordance with Chapter VII.\\n\\n3\\\\. Member States may provide for a supervisory authority established under\\nRegulation (EU) 2016/679 to be the supervisory authority referred to in this\\nDirective and to assume responsibility for the tasks of the supervisory\\nauthority to be established under paragraph 1 of this Article.\\n\\n4\\\\. Where more than one supervisory authority is established in a Member\\nState, that Member State shall designate the supervisory authority which are\\nto represent those authorities in the Board referred to in Article 51.\\n\\nArticle 42\\n\\nIndependence\\n\\n1\\\\. Each Member State shall provide for each supervisory authority to act with\\ncomplete independence in performing its tasks and exercising its powers in\\naccordance with this Directive.\\n\\n2\\\\. Member States shall provide for the member or members of their supervisory\\nauthorities in the performance of their tasks and exercise of their powers in\\naccordance with this Directive, to remain free from external influence,\\nwhether direct or indirect, and that they shall neither seek nor take\\ninstructions from anybody.\\n\\n3\\\\. Members of Member States' supervisory authorities shall refrain from any\\naction incompatible with their duties and shall not, during their term of\\noffice, engage in any incompatible occupation, whether gainful or not.\\n\\n4\\\\. Each Member State shall ensure that each supervisory authority is provided\\nwith the human, technical and financial resources, premises and infrastructure\\nnecessary for the effective performance of its tasks and exercise of its\\npowers, including those to be carried out in the context of mutual assistance,\\ncooperation and participation in the Board.\\n\\n5\\\\. Each Member State shall ensure that each supervisory authority chooses and\\nhas its own staff which shall be subject to the exclusive direction of the\\nmember or members of the supervisory authority concerned.\\n\\n6\\\\. Each Member State shall ensure that each supervisory authority is subject\\nto financial control which does not affect its independence and that it has\\nseparate, public annual budgets, which may be part of the overall state or\\nnational budget.\\n\\nArticle 43\\n\\nGeneral conditions for the members of the supervisory authority\\n\\n1\\\\. Member States shall provide for each member of their supervisory\\nauthorities to be appointed by means of a transparent procedure by:\\n\\n—\\n\\n|\\n\\ntheir parliament;  \\n  \\n---|---  \\n  \\n—\\n\\n|\\n\\ntheir government;  \\n  \\n---|---  \\n  \\n—\\n\\n|\\n\\ntheir head of State; or  \\n  \\n---|---  \\n  \\n—\\n\\n|\\n\\nan independent body entrusted with the appointment under Member State law.  \\n  \\n---|---  \\n  \\n2\\\\. Each member shall have the qualifications, experience and skills, in\\nparticular in the area of the protection of personal data, required to perform\\ntheir duties and exercise their powers.\\n\\n3\\\\. The duties of a member shall end in the event of the expiry of the term of\\noffice, resignation or compulsory retirement, in accordance with the law of\\nthe Member State concerned.\\n\\n4\\\\. A member shall be dismissed only in cases of serious misconduct or if the\\nmember no longer fulfils the conditions required for the performance of the\\nduties.\\n\\nArticle 44\\n\\nRules on the establishment of the supervisory authority\\n\\n1\\\\. Each Member State shall provide by law for all of the following:\\n\\n(a)\\n\\n|\\n\\nthe establishment of each supervisory authority;  \\n  \\n---|---  \\n  \\n(b)\\n\\n|\\n\\nthe qualifications and eligibility conditions required to be appointed as a\\nmember of each supervisory authority;  \\n  \\n---|---  \\n  \\n(c)\\n\\n|\\n\\nthe rules and procedures for the appointment of the member or members of each\\nsupervisory authority;  \\n  \\n---|---  \\n  \\n(d)\\n\\n|\\n\\nthe duration of the term of the member or members of each supervisory\\nauthority of not less than four years, except for the first appointment after\\n6 May 2016, part of which may take place for a shorter period where that is\\nnecessary to protect the independence of the supervisory authority by means of\\na staggered appointment procedure;  \\n  \\n---|---  \\n  \\n(e)\\n\\n|\\n\\nwhether and, if so, for how many terms the member or members of each\\nsupervisory authority is eligible for reappointment;  \\n  \\n---|---  \\n  \\n(f)\\n\\n|\\n\\nthe conditions governing the obligations of the member or members and staff of\\neach supervisory authority, prohibitions on actions, occupations and benefits\\nincompatible therewith during and after the term of office and rules governing\\nthe cessation of employment.  \\n  \\n---|---  \\n  \\n2\\\\. The member or members and the staff of each supervisory authority shall,\\nin accordance with Union or Member State law, be subject to a duty of\\nprofessional secrecy both during and after their term of office, with regard\\nto any confidential information which has come to their knowledge in the\\ncourse of the performance of their tasks or the exercise of their powers.\", start_char_idx=150510, end_char_idx=155492, text_template='{metadata_str}\\n\\n{content}', metadata_template='{key}: {value}', metadata_seperator='\\n'), score=None),\n",
       " NodeWithScore(node=TextNode(id_='97dff2b8-70fc-42f7-b279-d3d7fc1126d0', embedding=None, metadata={}, excluded_embed_metadata_keys=[], excluded_llm_metadata_keys=[], relationships={<NodeRelationship.SOURCE: '1'>: RelatedNodeInfo(node_id='https://eur-lex.europa.eu/legal-content/EN/TXT/HTML/?uri=CELEX:32016L0680', node_type=<ObjectType.DOCUMENT: '4'>, metadata={}, hash='caf142112d0f6a347f255b21c17bed3b471f6c85a139a8ffc943ead6774c8819'), <NodeRelationship.PREVIOUS: '2'>: RelatedNodeInfo(node_id='d29160a3-3e17-468c-838a-42424e502e27', node_type=<ObjectType.TEXT: '1'>, metadata={}, hash='44358ee01a00e7fb78d993cfcd6abb75930eb3be1826809b33f7154bc8699188'), <NodeRelationship.NEXT: '3'>: RelatedNodeInfo(node_id='069a5847-8bc8-45ac-a931-c2e33f9707da', node_type=<ObjectType.TEXT: '1'>, metadata={}, hash='2a2cb5259b64da7f1c87b2e3db1fb3a35767c153e7905899757253f309d76388')}, text=\"---|---  \\n  \\n2\\\\. The member or members and the staff of each supervisory authority shall,\\nin accordance with Union or Member State law, be subject to a duty of\\nprofessional secrecy both during and after their term of office, with regard\\nto any confidential information which has come to their knowledge in the\\ncourse of the performance of their tasks or the exercise of their powers.\\nDuring their term of office, that duty of professional secrecy shall in\\nparticular apply to reporting by natural persons of infringements of this\\nDirective.\\n\\nSection 2\\n\\nCompetence, tasks and powers\\n\\nArticle 45\\n\\nCompetence\\n\\n1\\\\. Each Member State shall provide for each supervisory authority to be\\ncompetent for the performance of the tasks assigned to, and for the exercise\\nof the powers conferred on, it in accordance with this Directive on the\\nterritory of its own Member State.\\n\\n2\\\\. Each Member State shall provide for each supervisory authority not to be\\ncompetent for the supervision of processing operations of courts when acting\\nin their judicial capacity. Member States may provide for their supervisory\\nauthority not to be competent to supervise processing operations of other\\nindependent judicial authorities when acting in their judicial capacity.\\n\\nArticle 46\\n\\nTasks\\n\\n1\\\\. Each Member State shall provide, on its territory, for each supervisory\\nauthority to:\\n\\n(a)\\n\\n|\\n\\nmonitor and enforce the application of the provisions adopted pursuant to this\\nDirective and its implementing measures;  \\n  \\n---|---  \\n  \\n(b)\\n\\n|\\n\\npromote public awareness and understanding of the risks, rules, safeguards and\\nrights in relation to processing;  \\n  \\n---|---  \\n  \\n(c)\\n\\n|\\n\\nadvise, in accordance with Member State law, the national parliament, the\\ngovernment and other institutions and bodies on legislative and administrative\\nmeasures relating to the protection of natural persons' rights and freedoms\\nwith regard to processing;  \\n  \\n---|---  \\n  \\n(d)\\n\\n|\\n\\npromote the awareness of controllers and processors of their obligations under\\nthis Directive;  \\n  \\n---|---  \\n  \\n(e)\\n\\n|\\n\\nupon request, provide information to any data subject concerning the exercise\\nof their rights under this Directive and, if appropriate, cooperate with the\\nsupervisory authorities in other Member States to that end;  \\n  \\n---|---  \\n  \\n(f)\\n\\n|\\n\\ndeal with complaints lodged by a data subject, or by a body, organisation or\\nassociation in accordance with Article 55, and investigate, to the extent\\nappropriate, the subject-matter of the complaint and inform the complainant of\\nthe progress and the outcome of the investigation within a reasonable period,\\nin particular if further investigation or coordination with another\\nsupervisory authority is necessary;  \\n  \\n---|---  \\n  \\n(g)\\n\\n|\\n\\ncheck the lawfulness of processing pursuant to Article 17, and inform the data\\nsubject within a reasonable period of the outcome of the check pursuant to\\nparagraph 3 of that Article or of the reasons why the check has not been\\ncarried out;  \\n  \\n---|---  \\n  \\n(h)\\n\\n|\\n\\ncooperate with, including by sharing information, and provide mutual\\nassistance to other supervisory authorities, with a view to ensuring the\\nconsistency of application and enforcement of this Directive;  \\n  \\n---|---  \\n  \\n(i)\\n\\n|\\n\\nconduct investigations on the application of this Directive, including on the\\nbasis of information received from another supervisory authority or other\\npublic authority;  \\n  \\n---|---  \\n  \\n(j)\\n\\n|\\n\\nmonitor relevant developments insofar as they have an impact on the protection\\nof personal data, in particular the development of information and\\ncommunication technologies;  \\n  \\n---|---  \\n  \\n(k)\\n\\n|\\n\\nprovide advice on the processing operations referred to in Article 28; and  \\n  \\n---|---  \\n  \\n(l)\\n\\n|\\n\\ncontribute to the activities of the Board.  \\n  \\n---|---  \\n  \\n2\\\\. Each supervisory authority shall facilitate the submission of complaints\\nreferred to in point (f) of paragraph 1 by measures such as providing a\\ncomplaint submission form which can also be completed electronically, without\\nexcluding other means of communication.\\n\\n3\\\\. The performance of the tasks of each supervisory authority shall be free\\nof charge for the data subject and for the data protection officer.\\n\\n4\\\\. Where a request is manifestly unfounded or excessive, in particular\\nbecause it is repetitive, the supervisory authority may charge a reasonable\\nfee based on its administrative costs, or may refuse to act on the request.\\nThe supervisory authority shall bear the burden of demonstrating that the\\nrequest is manifestly unfounded or excessive.\\n\\nArticle 47\\n\\nPowers\\n\\n1\\\\. Each Member State shall provide by law for each supervisory authority to\\nhave effective investigative powers. Those powers shall include at least the\\npower to obtain from the controller and the processor access to all personal\\ndata that are being processed and to all information necessary for the\\nperformance of its tasks.\\n\\n2\\\\.\", start_char_idx=155109, end_char_idx=160002, text_template='{metadata_str}\\n\\n{content}', metadata_template='{key}: {value}', metadata_seperator='\\n'), score=None),\n",
       " NodeWithScore(node=TextNode(id_='069a5847-8bc8-45ac-a931-c2e33f9707da', embedding=None, metadata={}, excluded_embed_metadata_keys=[], excluded_llm_metadata_keys=[], relationships={<NodeRelationship.SOURCE: '1'>: RelatedNodeInfo(node_id='https://eur-lex.europa.eu/legal-content/EN/TXT/HTML/?uri=CELEX:32016L0680', node_type=<ObjectType.DOCUMENT: '4'>, metadata={}, hash='caf142112d0f6a347f255b21c17bed3b471f6c85a139a8ffc943ead6774c8819'), <NodeRelationship.PREVIOUS: '2'>: RelatedNodeInfo(node_id='97dff2b8-70fc-42f7-b279-d3d7fc1126d0', node_type=<ObjectType.TEXT: '1'>, metadata={}, hash='d71ae2293a7b229a86cf674342de00c7f188aa456c2783db5fbe4a42c2f1d3cb'), <NodeRelationship.NEXT: '3'>: RelatedNodeInfo(node_id='8d0611c2-4031-47ec-b2bf-dc06479f69e2', node_type=<ObjectType.TEXT: '1'>, metadata={}, hash='a19bb81adde1a6ac0cf7c54aa297d97b19bb8f4f5456301f3232ed078a5759fc')}, text='3\\\\. The performance of the tasks of each supervisory authority shall be free\\nof charge for the data subject and for the data protection officer.\\n\\n4\\\\. Where a request is manifestly unfounded or excessive, in particular\\nbecause it is repetitive, the supervisory authority may charge a reasonable\\nfee based on its administrative costs, or may refuse to act on the request.\\nThe supervisory authority shall bear the burden of demonstrating that the\\nrequest is manifestly unfounded or excessive.\\n\\nArticle 47\\n\\nPowers\\n\\n1\\\\. Each Member State shall provide by law for each supervisory authority to\\nhave effective investigative powers. Those powers shall include at least the\\npower to obtain from the controller and the processor access to all personal\\ndata that are being processed and to all information necessary for the\\nperformance of its tasks.\\n\\n2\\\\. Each Member State shall provide by law for each supervisory authority to\\nhave effective corrective powers such as, for example:\\n\\n(a)\\n\\n|\\n\\nto issue warnings to a controller or processor that intended processing\\noperations are likely to infringe the provisions adopted pursuant to this\\nDirective;  \\n  \\n---|---  \\n  \\n(b)\\n\\n|\\n\\nto order the controller or processor to bring processing operations into\\ncompliance with the provisions adopted pursuant to this Directive, where\\nappropriate, in a specified manner and within a specified period, in\\nparticular by ordering the rectification or erasure of personal data or\\nrestriction of processing pursuant to Article 16;  \\n  \\n---|---  \\n  \\n(c)\\n\\n|\\n\\nto impose a temporary or definitive limitation, including a ban, on\\nprocessing.  \\n  \\n---|---  \\n  \\n3\\\\. Each Member State shall provide by law for each supervisory authority to\\nhave effective advisory powers to advise the controller in accordance with the\\nprior consultation procedure referred to in Article 28 and to issue, on its\\nown initiative or on request, opinions to its national parliament and its\\ngovernment or, in accordance with its national law, to other institutions and\\nbodies as well as to the public on any issue related to the protection of\\npersonal data.\\n\\n4\\\\. The exercise of the powers conferred on the supervisory authority pursuant\\nto this Article shall be subject to appropriate safeguards, including\\neffective judicial remedy and due process, as set out in Union and Member\\nState law in accordance with the Charter.\\n\\n5\\\\. Each Member State shall provide by law for each supervisory authority to\\nhave the power to bring infringements of provisions adopted pursuant to this\\nDirective to the attention of judicial authorities and, where appropriate, to\\ncommence or otherwise engage in legal proceedings, in order to enforce the\\nprovisions adopted pursuant to this Directive.\\n\\nArticle 48\\n\\nReporting of infringements\\n\\nMember States shall provide for competent authorities to put in place\\neffective mechanisms to encourage confidential reporting of infringements of\\nthis Directive.\\n\\nArticle 49\\n\\nActivity reports\\n\\nEach supervisory authority shall draw up an annual report on its activities,\\nwhich may include a list of types of infringement notified and types of\\npenalties imposed. Those reports shall be transmitted to the national\\nparliament, the government and other authorities as designated by Member State\\nlaw. They shall be made available to the public, the Commission and the Board.\\n\\nCHAPTER VII\\n\\nCooperation\\n\\nArticle 50\\n\\nMutual assistance\\n\\n1\\\\. Each Member State shall provide for their supervisory authorities to\\nprovide each other with relevant information and mutual assistance in order to\\nimplement and apply this Directive in a consistent manner, and to put in place\\nmeasures for effective cooperation with one another. Mutual assistance shall\\ncover, in particular, information requests and supervisory measures, such as\\nrequests to carry out consultations, inspections and investigations.\\n\\n2\\\\. Each Member States shall provide for each supervisory authority to take\\nall appropriate measures required to reply to a request of another supervisory\\nauthority without undue delay and no later than one month after receiving the\\nrequest. Such measures may include, in particular, the transmission of\\nrelevant information on the conduct of an investigation.\\n\\n3\\\\. Requests for assistance shall contain all the necessary information,\\nincluding the purpose of and reasons for the request. Information exchanged\\nshall be used only for the purpose for which it was requested.\\n\\n4\\\\. The requested supervisory authority shall not refuse to comply with the\\nrequest unless:\\n\\n(a)\\n\\n|\\n\\nit is not competent for the subject-matter of the request or for the measures\\nit is requested to execute; or  \\n  \\n---|---  \\n  \\n(b)\\n\\n|\\n\\ncompliance with the request would infringe this Directive or Union or Member\\nState law to which the supervisory authority receiving the request is subject.  \\n  \\n---|---  \\n  \\n5\\\\. The requested supervisory authority shall inform the requesting\\nsupervisory authority of the results or, as the case may be, of the progress\\nof the measures taken in order to respond to the request. The requested\\nsupervisory authority shall provide reasons for any refusal to comply with a\\nrequest pursuant to paragraph 4.\\n\\n6\\\\.', start_char_idx=159159, end_char_idx=164319, text_template='{metadata_str}\\n\\n{content}', metadata_template='{key}: {value}', metadata_seperator='\\n'), score=None),\n",
       " NodeWithScore(node=TextNode(id_='8d0611c2-4031-47ec-b2bf-dc06479f69e2', embedding=None, metadata={}, excluded_embed_metadata_keys=[], excluded_llm_metadata_keys=[], relationships={<NodeRelationship.SOURCE: '1'>: RelatedNodeInfo(node_id='https://eur-lex.europa.eu/legal-content/EN/TXT/HTML/?uri=CELEX:32016L0680', node_type=<ObjectType.DOCUMENT: '4'>, metadata={}, hash='caf142112d0f6a347f255b21c17bed3b471f6c85a139a8ffc943ead6774c8819'), <NodeRelationship.PREVIOUS: '2'>: RelatedNodeInfo(node_id='069a5847-8bc8-45ac-a931-c2e33f9707da', node_type=<ObjectType.TEXT: '1'>, metadata={}, hash='2a2cb5259b64da7f1c87b2e3db1fb3a35767c153e7905899757253f309d76388'), <NodeRelationship.NEXT: '3'>: RelatedNodeInfo(node_id='0645c40c-e522-4c3b-8ac7-89f23efe7ce4', node_type=<ObjectType.TEXT: '1'>, metadata={}, hash='98340ba30c9a8e7ddbc3f55bb760d512a842dbfa5df1bf34b46fe5c7a0deb461')}, text='Requests for assistance shall contain all the necessary information,\\nincluding the purpose of and reasons for the request. Information exchanged\\nshall be used only for the purpose for which it was requested.\\n\\n4\\\\. The requested supervisory authority shall not refuse to comply with the\\nrequest unless:\\n\\n(a)\\n\\n|\\n\\nit is not competent for the subject-matter of the request or for the measures\\nit is requested to execute; or  \\n  \\n---|---  \\n  \\n(b)\\n\\n|\\n\\ncompliance with the request would infringe this Directive or Union or Member\\nState law to which the supervisory authority receiving the request is subject.  \\n  \\n---|---  \\n  \\n5\\\\. The requested supervisory authority shall inform the requesting\\nsupervisory authority of the results or, as the case may be, of the progress\\nof the measures taken in order to respond to the request. The requested\\nsupervisory authority shall provide reasons for any refusal to comply with a\\nrequest pursuant to paragraph 4.\\n\\n6\\\\. Requested supervisory authorities shall, as a rule, supply the information\\nrequested by other supervisory authorities by electronic means, using a\\nstandardised format.\\n\\n7\\\\. Requested supervisory authorities shall not charge a fee for any action\\ntaken by them pursuant to a request for mutual assistance. Supervisory\\nauthorities may agree on rules to indemnify each other for specific\\nexpenditure arising from the provision of mutual assistance in exceptional\\ncircumstances.\\n\\n8\\\\. The Commission may, by means of implementing acts, specify the format and\\nprocedures for mutual assistance referred to in this Article and the\\narrangements for the exchange of information by electronic means between\\nsupervisory authorities, and between supervisory authorities and the Board.\\nThose implementing acts shall be adopted in accordance with the examination\\nprocedure referred to in Article 58(2).\\n\\nArticle 51\\n\\nTasks of the Board\\n\\n1\\\\. The Board established by Regulation (EU) 2016/679 shall perform all of the\\nfollowing tasks in relation to processing within the scope of this Directive:\\n\\n(a)\\n\\n|\\n\\nadvise the Commission on any issue related to the protection of personal data\\nin the Union, including on any proposed amendment of this Directive;  \\n  \\n---|---  \\n  \\n(b)\\n\\n|\\n\\nexamine, on its own initiative, on request of one of its members or on request\\nof the Commission, any question covering the application of this Directive and\\nissue guidelines, recommendations and best practices in order to encourage\\nconsistent application of this Directive;  \\n  \\n---|---  \\n  \\n(c)\\n\\n|\\n\\ndraw up guidelines for supervisory authorities concerning the application of\\nmeasures referred to in Article 47(1) and (3);  \\n  \\n---|---  \\n  \\n(d)\\n\\n|\\n\\nissue guidelines, recommendations and best practices in accordance with point\\n(b) of this subparagraph for establishing personal data breaches and\\ndetermining the undue delay referred to in Article 30(1) and (2) and for the\\nparticular circumstances in which a controller or a processor is required to\\nnotify the personal data breach;  \\n  \\n---|---  \\n  \\n(e)\\n\\n|\\n\\nissue guidelines, recommendations and best practices in accordance with point\\n(b) of this subparagraph as to the circumstances in which a personal data\\nbreach is likely to result in a high risk to the rights and freedoms of\\nnatural persons as referred to in Article 31(1);  \\n  \\n---|---  \\n  \\n(f)\\n\\n|\\n\\nreview the practical application of the guidelines, recommendations and best\\npractices referred to in points (b) and (c);  \\n  \\n---|---  \\n  \\n(g)\\n\\n|\\n\\nprovide the Commission with an opinion for the assessment of the adequacy of\\nthe level of protection in a third country, a territory or one or more\\nspecified sectors within a third country, or an international organisation,\\nincluding for the assessment whether such a third country, territory,\\nspecified sector, or international organisation no longer ensures an adequate\\nlevel of protection;  \\n  \\n---|---  \\n  \\n(h)\\n\\n|\\n\\npromote the cooperation and the effective bilateral and multilateral exchange\\nof information and best practices between the supervisory authorities;  \\n  \\n---|---  \\n  \\n(i)\\n\\n|\\n\\npromote common training programmes and facilitate personnel exchanges between\\nthe supervisory authorities and, where appropriate, with the supervisory\\nauthorities of third countries or with international organisations;  \\n  \\n---|---  \\n  \\n(j)\\n\\n|\\n\\npromote the exchange of knowledge and documentation on data protection law and\\npractice with data protection supervisory authorities worldwide.  \\n  \\n---|---  \\n  \\nWith regard to point (g) of the first subparagraph, the Commission shall\\nprovide the Board with all necessary documentation, including correspondence\\nwith the government of the third country, with the territory or specified\\nsector within that third country, or with the international organisation.\\n\\n2\\\\. Where the Commission requests advice from the Board, it may indicate a\\ntime limit, taking into account the urgency of the matter.\\n\\n3\\\\. The Board shall forward its opinions, guidelines, recommendations and best\\npractices to the Commission and to the committee referred to in Article 58(1)\\nand make them public.', start_char_idx=163369, end_char_idx=168450, text_template='{metadata_str}\\n\\n{content}', metadata_template='{key}: {value}', metadata_seperator='\\n'), score=None),\n",
       " NodeWithScore(node=TextNode(id_='0645c40c-e522-4c3b-8ac7-89f23efe7ce4', embedding=None, metadata={}, excluded_embed_metadata_keys=[], excluded_llm_metadata_keys=[], relationships={<NodeRelationship.SOURCE: '1'>: RelatedNodeInfo(node_id='https://eur-lex.europa.eu/legal-content/EN/TXT/HTML/?uri=CELEX:32016L0680', node_type=<ObjectType.DOCUMENT: '4'>, metadata={}, hash='caf142112d0f6a347f255b21c17bed3b471f6c85a139a8ffc943ead6774c8819'), <NodeRelationship.PREVIOUS: '2'>: RelatedNodeInfo(node_id='8d0611c2-4031-47ec-b2bf-dc06479f69e2', node_type=<ObjectType.TEXT: '1'>, metadata={}, hash='a19bb81adde1a6ac0cf7c54aa297d97b19bb8f4f5456301f3232ed078a5759fc'), <NodeRelationship.NEXT: '3'>: RelatedNodeInfo(node_id='7042d48e-da5a-4a74-935c-df9c45f8e288', node_type=<ObjectType.TEXT: '1'>, metadata={}, hash='ef8999dd597e3134ba10a20f859cfcf6c3291f7ed8d971335adfaa13991d46d0')}, text=\"---|---  \\n  \\nWith regard to point (g) of the first subparagraph, the Commission shall\\nprovide the Board with all necessary documentation, including correspondence\\nwith the government of the third country, with the territory or specified\\nsector within that third country, or with the international organisation.\\n\\n2\\\\. Where the Commission requests advice from the Board, it may indicate a\\ntime limit, taking into account the urgency of the matter.\\n\\n3\\\\. The Board shall forward its opinions, guidelines, recommendations and best\\npractices to the Commission and to the committee referred to in Article 58(1)\\nand make them public.\\n\\n4\\\\. The Commission shall inform the Board of the action it has taken following\\nopinions, guidelines, recommendations and best practices issued by the Board.\\n\\nCHAPTER VIII\\n\\nRemedies, liability and penalties\\n\\nArticle 52\\n\\nRight to lodge a complaint with a supervisory authority\\n\\n1\\\\. Without prejudice to any other administrative or judicial remedy, Member\\nStates shall provide for every data subject to have the right to lodge a\\ncomplaint with a single supervisory authority, if the data subject considers\\nthat the processing of personal data relating to him or her infringes\\nprovisions adopted pursuant to this Directive.\\n\\n2\\\\. Member States shall provide for the supervisory authority with which the\\ncomplaint has been lodged to transmit it to the competent supervisory\\nauthority, without undue delay if the complaint is not lodged with the\\nsupervisory authority that is competent pursuant to Article 45(1). The data\\nsubject shall be informed about the transmission.\\n\\n3\\\\. Member States shall provide for the supervisory authority with which the\\ncomplaint has been lodged to provide further assistance on request of the data\\nsubject.\\n\\n4\\\\. The data subject shall be informed by the competent supervisory authority\\nof the progress and the outcome of the complaint, including of the possibility\\nof a judicial remedy pursuant to Article 53.\\n\\nArticle 53\\n\\nRight to an effective judicial remedy against a supervisory authority\\n\\n1\\\\. Without prejudice to any other administrative or non-judicial remedy,\\nMember States shall provide for the right of a natural or legal person to an\\neffective judicial remedy against a legally binding decision of a supervisory\\nauthority concerning them.\\n\\n2\\\\. Without prejudice to any other administrative or non-judicial remedy, each\\ndata subject shall have the right to an effective judicial remedy where the\\nsupervisory authority which is competent pursuant to Article 45(1) does not\\nhandle a complaint or does not inform the data subject within three months of\\nthe progress or outcome of the complaint lodged pursuant to Article 52.\\n\\n3\\\\. Member States shall provide for proceedings against a supervisory\\nauthority to be brought before the courts of the Member State where the\\nsupervisory authority is established.\\n\\nArticle 54\\n\\nRight to an effective judicial remedy against a controller or processor\\n\\nWithout prejudice to any available administrative or non-judicial remedy,\\nincluding the right to lodge a complaint with a supervisory authority pursuant\\nto Article 52, Member States shall provide for the right of a data subject to\\nan effective judicial remedy where he or she considers that his or her rights\\nlaid down in provisions adopted pursuant to this Directive have been infringed\\nas a result of the processing of his or her personal data in non-compliance\\nwith those provisions.\\n\\nArticle 55\\n\\nRepresentation of data subjects\\n\\nMember States shall, in accordance with Member State procedural law, provide\\nfor the data subject to have the right to mandate a not-for-profit body,\\norganisation or association which has been properly constituted in accordance\\nwith Member State law, has statutory objectives which are in the public\\ninterest and is active in the field of protection of data subject's rights and\\nfreedoms with regard to the protection of their personal data to lodge the\\ncomplaint on his or her behalf and to exercise the rights referred to in\\nArticles 52, 53 and 54 on his or her behalf.\\n\\nArticle 56\\n\\nRight to compensation\\n\\nMember States shall provide for any person who has suffered material or non-\\nmaterial damage as a result of an unlawful processing operation or of any act\\ninfringing national provisions adopted pursuant to this Directive to have the\\nright to receive compensation for the damage suffered from the controller or\\nany other authority competent under Member State law.\\n\\nArticle 57\\n\\nPenalties\\n\\nMember States shall lay down the rules on penalties applicable to\\ninfringements of the provisions adopted pursuant to this Directive and shall\\ntake all measures necessary to ensure that they are implemented. The penalties\\nprovided for shall be effective, proportionate and dissuasive.\\n\\nCHAPTER IX\\n\\nImplementing acts\\n\\nArticle 58\\n\\nCommittee procedure\\n\\n1\\\\. The Commission shall be assisted by the committee established by Article\\n93 of Regulation (EU) 2016/679. That committee shall be a committee within the\\nmeaning of Regulation (EU) No 182/2011.\\n\\n2\\\\.\", start_char_idx=167825, end_char_idx=172854, text_template='{metadata_str}\\n\\n{content}', metadata_template='{key}: {value}', metadata_seperator='\\n'), score=None),\n",
       " NodeWithScore(node=TextNode(id_='7042d48e-da5a-4a74-935c-df9c45f8e288', embedding=None, metadata={}, excluded_embed_metadata_keys=[], excluded_llm_metadata_keys=[], relationships={<NodeRelationship.SOURCE: '1'>: RelatedNodeInfo(node_id='https://eur-lex.europa.eu/legal-content/EN/TXT/HTML/?uri=CELEX:32016L0680', node_type=<ObjectType.DOCUMENT: '4'>, metadata={}, hash='caf142112d0f6a347f255b21c17bed3b471f6c85a139a8ffc943ead6774c8819'), <NodeRelationship.PREVIOUS: '2'>: RelatedNodeInfo(node_id='0645c40c-e522-4c3b-8ac7-89f23efe7ce4', node_type=<ObjectType.TEXT: '1'>, metadata={}, hash='98340ba30c9a8e7ddbc3f55bb760d512a842dbfa5df1bf34b46fe5c7a0deb461'), <NodeRelationship.NEXT: '3'>: RelatedNodeInfo(node_id='1e41ce4c-6295-4dee-898d-9ba12ea7781b', node_type=<ObjectType.TEXT: '1'>, metadata={}, hash='dd3c8750b551851a91183bea9bdffb31b946ef2b6e99bde9e6cfc2f52700ab5b')}, text='Article 57\\n\\nPenalties\\n\\nMember States shall lay down the rules on penalties applicable to\\ninfringements of the provisions adopted pursuant to this Directive and shall\\ntake all measures necessary to ensure that they are implemented. The penalties\\nprovided for shall be effective, proportionate and dissuasive.\\n\\nCHAPTER IX\\n\\nImplementing acts\\n\\nArticle 58\\n\\nCommittee procedure\\n\\n1\\\\. The Commission shall be assisted by the committee established by Article\\n93 of Regulation (EU) 2016/679. That committee shall be a committee within the\\nmeaning of Regulation (EU) No 182/2011.\\n\\n2\\\\. Where reference is made to this paragraph, Article 5 of Regulation (EU) No\\n182/2011 shall apply.\\n\\n3\\\\. Where reference is made to this paragraph, Article 8 of Regulation (EU) No\\n182/2011, in conjunction with Article 5 thereof, shall apply.\\n\\nCHAPTER X\\n\\nFinal provisions\\n\\nArticle 59\\n\\nRepeal of Framework Decision 2008/977/JHA\\n\\n1\\\\. Framework Decision 2008/977/JHA is repealed with effect from 6 May 2018.\\n\\n2\\\\. References to the repealed Decision referred to in paragraph 1 shall be\\nconstrued as references to this Directive.\\n\\nArticle 60\\n\\nUnion legal acts already in force\\n\\nThe specific provisions for the protection of personal data in Union legal\\nacts that entered into force on or before 6 May 2016 in the field of judicial\\ncooperation in criminal matters and police cooperation, which regulate\\nprocessing between Member States and the access of designated authorities of\\nMember States to information systems established pursuant to the Treaties\\nwithin the scope of this Directive, shall remain unaffected.\\n\\nArticle 61\\n\\nRelationship with previously concluded international agreements in the field\\nof judicial cooperation in criminal matters and police cooperation\\n\\nInternational agreements involving the transfer of personal data to third\\ncountries or international organisations which were concluded by Member States\\nprior to 6 May 2016 and which comply with Union law as applicable prior to\\nthat date shall remain in force until amended, replaced or revoked.\\n\\nArticle 62\\n\\nCommission reports\\n\\n1\\\\. By 6 May 2022, and every four years thereafter, the Commission shall\\nsubmit a report on the evaluation and review of this Directive to the European\\nParliament and to the Council. The reports shall be made public.\\n\\n2\\\\. In the context of the evaluations and reviews referred to in paragraph 1,\\nthe Commission shall examine, in particular, the application and functioning\\nof Chapter V on the transfer of personal data to third countries or\\ninternational organisations with particular regard to decisions adopted\\npursuant to Article 36(3) and Article 39.\\n\\n3\\\\. For the purposes of paragraphs 1 and 2, the Commission may request\\ninformation from Member States and supervisory authorities.\\n\\n4\\\\. In carrying out the evaluations and reviews referred to in paragraphs 1\\nand 2, the Commission shall take into account the positions and findings of\\nthe European Parliament, of the Council and of other relevant bodies or\\nsources.\\n\\n5\\\\. The Commission shall, if necessary, submit appropriate proposals with a\\nview to amending this Directive, in particular taking account of developments\\nin information technology and in the light of the state of progress in the\\ninformation society.\\n\\n6\\\\. By 6 May 2019, the Commission shall review other legal acts adopted by the\\nUnion which regulate processing by the competent authorities for the purposes\\nset out in Article 1(1) including those referred to in Article 60, in order to\\nassess the need to align them with this Directive and to make, where\\nappropriate, the necessary proposals to amend those acts to ensure a\\nconsistent approach to the protection of personal data within the scope of\\nthis Directive.\\n\\nArticle 63\\n\\nTransposition\\n\\n1\\\\. Member States shall adopt and publish, by 6 May 2018, the laws,\\nregulations and administrative provisions necessary to comply with this\\nDirective. They shall forthwith notify to the Commission the text of those\\nprovisions. They shall apply those provisions from 6 May 2018.\\n\\nWhen Member States adopt those provisions, they shall contain a reference to\\nthis Directive or shall be accompanied by such a reference on the occasion of\\ntheir official publication. Member States shall determine how such reference\\nis to be made.\\n\\n2\\\\. By way of derogation from paragraph 1, a Member State may provide,\\nexceptionally, where it involves disproportionate effort, for automated\\nprocessing systems set up before 6 May 2016 to be brought into conformity with\\nArticle 25(1) by 6 May 2023.\\n\\n3\\\\.', start_char_idx=172281, end_char_idx=176795, text_template='{metadata_str}\\n\\n{content}', metadata_template='{key}: {value}', metadata_seperator='\\n'), score=None),\n",
       " NodeWithScore(node=TextNode(id_='1e41ce4c-6295-4dee-898d-9ba12ea7781b', embedding=None, metadata={}, excluded_embed_metadata_keys=[], excluded_llm_metadata_keys=[], relationships={<NodeRelationship.SOURCE: '1'>: RelatedNodeInfo(node_id='https://eur-lex.europa.eu/legal-content/EN/TXT/HTML/?uri=CELEX:32016L0680', node_type=<ObjectType.DOCUMENT: '4'>, metadata={}, hash='caf142112d0f6a347f255b21c17bed3b471f6c85a139a8ffc943ead6774c8819'), <NodeRelationship.PREVIOUS: '2'>: RelatedNodeInfo(node_id='7042d48e-da5a-4a74-935c-df9c45f8e288', node_type=<ObjectType.TEXT: '1'>, metadata={}, hash='ef8999dd597e3134ba10a20f859cfcf6c3291f7ed8d971335adfaa13991d46d0'), <NodeRelationship.NEXT: '3'>: RelatedNodeInfo(node_id='b9497b99-f870-4d32-9ac2-8ec803861788', node_type=<ObjectType.TEXT: '1'>, metadata={}, hash='c196061050e46d8f5b2ee1f7cc231a1148cbe85ca090565751cc550c0fe03853')}, text=\"Article 63\\n\\nTransposition\\n\\n1\\\\. Member States shall adopt and publish, by 6 May 2018, the laws,\\nregulations and administrative provisions necessary to comply with this\\nDirective. They shall forthwith notify to the Commission the text of those\\nprovisions. They shall apply those provisions from 6 May 2018.\\n\\nWhen Member States adopt those provisions, they shall contain a reference to\\nthis Directive or shall be accompanied by such a reference on the occasion of\\ntheir official publication. Member States shall determine how such reference\\nis to be made.\\n\\n2\\\\. By way of derogation from paragraph 1, a Member State may provide,\\nexceptionally, where it involves disproportionate effort, for automated\\nprocessing systems set up before 6 May 2016 to be brought into conformity with\\nArticle 25(1) by 6 May 2023.\\n\\n3\\\\. By way of derogation from paragraphs 1 and 2 of this Article, a Member\\nState may, in exceptional circumstances, bring an automated processing system\\nas referred to in paragraph 2 of this Article into conformity with Article\\n25(1) within a specified period after the period referred to in paragraph 2 of\\nthis Article, if it would otherwise cause serious difficulties for the\\noperation of that particular automated processing system. The Member State\\nconcerned shall notify the Commission of the grounds for those serious\\ndifficulties and the grounds for the specified period within which it shall\\nbring that particular automated processing system into conformity with Article\\n25(1). The specified period shall in any event not be later than 6 May 2026.\\n\\n4\\\\. Member States shall communicate to the Commission the text of the main\\nprovisions of national law which they adopt in the field covered by this\\nDirective.\\n\\nArticle 64\\n\\nEntry into force\\n\\nThis Directive shall enter into force on the day following that of its\\npublication in the Official Journal of the European Union.\\n\\nArticle 65\\n\\nAddressees\\n\\nThis Directive is addressed to the Member States.\\n\\nDone at Brussels, 27 April 2016.\\n\\nFor the European Parliament\\n\\nThe President\\n\\nM. SCHULZ\\n\\nFor the Council\\n\\nThe President\\n\\nJ.A. HENNIS-PLASSCHAERT\\n\\n* * *\\n\\n(1) [OJ C 391, 18.12.2012, p. 127](./../../../../legal-\\ncontent/EN/AUTO/?uri=OJ:C:2012:391:TOC).\\n\\n(2) Position of the European Parliament of 12 March 2014 (not yet published in\\nthe Official Journal) and position of the Council at first reading of 8 April\\n2016 (not yet published in the Official Journal). Position of the European\\nParliament of 14 April 2016.\\n\\n(3) Directive 95/46/EC of the European Parliament and of the Council of 24\\nOctober 1995 on the protection of individuals with regard to the processing of\\npersonal data and on the free movement of such data ([OJ L 281, 23.11.1995, p.\\n31](./../../../../legal-content/EN/AUTO/?uri=OJ:L:1995:281:TOC)).\\n\\n(4) Council Framework Decision 2008/977/JHA of 27 November 2008 on the\\nprotection of personal data processed in the framework of police and judicial\\ncooperation in criminal matters ([OJ L 350, 30.12.2008, p.\\n60](./../../../../legal-content/EN/AUTO/?uri=OJ:L:2008:350:TOC)).\\n\\n(5) Regulation (EU) 2016/679 of the European Parliament and of the Council of\\n27 April 2016 on the protection of natural persons with regard to the\\nprocessing of personal data and on the free movement of such data and\\nrepealing Directive 95/46/EC (General Data Protection Regulation) (see page 1\\nof this Official Journal).\\n\\n(6) Regulation (EC) No 45/2001 of the European Parliament and of the Council\\nof 18 December 2000 on the protection of individuals with regard to the\\nprocessing of personal data by the Community institutions and bodies and on\\nthe free movement of such data ([OJ L 8, 12.1.2001, p. 1](./../../../../legal-\\ncontent/EN/AUTO/?uri=OJ:L:2001:008:TOC)).\\n\\n(7) Directive 2011/24/EU of the European Parliament and of the Council of 9\\nMarch 2011 on the application of patients' rights in cross-border healthcare\\n([OJ L 88, 4.4.2011, p. 45](./../../../../legal-\\ncontent/EN/AUTO/?uri=OJ:L:2011:088:TOC)).\", start_char_idx=175986, end_char_idx=179947, text_template='{metadata_str}\\n\\n{content}', metadata_template='{key}: {value}', metadata_seperator='\\n'), score=None),\n",
       " NodeWithScore(node=TextNode(id_='b9497b99-f870-4d32-9ac2-8ec803861788', embedding=None, metadata={}, excluded_embed_metadata_keys=[], excluded_llm_metadata_keys=[], relationships={<NodeRelationship.SOURCE: '1'>: RelatedNodeInfo(node_id='https://eur-lex.europa.eu/legal-content/EN/TXT/HTML/?uri=CELEX:32016L0680', node_type=<ObjectType.DOCUMENT: '4'>, metadata={}, hash='caf142112d0f6a347f255b21c17bed3b471f6c85a139a8ffc943ead6774c8819'), <NodeRelationship.PREVIOUS: '2'>: RelatedNodeInfo(node_id='1e41ce4c-6295-4dee-898d-9ba12ea7781b', node_type=<ObjectType.TEXT: '1'>, metadata={}, hash='dd3c8750b551851a91183bea9bdffb31b946ef2b6e99bde9e6cfc2f52700ab5b')}, text=\"(6) Regulation (EC) No 45/2001 of the European Parliament and of the Council\\nof 18 December 2000 on the protection of individuals with regard to the\\nprocessing of personal data by the Community institutions and bodies and on\\nthe free movement of such data ([OJ L 8, 12.1.2001, p. 1](./../../../../legal-\\ncontent/EN/AUTO/?uri=OJ:L:2001:008:TOC)).\\n\\n(7) Directive 2011/24/EU of the European Parliament and of the Council of 9\\nMarch 2011 on the application of patients' rights in cross-border healthcare\\n([OJ L 88, 4.4.2011, p. 45](./../../../../legal-\\ncontent/EN/AUTO/?uri=OJ:L:2011:088:TOC)).\\n\\n(8) Council Common Position 2005/69/JHA of 24 January 2005 on exchanging\\ncertain data with Interpol ([OJ L 27, 29.1.2005, p. 61](./../../../../legal-\\ncontent/EN/AUTO/?uri=OJ:L:2005:027:TOC)).\\n\\n(9) Council Decision 2007/533/JHA of 12 June 2007 on the establishment,\\noperation and use of the second generation Schengen Information System (SIS\\nII) ([OJ L 205, 7.8.2007, p. 63](./../../../../legal-\\ncontent/EN/AUTO/?uri=OJ:L:2007:205:TOC)).\\n\\n(10) Council Directive 77/249/EEC of 22 March 1977 to facilitate the effective\\nexercise by lawyers of freedom to provide services ([OJ L 78, 26.3.1977, p.\\n17](./../../../../legal-content/EN/AUTO/?uri=OJ:L:1977:078:TOC)).\\n\\n(11) Regulation (EU) No 182/2011 of the European Parliament and of the Council\\nof 16 February 2011 laying down the rules and general principles concerning\\nmechanisms for control by the Member States of the Commission's exercise of\\nimplementing powers ([OJ L 55, 28.2.2011, p. 13](./../../../../legal-\\ncontent/EN/AUTO/?uri=OJ:L:2011:055:TOC)).\\n\\n(12) Council Decision 2008/615/JHA of 23 June 2008 on the stepping up of\\ncross-border cooperation, particularly in combating terrorism and cross-border\\ncrime ([OJ L 210, 6.8.2008, p. 1](./../../../../legal-\\ncontent/EN/AUTO/?uri=OJ:L:2008:210:TOC)).\\n\\n(13) Council Act of 29 May 2000 establishing in accordance with Article 34 of\\nthe Treaty on European Union the Convention on Mutual Assistance in Criminal\\nMatters between the Member States of the European Union ([OJ C 197, 12.7.2000,\\np. 1](./../../../../legal-content/EN/AUTO/?uri=OJ:C:2000:197:TOC)).\\n\\n(14) Directive 2011/93/EU of the European Parliament and of the Council of 13\\nDecember 2011 on combating the sexual abuse and sexual exploitation of\\nchildren and child pornography, and replacing Council Framework Decision\\n2004/68/JHA ([OJ L 335, 17.12.2011, p. 1](./../../../../legal-\\ncontent/EN/AUTO/?uri=OJ:L:2011:335:TOC)).\\n\\n(15) [OJ L 176, 10.7.1999, p. 36](./../../../../legal-\\ncontent/EN/AUTO/?uri=OJ:L:1999:176:TOC).\\n\\n(16) [OJ L 53, 27.2.2008, p. 52](./../../../../legal-\\ncontent/EN/AUTO/?uri=OJ:L:2008:053:TOC).\\n\\n(17) [OJ L 160, 18.6.2011, p. 21](./../../../../legal-\\ncontent/EN/AUTO/?uri=OJ:L:2011:160:TOC).\\n\\n(18) [OJ C 192, 30.6.2012, p. 7](./../../../../legal-\\ncontent/EN/AUTO/?uri=OJ:C:2012:192:TOC).\\n\\n* * *\", start_char_idx=179357, end_char_idx=182225, text_template='{metadata_str}\\n\\n{content}', metadata_template='{key}: {value}', metadata_seperator='\\n'), score=None)]"
      ]
     },
     "metadata": {},
     "output_type": "display_data"
    }
   ],
   "source": [
    "index.as_retriever().retrieve(\n",
    "    \"What sections should a GDPR compliant privacy policy include? And for each section, what key points should be covered?\"\n",
    ")"
   ]
  },
  {
   "cell_type": "code",
   "execution_count": 19,
   "metadata": {},
   "outputs": [
    {
     "name": "stdout",
     "output_type": "stream",
     "text": [
      "\u001b[1;31mSignature:\u001b[0m\n",
      "\u001b[0msynthesizer\u001b[0m\u001b[1;33m.\u001b[0m\u001b[0mget_response\u001b[0m\u001b[1;33m(\u001b[0m\u001b[1;33m\n",
      "\u001b[0m    \u001b[0mquery_str\u001b[0m\u001b[1;33m:\u001b[0m \u001b[0mstr\u001b[0m\u001b[1;33m,\u001b[0m\u001b[1;33m\n",
      "\u001b[0m    \u001b[0mtext_chunks\u001b[0m\u001b[1;33m:\u001b[0m \u001b[0mSequence\u001b[0m\u001b[1;33m[\u001b[0m\u001b[0mstr\u001b[0m\u001b[1;33m]\u001b[0m\u001b[1;33m,\u001b[0m\u001b[1;33m\n",
      "\u001b[0m    \u001b[0mprev_response\u001b[0m\u001b[1;33m:\u001b[0m \u001b[0mUnion\u001b[0m\u001b[1;33m[\u001b[0m\u001b[0mpydantic\u001b[0m\u001b[1;33m.\u001b[0m\u001b[0mv1\u001b[0m\u001b[1;33m.\u001b[0m\u001b[0mmain\u001b[0m\u001b[1;33m.\u001b[0m\u001b[0mBaseModel\u001b[0m\u001b[1;33m,\u001b[0m \u001b[0mstr\u001b[0m\u001b[1;33m,\u001b[0m \u001b[0mGenerator\u001b[0m\u001b[1;33m[\u001b[0m\u001b[0mstr\u001b[0m\u001b[1;33m,\u001b[0m \u001b[0mNoneType\u001b[0m\u001b[1;33m,\u001b[0m \u001b[0mNoneType\u001b[0m\u001b[1;33m]\u001b[0m\u001b[1;33m,\u001b[0m \u001b[0mAsyncGenerator\u001b[0m\u001b[1;33m[\u001b[0m\u001b[0mstr\u001b[0m\u001b[1;33m,\u001b[0m \u001b[0mNoneType\u001b[0m\u001b[1;33m]\u001b[0m\u001b[1;33m,\u001b[0m \u001b[0mNoneType\u001b[0m\u001b[1;33m]\u001b[0m \u001b[1;33m=\u001b[0m \u001b[1;32mNone\u001b[0m\u001b[1;33m,\u001b[0m\u001b[1;33m\n",
      "\u001b[0m    \u001b[1;33m**\u001b[0m\u001b[0mresponse_kwargs\u001b[0m\u001b[1;33m:\u001b[0m \u001b[0mAny\u001b[0m\u001b[1;33m,\u001b[0m\u001b[1;33m\n",
      "\u001b[0m\u001b[1;33m)\u001b[0m \u001b[1;33m->\u001b[0m \u001b[0mUnion\u001b[0m\u001b[1;33m[\u001b[0m\u001b[0mpydantic\u001b[0m\u001b[1;33m.\u001b[0m\u001b[0mv1\u001b[0m\u001b[1;33m.\u001b[0m\u001b[0mmain\u001b[0m\u001b[1;33m.\u001b[0m\u001b[0mBaseModel\u001b[0m\u001b[1;33m,\u001b[0m \u001b[0mstr\u001b[0m\u001b[1;33m,\u001b[0m \u001b[0mGenerator\u001b[0m\u001b[1;33m[\u001b[0m\u001b[0mstr\u001b[0m\u001b[1;33m,\u001b[0m \u001b[0mNoneType\u001b[0m\u001b[1;33m,\u001b[0m \u001b[0mNoneType\u001b[0m\u001b[1;33m]\u001b[0m\u001b[1;33m,\u001b[0m \u001b[0mAsyncGenerator\u001b[0m\u001b[1;33m[\u001b[0m\u001b[0mstr\u001b[0m\u001b[1;33m,\u001b[0m \u001b[0mNoneType\u001b[0m\u001b[1;33m]\u001b[0m\u001b[1;33m]\u001b[0m\u001b[1;33m\u001b[0m\u001b[1;33m\u001b[0m\u001b[0m\n",
      "\u001b[1;31mDocstring:\u001b[0m Get compact response.\n",
      "\u001b[1;31mFile:\u001b[0m      d:\\program\\miniconda3\\envs\\dl\\lib\\site-packages\\llama_index\\core\\response_synthesizers\\compact_and_refine.py\n",
      "\u001b[1;31mType:\u001b[0m      BoundFunctionWrapper"
     ]
    }
   ],
   "source": [
    "synthesizer.get_response?"
   ]
  },
  {
   "cell_type": "markdown",
   "metadata": {},
   "source": [
    "## Judge Generator (RAW)"
   ]
  },
  {
   "cell_type": "code",
   "execution_count": null,
   "metadata": {},
   "outputs": [],
   "source": [
    "JUDGE_SECTION_TEMPLATE = \"\"\"\\\n",
    "This {section_name} is a section of a privacy policy:\n",
    "\n",
    "{section_text}\n",
    "\n",
    "Please judge whether this section is compliant with the {regulations} regulations. If not, please provide suggestions on how to improve it.\n",
    "NOTE THAT this is just one section, not the whole privacy policy. Only judge this section in isolation.\n",
    "\"\"\"\n",
    "FORMAT_JUDGE_TEMPLATE = \"\"\"\\\n",
    "Given the comments from a legal expert:\n",
    "\n",
    "{query_str}\n",
    "\n",
    "Please extract the legal expert's suggestions on how to improve the sections in a privacy policy.\n",
    "\"\"\""
   ]
  },
  {
   "cell_type": "code",
   "execution_count": null,
   "metadata": {},
   "outputs": [],
   "source": [
    "class Judge(BaseModel):\n",
    "\n",
    "    name: SectionNames = Field(..., title=\"Section Name\")\n",
    "\n",
    "    suggestions: str = Field(\n",
    "        ...,\n",
    "        title=\"Suggestions\",\n",
    "        description=\"Suggestions for improvement.\",\n",
    "    )\n",
    "\n",
    "\n",
    "class Judges(BaseModel):\n",
    "\n",
    "    judges: List[Judge] = Field(\n",
    "        ...,\n",
    "        title=\"Judges\",\n",
    "        description=\"Judges for the sections.\",\n",
    "    )\n",
    "    # suggestions: Dict[SectionNames, str] = Field(\n",
    "    #     ...,\n",
    "    #     title=\"Suggestions\",\n",
    "    #     description=\"Suggestions for sections improvement.\",\n",
    "    # )\n",
    "\n",
    "\n",
    "# class Judges2(BaseModel):\n",
    "#     improvements: Dict[SectionNames, str] = Field(\n",
    "#         ...,\n",
    "#         title=\"improvements\",\n",
    "#         description=\"Suggestions for each section's improvement.\",\n",
    "#     )"
   ]
  },
  {
   "cell_type": "code",
   "execution_count": null,
   "metadata": {},
   "outputs": [],
   "source": [
    "judge_section_template = PromptTemplate(JUDGE_SECTION_TEMPLATE)\n",
    "judge_parser = PydanticOutputParser(Judges)\n",
    "format_judge_template = PromptTemplate(\n",
    "    judge_parser.format(FORMAT_JUDGE_TEMPLATE))"
   ]
  },
  {
   "cell_type": "code",
   "execution_count": 54,
   "metadata": {},
   "outputs": [],
   "source": [
    "test_func = FnComponent(\n",
    "    fn=lambda input, section_name: f\"{len(input.judges)}, {len(section_name)}\")\n",
    "# {\n",
    "#     \"section_name\": section_name,\n",
    "#     \"section_text\": section_text,\n",
    "#     \"regulations\": regulations,\n",
    "# },"
   ]
  },
  {
   "cell_type": "code",
   "execution_count": 63,
   "metadata": {},
   "outputs": [],
   "source": [
    "def determine_judge(judges: Judges, prompt: str):\n",
    "\n",
    "    section_name = ''\n",
    "    for section in SectionNames:\n",
    "        if section.value in prompt:\n",
    "            section_name = section.value\n",
    "\n",
    "    if not section_name:\n",
    "        raise ValueError(\"Section name not found in prompt.\")\n",
    "\n",
    "    for judge in judges.judges:\n",
    "        if judge.name.value == section_name:\n",
    "            return {\"pass\": False, \"suggestions\": judge.suggestions}\n",
    "\n",
    "        return {\"pass\": True, \"suggestions\": \"\"}\n"
   ]
  },
  {
   "cell_type": "code",
   "execution_count": 66,
   "metadata": {},
   "outputs": [],
   "source": [
    "q = QueryPipeline(verbose=True)\n",
    "q.add_modules({\n",
    "    \"judge_section_template\": judge_section_template,\n",
    "    \"law_llm\": law_llm,\n",
    "    \"format_judge_template\": format_judge_template,\n",
    "    \"llm\": Settings.llm,\n",
    "    \"judge_parser\": judge_parser,\n",
    "    \"determine_judge\": FnComponent(fn=determine_judge),\n",
    "})\n",
    "q.add_link(\"judge_section_template\", \"law_llm\")\n",
    "q.add_link(\"law_llm\", \"format_judge_template\")\n",
    "q.add_link(\"format_judge_template\", \"llm\")\n",
    "q.add_link(\"llm\", \"judge_parser\")\n",
    "q.add_link(\"judge_parser\", \"determine_judge\", dest_key=\"judges\")\n",
    "q.add_link(\"judge_section_template\", \"determine_judge\", dest_key=\"prompt\")"
   ]
  },
  {
   "cell_type": "code",
   "execution_count": 56,
   "metadata": {},
   "outputs": [
    {
     "data": {
      "text/plain": [
       "{'judge_section_template': PromptComponent(partial_dict={}, prompt=PromptTemplate(metadata={'prompt_type': <PromptType.CUSTOM: 'custom'>}, template_vars=['section_name', 'section_text', 'regulations'], kwargs={}, output_parser=None, template_var_mappings=None, function_mappings=None, template='This {section_name} is a section of a privacy policy:\\n\\n{section_text}\\n\\nPlease judge whether this section is compliant with the {regulations} regulations. If not, please provide suggestions on how to improve it.\\nNOTE THAT this is just one section, not the whole privacy policy. Only judge this section in isolation.\\n'), llm=None, format_messages=False),\n",
       " 'law_llm': LLMCompleteComponent(partial_dict={}, llm=HuggingFaceLLMModified(callback_manager=<llama_index.core.callbacks.base.CallbackManager object at 0x0000011D5391D420>, system_prompt='', messages_to_prompt=<function prepare_law_llm.<locals>.messages_to_prompt at 0x0000011BCAE2BAC0>, completion_to_prompt=<function default_completion_to_prompt at 0x0000011BA178FE20>, output_parser=None, pydantic_program_mode=<PydanticProgramMode.DEFAULT: 'default'>, query_wrapper_prompt=PromptTemplate(metadata={'prompt_type': <PromptType.CUSTOM: 'custom'>}, template_vars=['query_str'], kwargs={}, output_parser=None, template_var_mappings=None, function_mappings=None, template='{query_str}'), model_name='Equall/Saul-7B-Instruct-v1', context_window=3900, max_new_tokens=256, tokenizer_name='StabilityAI/stablelm-tuned-alpha-3b', device_map='auto', stopping_ids=[], tokenizer_outputs_to_remove=[], tokenizer_kwargs={'max_length': 3900}, model_kwargs={}, generate_kwargs={}, is_chat_model=False), streaming=False),\n",
       " 'format_judge_template': PromptComponent(partial_dict={}, prompt=PromptTemplate(metadata={'prompt_type': <PromptType.CUSTOM: 'custom'>}, template_vars=['query_str'], kwargs={}, output_parser=None, template_var_mappings=None, function_mappings=None, template='Given the comments from a legal expert:\\n\\n{query_str}\\n\\nPlease extract the legal expert\\'s suggestions on how to improve the sections in a privacy policy.\\n\\n\\n\\nHere\\'s a JSON schema to follow:\\n{{\"$defs\": {{\"Judge\": {{\"properties\": {{\"name\": {{\"allOf\": [{{\"$ref\": \"#/$defs/SectionNames\"}}], \"title\": \"Section Name\"}}, \"suggestions\": {{\"description\": \"Suggestions for improvement.\", \"title\": \"Suggestions\", \"type\": \"string\"}}}}, \"required\": [\"name\", \"suggestions\"], \"title\": \"Judge\", \"type\": \"object\"}}, \"SectionNames\": {{\"enum\": [\"Introduction\", \"Data Controller Information\", \"Data Collection and Usage\", \"Data Subject Rights\", \"Data Sharing and Transfers\", \"Data Retention\", \"Disclosure of Personal Information\", \"Security Measures\", \"Automated Decision-Making and Profiling\", \"Cookies and Tracking Technologies\", \"Changes to the Privacy Policy\", \"Contact Information\"], \"title\": \"SectionNames\", \"type\": \"string\"}}}}, \"properties\": {{\"judges\": {{\"description\": \"Judges for the sections.\", \"items\": {{\"$ref\": \"#/$defs/Judge\"}}, \"title\": \"Judges\", \"type\": \"array\"}}}}, \"required\": [\"judges\"], \"title\": \"Judges\", \"type\": \"object\"}}\\n\\nOutput a valid JSON object but do not repeat the schema.\\n'), llm=None, format_messages=False),\n",
       " 'llm': LLMChatComponent(partial_dict={}, llm=OpenAI(callback_manager=<llama_index.core.callbacks.base.CallbackManager object at 0x0000011B9B364B20>, system_prompt=None, messages_to_prompt=<function messages_to_prompt at 0x0000011BA1703760>, completion_to_prompt=<function default_completion_to_prompt at 0x0000011BA178FE20>, output_parser=None, pydantic_program_mode=<PydanticProgramMode.DEFAULT: 'default'>, query_wrapper_prompt=None, model='gpt-4o', temperature=0.1, max_tokens=None, logprobs=None, top_logprobs=0, additional_kwargs={}, max_retries=3, timeout=60.0, default_headers=None, reuse_client=True, api_key='sk-proj-e20Q6bKuRvBVQBObIFhvT3BlbkFJ3HdudAgJER9AnPxwsgFp', api_base='https://api.openai.com/v1', api_version=''), streaming=False),\n",
       " 'judge_parser': OutputParserComponent(partial_dict={}, output_parser=<llama_index.core.output_parsers.pydantic.PydanticOutputParser object at 0x0000011D4C8474C0>),\n",
       " 'test_func': FnComponent(partial_dict={}, fn=<function <lambda> at 0x0000011D538E20E0>, async_fn=None, output_key='output')}"
      ]
     },
     "execution_count": 56,
     "metadata": {},
     "output_type": "execute_result"
    }
   ],
   "source": [
    "q.module_dict"
   ]
  },
  {
   "cell_type": "code",
   "execution_count": 67,
   "metadata": {},
   "outputs": [
    {
     "name": "stderr",
     "output_type": "stream",
     "text": [
      "Setting `pad_token_id` to `eos_token_id`:2 for open-end generation.\n"
     ]
    },
    {
     "name": "stdout",
     "output_type": "stream",
     "text": [
      "\u001b[1;3;38;2;155;135;227m> Running module judge_section_template with input: \n",
      "section_name: Data Collection and Usage\n",
      "section_text: The data we collect depends on the context of your interactions with Microsoft and the choices you make (including your privacy settings), the products and features you use, your location, and applica...\n",
      "regulations: GDPR, CCPA\n",
      "\n",
      "\u001b[0m\u001b[1;3;38;2;155;135;227m> Running module law_llm with input: \n",
      "prompt: This Data Collection and Usage is a section of a privacy policy:\n",
      "\n",
      "The data we collect depends on the context of your interactions with Microsoft and the choices you make (including your privacy settin...\n",
      "\n",
      "\u001b[0m\u001b[1;3;38;2;155;135;227m> Running module format_judge_template with input: \n",
      "query_str: This section appears to be compliant with the GDPR and CCPA regulations. It provides clear information about the data collected by Microsoft, the purposes for which the data is used, and the legal bas...\n",
      "\n",
      "\u001b[0m\u001b[1;3;38;2;155;135;227m> Running module llm with input: \n",
      "messages: Given the comments from a legal expert:\n",
      "\n",
      "This section appears to be compliant with the GDPR and CCPA regulations. It provides clear information about the data collected by Microsoft, the purposes for ...\n",
      "\n",
      "\u001b[0m\u001b[1;3;38;2;155;135;227m> Running module judge_parser with input: \n",
      "input: assistant: ```json\n",
      "{\n",
      "  \"judges\": [\n",
      "    {\n",
      "      \"name\": \"Data Collection and Usage\",\n",
      "      \"suggestions\": \"Clarify the legal basis for processing each type of data collected, such as consent, contract,...\n",
      "\n",
      "\u001b[0m\u001b[1;3;38;2;155;135;227m> Running module determine_judge with input: \n",
      "prompt: This Data Collection and Usage is a section of a privacy policy:\n",
      "\n",
      "The data we collect depends on the context of your interactions with Microsoft and the choices you make (including your privacy settin...\n",
      "judges: judges=[Judge(name=<SectionNames.SECTION3: 'Data Collection and Usage'>, suggestions='Clarify the legal basis for processing each type of data collected, such as consent, contract, or legitimate inter...\n",
      "\n",
      "\u001b[0m"
     ]
    }
   ],
   "source": [
    "output = q.run(\n",
    "    section_name=\"Data Collection and Usage\",\n",
    "    section_text=generated_section,\n",
    "    regulations=\"GDPR, CCPA\",\n",
    ")"
   ]
  },
  {
   "cell_type": "code",
   "execution_count": 68,
   "metadata": {},
   "outputs": [
    {
     "data": {
      "text/plain": [
       "{'pass': False,\n",
       " 'suggestions': 'Clarify the legal basis for processing each type of data collected, such as consent, contract, or legitimate interest.'}"
      ]
     },
     "execution_count": 68,
     "metadata": {},
     "output_type": "execute_result"
    }
   ],
   "source": [
    "output"
   ]
  },
  {
   "cell_type": "code",
   "execution_count": 50,
   "metadata": {},
   "outputs": [
    {
     "data": {
      "text/plain": [
       "'4, 1911'"
      ]
     },
     "execution_count": 50,
     "metadata": {},
     "output_type": "execute_result"
    }
   ],
   "source": [
    "output"
   ]
  },
  {
   "cell_type": "code",
   "execution_count": 52,
   "metadata": {},
   "outputs": [],
   "source": [
    "judge_pipeline = QueryPipeline(chain=[\n",
    "    judge_section_template,\n",
    "    law_llm,\n",
    "    format_judge_template,\n",
    "    Settings.llm,\n",
    "    judge_parser,\n",
    "    test_func,\n",
    "],\n",
    "                               verbose=True)"
   ]
  },
  {
   "cell_type": "code",
   "execution_count": 44,
   "metadata": {},
   "outputs": [],
   "source": [
    "module_names = list(judge_pipeline.module_dict.keys())"
   ]
  },
  {
   "cell_type": "code",
   "execution_count": 45,
   "metadata": {},
   "outputs": [],
   "source": [
    "judge_pipeline.add_link(module_names[0], module_names[-1], dest_key=\"prompt\")"
   ]
  },
  {
   "cell_type": "code",
   "execution_count": 46,
   "metadata": {},
   "outputs": [
    {
     "name": "stderr",
     "output_type": "stream",
     "text": [
      "Setting `pad_token_id` to `eos_token_id`:2 for open-end generation.\n"
     ]
    },
    {
     "name": "stdout",
     "output_type": "stream",
     "text": [
      "\u001b[1;3;38;2;155;135;227m> Running module c950a9cc-1007-47c8-81be-975e7d5a584c with input: \n",
      "section_name: Data Collection and Usage\n",
      "section_text: The data we collect depends on the context of your interactions with Microsoft and the choices you make (including your privacy settings), the products and features you use, your location, and applica...\n",
      "regulations: GDPR, CCPA\n",
      "\n",
      "\u001b[0m\u001b[1;3;38;2;155;135;227m> Running module 17259d05-5c9b-49e8-a997-b6ef220dd202 with input: \n",
      "prompt: This Data Collection and Usage is a section of a privacy policy:\n",
      "\n",
      "The data we collect depends on the context of your interactions with Microsoft and the choices you make (including your privacy settin...\n",
      "\n",
      "\u001b[0m\u001b[1;3;38;2;155;135;227m> Running module 26206de1-b0cc-4aac-b394-06e0d33ed296 with input: \n",
      "query_str: This section appears to be compliant with the GDPR and CCPA regulations. It provides clear information about the data collected by Microsoft, the purposes for which the data is used, and the legal bas...\n",
      "\n",
      "\u001b[0m\u001b[1;3;38;2;155;135;227m> Running module 202dc140-19cc-4b05-9146-b71c3102094c with input: \n",
      "messages: Given the comments from a legal expert:\n",
      "\n",
      "This section appears to be compliant with the GDPR and CCPA regulations. It provides clear information about the data collected by Microsoft, the purposes for ...\n",
      "\n",
      "\u001b[0m\u001b[1;3;38;2;155;135;227m> Running module 72da6953-ecda-4a44-972c-864deae031ba with input: \n",
      "input: assistant: ```json\n",
      "{\n",
      "  \"judges\": [\n",
      "    {\n",
      "      \"name\": \"Data Collection and Usage\",\n",
      "      \"suggestions\": \"Clarify the legal basis for processing each type of data collected, such as consent, contract,...\n",
      "\n",
      "\u001b[0m"
     ]
    },
    {
     "ename": "ValueError",
     "evalue": "Module input keys must have exactly one key if dest_key is not specified. Remaining keys: in module: {'input', 'prompt'}",
     "output_type": "error",
     "traceback": [
      "\u001b[1;31m---------------------------------------------------------------------------\u001b[0m",
      "\u001b[1;31mValueError\u001b[0m                                Traceback (most recent call last)",
      "\u001b[1;32md:\\Documents\\UCLA\\Capstone\\Capstone-Privacy_Policy_AI_Agent\\notebooks\\generators.ipynb Cell 49\u001b[0m line \u001b[0;36m1\n\u001b[1;32m----> <a href='vscode-notebook-cell://ssh-remote%2B7b22686f73744e616d65223a224445534b544f502d4c4f43414c227d/d%3A/Documents/UCLA/Capstone/Capstone-Privacy_Policy_AI_Agent/notebooks/generators.ipynb#Y132sdnNjb2RlLXJlbW90ZQ%3D%3D?line=0'>1</a>\u001b[0m output \u001b[39m=\u001b[39m judge_pipeline\u001b[39m.\u001b[39;49mrun(\n\u001b[0;32m      <a href='vscode-notebook-cell://ssh-remote%2B7b22686f73744e616d65223a224445534b544f502d4c4f43414c227d/d%3A/Documents/UCLA/Capstone/Capstone-Privacy_Policy_AI_Agent/notebooks/generators.ipynb#Y132sdnNjb2RlLXJlbW90ZQ%3D%3D?line=1'>2</a>\u001b[0m     section_name\u001b[39m=\u001b[39;49m\u001b[39m\"\u001b[39;49m\u001b[39mData Collection and Usage\u001b[39;49m\u001b[39m\"\u001b[39;49m,\n\u001b[0;32m      <a href='vscode-notebook-cell://ssh-remote%2B7b22686f73744e616d65223a224445534b544f502d4c4f43414c227d/d%3A/Documents/UCLA/Capstone/Capstone-Privacy_Policy_AI_Agent/notebooks/generators.ipynb#Y132sdnNjb2RlLXJlbW90ZQ%3D%3D?line=2'>3</a>\u001b[0m     section_text\u001b[39m=\u001b[39;49mgenerated_section,\n\u001b[0;32m      <a href='vscode-notebook-cell://ssh-remote%2B7b22686f73744e616d65223a224445534b544f502d4c4f43414c227d/d%3A/Documents/UCLA/Capstone/Capstone-Privacy_Policy_AI_Agent/notebooks/generators.ipynb#Y132sdnNjb2RlLXJlbW90ZQ%3D%3D?line=3'>4</a>\u001b[0m     regulations\u001b[39m=\u001b[39;49m\u001b[39m\"\u001b[39;49m\u001b[39mGDPR, CCPA\u001b[39;49m\u001b[39m\"\u001b[39;49m,\n\u001b[0;32m      <a href='vscode-notebook-cell://ssh-remote%2B7b22686f73744e616d65223a224445534b544f502d4c4f43414c227d/d%3A/Documents/UCLA/Capstone/Capstone-Privacy_Policy_AI_Agent/notebooks/generators.ipynb#Y132sdnNjb2RlLXJlbW90ZQ%3D%3D?line=4'>5</a>\u001b[0m )\n",
      "File \u001b[1;32md:\\Program\\miniconda3\\envs\\DL\\lib\\site-packages\\llama_index\\core\\query_pipeline\\query.py:321\u001b[0m, in \u001b[0;36mQueryPipeline.run\u001b[1;34m(self, return_values_direct, callback_manager, batch, *args, **kwargs)\u001b[0m\n\u001b[0;32m    317\u001b[0m     query_payload \u001b[39m=\u001b[39m json\u001b[39m.\u001b[39mdumps(\u001b[39mstr\u001b[39m(kwargs))\n\u001b[0;32m    318\u001b[0m \u001b[39mwith\u001b[39;00m \u001b[39mself\u001b[39m\u001b[39m.\u001b[39mcallback_manager\u001b[39m.\u001b[39mevent(\n\u001b[0;32m    319\u001b[0m     CBEventType\u001b[39m.\u001b[39mQUERY, payload\u001b[39m=\u001b[39m{EventPayload\u001b[39m.\u001b[39mQUERY_STR: query_payload}\n\u001b[0;32m    320\u001b[0m ) \u001b[39mas\u001b[39;00m query_event:\n\u001b[1;32m--> 321\u001b[0m     outputs, _ \u001b[39m=\u001b[39m \u001b[39mself\u001b[39m\u001b[39m.\u001b[39m_run(\n\u001b[0;32m    322\u001b[0m         \u001b[39m*\u001b[39margs,\n\u001b[0;32m    323\u001b[0m         return_values_direct\u001b[39m=\u001b[39mreturn_values_direct,\n\u001b[0;32m    324\u001b[0m         show_intermediates\u001b[39m=\u001b[39m\u001b[39mFalse\u001b[39;00m,\n\u001b[0;32m    325\u001b[0m         batch\u001b[39m=\u001b[39mbatch,\n\u001b[0;32m    326\u001b[0m         \u001b[39m*\u001b[39m\u001b[39m*\u001b[39mkwargs,\n\u001b[0;32m    327\u001b[0m     )\n\u001b[0;32m    329\u001b[0m     \u001b[39mreturn\u001b[39;00m outputs\n",
      "File \u001b[1;32md:\\Program\\miniconda3\\envs\\DL\\lib\\site-packages\\llama_index\\core\\query_pipeline\\query.py:673\u001b[0m, in \u001b[0;36mQueryPipeline._run\u001b[1;34m(self, return_values_direct, show_intermediates, batch, *args, **kwargs)\u001b[0m\n\u001b[0;32m    671\u001b[0m     \u001b[39mreturn\u001b[39;00m result_outputs, intermediates\n\u001b[0;32m    672\u001b[0m \u001b[39melse\u001b[39;00m:\n\u001b[1;32m--> 673\u001b[0m     result_outputs, intermediates \u001b[39m=\u001b[39m \u001b[39mself\u001b[39;49m\u001b[39m.\u001b[39;49m_run_multi(\n\u001b[0;32m    674\u001b[0m         {root_key: kwargs}, show_intermediates\u001b[39m=\u001b[39;49mshow_intermediates\n\u001b[0;32m    675\u001b[0m     )\n\u001b[0;32m    677\u001b[0m     \u001b[39mreturn\u001b[39;00m (\n\u001b[0;32m    678\u001b[0m         \u001b[39mself\u001b[39m\u001b[39m.\u001b[39m_get_single_result_output(result_outputs, return_values_direct),\n\u001b[0;32m    679\u001b[0m         intermediates,\n\u001b[0;32m    680\u001b[0m     )\n",
      "File \u001b[1;32md:\\Program\\miniconda3\\envs\\DL\\lib\\site-packages\\llama_index\\core\\query_pipeline\\query.py:884\u001b[0m, in \u001b[0;36mQueryPipeline._run_multi\u001b[1;34m(self, module_input_dict, show_intermediates)\u001b[0m\n\u001b[0;32m    879\u001b[0m         intermediate_outputs[module_key] \u001b[39m=\u001b[39m ComponentIntermediates(\n\u001b[0;32m    880\u001b[0m             inputs\u001b[39m=\u001b[39mmodule_input, outputs\u001b[39m=\u001b[39moutput_dict\n\u001b[0;32m    881\u001b[0m         )\n\u001b[0;32m    883\u001b[0m     \u001b[39m# get new nodes and is_leaf\u001b[39;00m\n\u001b[1;32m--> 884\u001b[0m     queue \u001b[39m=\u001b[39m \u001b[39mself\u001b[39;49m\u001b[39m.\u001b[39;49m_process_component_output(\n\u001b[0;32m    885\u001b[0m         queue, output_dict, module_key, all_module_inputs, result_outputs\n\u001b[0;32m    886\u001b[0m     )\n\u001b[0;32m    888\u001b[0m \u001b[39mreturn\u001b[39;00m result_outputs, intermediate_outputs\n",
      "File \u001b[1;32md:\\Program\\miniconda3\\envs\\DL\\lib\\site-packages\\llama_index\\core\\query_pipeline\\query.py:784\u001b[0m, in \u001b[0;36mQueryPipeline._process_component_output\u001b[1;34m(self, queue, output_dict, module_key, all_module_inputs, result_outputs)\u001b[0m\n\u001b[0;32m    781\u001b[0m         add_edge \u001b[39m=\u001b[39m \u001b[39mFalse\u001b[39;00m\n\u001b[0;32m    783\u001b[0m \u001b[39mif\u001b[39;00m add_edge:\n\u001b[1;32m--> 784\u001b[0m     add_output_to_module_inputs(\n\u001b[0;32m    785\u001b[0m         attr\u001b[39m.\u001b[39;49mget(\u001b[39m\"\u001b[39;49m\u001b[39mdest_key\u001b[39;49m\u001b[39m\"\u001b[39;49m),\n\u001b[0;32m    786\u001b[0m         dest_output,\n\u001b[0;32m    787\u001b[0m         \u001b[39mself\u001b[39;49m\u001b[39m.\u001b[39;49mmodule_dict[dest],\n\u001b[0;32m    788\u001b[0m         all_module_inputs[dest],\n\u001b[0;32m    789\u001b[0m     )\n\u001b[0;32m    790\u001b[0m     nodes_to_keep\u001b[39m.\u001b[39madd(dest)\n\u001b[0;32m    791\u001b[0m \u001b[39melse\u001b[39;00m:\n",
      "File \u001b[1;32md:\\Program\\miniconda3\\envs\\DL\\lib\\site-packages\\llama_index\\core\\query_pipeline\\query.py:64\u001b[0m, in \u001b[0;36madd_output_to_module_inputs\u001b[1;34m(dest_key, output, module, module_inputs)\u001b[0m\n\u001b[0;32m     62\u001b[0m     \u001b[39m# ensure that there is only one remaining key given partials\u001b[39;00m\n\u001b[0;32m     63\u001b[0m     \u001b[39mif\u001b[39;00m \u001b[39mlen\u001b[39m(free_keys) \u001b[39m!=\u001b[39m \u001b[39m1\u001b[39m:\n\u001b[1;32m---> 64\u001b[0m         \u001b[39mraise\u001b[39;00m \u001b[39mValueError\u001b[39;00m(\n\u001b[0;32m     65\u001b[0m             \u001b[39m\"\u001b[39m\u001b[39mModule input keys must have exactly one key if \u001b[39m\u001b[39m\"\u001b[39m\n\u001b[0;32m     66\u001b[0m             \u001b[39m\"\u001b[39m\u001b[39mdest_key is not specified. Remaining keys: \u001b[39m\u001b[39m\"\u001b[39m\n\u001b[0;32m     67\u001b[0m             \u001b[39mf\u001b[39m\u001b[39m\"\u001b[39m\u001b[39min module: \u001b[39m\u001b[39m{\u001b[39;00mfree_keys\u001b[39m}\u001b[39;00m\u001b[39m\"\u001b[39m\n\u001b[0;32m     68\u001b[0m         )\n\u001b[0;32m     69\u001b[0m     module_inputs[\u001b[39mnext\u001b[39m(\u001b[39miter\u001b[39m(free_keys))] \u001b[39m=\u001b[39m output\n\u001b[0;32m     70\u001b[0m \u001b[39melse\u001b[39;00m:\n",
      "\u001b[1;31mValueError\u001b[0m: Module input keys must have exactly one key if dest_key is not specified. Remaining keys: in module: {'input', 'prompt'}"
     ]
    }
   ],
   "source": [
    "output = judge_pipeline.run(\n",
    "    section_name=\"Data Collection and Usage\",\n",
    "    section_text=generated_section,\n",
    "    regulations=\"GDPR, CCPA\",\n",
    ")"
   ]
  },
  {
   "cell_type": "code",
   "execution_count": null,
   "metadata": {},
   "outputs": [
    {
     "data": {
      "text/plain": [
       "[Judge(name=<SectionNames.SECTION3: 'Data Collection and Usage'>, suggestions='Clarify the legal basis for processing each type of data collected, such as consent, contract, or legitimate interest.'),\n",
       " Judge(name=<SectionNames.SECTION6: 'Data Retention'>, suggestions='Include information about how long Microsoft retains the data and the criteria used to determine the retention period.'),\n",
       " Judge(name=<SectionNames.SECTION4: 'Data Subject Rights'>, suggestions='Provide information about how data subjects can exercise their rights to access, rectify, erase, restrict, and object to processing.'),\n",
       " Judge(name=<SectionNames.SECTION5: 'Data Sharing and Transfers'>, suggestions='Ensure that data is shared only on a need-to-know basis and provide details about the entities with whom data is shared.')]"
      ]
     },
     "metadata": {},
     "output_type": "display_data"
    }
   ],
   "source": [
    "output.judges"
   ]
  }
 ],
 "metadata": {
  "kernelspec": {
   "display_name": "DL",
   "language": "python",
   "name": "python3"
  },
  "language_info": {
   "codemirror_mode": {
    "name": "ipython",
    "version": 3
   },
   "file_extension": ".py",
   "mimetype": "text/x-python",
   "name": "python",
   "nbconvert_exporter": "python",
   "pygments_lexer": "ipython3",
   "version": "3.10.13"
  }
 },
 "nbformat": 4,
 "nbformat_minor": 2
}
