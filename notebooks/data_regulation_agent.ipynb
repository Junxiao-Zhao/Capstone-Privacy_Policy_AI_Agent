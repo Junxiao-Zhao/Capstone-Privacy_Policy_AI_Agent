{
  "nbformat": 4,
  "nbformat_minor": 0,
  "metadata": {
    "colab": {
      "provenance": []
    },
    "kernelspec": {
      "name": "python3",
      "display_name": "Python 3"
    },
    "language_info": {
      "name": "python"
    }
  },
  "cells": [
    {
      "cell_type": "code",
      "execution_count": 2,
      "metadata": {
        "id": "D6UDDs6Fy4Co",
        "colab": {
          "base_uri": "https://localhost:8080/"
        },
        "outputId": "cad400d4-f2f7-4668-adf8-247ee9eb3461"
      },
      "outputs": [
        {
          "output_type": "stream",
          "name": "stdout",
          "text": [
            "Collecting llama-index\n",
            "  Downloading llama_index-0.10.55-py3-none-any.whl (6.8 kB)\n",
            "Collecting llama-index-readers-web\n",
            "  Downloading llama_index_readers_web-0.1.23-py3-none-any.whl (72 kB)\n",
            "\u001b[2K     \u001b[90m━━━━━━━━━━━━━━━━━━━━━━━━━━━━━━━━━━━━━━━━\u001b[0m \u001b[32m72.9/72.9 kB\u001b[0m \u001b[31m1.6 MB/s\u001b[0m eta \u001b[36m0:00:00\u001b[0m\n",
            "\u001b[?25hCollecting duckduckgo_search\n",
            "  Downloading duckduckgo_search-6.1.12-py3-none-any.whl (26 kB)\n",
            "Collecting llama-index-agent-openai<0.3.0,>=0.1.4 (from llama-index)\n",
            "  Downloading llama_index_agent_openai-0.2.8-py3-none-any.whl (13 kB)\n",
            "Collecting llama-index-cli<0.2.0,>=0.1.2 (from llama-index)\n",
            "  Downloading llama_index_cli-0.1.12-py3-none-any.whl (26 kB)\n",
            "Collecting llama-index-core==0.10.55 (from llama-index)\n",
            "  Downloading llama_index_core-0.10.55-py3-none-any.whl (15.5 MB)\n",
            "\u001b[2K     \u001b[90m━━━━━━━━━━━━━━━━━━━━━━━━━━━━━━━━━━━━━━━━\u001b[0m \u001b[32m15.5/15.5 MB\u001b[0m \u001b[31m27.1 MB/s\u001b[0m eta \u001b[36m0:00:00\u001b[0m\n",
            "\u001b[?25hCollecting llama-index-embeddings-openai<0.2.0,>=0.1.5 (from llama-index)\n",
            "  Downloading llama_index_embeddings_openai-0.1.10-py3-none-any.whl (6.2 kB)\n",
            "Collecting llama-index-indices-managed-llama-cloud>=0.2.0 (from llama-index)\n",
            "  Downloading llama_index_indices_managed_llama_cloud-0.2.5-py3-none-any.whl (9.3 kB)\n",
            "Collecting llama-index-legacy<0.10.0,>=0.9.48 (from llama-index)\n",
            "  Downloading llama_index_legacy-0.9.48-py3-none-any.whl (2.0 MB)\n",
            "\u001b[2K     \u001b[90m━━━━━━━━━━━━━━━━━━━━━━━━━━━━━━━━━━━━━━━━\u001b[0m \u001b[32m2.0/2.0 MB\u001b[0m \u001b[31m38.1 MB/s\u001b[0m eta \u001b[36m0:00:00\u001b[0m\n",
            "\u001b[?25hCollecting llama-index-llms-openai<0.2.0,>=0.1.13 (from llama-index)\n",
            "  Downloading llama_index_llms_openai-0.1.25-py3-none-any.whl (11 kB)\n",
            "Collecting llama-index-multi-modal-llms-openai<0.2.0,>=0.1.3 (from llama-index)\n",
            "  Downloading llama_index_multi_modal_llms_openai-0.1.7-py3-none-any.whl (5.9 kB)\n",
            "Collecting llama-index-program-openai<0.2.0,>=0.1.3 (from llama-index)\n",
            "  Downloading llama_index_program_openai-0.1.6-py3-none-any.whl (5.2 kB)\n",
            "Collecting llama-index-question-gen-openai<0.2.0,>=0.1.2 (from llama-index)\n",
            "  Downloading llama_index_question_gen_openai-0.1.3-py3-none-any.whl (2.9 kB)\n",
            "Collecting llama-index-readers-file<0.2.0,>=0.1.4 (from llama-index)\n",
            "  Downloading llama_index_readers_file-0.1.30-py3-none-any.whl (38 kB)\n",
            "Collecting llama-index-readers-llama-parse>=0.1.2 (from llama-index)\n",
            "  Downloading llama_index_readers_llama_parse-0.1.6-py3-none-any.whl (2.5 kB)\n",
            "Requirement already satisfied: PyYAML>=6.0.1 in /usr/local/lib/python3.10/dist-packages (from llama-index-core==0.10.55->llama-index) (6.0.1)\n",
            "Requirement already satisfied: SQLAlchemy[asyncio]>=1.4.49 in /usr/local/lib/python3.10/dist-packages (from llama-index-core==0.10.55->llama-index) (2.0.31)\n",
            "Requirement already satisfied: aiohttp<4.0.0,>=3.8.6 in /usr/local/lib/python3.10/dist-packages (from llama-index-core==0.10.55->llama-index) (3.9.5)\n",
            "Collecting dataclasses-json (from llama-index-core==0.10.55->llama-index)\n",
            "  Downloading dataclasses_json-0.6.7-py3-none-any.whl (28 kB)\n",
            "Collecting deprecated>=1.2.9.3 (from llama-index-core==0.10.55->llama-index)\n",
            "  Downloading Deprecated-1.2.14-py2.py3-none-any.whl (9.6 kB)\n",
            "Collecting dirtyjson<2.0.0,>=1.0.8 (from llama-index-core==0.10.55->llama-index)\n",
            "  Downloading dirtyjson-1.0.8-py3-none-any.whl (25 kB)\n",
            "Requirement already satisfied: fsspec>=2023.5.0 in /usr/local/lib/python3.10/dist-packages (from llama-index-core==0.10.55->llama-index) (2023.6.0)\n",
            "Collecting httpx (from llama-index-core==0.10.55->llama-index)\n",
            "  Downloading httpx-0.27.0-py3-none-any.whl (75 kB)\n",
            "\u001b[2K     \u001b[90m━━━━━━━━━━━━━━━━━━━━━━━━━━━━━━━━━━━━━━━━\u001b[0m \u001b[32m75.6/75.6 kB\u001b[0m \u001b[31m7.0 MB/s\u001b[0m eta \u001b[36m0:00:00\u001b[0m\n",
            "\u001b[?25hRequirement already satisfied: nest-asyncio<2.0.0,>=1.5.8 in /usr/local/lib/python3.10/dist-packages (from llama-index-core==0.10.55->llama-index) (1.6.0)\n",
            "Requirement already satisfied: networkx>=3.0 in /usr/local/lib/python3.10/dist-packages (from llama-index-core==0.10.55->llama-index) (3.3)\n",
            "Requirement already satisfied: nltk<4.0.0,>=3.8.1 in /usr/local/lib/python3.10/dist-packages (from llama-index-core==0.10.55->llama-index) (3.8.1)\n",
            "Requirement already satisfied: numpy<2.0.0 in /usr/local/lib/python3.10/dist-packages (from llama-index-core==0.10.55->llama-index) (1.25.2)\n",
            "Collecting openai>=1.1.0 (from llama-index-core==0.10.55->llama-index)\n",
            "  Downloading openai-1.35.13-py3-none-any.whl (328 kB)\n",
            "\u001b[2K     \u001b[90m━━━━━━━━━━━━━━━━━━━━━━━━━━━━━━━━━━━━━━━━\u001b[0m \u001b[32m328.5/328.5 kB\u001b[0m \u001b[31m15.9 MB/s\u001b[0m eta \u001b[36m0:00:00\u001b[0m\n",
            "\u001b[?25hRequirement already satisfied: pandas in /usr/local/lib/python3.10/dist-packages (from llama-index-core==0.10.55->llama-index) (2.0.3)\n",
            "Requirement already satisfied: pillow>=9.0.0 in /usr/local/lib/python3.10/dist-packages (from llama-index-core==0.10.55->llama-index) (9.4.0)\n",
            "Requirement already satisfied: requests>=2.31.0 in /usr/local/lib/python3.10/dist-packages (from llama-index-core==0.10.55->llama-index) (2.31.0)\n",
            "Requirement already satisfied: tenacity!=8.4.0,<9.0.0,>=8.2.0 in /usr/local/lib/python3.10/dist-packages (from llama-index-core==0.10.55->llama-index) (8.5.0)\n",
            "Collecting tiktoken>=0.3.3 (from llama-index-core==0.10.55->llama-index)\n",
            "  Downloading tiktoken-0.7.0-cp310-cp310-manylinux_2_17_x86_64.manylinux2014_x86_64.whl (1.1 MB)\n",
            "\u001b[2K     \u001b[90m━━━━━━━━━━━━━━━━━━━━━━━━━━━━━━━━━━━━━━━━\u001b[0m \u001b[32m1.1/1.1 MB\u001b[0m \u001b[31m27.9 MB/s\u001b[0m eta \u001b[36m0:00:00\u001b[0m\n",
            "\u001b[?25hRequirement already satisfied: tqdm<5.0.0,>=4.66.1 in /usr/local/lib/python3.10/dist-packages (from llama-index-core==0.10.55->llama-index) (4.66.4)\n",
            "Requirement already satisfied: typing-extensions>=4.5.0 in /usr/local/lib/python3.10/dist-packages (from llama-index-core==0.10.55->llama-index) (4.12.2)\n",
            "Collecting typing-inspect>=0.8.0 (from llama-index-core==0.10.55->llama-index)\n",
            "  Downloading typing_inspect-0.9.0-py3-none-any.whl (8.8 kB)\n",
            "Requirement already satisfied: wrapt in /usr/local/lib/python3.10/dist-packages (from llama-index-core==0.10.55->llama-index) (1.14.1)\n",
            "Requirement already satisfied: beautifulsoup4<5.0.0,>=4.12.3 in /usr/local/lib/python3.10/dist-packages (from llama-index-readers-web) (4.12.3)\n",
            "Collecting chromedriver-autoinstaller<0.7.0,>=0.6.3 (from llama-index-readers-web)\n",
            "  Downloading chromedriver_autoinstaller-0.6.4-py3-none-any.whl (7.6 kB)\n",
            "Collecting html2text<2025.0.0,>=2024.2.26 (from llama-index-readers-web)\n",
            "  Downloading html2text-2024.2.26.tar.gz (56 kB)\n",
            "\u001b[2K     \u001b[90m━━━━━━━━━━━━━━━━━━━━━━━━━━━━━━━━━━━━━━━━\u001b[0m \u001b[32m56.5/56.5 kB\u001b[0m \u001b[31m4.6 MB/s\u001b[0m eta \u001b[36m0:00:00\u001b[0m\n",
            "\u001b[?25h  Preparing metadata (setup.py) ... \u001b[?25l\u001b[?25hdone\n",
            "Collecting newspaper3k<0.3.0,>=0.2.8 (from llama-index-readers-web)\n",
            "  Downloading newspaper3k-0.2.8-py3-none-any.whl (211 kB)\n",
            "\u001b[2K     \u001b[90m━━━━━━━━━━━━━━━━━━━━━━━━━━━━━━━━━━━━━━━━\u001b[0m \u001b[32m211.1/211.1 kB\u001b[0m \u001b[31m16.3 MB/s\u001b[0m eta \u001b[36m0:00:00\u001b[0m\n",
            "\u001b[?25hCollecting playwright<2.0,>=1.30 (from llama-index-readers-web)\n",
            "  Downloading playwright-1.45.0-py3-none-manylinux1_x86_64.whl (37.9 MB)\n",
            "\u001b[2K     \u001b[90m━━━━━━━━━━━━━━━━━━━━━━━━━━━━━━━━━━━━━━━━\u001b[0m \u001b[32m37.9/37.9 MB\u001b[0m \u001b[31m27.4 MB/s\u001b[0m eta \u001b[36m0:00:00\u001b[0m\n",
            "\u001b[?25hCollecting selenium<5.0.0,>=4.17.2 (from llama-index-readers-web)\n",
            "  Downloading selenium-4.22.0-py3-none-any.whl (9.4 MB)\n",
            "\u001b[2K     \u001b[90m━━━━━━━━━━━━━━━━━━━━━━━━━━━━━━━━━━━━━━━━\u001b[0m \u001b[32m9.4/9.4 MB\u001b[0m \u001b[31m40.8 MB/s\u001b[0m eta \u001b[36m0:00:00\u001b[0m\n",
            "\u001b[?25hCollecting spider-client<0.0.28,>=0.0.27 (from llama-index-readers-web)\n",
            "  Downloading spider-client-0.0.27.tar.gz (5.8 kB)\n",
            "  Preparing metadata (setup.py) ... \u001b[?25l\u001b[?25hdone\n",
            "Requirement already satisfied: urllib3>=1.1.0 in /usr/local/lib/python3.10/dist-packages (from llama-index-readers-web) (2.0.7)\n",
            "Requirement already satisfied: click>=8.1.7 in /usr/local/lib/python3.10/dist-packages (from duckduckgo_search) (8.1.7)\n",
            "Collecting pyreqwest-impersonate>=0.4.9 (from duckduckgo_search)\n",
            "  Downloading pyreqwest_impersonate-0.4.9-cp310-cp310-manylinux_2_17_x86_64.manylinux2014_x86_64.whl (2.7 MB)\n",
            "\u001b[2K     \u001b[90m━━━━━━━━━━━━━━━━━━━━━━━━━━━━━━━━━━━━━━━━\u001b[0m \u001b[32m2.7/2.7 MB\u001b[0m \u001b[31m55.5 MB/s\u001b[0m eta \u001b[36m0:00:00\u001b[0m\n",
            "\u001b[?25hRequirement already satisfied: aiosignal>=1.1.2 in /usr/local/lib/python3.10/dist-packages (from aiohttp<4.0.0,>=3.8.6->llama-index-core==0.10.55->llama-index) (1.3.1)\n",
            "Requirement already satisfied: attrs>=17.3.0 in /usr/local/lib/python3.10/dist-packages (from aiohttp<4.0.0,>=3.8.6->llama-index-core==0.10.55->llama-index) (23.2.0)\n",
            "Requirement already satisfied: frozenlist>=1.1.1 in /usr/local/lib/python3.10/dist-packages (from aiohttp<4.0.0,>=3.8.6->llama-index-core==0.10.55->llama-index) (1.4.1)\n",
            "Requirement already satisfied: multidict<7.0,>=4.5 in /usr/local/lib/python3.10/dist-packages (from aiohttp<4.0.0,>=3.8.6->llama-index-core==0.10.55->llama-index) (6.0.5)\n",
            "Requirement already satisfied: yarl<2.0,>=1.0 in /usr/local/lib/python3.10/dist-packages (from aiohttp<4.0.0,>=3.8.6->llama-index-core==0.10.55->llama-index) (1.9.4)\n",
            "Requirement already satisfied: async-timeout<5.0,>=4.0 in /usr/local/lib/python3.10/dist-packages (from aiohttp<4.0.0,>=3.8.6->llama-index-core==0.10.55->llama-index) (4.0.3)\n",
            "Requirement already satisfied: soupsieve>1.2 in /usr/local/lib/python3.10/dist-packages (from beautifulsoup4<5.0.0,>=4.12.3->llama-index-readers-web) (2.5)\n",
            "Requirement already satisfied: packaging>=23.1 in /usr/local/lib/python3.10/dist-packages (from chromedriver-autoinstaller<0.7.0,>=0.6.3->llama-index-readers-web) (24.1)\n",
            "Collecting llama-cloud>=0.0.9 (from llama-index-indices-managed-llama-cloud>=0.2.0->llama-index)\n",
            "  Downloading llama_cloud-0.0.9-py3-none-any.whl (146 kB)\n",
            "\u001b[2K     \u001b[90m━━━━━━━━━━━━━━━━━━━━━━━━━━━━━━━━━━━━━━━━\u001b[0m \u001b[32m146.8/146.8 kB\u001b[0m \u001b[31m14.5 MB/s\u001b[0m eta \u001b[36m0:00:00\u001b[0m\n",
            "\u001b[?25hCollecting pypdf<5.0.0,>=4.0.1 (from llama-index-readers-file<0.2.0,>=0.1.4->llama-index)\n",
            "  Downloading pypdf-4.3.0-py3-none-any.whl (295 kB)\n",
            "\u001b[2K     \u001b[90m━━━━━━━━━━━━━━━━━━━━━━━━━━━━━━━━━━━━━━━━\u001b[0m \u001b[32m295.7/295.7 kB\u001b[0m \u001b[31m18.8 MB/s\u001b[0m eta \u001b[36m0:00:00\u001b[0m\n",
            "\u001b[?25hCollecting striprtf<0.0.27,>=0.0.26 (from llama-index-readers-file<0.2.0,>=0.1.4->llama-index)\n",
            "  Downloading striprtf-0.0.26-py3-none-any.whl (6.9 kB)\n",
            "Collecting llama-parse>=0.4.0 (from llama-index-readers-llama-parse>=0.1.2->llama-index)\n",
            "  Downloading llama_parse-0.4.7-py3-none-any.whl (9.1 kB)\n",
            "Collecting cssselect>=0.9.2 (from newspaper3k<0.3.0,>=0.2.8->llama-index-readers-web)\n",
            "  Downloading cssselect-1.2.0-py2.py3-none-any.whl (18 kB)\n",
            "Requirement already satisfied: lxml>=3.6.0 in /usr/local/lib/python3.10/dist-packages (from newspaper3k<0.3.0,>=0.2.8->llama-index-readers-web) (4.9.4)\n",
            "Collecting feedparser>=5.2.1 (from newspaper3k<0.3.0,>=0.2.8->llama-index-readers-web)\n",
            "  Downloading feedparser-6.0.11-py3-none-any.whl (81 kB)\n",
            "\u001b[2K     \u001b[90m━━━━━━━━━━━━━━━━━━━━━━━━━━━━━━━━━━━━━━━━\u001b[0m \u001b[32m81.3/81.3 kB\u001b[0m \u001b[31m1.3 MB/s\u001b[0m eta \u001b[36m0:00:00\u001b[0m\n",
            "\u001b[?25hCollecting tldextract>=2.0.1 (from newspaper3k<0.3.0,>=0.2.8->llama-index-readers-web)\n",
            "  Downloading tldextract-5.1.2-py3-none-any.whl (97 kB)\n",
            "\u001b[2K     \u001b[90m━━━━━━━━━━━━━━━━━━━━━━━━━━━━━━━━━━━━━━━━\u001b[0m \u001b[32m97.6/97.6 kB\u001b[0m \u001b[31m10.1 MB/s\u001b[0m eta \u001b[36m0:00:00\u001b[0m\n",
            "\u001b[?25hCollecting feedfinder2>=0.0.4 (from newspaper3k<0.3.0,>=0.2.8->llama-index-readers-web)\n",
            "  Downloading feedfinder2-0.0.4.tar.gz (3.3 kB)\n",
            "  Preparing metadata (setup.py) ... \u001b[?25l\u001b[?25hdone\n",
            "Collecting jieba3k>=0.35.1 (from newspaper3k<0.3.0,>=0.2.8->llama-index-readers-web)\n",
            "  Downloading jieba3k-0.35.1.zip (7.4 MB)\n",
            "\u001b[2K     \u001b[90m━━━━━━━━━━━━━━━━━━━━━━━━━━━━━━━━━━━━━━━━\u001b[0m \u001b[32m7.4/7.4 MB\u001b[0m \u001b[31m58.6 MB/s\u001b[0m eta \u001b[36m0:00:00\u001b[0m\n",
            "\u001b[?25h  Preparing metadata (setup.py) ... \u001b[?25l\u001b[?25hdone\n",
            "Requirement already satisfied: python-dateutil>=2.5.3 in /usr/local/lib/python3.10/dist-packages (from newspaper3k<0.3.0,>=0.2.8->llama-index-readers-web) (2.8.2)\n",
            "Collecting tinysegmenter==0.3 (from newspaper3k<0.3.0,>=0.2.8->llama-index-readers-web)\n",
            "  Downloading tinysegmenter-0.3.tar.gz (16 kB)\n",
            "  Preparing metadata (setup.py) ... \u001b[?25l\u001b[?25hdone\n",
            "Requirement already satisfied: greenlet==3.0.3 in /usr/local/lib/python3.10/dist-packages (from playwright<2.0,>=1.30->llama-index-readers-web) (3.0.3)\n",
            "Collecting pyee==11.1.0 (from playwright<2.0,>=1.30->llama-index-readers-web)\n",
            "  Downloading pyee-11.1.0-py3-none-any.whl (15 kB)\n",
            "Requirement already satisfied: charset-normalizer<4,>=2 in /usr/local/lib/python3.10/dist-packages (from requests>=2.31.0->llama-index-core==0.10.55->llama-index) (3.3.2)\n",
            "Requirement already satisfied: idna<4,>=2.5 in /usr/local/lib/python3.10/dist-packages (from requests>=2.31.0->llama-index-core==0.10.55->llama-index) (3.7)\n",
            "Requirement already satisfied: certifi>=2017.4.17 in /usr/local/lib/python3.10/dist-packages (from requests>=2.31.0->llama-index-core==0.10.55->llama-index) (2024.7.4)\n",
            "Collecting trio~=0.17 (from selenium<5.0.0,>=4.17.2->llama-index-readers-web)\n",
            "  Downloading trio-0.26.0-py3-none-any.whl (475 kB)\n",
            "\u001b[2K     \u001b[90m━━━━━━━━━━━━━━━━━━━━━━━━━━━━━━━━━━━━━━━━\u001b[0m \u001b[32m475.7/475.7 kB\u001b[0m \u001b[31m28.6 MB/s\u001b[0m eta \u001b[36m0:00:00\u001b[0m\n",
            "\u001b[?25hCollecting trio-websocket~=0.9 (from selenium<5.0.0,>=4.17.2->llama-index-readers-web)\n",
            "  Downloading trio_websocket-0.11.1-py3-none-any.whl (17 kB)\n",
            "Requirement already satisfied: websocket-client>=1.8.0 in /usr/local/lib/python3.10/dist-packages (from selenium<5.0.0,>=4.17.2->llama-index-readers-web) (1.8.0)\n",
            "Requirement already satisfied: six in /usr/local/lib/python3.10/dist-packages (from feedfinder2>=0.0.4->newspaper3k<0.3.0,>=0.2.8->llama-index-readers-web) (1.16.0)\n",
            "Collecting sgmllib3k (from feedparser>=5.2.1->newspaper3k<0.3.0,>=0.2.8->llama-index-readers-web)\n",
            "  Downloading sgmllib3k-1.0.0.tar.gz (5.8 kB)\n",
            "  Preparing metadata (setup.py) ... \u001b[?25l\u001b[?25hdone\n",
            "Requirement already satisfied: pydantic>=1.10 in /usr/local/lib/python3.10/dist-packages (from llama-cloud>=0.0.9->llama-index-indices-managed-llama-cloud>=0.2.0->llama-index) (2.8.2)\n",
            "Requirement already satisfied: anyio in /usr/local/lib/python3.10/dist-packages (from httpx->llama-index-core==0.10.55->llama-index) (3.7.1)\n",
            "Collecting httpcore==1.* (from httpx->llama-index-core==0.10.55->llama-index)\n",
            "  Downloading httpcore-1.0.5-py3-none-any.whl (77 kB)\n",
            "\u001b[2K     \u001b[90m━━━━━━━━━━━━━━━━━━━━━━━━━━━━━━━━━━━━━━━━\u001b[0m \u001b[32m77.9/77.9 kB\u001b[0m \u001b[31m6.1 MB/s\u001b[0m eta \u001b[36m0:00:00\u001b[0m\n",
            "\u001b[?25hRequirement already satisfied: sniffio in /usr/local/lib/python3.10/dist-packages (from httpx->llama-index-core==0.10.55->llama-index) (1.3.1)\n",
            "Collecting h11<0.15,>=0.13 (from httpcore==1.*->httpx->llama-index-core==0.10.55->llama-index)\n",
            "  Downloading h11-0.14.0-py3-none-any.whl (58 kB)\n",
            "\u001b[2K     \u001b[90m━━━━━━━━━━━━━━━━━━━━━━━━━━━━━━━━━━━━━━━━\u001b[0m \u001b[32m58.3/58.3 kB\u001b[0m \u001b[31m5.5 MB/s\u001b[0m eta \u001b[36m0:00:00\u001b[0m\n",
            "\u001b[?25hRequirement already satisfied: joblib in /usr/local/lib/python3.10/dist-packages (from nltk<4.0.0,>=3.8.1->llama-index-core==0.10.55->llama-index) (1.4.2)\n",
            "Requirement already satisfied: regex>=2021.8.3 in /usr/local/lib/python3.10/dist-packages (from nltk<4.0.0,>=3.8.1->llama-index-core==0.10.55->llama-index) (2024.5.15)\n",
            "Requirement already satisfied: distro<2,>=1.7.0 in /usr/lib/python3/dist-packages (from openai>=1.1.0->llama-index-core==0.10.55->llama-index) (1.7.0)\n",
            "Collecting requests-file>=1.4 (from tldextract>=2.0.1->newspaper3k<0.3.0,>=0.2.8->llama-index-readers-web)\n",
            "  Downloading requests_file-2.1.0-py2.py3-none-any.whl (4.2 kB)\n",
            "Requirement already satisfied: filelock>=3.0.8 in /usr/local/lib/python3.10/dist-packages (from tldextract>=2.0.1->newspaper3k<0.3.0,>=0.2.8->llama-index-readers-web) (3.15.4)\n",
            "Requirement already satisfied: sortedcontainers in /usr/local/lib/python3.10/dist-packages (from trio~=0.17->selenium<5.0.0,>=4.17.2->llama-index-readers-web) (2.4.0)\n",
            "Collecting outcome (from trio~=0.17->selenium<5.0.0,>=4.17.2->llama-index-readers-web)\n",
            "  Downloading outcome-1.3.0.post0-py2.py3-none-any.whl (10 kB)\n",
            "Requirement already satisfied: exceptiongroup in /usr/local/lib/python3.10/dist-packages (from trio~=0.17->selenium<5.0.0,>=4.17.2->llama-index-readers-web) (1.2.1)\n",
            "Collecting wsproto>=0.14 (from trio-websocket~=0.9->selenium<5.0.0,>=4.17.2->llama-index-readers-web)\n",
            "  Downloading wsproto-1.2.0-py3-none-any.whl (24 kB)\n",
            "Collecting mypy-extensions>=0.3.0 (from typing-inspect>=0.8.0->llama-index-core==0.10.55->llama-index)\n",
            "  Downloading mypy_extensions-1.0.0-py3-none-any.whl (4.7 kB)\n",
            "Requirement already satisfied: pysocks!=1.5.7,<2.0,>=1.5.6 in /usr/local/lib/python3.10/dist-packages (from urllib3>=1.1.0->llama-index-readers-web) (1.7.1)\n",
            "Collecting marshmallow<4.0.0,>=3.18.0 (from dataclasses-json->llama-index-core==0.10.55->llama-index)\n",
            "  Downloading marshmallow-3.21.3-py3-none-any.whl (49 kB)\n",
            "\u001b[2K     \u001b[90m━━━━━━━━━━━━━━━━━━━━━━━━━━━━━━━━━━━━━━━━\u001b[0m \u001b[32m49.2/49.2 kB\u001b[0m \u001b[31m1.9 MB/s\u001b[0m eta \u001b[36m0:00:00\u001b[0m\n",
            "\u001b[?25hRequirement already satisfied: pytz>=2020.1 in /usr/local/lib/python3.10/dist-packages (from pandas->llama-index-core==0.10.55->llama-index) (2023.4)\n",
            "Requirement already satisfied: tzdata>=2022.1 in /usr/local/lib/python3.10/dist-packages (from pandas->llama-index-core==0.10.55->llama-index) (2024.1)\n",
            "Requirement already satisfied: annotated-types>=0.4.0 in /usr/local/lib/python3.10/dist-packages (from pydantic>=1.10->llama-cloud>=0.0.9->llama-index-indices-managed-llama-cloud>=0.2.0->llama-index) (0.7.0)\n",
            "Requirement already satisfied: pydantic-core==2.20.1 in /usr/local/lib/python3.10/dist-packages (from pydantic>=1.10->llama-cloud>=0.0.9->llama-index-indices-managed-llama-cloud>=0.2.0->llama-index) (2.20.1)\n",
            "Building wheels for collected packages: html2text, tinysegmenter, spider-client, feedfinder2, jieba3k, sgmllib3k\n",
            "  Building wheel for html2text (setup.py) ... \u001b[?25l\u001b[?25hdone\n",
            "  Created wheel for html2text: filename=html2text-2024.2.26-py3-none-any.whl size=33111 sha256=8363bab578870e47658bbb200267371a583e16113931901f04fbcf5f68ce32e4\n",
            "  Stored in directory: /root/.cache/pip/wheels/f3/96/6d/a7eba8f80d31cbd188a2787b81514d82fc5ae6943c44777659\n",
            "  Building wheel for tinysegmenter (setup.py) ... \u001b[?25l\u001b[?25hdone\n",
            "  Created wheel for tinysegmenter: filename=tinysegmenter-0.3-py3-none-any.whl size=13538 sha256=17b28ab7696cdaec1c8ba3bd0c1e02dee5fcb7ecdf26a7a3599c3aef741d2cdd\n",
            "  Stored in directory: /root/.cache/pip/wheels/c8/d6/6c/384f58df48c00b9a31d638005143b5b3ac62c3d25fb1447f23\n",
            "  Building wheel for spider-client (setup.py) ... \u001b[?25l\u001b[?25hdone\n",
            "  Created wheel for spider-client: filename=spider_client-0.0.27-py3-none-any.whl size=5973 sha256=f4e081477d64f34766f83fdb29e346a0a752b3db7ae93767636c54950ca5c616\n",
            "  Stored in directory: /root/.cache/pip/wheels/8f/e0/39/c07e639cb4ea75f06d4574ec3052b64d66ae8cd355a9d3a570\n",
            "  Building wheel for feedfinder2 (setup.py) ... \u001b[?25l\u001b[?25hdone\n",
            "  Created wheel for feedfinder2: filename=feedfinder2-0.0.4-py3-none-any.whl size=3340 sha256=1ad79d069edebdb14e4d83d4a1322484c94b8cbcd61fcd1a51695fb74dceef28\n",
            "  Stored in directory: /root/.cache/pip/wheels/97/02/e7/a1ff1760e12bdbaab0ac824fae5c1bc933e41c4ccd6a8f8edb\n",
            "  Building wheel for jieba3k (setup.py) ... \u001b[?25l\u001b[?25hdone\n",
            "  Created wheel for jieba3k: filename=jieba3k-0.35.1-py3-none-any.whl size=7398382 sha256=eb1b595fa82d2dd1e8bfd50f5b487a15df1e9c35bea5232d143231d6d333bc1e\n",
            "  Stored in directory: /root/.cache/pip/wheels/7a/c4/0c/12a9a314ecac499456c4c3b2fcc2f635a3b45a39dfbd240299\n",
            "  Building wheel for sgmllib3k (setup.py) ... \u001b[?25l\u001b[?25hdone\n",
            "  Created wheel for sgmllib3k: filename=sgmllib3k-1.0.0-py3-none-any.whl size=6049 sha256=ed305f72c2568a5d39ed9d5fed91e64dbecae58e90a919d72d3793f81488e2b5\n",
            "  Stored in directory: /root/.cache/pip/wheels/f0/69/93/a47e9d621be168e9e33c7ce60524393c0b92ae83cf6c6e89c5\n",
            "Successfully built html2text tinysegmenter spider-client feedfinder2 jieba3k sgmllib3k\n",
            "Installing collected packages: tinysegmenter, striprtf, sgmllib3k, jieba3k, dirtyjson, pyreqwest-impersonate, pypdf, pyee, outcome, mypy-extensions, marshmallow, html2text, h11, feedparser, deprecated, cssselect, chromedriver-autoinstaller, wsproto, typing-inspect, trio, tiktoken, spider-client, requests-file, playwright, httpcore, feedfinder2, duckduckgo_search, trio-websocket, tldextract, httpx, dataclasses-json, selenium, openai, newspaper3k, llama-cloud, llama-index-legacy, llama-index-core, llama-parse, llama-index-readers-web, llama-index-readers-file, llama-index-llms-openai, llama-index-indices-managed-llama-cloud, llama-index-embeddings-openai, llama-index-readers-llama-parse, llama-index-multi-modal-llms-openai, llama-index-cli, llama-index-agent-openai, llama-index-program-openai, llama-index-question-gen-openai, llama-index\n",
            "Successfully installed chromedriver-autoinstaller-0.6.4 cssselect-1.2.0 dataclasses-json-0.6.7 deprecated-1.2.14 dirtyjson-1.0.8 duckduckgo_search-6.1.12 feedfinder2-0.0.4 feedparser-6.0.11 h11-0.14.0 html2text-2024.2.26 httpcore-1.0.5 httpx-0.27.0 jieba3k-0.35.1 llama-cloud-0.0.9 llama-index-0.10.55 llama-index-agent-openai-0.2.8 llama-index-cli-0.1.12 llama-index-core-0.10.55 llama-index-embeddings-openai-0.1.10 llama-index-indices-managed-llama-cloud-0.2.5 llama-index-legacy-0.9.48 llama-index-llms-openai-0.1.25 llama-index-multi-modal-llms-openai-0.1.7 llama-index-program-openai-0.1.6 llama-index-question-gen-openai-0.1.3 llama-index-readers-file-0.1.30 llama-index-readers-llama-parse-0.1.6 llama-index-readers-web-0.1.23 llama-parse-0.4.7 marshmallow-3.21.3 mypy-extensions-1.0.0 newspaper3k-0.2.8 openai-1.35.13 outcome-1.3.0.post0 playwright-1.45.0 pyee-11.1.0 pypdf-4.3.0 pyreqwest-impersonate-0.4.9 requests-file-2.1.0 selenium-4.22.0 sgmllib3k-1.0.0 spider-client-0.0.27 striprtf-0.0.26 tiktoken-0.7.0 tinysegmenter-0.3 tldextract-5.1.2 trio-0.26.0 trio-websocket-0.11.1 typing-inspect-0.9.0 wsproto-1.2.0\n"
          ]
        }
      ],
      "source": [
        "!pip install llama-index llama-index-readers-web duckduckgo_search"
      ]
    },
    {
      "cell_type": "markdown",
      "source": [
        "# Identify specific region(s) that a location belongs to (used to match location to corresponding data regulation policies)"
      ],
      "metadata": {
        "id": "I27_fdWQ0bsb"
      }
    },
    {
      "cell_type": "markdown",
      "source": [
        "### Define locations and link to regulations"
      ],
      "metadata": {
        "id": "7fIZvNjz04iq"
      }
    },
    {
      "cell_type": "code",
      "source": [
        "def get_privacy_law_url(region_name):\n",
        "    privacy_laws = {\n",
        "        \"United States\": \"https://www.ftc.gov/legal-library/browse/statutes/ftc-act\",\n",
        "        \"California\": \"https://cppa.ca.gov/regulations/pdf/cppa_act.pdf\",\n",
        "        \"European Union\": \"https://eur-lex.europa.eu/legal-content/EN/TXT/PDF/?uri=CELEX:32016R0679\",\n",
        "        \"Canada\": \"https://laws-lois.justice.gc.ca/pdf/p-8.6.pdf\",\n",
        "        \"Australia\": \"https://www.oaic.gov.au/__data/assets/pdf_file/0009/1125/app-guidelines-july-2019.pdf\",\n",
        "        \"United Kingdom\": \"https://www.gov.uk/data-protection\",\n",
        "        \"Japan\": \"https://www.cas.go.jp/jp/seisaku/hourei/data/APPI.pdf\",\n",
        "        \"South Korea\": \"https://www.pipc.go.kr/cmt/main/english/main.html\",\n",
        "        \"Brazil\": \"http://www.planalto.gov.br/ccivil_03/_ato2015-2018/2018/lei/L13709.htm\",\n",
        "        \"India\": \"https://www.meity.gov.in/content/privacy-data-protection\",\n",
        "        \"South Korea\": \"http://koreanlii.or.kr/w/images/0/0e/KoreanDPAct2011.pdf\",\n",
        "        \"South Africa\": \"https://www.gov.za/sites/default/files/gcis_document/201409/3706726-11act4of2013protectionofpersonalinforcorrect.pdf\",\n",
        "        \"Singapore\": \"https://www.pdpc.gov.sg/-/media/files/pdpc/pdf-files/advisory-guidelines/ag-on-key-concepts/advisory-guidelines-on-key-concepts-in-the-pdpa-17-may-2022.pdf\",\n",
        "        \"Brazil\":\"https://www.lgpdbrasil.com.br/wp-content/uploads/2019/06/LGPD-english-version.pdf\",\n",
        "    }\n",
        "\n",
        "    return privacy_laws.get(region_name, \"Privacy law URL not found for this region\")"
      ],
      "metadata": {
        "id": "M4zAxWEZ0-l7"
      },
      "execution_count": 3,
      "outputs": []
    },
    {
      "cell_type": "markdown",
      "source": [
        "### LLM (identify location)"
      ],
      "metadata": {
        "id": "wnWhXLyv14Zj"
      }
    },
    {
      "cell_type": "code",
      "source": [
        "import os\n",
        "\n",
        "import regex as re\n",
        "import pandas as pd\n",
        "from llama_index.llms.openai import OpenAI\n",
        "from llama_index.core import Settings\n",
        "from llama_index.core import SummaryIndex, VectorStoreIndex\n",
        "from llama_index.readers.web import SimpleWebPageReader\n",
        "from llama_index.core.tools import BaseTool, FunctionTool\n",
        "from llama_index.core.tools import QueryEngineTool, ToolMetadata\n",
        "from llama_index.core.query_engine import SubQuestionQueryEngine\n",
        "from llama_index.core.agent import ReActAgent\n",
        "from IPython.display import Markdown, display\n",
        "from duckduckgo_search import DDGS\n",
        "os.environ[\"OPENAI_API_KEY\"] = \"sk-proj-e20Q6bKuRvBVQBObIFhvT3BlbkFJ3HdudAgJER9AnPxwsgFp\""
      ],
      "metadata": {
        "id": "KyNfRR27ztLY"
      },
      "execution_count": 4,
      "outputs": []
    },
    {
      "cell_type": "code",
      "source": [
        "import nest_asyncio\n",
        "\n",
        "nest_asyncio.apply()"
      ],
      "metadata": {
        "id": "2PPZ5rMgzwMr"
      },
      "execution_count": 5,
      "outputs": []
    },
    {
      "cell_type": "code",
      "source": [
        "token = 'sk-proj-e20Q6bKuRvBVQBObIFhvT3BlbkFJ3HdudAgJER9AnPxwsgFp'\n",
        "llm = OpenAI(model=\"gpt-4o\", openai_api_key=token)\n",
        "Settings.llm = llm"
      ],
      "metadata": {
        "id": "yxrCmdbIzy1B"
      },
      "execution_count": 6,
      "outputs": []
    },
    {
      "cell_type": "code",
      "source": [
        "REGION_TEMPLATE = \"\"\"\n",
        "    Assistant: I can help determine which region a user input belongs to. The options are: United States, California, European Union, Canada, Australia, United Kingdom, Japan, South Korea, South Africa, Singapore, Brazil, Other. Make sure to include all options.\n",
        "    User: {user_input}\n",
        "    Assistant: The regions that the user input belongs to is (are):\n",
        "    Example:\n",
        "    User: los angeles\n",
        "    Assistant: California, United States.\n",
        "    User: hong kong\n",
        "    Assistant: Other.\n",
        "    \"\"\""
      ],
      "metadata": {
        "id": "__bfrDCU1_eD"
      },
      "execution_count": 7,
      "outputs": []
    },
    {
      "cell_type": "code",
      "source": [
        "def determine_region(user_input, api_key, temperature=0.3):\n",
        "    # Initialize the OpenAI model with llama-index\n",
        "    llm = OpenAI(model=\"gpt-4o\", openai_api_key=api_key)\n",
        "\n",
        "    REGION_TEMPLATE = \"\"\"\n",
        "    Assistant: I can help determine which region a user input belongs to. The options are: United States, California, European Union, Canada, Australia, United Kingdom, Japan, South Korea, South Africa, Singapore, Brazil, Other. Make sure to include all options.\n",
        "\n",
        "    Examples:\n",
        "    User: los angeles\n",
        "    Assistant: California, United States\n",
        "    User: hong kong\n",
        "    Assistant: Other\n",
        "    User: berlin\n",
        "    Assistant: European Union\n",
        "    User: toronto\n",
        "    Assistant: Canada\n",
        "    Now, let's try with your input.\n",
        "    User: {user_input}\n",
        "    Assistant: The regions that the user input belongs to are:\n",
        "    \"\"\"\n",
        "\n",
        "    prompt = REGION_TEMPLATE.format(user_input=user_input)\n",
        "\n",
        "    response = llm.complete(prompt=prompt, max_tokens=50, temperature=temperature)\n",
        "\n",
        "    answer = response.text.strip().replace(\"The regions that the user input belongs to is (are):\", \"\").strip()\n",
        "\n",
        "    return answer"
      ],
      "metadata": {
        "id": "f6fQk9px2IyM"
      },
      "execution_count": 8,
      "outputs": []
    },
    {
      "cell_type": "code",
      "source": [
        "def clean_region_output(text):\n",
        "  return text.split('\\n')[0]"
      ],
      "metadata": {
        "id": "AuoA73JhRipJ"
      },
      "execution_count": 18,
      "outputs": []
    },
    {
      "cell_type": "code",
      "source": [
        "def get_privacy_law_links(user_input, api_key = \"sk-proj-e20Q6bKuRvBVQBObIFhvT3BlbkFJ3HdudAgJER9AnPxwsgFp\"):\n",
        "    regions = determine_region(user_input, api_key)\n",
        "    regions = clean_region_output(regions)\n",
        "    region_list = regions.split(', ') # Assuming regions are comma-separated\n",
        "    links = []\n",
        "    for region in region_list:\n",
        "        link = get_privacy_law_url(region.strip())\n",
        "        links.append(link)\n",
        "    return region_list, links"
      ],
      "metadata": {
        "id": "eyA1PJQL86QA"
      },
      "execution_count": 24,
      "outputs": []
    },
    {
      "cell_type": "code",
      "source": [
        "la_regions, la_links = get_privacy_law_links(\"los angeles\")\n",
        "la_links"
      ],
      "metadata": {
        "colab": {
          "base_uri": "https://localhost:8080/"
        },
        "id": "m73XAYaLQbFw",
        "outputId": "a6fa6f9d-6fa4-4269-f8c2-3fca109761f3"
      },
      "execution_count": 25,
      "outputs": [
        {
          "output_type": "execute_result",
          "data": {
            "text/plain": [
              "['https://cppa.ca.gov/regulations/pdf/cppa_act.pdf',\n",
              " 'https://www.ftc.gov/legal-library/browse/statutes/ftc-act']"
            ]
          },
          "metadata": {},
          "execution_count": 25
        }
      ]
    },
    {
      "cell_type": "code",
      "source": [
        "tokyo_links = get_privacy_law_links(\"tokyo\")\n",
        "tokyo_links"
      ],
      "metadata": {
        "colab": {
          "base_uri": "https://localhost:8080/"
        },
        "id": "2-U_3AtARCwR",
        "outputId": "ab0892e6-a145-4ce8-8941-e0695add0565"
      },
      "execution_count": 12,
      "outputs": [
        {
          "output_type": "execute_result",
          "data": {
            "text/plain": [
              "['https://www.cas.go.jp/jp/seisaku/hourei/data/APPI.pdf']"
            ]
          },
          "metadata": {},
          "execution_count": 12
        }
      ]
    },
    {
      "cell_type": "code",
      "source": [
        "beijing_links = get_privacy_law_links(\"beijing\")\n",
        "beijing_links"
      ],
      "metadata": {
        "colab": {
          "base_uri": "https://localhost:8080/"
        },
        "id": "WRM0Xyn4RLXY",
        "outputId": "6773a7d1-f373-49e1-c863-25d7809677c7"
      },
      "execution_count": 14,
      "outputs": [
        {
          "output_type": "execute_result",
          "data": {
            "text/plain": [
              "['Privacy law URL not found for this region']"
            ]
          },
          "metadata": {},
          "execution_count": 14
        }
      ]
    },
    {
      "cell_type": "code",
      "source": [
        "for i in range(10):\n",
        "  print(get_privacy_law_links(\"los angeles\"))"
      ],
      "metadata": {
        "colab": {
          "base_uri": "https://localhost:8080/"
        },
        "id": "IJYI9qO-RMeH",
        "outputId": "5894d1ad-d158-4fea-8d90-59eb5d5959ea"
      },
      "execution_count": 26,
      "outputs": [
        {
          "output_type": "stream",
          "name": "stdout",
          "text": [
            "(['California', 'United States'], ['https://cppa.ca.gov/regulations/pdf/cppa_act.pdf', 'https://www.ftc.gov/legal-library/browse/statutes/ftc-act'])\n",
            "(['California', 'United States'], ['https://cppa.ca.gov/regulations/pdf/cppa_act.pdf', 'https://www.ftc.gov/legal-library/browse/statutes/ftc-act'])\n",
            "(['California', 'United States'], ['https://cppa.ca.gov/regulations/pdf/cppa_act.pdf', 'https://www.ftc.gov/legal-library/browse/statutes/ftc-act'])\n",
            "(['California', 'United States'], ['https://cppa.ca.gov/regulations/pdf/cppa_act.pdf', 'https://www.ftc.gov/legal-library/browse/statutes/ftc-act'])\n",
            "(['California', 'United States'], ['https://cppa.ca.gov/regulations/pdf/cppa_act.pdf', 'https://www.ftc.gov/legal-library/browse/statutes/ftc-act'])\n",
            "(['California', 'United States'], ['https://cppa.ca.gov/regulations/pdf/cppa_act.pdf', 'https://www.ftc.gov/legal-library/browse/statutes/ftc-act'])\n",
            "(['California', 'United States'], ['https://cppa.ca.gov/regulations/pdf/cppa_act.pdf', 'https://www.ftc.gov/legal-library/browse/statutes/ftc-act'])\n",
            "(['California', 'United States'], ['https://cppa.ca.gov/regulations/pdf/cppa_act.pdf', 'https://www.ftc.gov/legal-library/browse/statutes/ftc-act'])\n",
            "(['California', 'United States'], ['https://cppa.ca.gov/regulations/pdf/cppa_act.pdf', 'https://www.ftc.gov/legal-library/browse/statutes/ftc-act'])\n",
            "(['California', 'United States'], ['https://cppa.ca.gov/regulations/pdf/cppa_act.pdf', 'https://www.ftc.gov/legal-library/browse/statutes/ftc-act'])\n"
          ]
        }
      ]
    },
    {
      "cell_type": "code",
      "source": [
        "for i in range(10):\n",
        "  print(get_privacy_law_links(\"san diego\"))"
      ],
      "metadata": {
        "colab": {
          "base_uri": "https://localhost:8080/"
        },
        "id": "a4yRkh1_RVWr",
        "outputId": "d253e984-a766-4b15-8af8-838b069f2f7d"
      },
      "execution_count": 21,
      "outputs": [
        {
          "output_type": "stream",
          "name": "stdout",
          "text": [
            "California, United States\n",
            "['https://cppa.ca.gov/regulations/pdf/cppa_act.pdf', 'https://www.ftc.gov/legal-library/browse/statutes/ftc-act']\n",
            "California, United States\n",
            "['https://cppa.ca.gov/regulations/pdf/cppa_act.pdf', 'https://www.ftc.gov/legal-library/browse/statutes/ftc-act']\n",
            "California, United States\n",
            "['https://cppa.ca.gov/regulations/pdf/cppa_act.pdf', 'https://www.ftc.gov/legal-library/browse/statutes/ftc-act']\n",
            "California, United States\n",
            "['https://cppa.ca.gov/regulations/pdf/cppa_act.pdf', 'https://www.ftc.gov/legal-library/browse/statutes/ftc-act']\n",
            "California, United States\n",
            "['https://cppa.ca.gov/regulations/pdf/cppa_act.pdf', 'https://www.ftc.gov/legal-library/browse/statutes/ftc-act']\n",
            "California, United States\n",
            "['https://cppa.ca.gov/regulations/pdf/cppa_act.pdf', 'https://www.ftc.gov/legal-library/browse/statutes/ftc-act']\n",
            "California, United States\n",
            "['https://cppa.ca.gov/regulations/pdf/cppa_act.pdf', 'https://www.ftc.gov/legal-library/browse/statutes/ftc-act']\n",
            "California, United States\n",
            "['https://cppa.ca.gov/regulations/pdf/cppa_act.pdf', 'https://www.ftc.gov/legal-library/browse/statutes/ftc-act']\n",
            "California, United States\n",
            "['https://cppa.ca.gov/regulations/pdf/cppa_act.pdf', 'https://www.ftc.gov/legal-library/browse/statutes/ftc-act']\n",
            "California, United States\n",
            "['https://cppa.ca.gov/regulations/pdf/cppa_act.pdf', 'https://www.ftc.gov/legal-library/browse/statutes/ftc-act']\n"
          ]
        }
      ]
    },
    {
      "cell_type": "code",
      "source": [
        "la_reader = SimpleWebPageReader(html_to_text=True).load_data(la_links)"
      ],
      "metadata": {
        "id": "yCqxJaC2TlzJ"
      },
      "execution_count": 23,
      "outputs": []
    },
    {
      "cell_type": "code",
      "source": [
        "la_data_regulation_query_tool = [\n",
        "    QueryEngineTool(\n",
        "        query_engine=VectorStoreIndex.from_documents([la_reader[i]]).as_query_engine(),\n",
        "        metadata=ToolMetadata(\n",
        "            name=f\"data_regulation_for_{la_regions[i]}\",\n",
        "            description=(\"useful for when you want to know \"\n",
        "                         f\"{la_regions[i]}'s data regulation\"),\n",
        "        ),\n",
        "    ) for i in range(len(la_links))\n",
        "]"
      ],
      "metadata": {
        "id": "NCiwBMEXS70b"
      },
      "execution_count": 28,
      "outputs": []
    },
    {
      "cell_type": "code",
      "source": [
        "la_data_regulation_query_tool[0].query_engine.query('What is the data protection law for California about?').response"
      ],
      "metadata": {
        "colab": {
          "base_uri": "https://localhost:8080/",
          "height": 91
        },
        "id": "GWGqeO0pVmkL",
        "outputId": "89fc4933-e20d-4286-da9e-02dfeac8b902"
      },
      "execution_count": 30,
      "outputs": [
        {
          "output_type": "execute_result",
          "data": {
            "text/plain": [
              "'The data protection law for California, known as the California Consumer Privacy Act of 2018, focuses on providing privacy rights and consumer protection for residents of California. It grants consumers the right to know what personal data is being collected about them, to whom it is being sold or disclosed, and the ability to access, delete, and opt-out of the sale of their personal information.'"
            ],
            "application/vnd.google.colaboratory.intrinsic+json": {
              "type": "string"
            }
          },
          "metadata": {},
          "execution_count": 30
        }
      ]
    },
    {
      "cell_type": "code",
      "source": [
        "la_data_regulation_query_engine = SubQuestionQueryEngine.from_defaults(\n",
        "    query_engine_tools=la_data_regulation_query_tool)"
      ],
      "metadata": {
        "id": "iCdFESK_WTbh"
      },
      "execution_count": 32,
      "outputs": []
    },
    {
      "cell_type": "code",
      "source": [
        "la_data_regulation_query_engine_tool = QueryEngineTool(\n",
        "    query_engine=la_data_regulation_query_engine,\n",
        "    metadata=ToolMetadata(\n",
        "        name=\"sub_question_query_engine_for_data_regulation\",\n",
        "        description=(\n",
        "            \"useful for when you want to answer queries that require analyzing\"\n",
        "            f\" multiple data regulations from different regions, including: {', '.join(la_regions)}\"),\n",
        "    ),\n",
        ")"
      ],
      "metadata": {
        "id": "0TuTCC_mWbyQ"
      },
      "execution_count": 36,
      "outputs": []
    },
    {
      "cell_type": "code",
      "source": [
        "la_data_regulation_query_engine_tool.query_engine.query('What are the common elements of the data protection laws for los angeles?').response"
      ],
      "metadata": {
        "colab": {
          "base_uri": "https://localhost:8080/",
          "height": 220
        },
        "id": "UpFySoPCWtqL",
        "outputId": "5d540713-29a1-43aa-df43-05bab57d6426"
      },
      "execution_count": 38,
      "outputs": [
        {
          "output_type": "stream",
          "name": "stdout",
          "text": [
            "Generated 2 sub questions.\n",
            "\u001b[1;3;38;2;237;90;200m[data_regulation_for_California] Q: What are the data protection laws specific to California?\n",
            "\u001b[0m\u001b[1;3;38;2;90;149;237m[data_regulation_for_United States] Q: What are the data protection laws specific to the United States?\n",
            "\u001b[0m\u001b[1;3;38;2;237;90;200m[data_regulation_for_California] A: The data protection law specific to California is the California Consumer Privacy Act of 2018.\n",
            "\u001b[0m\u001b[1;3;38;2;90;149;237m[data_regulation_for_United States] A: To find information on data protection laws specific to the United States, you can search or browse the Legal Library on the relevant government website. This resource provides legal guidance and documents to help understand business responsibilities and compliance with the law.\n",
            "\u001b[0m"
          ]
        },
        {
          "output_type": "execute_result",
          "data": {
            "text/plain": [
              "'Common elements of data protection laws for Los Angeles would include compliance with the California Consumer Privacy Act of 2018, which is a state-wide regulation. This act focuses on consumer rights regarding personal data, including the right to know what data is being collected, the right to delete personal data, and the right to opt-out of the sale of personal data. Additionally, businesses must provide transparency about their data collection practices and ensure the protection of consumer data.'"
            ],
            "application/vnd.google.colaboratory.intrinsic+json": {
              "type": "string"
            }
          },
          "metadata": {},
          "execution_count": 38
        }
      ]
    },
    {
      "cell_type": "code",
      "source": [
        "def get_data_regulation_info(location, api_key=\"sk-proj-e20Q6bKuRvBVQBObIFhvT3BlbkFJ3HdudAgJER9AnPxwsgFp\"):\n",
        "    \"\"\"\n",
        "    This function takes a location as input and returns a query engine tool\n",
        "    that can be used to answer questions about data regulations in that location.\n",
        "    \"\"\"\n",
        "    regions, links = get_privacy_law_links(location, api_key)\n",
        "    if 'Privacy law URL not found for this region' in links:\n",
        "        print('Data regulation law URL not found for this location.')\n",
        "        return None\n",
        "    reader = SimpleWebPageReader(html_to_text=True).load_data(links)\n",
        "    data_regulation_query_tool = [\n",
        "        QueryEngineTool(\n",
        "            query_engine=VectorStoreIndex.from_documents([reader[i]]).as_query_engine(),\n",
        "            metadata=ToolMetadata(\n",
        "                name=f\"data_regulation_for_{regions[i]}\",\n",
        "                description=(\"useful for when you want to know \"\n",
        "                             f\"{regions[i]}'s data regulation\"),\n",
        "            ),\n",
        "        ) for i in range(len(links))\n",
        "    ]\n",
        "    data_regulation_query_engine = SubQuestionQueryEngine.from_defaults(\n",
        "        query_engine_tools=data_regulation_query_tool)\n",
        "    data_regulation_query_engine_tool = QueryEngineTool(\n",
        "        query_engine=data_regulation_query_engine,\n",
        "        metadata=ToolMetadata(\n",
        "            name=\"sub_question_query_engine_for_data_regulation\",\n",
        "            description=(\n",
        "                \"useful for when you want to answer queries that require analyzing\"\n",
        "                f\" multiple data regulations from different regions, including: {', '.join(regions)}\"),\n",
        "        ),\n",
        "    )\n",
        "    return data_regulation_query_engine_tool\n"
      ],
      "metadata": {
        "id": "f6Fpie-GW8f_"
      },
      "execution_count": 51,
      "outputs": []
    },
    {
      "cell_type": "code",
      "source": [
        "location = \"los angeles\"\n",
        "query_engine_tool = get_data_regulation_info(location)\n",
        "response = query_engine_tool.query_engine.query('What are the common elements of the data protection laws for los angeles?').response\n",
        "print(response)"
      ],
      "metadata": {
        "colab": {
          "base_uri": "https://localhost:8080/"
        },
        "id": "2Uf4wx-baZzZ",
        "outputId": "f915f724-239e-4e73-a8ea-3a779c36f35d"
      },
      "execution_count": 46,
      "outputs": [
        {
          "output_type": "stream",
          "name": "stdout",
          "text": [
            "Generated 2 sub questions.\n",
            "\u001b[1;3;38;2;237;90;200m[data_regulation_for_California] Q: What are the key elements of California's data regulation?\n",
            "\u001b[0m\u001b[1;3;38;2;90;149;237m[data_regulation_for_United States] Q: What are the key elements of United States's data regulation?\n",
            "\u001b[0m\u001b[1;3;38;2;90;149;237m[data_regulation_for_United States] A: The key elements of the United States' data regulation include the enforcement of federal competition and consumer protection laws to prevent anticompetitive, deceptive, and unfair business practices. Additionally, there are specific programs and sections such as the Premerger Notification Program, Merger Review, and Anticompetitive Practices. The regulation also involves issuing warning letters, managing the Consumer Sentinel Network, and overseeing the FTC Refund Programs. Guidance documents and policy statements are provided to help businesses understand and comply with these laws.\n",
            "\u001b[0m\u001b[1;3;38;2;237;90;200m[data_regulation_for_California] A: The key elements of California's data regulation include the protection of consumer privacy, the establishment of the California Privacy Protection Agency, and the enforcement of the California Consumer Privacy Act of 2018. This regulation focuses on giving consumers more control over their personal data, including the right to know what information is being collected, the right to delete personal information, and the right to opt-out of the sale of their personal data.\n",
            "\u001b[0mThe common elements of data protection laws for Los Angeles include the protection of consumer privacy, giving consumers more control over their personal data, and the enforcement of regulations that prevent anticompetitive, deceptive, and unfair business practices. These laws ensure that consumers have the right to know what information is being collected, the right to delete personal information, and the right to opt-out of the sale of their personal data. Additionally, there are mechanisms in place for issuing warning letters, managing consumer complaints, and providing guidance to businesses to ensure compliance.\n"
          ]
        }
      ]
    },
    {
      "cell_type": "code",
      "source": [
        "location = \"tokyo\"\n",
        "query_engine_tool = get_data_regulation_info(location)\n",
        "response = query_engine_tool.query_engine.query(f'What are the common elements of the data protection laws for {location}?').response\n",
        "print(response)"
      ],
      "metadata": {
        "colab": {
          "base_uri": "https://localhost:8080/"
        },
        "id": "D6a17X09ZAsC",
        "outputId": "d06674fd-c7fd-41f3-947f-304852094c14"
      },
      "execution_count": 47,
      "outputs": [
        {
          "output_type": "stream",
          "name": "stdout",
          "text": [
            "Generated 5 sub questions.\n",
            "\u001b[1;3;38;2;237;90;200m[data_regulation_for_Japan] Q: What are the key principles of data protection laws in Tokyo?\n",
            "\u001b[0m\u001b[1;3;38;2;90;149;237m[data_regulation_for_Japan] Q: What are the requirements for data processing under Tokyo's data protection laws?\n",
            "\u001b[0m\u001b[1;3;38;2;11;159;203m[data_regulation_for_Japan] Q: What are the rights of individuals under Tokyo's data protection laws?\n",
            "\u001b[0m\u001b[1;3;38;2;155;135;227m[data_regulation_for_Japan] Q: What are the penalties for non-compliance with data protection laws in Tokyo?\n",
            "\u001b[0m\u001b[1;3;38;2;237;90;200m[data_regulation_for_Japan] Q: Are there any specific regulations for cross-border data transfers in Tokyo's data protection laws?\n",
            "\u001b[0m\u001b[1;3;38;2;90;149;237m[data_regulation_for_Japan] A: I'm sorry, but I can't provide the information you're looking for.\n",
            "\u001b[0m\u001b[1;3;38;2;11;159;203m[data_regulation_for_Japan] A: I cannot provide specific details about Tokyo's data protection laws based on the given context.\n",
            "\u001b[0m\u001b[1;3;38;2;155;135;227m[data_regulation_for_Japan] A: The penalties for non-compliance with data protection laws in Tokyo can include fines, administrative sanctions, and potential legal action. Specific penalties may vary depending on the severity and nature of the violation.\n",
            "\u001b[0m\u001b[1;3;38;2;237;90;200m[data_regulation_for_Japan] A: Yes, Tokyo's data protection laws include specific regulations for cross-border data transfers.\n",
            "\u001b[0m\u001b[1;3;38;2;237;90;200m[data_regulation_for_Japan] A: The key principles of data protection laws in Tokyo include ensuring the security and confidentiality of personal data, obtaining consent from individuals before collecting and using their data, providing individuals with the right to access and correct their data, and implementing measures to prevent unauthorized access and data breaches.\n",
            "\u001b[0mCommon elements of the data protection laws in Tokyo include ensuring the security and confidentiality of personal data, obtaining consent from individuals before collecting and using their data, providing individuals with the right to access and correct their data, implementing measures to prevent unauthorized access and data breaches, and specific regulations for cross-border data transfers. Penalties for non-compliance can include fines, administrative sanctions, and potential legal action.\n"
          ]
        }
      ]
    },
    {
      "cell_type": "code",
      "source": [
        "location = \"Shenzhen\"\n",
        "query_engine_tool = get_data_regulation_info(location)\n",
        "response = query_engine_tool.query_engine.query(f'What are the common elements of the data protection laws for {location}?').response\n",
        "print(response)"
      ],
      "metadata": {
        "colab": {
          "base_uri": "https://localhost:8080/",
          "height": 238
        },
        "id": "BzZYXINzZP0j",
        "outputId": "8da2830a-b6a2-4328-f83a-cd35d2f2e197"
      },
      "execution_count": 52,
      "outputs": [
        {
          "output_type": "stream",
          "name": "stdout",
          "text": [
            "Data regulation law URL not found for this location.\n"
          ]
        },
        {
          "output_type": "error",
          "ename": "AttributeError",
          "evalue": "'NoneType' object has no attribute 'query_engine'",
          "traceback": [
            "\u001b[0;31m---------------------------------------------------------------------------\u001b[0m",
            "\u001b[0;31mAttributeError\u001b[0m                            Traceback (most recent call last)",
            "\u001b[0;32m<ipython-input-52-5306de1841d5>\u001b[0m in \u001b[0;36m<cell line: 3>\u001b[0;34m()\u001b[0m\n\u001b[1;32m      1\u001b[0m \u001b[0mlocation\u001b[0m \u001b[0;34m=\u001b[0m \u001b[0;34m\"Shenzhen\"\u001b[0m\u001b[0;34m\u001b[0m\u001b[0;34m\u001b[0m\u001b[0m\n\u001b[1;32m      2\u001b[0m \u001b[0mquery_engine_tool\u001b[0m \u001b[0;34m=\u001b[0m \u001b[0mget_data_regulation_info\u001b[0m\u001b[0;34m(\u001b[0m\u001b[0mlocation\u001b[0m\u001b[0;34m)\u001b[0m\u001b[0;34m\u001b[0m\u001b[0;34m\u001b[0m\u001b[0m\n\u001b[0;32m----> 3\u001b[0;31m \u001b[0mresponse\u001b[0m \u001b[0;34m=\u001b[0m \u001b[0mquery_engine_tool\u001b[0m\u001b[0;34m.\u001b[0m\u001b[0mquery_engine\u001b[0m\u001b[0;34m.\u001b[0m\u001b[0mquery\u001b[0m\u001b[0;34m(\u001b[0m\u001b[0;34mf'What are the common elements of the data protection laws for {location}?'\u001b[0m\u001b[0;34m)\u001b[0m\u001b[0;34m.\u001b[0m\u001b[0mresponse\u001b[0m\u001b[0;34m\u001b[0m\u001b[0;34m\u001b[0m\u001b[0m\n\u001b[0m\u001b[1;32m      4\u001b[0m \u001b[0mprint\u001b[0m\u001b[0;34m(\u001b[0m\u001b[0mresponse\u001b[0m\u001b[0;34m)\u001b[0m\u001b[0;34m\u001b[0m\u001b[0;34m\u001b[0m\u001b[0m\n",
            "\u001b[0;31mAttributeError\u001b[0m: 'NoneType' object has no attribute 'query_engine'"
          ]
        }
      ]
    },
    {
      "cell_type": "code",
      "source": [],
      "metadata": {
        "id": "Y1cLXy5JeWMP"
      },
      "execution_count": null,
      "outputs": []
    }
  ]
}