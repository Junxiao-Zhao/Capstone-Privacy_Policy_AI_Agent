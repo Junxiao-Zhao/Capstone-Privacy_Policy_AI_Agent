{
  "nbformat": 4,
  "nbformat_minor": 0,
  "metadata": {
    "colab": {
      "provenance": []
    },
    "kernelspec": {
      "name": "python3",
      "display_name": "Python 3"
    },
    "language_info": {
      "name": "python"
    }
  },
  "cells": [
    {
      "cell_type": "code",
      "execution_count": null,
      "metadata": {
        "id": "D6UDDs6Fy4Co"
      },
      "outputs": [],
      "source": [
        "!pip install llama-index llama-index-readers-web duckduckgo_search"
      ]
    },
    {
      "cell_type": "markdown",
      "source": [
        "# Identify specific industry(s) that the user input belongs to (used to match industry to corresponding data regulation policies)"
      ],
      "metadata": {
        "id": "I27_fdWQ0bsb"
      }
    },
    {
      "cell_type": "markdown",
      "source": [
        "### Define locations and link to regulations"
      ],
      "metadata": {
        "id": "7fIZvNjz04iq"
      }
    },
    {
      "cell_type": "code",
      "source": [
        "import json\n",
        "import pandas as pd"
      ],
      "metadata": {
        "id": "CeXPHkb5_h5S"
      },
      "execution_count": 3,
      "outputs": []
    },
    {
      "cell_type": "code",
      "source": [
        "data = pd.read_csv('/content/Industry Data Regulation.csv')"
      ],
      "metadata": {
        "id": "f_7knX5z1DPS"
      },
      "execution_count": 4,
      "outputs": []
    },
    {
      "cell_type": "code",
      "source": [
        "data"
      ],
      "metadata": {
        "id": "2OjcmZYm_uQu",
        "outputId": "b1ab2401-67b6-4a6b-b3a4-00581ed61007",
        "colab": {
          "base_uri": "https://localhost:8080/",
          "height": 300
        }
      },
      "execution_count": 5,
      "outputs": [
        {
          "output_type": "execute_result",
          "data": {
            "text/plain": [
              "  regulations       industry regions  \\\n",
              "0       COPPA       Children     USA   \n",
              "1       HIPAA        Medical     USA   \n",
              "2        GLBA        Finance     USA   \n",
              "3        FCRA    Consumption     USA   \n",
              "4       FERPA      Education     USA   \n",
              "5        RFPA        Finance     USA   \n",
              "6        VPPA  Digital Media     USA   \n",
              "7        ECPA  Communication     USA   \n",
              "\n",
              "                                               links  \n",
              "0  https://www.ftc.gov/legal-library/browse/rules...  \n",
              "1  https://www.cdc.gov/phlp/php/resources/health-...  \n",
              "2  https://www.ftc.gov/business-guidance/privacy-...  \n",
              "3  https://www.ftc.gov/legal-library/browse/statu...  \n",
              "4  https://www.disabilityrightssc.org/wp-content/...  \n",
              "5  https://www.fdic.gov/resources/supervision-and...  \n",
              "6  https://www.congress.gov/bill/100th-congress/s...  \n",
              "7  https://bja.ojp.gov/program/it/privacy-civil-l...  "
            ],
            "text/html": [
              "\n",
              "  <div id=\"df-9b003df6-bdce-4243-b269-112959db6f75\" class=\"colab-df-container\">\n",
              "    <div>\n",
              "<style scoped>\n",
              "    .dataframe tbody tr th:only-of-type {\n",
              "        vertical-align: middle;\n",
              "    }\n",
              "\n",
              "    .dataframe tbody tr th {\n",
              "        vertical-align: top;\n",
              "    }\n",
              "\n",
              "    .dataframe thead th {\n",
              "        text-align: right;\n",
              "    }\n",
              "</style>\n",
              "<table border=\"1\" class=\"dataframe\">\n",
              "  <thead>\n",
              "    <tr style=\"text-align: right;\">\n",
              "      <th></th>\n",
              "      <th>regulations</th>\n",
              "      <th>industry</th>\n",
              "      <th>regions</th>\n",
              "      <th>links</th>\n",
              "    </tr>\n",
              "  </thead>\n",
              "  <tbody>\n",
              "    <tr>\n",
              "      <th>0</th>\n",
              "      <td>COPPA</td>\n",
              "      <td>Children</td>\n",
              "      <td>USA</td>\n",
              "      <td>https://www.ftc.gov/legal-library/browse/rules...</td>\n",
              "    </tr>\n",
              "    <tr>\n",
              "      <th>1</th>\n",
              "      <td>HIPAA</td>\n",
              "      <td>Medical</td>\n",
              "      <td>USA</td>\n",
              "      <td>https://www.cdc.gov/phlp/php/resources/health-...</td>\n",
              "    </tr>\n",
              "    <tr>\n",
              "      <th>2</th>\n",
              "      <td>GLBA</td>\n",
              "      <td>Finance</td>\n",
              "      <td>USA</td>\n",
              "      <td>https://www.ftc.gov/business-guidance/privacy-...</td>\n",
              "    </tr>\n",
              "    <tr>\n",
              "      <th>3</th>\n",
              "      <td>FCRA</td>\n",
              "      <td>Consumption</td>\n",
              "      <td>USA</td>\n",
              "      <td>https://www.ftc.gov/legal-library/browse/statu...</td>\n",
              "    </tr>\n",
              "    <tr>\n",
              "      <th>4</th>\n",
              "      <td>FERPA</td>\n",
              "      <td>Education</td>\n",
              "      <td>USA</td>\n",
              "      <td>https://www.disabilityrightssc.org/wp-content/...</td>\n",
              "    </tr>\n",
              "    <tr>\n",
              "      <th>5</th>\n",
              "      <td>RFPA</td>\n",
              "      <td>Finance</td>\n",
              "      <td>USA</td>\n",
              "      <td>https://www.fdic.gov/resources/supervision-and...</td>\n",
              "    </tr>\n",
              "    <tr>\n",
              "      <th>6</th>\n",
              "      <td>VPPA</td>\n",
              "      <td>Digital Media</td>\n",
              "      <td>USA</td>\n",
              "      <td>https://www.congress.gov/bill/100th-congress/s...</td>\n",
              "    </tr>\n",
              "    <tr>\n",
              "      <th>7</th>\n",
              "      <td>ECPA</td>\n",
              "      <td>Communication</td>\n",
              "      <td>USA</td>\n",
              "      <td>https://bja.ojp.gov/program/it/privacy-civil-l...</td>\n",
              "    </tr>\n",
              "  </tbody>\n",
              "</table>\n",
              "</div>\n",
              "    <div class=\"colab-df-buttons\">\n",
              "\n",
              "  <div class=\"colab-df-container\">\n",
              "    <button class=\"colab-df-convert\" onclick=\"convertToInteractive('df-9b003df6-bdce-4243-b269-112959db6f75')\"\n",
              "            title=\"Convert this dataframe to an interactive table.\"\n",
              "            style=\"display:none;\">\n",
              "\n",
              "  <svg xmlns=\"http://www.w3.org/2000/svg\" height=\"24px\" viewBox=\"0 -960 960 960\">\n",
              "    <path d=\"M120-120v-720h720v720H120Zm60-500h600v-160H180v160Zm220 220h160v-160H400v160Zm0 220h160v-160H400v160ZM180-400h160v-160H180v160Zm440 0h160v-160H620v160ZM180-180h160v-160H180v160Zm440 0h160v-160H620v160Z\"/>\n",
              "  </svg>\n",
              "    </button>\n",
              "\n",
              "  <style>\n",
              "    .colab-df-container {\n",
              "      display:flex;\n",
              "      gap: 12px;\n",
              "    }\n",
              "\n",
              "    .colab-df-convert {\n",
              "      background-color: #E8F0FE;\n",
              "      border: none;\n",
              "      border-radius: 50%;\n",
              "      cursor: pointer;\n",
              "      display: none;\n",
              "      fill: #1967D2;\n",
              "      height: 32px;\n",
              "      padding: 0 0 0 0;\n",
              "      width: 32px;\n",
              "    }\n",
              "\n",
              "    .colab-df-convert:hover {\n",
              "      background-color: #E2EBFA;\n",
              "      box-shadow: 0px 1px 2px rgba(60, 64, 67, 0.3), 0px 1px 3px 1px rgba(60, 64, 67, 0.15);\n",
              "      fill: #174EA6;\n",
              "    }\n",
              "\n",
              "    .colab-df-buttons div {\n",
              "      margin-bottom: 4px;\n",
              "    }\n",
              "\n",
              "    [theme=dark] .colab-df-convert {\n",
              "      background-color: #3B4455;\n",
              "      fill: #D2E3FC;\n",
              "    }\n",
              "\n",
              "    [theme=dark] .colab-df-convert:hover {\n",
              "      background-color: #434B5C;\n",
              "      box-shadow: 0px 1px 3px 1px rgba(0, 0, 0, 0.15);\n",
              "      filter: drop-shadow(0px 1px 2px rgba(0, 0, 0, 0.3));\n",
              "      fill: #FFFFFF;\n",
              "    }\n",
              "  </style>\n",
              "\n",
              "    <script>\n",
              "      const buttonEl =\n",
              "        document.querySelector('#df-9b003df6-bdce-4243-b269-112959db6f75 button.colab-df-convert');\n",
              "      buttonEl.style.display =\n",
              "        google.colab.kernel.accessAllowed ? 'block' : 'none';\n",
              "\n",
              "      async function convertToInteractive(key) {\n",
              "        const element = document.querySelector('#df-9b003df6-bdce-4243-b269-112959db6f75');\n",
              "        const dataTable =\n",
              "          await google.colab.kernel.invokeFunction('convertToInteractive',\n",
              "                                                    [key], {});\n",
              "        if (!dataTable) return;\n",
              "\n",
              "        const docLinkHtml = 'Like what you see? Visit the ' +\n",
              "          '<a target=\"_blank\" href=https://colab.research.google.com/notebooks/data_table.ipynb>data table notebook</a>'\n",
              "          + ' to learn more about interactive tables.';\n",
              "        element.innerHTML = '';\n",
              "        dataTable['output_type'] = 'display_data';\n",
              "        await google.colab.output.renderOutput(dataTable, element);\n",
              "        const docLink = document.createElement('div');\n",
              "        docLink.innerHTML = docLinkHtml;\n",
              "        element.appendChild(docLink);\n",
              "      }\n",
              "    </script>\n",
              "  </div>\n",
              "\n",
              "\n",
              "<div id=\"df-cdf8684a-cb69-4b45-9d71-51da637e4ec3\">\n",
              "  <button class=\"colab-df-quickchart\" onclick=\"quickchart('df-cdf8684a-cb69-4b45-9d71-51da637e4ec3')\"\n",
              "            title=\"Suggest charts\"\n",
              "            style=\"display:none;\">\n",
              "\n",
              "<svg xmlns=\"http://www.w3.org/2000/svg\" height=\"24px\"viewBox=\"0 0 24 24\"\n",
              "     width=\"24px\">\n",
              "    <g>\n",
              "        <path d=\"M19 3H5c-1.1 0-2 .9-2 2v14c0 1.1.9 2 2 2h14c1.1 0 2-.9 2-2V5c0-1.1-.9-2-2-2zM9 17H7v-7h2v7zm4 0h-2V7h2v10zm4 0h-2v-4h2v4z\"/>\n",
              "    </g>\n",
              "</svg>\n",
              "  </button>\n",
              "\n",
              "<style>\n",
              "  .colab-df-quickchart {\n",
              "      --bg-color: #E8F0FE;\n",
              "      --fill-color: #1967D2;\n",
              "      --hover-bg-color: #E2EBFA;\n",
              "      --hover-fill-color: #174EA6;\n",
              "      --disabled-fill-color: #AAA;\n",
              "      --disabled-bg-color: #DDD;\n",
              "  }\n",
              "\n",
              "  [theme=dark] .colab-df-quickchart {\n",
              "      --bg-color: #3B4455;\n",
              "      --fill-color: #D2E3FC;\n",
              "      --hover-bg-color: #434B5C;\n",
              "      --hover-fill-color: #FFFFFF;\n",
              "      --disabled-bg-color: #3B4455;\n",
              "      --disabled-fill-color: #666;\n",
              "  }\n",
              "\n",
              "  .colab-df-quickchart {\n",
              "    background-color: var(--bg-color);\n",
              "    border: none;\n",
              "    border-radius: 50%;\n",
              "    cursor: pointer;\n",
              "    display: none;\n",
              "    fill: var(--fill-color);\n",
              "    height: 32px;\n",
              "    padding: 0;\n",
              "    width: 32px;\n",
              "  }\n",
              "\n",
              "  .colab-df-quickchart:hover {\n",
              "    background-color: var(--hover-bg-color);\n",
              "    box-shadow: 0 1px 2px rgba(60, 64, 67, 0.3), 0 1px 3px 1px rgba(60, 64, 67, 0.15);\n",
              "    fill: var(--button-hover-fill-color);\n",
              "  }\n",
              "\n",
              "  .colab-df-quickchart-complete:disabled,\n",
              "  .colab-df-quickchart-complete:disabled:hover {\n",
              "    background-color: var(--disabled-bg-color);\n",
              "    fill: var(--disabled-fill-color);\n",
              "    box-shadow: none;\n",
              "  }\n",
              "\n",
              "  .colab-df-spinner {\n",
              "    border: 2px solid var(--fill-color);\n",
              "    border-color: transparent;\n",
              "    border-bottom-color: var(--fill-color);\n",
              "    animation:\n",
              "      spin 1s steps(1) infinite;\n",
              "  }\n",
              "\n",
              "  @keyframes spin {\n",
              "    0% {\n",
              "      border-color: transparent;\n",
              "      border-bottom-color: var(--fill-color);\n",
              "      border-left-color: var(--fill-color);\n",
              "    }\n",
              "    20% {\n",
              "      border-color: transparent;\n",
              "      border-left-color: var(--fill-color);\n",
              "      border-top-color: var(--fill-color);\n",
              "    }\n",
              "    30% {\n",
              "      border-color: transparent;\n",
              "      border-left-color: var(--fill-color);\n",
              "      border-top-color: var(--fill-color);\n",
              "      border-right-color: var(--fill-color);\n",
              "    }\n",
              "    40% {\n",
              "      border-color: transparent;\n",
              "      border-right-color: var(--fill-color);\n",
              "      border-top-color: var(--fill-color);\n",
              "    }\n",
              "    60% {\n",
              "      border-color: transparent;\n",
              "      border-right-color: var(--fill-color);\n",
              "    }\n",
              "    80% {\n",
              "      border-color: transparent;\n",
              "      border-right-color: var(--fill-color);\n",
              "      border-bottom-color: var(--fill-color);\n",
              "    }\n",
              "    90% {\n",
              "      border-color: transparent;\n",
              "      border-bottom-color: var(--fill-color);\n",
              "    }\n",
              "  }\n",
              "</style>\n",
              "\n",
              "  <script>\n",
              "    async function quickchart(key) {\n",
              "      const quickchartButtonEl =\n",
              "        document.querySelector('#' + key + ' button');\n",
              "      quickchartButtonEl.disabled = true;  // To prevent multiple clicks.\n",
              "      quickchartButtonEl.classList.add('colab-df-spinner');\n",
              "      try {\n",
              "        const charts = await google.colab.kernel.invokeFunction(\n",
              "            'suggestCharts', [key], {});\n",
              "      } catch (error) {\n",
              "        console.error('Error during call to suggestCharts:', error);\n",
              "      }\n",
              "      quickchartButtonEl.classList.remove('colab-df-spinner');\n",
              "      quickchartButtonEl.classList.add('colab-df-quickchart-complete');\n",
              "    }\n",
              "    (() => {\n",
              "      let quickchartButtonEl =\n",
              "        document.querySelector('#df-cdf8684a-cb69-4b45-9d71-51da637e4ec3 button');\n",
              "      quickchartButtonEl.style.display =\n",
              "        google.colab.kernel.accessAllowed ? 'block' : 'none';\n",
              "    })();\n",
              "  </script>\n",
              "</div>\n",
              "\n",
              "  <div id=\"id_ceff0a69-215a-4512-92fb-3d9e45c99013\">\n",
              "    <style>\n",
              "      .colab-df-generate {\n",
              "        background-color: #E8F0FE;\n",
              "        border: none;\n",
              "        border-radius: 50%;\n",
              "        cursor: pointer;\n",
              "        display: none;\n",
              "        fill: #1967D2;\n",
              "        height: 32px;\n",
              "        padding: 0 0 0 0;\n",
              "        width: 32px;\n",
              "      }\n",
              "\n",
              "      .colab-df-generate:hover {\n",
              "        background-color: #E2EBFA;\n",
              "        box-shadow: 0px 1px 2px rgba(60, 64, 67, 0.3), 0px 1px 3px 1px rgba(60, 64, 67, 0.15);\n",
              "        fill: #174EA6;\n",
              "      }\n",
              "\n",
              "      [theme=dark] .colab-df-generate {\n",
              "        background-color: #3B4455;\n",
              "        fill: #D2E3FC;\n",
              "      }\n",
              "\n",
              "      [theme=dark] .colab-df-generate:hover {\n",
              "        background-color: #434B5C;\n",
              "        box-shadow: 0px 1px 3px 1px rgba(0, 0, 0, 0.15);\n",
              "        filter: drop-shadow(0px 1px 2px rgba(0, 0, 0, 0.3));\n",
              "        fill: #FFFFFF;\n",
              "      }\n",
              "    </style>\n",
              "    <button class=\"colab-df-generate\" onclick=\"generateWithVariable('data')\"\n",
              "            title=\"Generate code using this dataframe.\"\n",
              "            style=\"display:none;\">\n",
              "\n",
              "  <svg xmlns=\"http://www.w3.org/2000/svg\" height=\"24px\"viewBox=\"0 0 24 24\"\n",
              "       width=\"24px\">\n",
              "    <path d=\"M7,19H8.4L18.45,9,17,7.55,7,17.6ZM5,21V16.75L18.45,3.32a2,2,0,0,1,2.83,0l1.4,1.43a1.91,1.91,0,0,1,.58,1.4,1.91,1.91,0,0,1-.58,1.4L9.25,21ZM18.45,9,17,7.55Zm-12,3A5.31,5.31,0,0,0,4.9,8.1,5.31,5.31,0,0,0,1,6.5,5.31,5.31,0,0,0,4.9,4.9,5.31,5.31,0,0,0,6.5,1,5.31,5.31,0,0,0,8.1,4.9,5.31,5.31,0,0,0,12,6.5,5.46,5.46,0,0,0,6.5,12Z\"/>\n",
              "  </svg>\n",
              "    </button>\n",
              "    <script>\n",
              "      (() => {\n",
              "      const buttonEl =\n",
              "        document.querySelector('#id_ceff0a69-215a-4512-92fb-3d9e45c99013 button.colab-df-generate');\n",
              "      buttonEl.style.display =\n",
              "        google.colab.kernel.accessAllowed ? 'block' : 'none';\n",
              "\n",
              "      buttonEl.onclick = () => {\n",
              "        google.colab.notebook.generateWithVariable('data');\n",
              "      }\n",
              "      })();\n",
              "    </script>\n",
              "  </div>\n",
              "\n",
              "    </div>\n",
              "  </div>\n"
            ],
            "application/vnd.google.colaboratory.intrinsic+json": {
              "type": "dataframe",
              "variable_name": "data",
              "summary": "{\n  \"name\": \"data\",\n  \"rows\": 8,\n  \"fields\": [\n    {\n      \"column\": \"regulations\",\n      \"properties\": {\n        \"dtype\": \"string\",\n        \"num_unique_values\": 8,\n        \"samples\": [\n          \"HIPAA\",\n          \"RFPA\",\n          \"COPPA\"\n        ],\n        \"semantic_type\": \"\",\n        \"description\": \"\"\n      }\n    },\n    {\n      \"column\": \"industry\",\n      \"properties\": {\n        \"dtype\": \"string\",\n        \"num_unique_values\": 7,\n        \"samples\": [\n          \"Children\",\n          \"Medical\",\n          \"Digital Media\"\n        ],\n        \"semantic_type\": \"\",\n        \"description\": \"\"\n      }\n    },\n    {\n      \"column\": \"regions\",\n      \"properties\": {\n        \"dtype\": \"category\",\n        \"num_unique_values\": 1,\n        \"samples\": [\n          \"USA\"\n        ],\n        \"semantic_type\": \"\",\n        \"description\": \"\"\n      }\n    },\n    {\n      \"column\": \"links\",\n      \"properties\": {\n        \"dtype\": \"string\",\n        \"num_unique_values\": 8,\n        \"samples\": [\n          \"https://www.cdc.gov/phlp/php/resources/health-insurance-portability-and-accountability-act-of-1996-hipaa.html\"\n        ],\n        \"semantic_type\": \"\",\n        \"description\": \"\"\n      }\n    }\n  ]\n}"
            }
          },
          "metadata": {},
          "execution_count": 5
        }
      ]
    },
    {
      "cell_type": "markdown",
      "source": [
        "### LLM (identify industry)"
      ],
      "metadata": {
        "id": "wnWhXLyv14Zj"
      }
    },
    {
      "cell_type": "code",
      "source": [
        "import os\n",
        "\n",
        "import regex as re\n",
        "import pandas as pd\n",
        "from llama_index.llms.openai import OpenAI\n",
        "from llama_index.core import Settings\n",
        "from llama_index.core import SummaryIndex, VectorStoreIndex\n",
        "from llama_index.readers.web import SimpleWebPageReader\n",
        "from llama_index.core.tools import BaseTool, FunctionTool\n",
        "from llama_index.core.tools import QueryEngineTool, ToolMetadata\n",
        "from llama_index.core.query_engine import SubQuestionQueryEngine\n",
        "from llama_index.core.agent import ReActAgent\n",
        "from IPython.display import Markdown, display\n",
        "from duckduckgo_search import DDGS\n",
        "os.environ[\"OPENAI_API_KEY\"] = \"sk-proj-e20Q6bKuRvBVQBObIFhvT3BlbkFJ3HdudAgJER9AnPxwsgFp\""
      ],
      "metadata": {
        "id": "KyNfRR27ztLY"
      },
      "execution_count": 8,
      "outputs": []
    },
    {
      "cell_type": "code",
      "source": [
        "token = 'sk-proj-e20Q6bKuRvBVQBObIFhvT3BlbkFJ3HdudAgJER9AnPxwsgFp'\n",
        "llm = OpenAI(model=\"gpt-4o\", openai_api_key=token)\n",
        "Settings.llm = llm"
      ],
      "metadata": {
        "id": "yxrCmdbIzy1B"
      },
      "execution_count": 9,
      "outputs": []
    },
    {
      "cell_type": "code",
      "source": [
        "industry_names = ', '.join(list(data['industry']))\n",
        "INDUSTRY_TEMPLATE = \"\"\"\n",
        "    Assistant: I can help determine which industry a user input belongs to. The options are: {industries}, Other. Make sure to include all options.\n",
        "    User: {user_input}\n",
        "    Assistant: The industry that the user input belongs to is (are):\n",
        "    Example:\n",
        "    User: children\n",
        "    Assistant: Children\n",
        "    User: consume\n",
        "    Assistant: Consumption\n",
        "    User: school\n",
        "    Assistant: Education\n",
        "    User: media\n",
        "    Assistant: Digital Media\n",
        "    Now, let's try with your input.\n",
        "    User: {user_input}\n",
        "    Assistant: The industry that the user input belongs to is (are):\n",
        "    \"\"\""
      ],
      "metadata": {
        "id": "uu9isxe3HXR8"
      },
      "execution_count": 20,
      "outputs": []
    },
    {
      "cell_type": "code",
      "source": [
        "def determine_industry(user_input, data = data, api_key = \"sk-proj-e20Q6bKuRvBVQBObIFhvT3BlbkFJ3HdudAgJER9AnPxwsgFp\", temperature=0.3):\n",
        "    # Initialize the OpenAI model with llama-index\n",
        "    llm = OpenAI(model=\"gpt-4o\", openai_api_key=api_key)\n",
        "\n",
        "    industry_names = ', '.join(list(data['industry']))\n",
        "\n",
        "    INDUSTRY_TEMPLATE = \"\"\"\n",
        "    Assistant: I can help determine which industry a user input belongs to. The options are: {industries}, Other. Make sure to include all options.\n",
        "    User: {user_input}\n",
        "    Assistant: The industry that the user input belongs to is (are):\n",
        "    Example:\n",
        "    User: children\n",
        "    Assistant: Children\n",
        "    User: consume\n",
        "    Assistant: Consumption\n",
        "    User: school\n",
        "    Assistant: Education\n",
        "    User: media\n",
        "    Assistant: Digital Media\n",
        "    Now, let's try with your input.\n",
        "    User: {user_input}\n",
        "    Assistant: The industry that the user input belongs to is (are):\n",
        "    \"\"\"\n",
        "\n",
        "    prompt = INDUSTRY_TEMPLATE.format(industries=industry_names, user_input=user_input)\n",
        "\n",
        "    response = llm.complete(prompt=prompt, max_tokens=50, temperature=temperature)\n",
        "\n",
        "    answer = response.text.strip().replace(\"The industry that the user input belongs to is (are):\", \"\").strip()\n",
        "\n",
        "    return answer"
      ],
      "metadata": {
        "id": "f6fQk9px2IyM"
      },
      "execution_count": 22,
      "outputs": []
    },
    {
      "cell_type": "code",
      "source": [
        "def clean_output(text):\n",
        "  return text.split('\\n')[0]"
      ],
      "metadata": {
        "id": "AuoA73JhRipJ"
      },
      "execution_count": 43,
      "outputs": []
    },
    {
      "cell_type": "code",
      "source": [
        "def get_data_regulation_url(data, industry_name):\n",
        "  return data[data['industry'] == industry_name]['links'].tolist()"
      ],
      "metadata": {
        "id": "uIE7k7yGZpYY"
      },
      "execution_count": 29,
      "outputs": []
    },
    {
      "cell_type": "code",
      "source": [
        "def get_industry_regulation_links(user_input, data = data, api_key = \"sk-proj-e20Q6bKuRvBVQBObIFhvT3BlbkFJ3HdudAgJER9AnPxwsgFp\"):\n",
        "    industry = determine_industry(user_input, data, api_key)\n",
        "    industry = clean_output(industry)\n",
        "    industry_list = industry.split(', ') # Assuming regions are comma-separated\n",
        "    links = []\n",
        "    for industry in industry_list:\n",
        "        link = get_data_regulation_url(data, industry)\n",
        "        links += link\n",
        "    return industry_list, links"
      ],
      "metadata": {
        "id": "eyA1PJQL86QA"
      },
      "execution_count": 44,
      "outputs": []
    },
    {
      "cell_type": "code",
      "source": [
        "get_industry_regulation_links(\"media\", data)"
      ],
      "metadata": {
        "colab": {
          "base_uri": "https://localhost:8080/"
        },
        "id": "m73XAYaLQbFw",
        "outputId": "a65bda29-4a3b-4f2c-f3e7-28f65f706a21"
      },
      "execution_count": 48,
      "outputs": [
        {
          "output_type": "execute_result",
          "data": {
            "text/plain": [
              "(['Digital Media'],\n",
              " ['https://www.congress.gov/bill/100th-congress/senate-bill/2361'])"
            ]
          },
          "metadata": {},
          "execution_count": 48
        }
      ]
    },
    {
      "cell_type": "code",
      "source": [
        "get_industry_regulation_links(\"healthcare\", data)"
      ],
      "metadata": {
        "colab": {
          "base_uri": "https://localhost:8080/"
        },
        "id": "WRM0Xyn4RLXY",
        "outputId": "35b52553-1db3-469b-cf27-dfcd67e8b0c8"
      },
      "execution_count": 49,
      "outputs": [
        {
          "output_type": "execute_result",
          "data": {
            "text/plain": [
              "(['Medical'],\n",
              " ['https://www.cdc.gov/phlp/php/resources/health-insurance-portability-and-accountability-act-of-1996-hipaa.html'])"
            ]
          },
          "metadata": {},
          "execution_count": 49
        }
      ]
    },
    {
      "cell_type": "code",
      "source": [
        "get_industry_regulation_links(\"finance\", data)"
      ],
      "metadata": {
        "colab": {
          "base_uri": "https://localhost:8080/"
        },
        "id": "x-90WL4I4tr8",
        "outputId": "c84ce5e6-b71a-4911-90e1-f1aa6214e562"
      },
      "execution_count": 50,
      "outputs": [
        {
          "output_type": "execute_result",
          "data": {
            "text/plain": [
              "(['Finance'],\n",
              " ['https://www.ftc.gov/business-guidance/privacy-security/gramm-leach-bliley-act',\n",
              "  'https://www.fdic.gov/resources/supervision-and-examinations/consumer-compliance-examination-manual/documents/8/viii-3-1.pdf'])"
            ]
          },
          "metadata": {},
          "execution_count": 50
        }
      ]
    },
    {
      "cell_type": "code",
      "source": [
        "get_industry_regulation_links(\"school\", data)"
      ],
      "metadata": {
        "colab": {
          "base_uri": "https://localhost:8080/"
        },
        "id": "IJYI9qO-RMeH",
        "outputId": "09540ed4-7665-4be5-eddc-e754f436ff45"
      },
      "execution_count": 51,
      "outputs": [
        {
          "output_type": "execute_result",
          "data": {
            "text/plain": [
              "(['Education'],\n",
              " ['https://www.disabilityrightssc.org/wp-content/uploads/2021/08/Family-Educational-Rights-and-Privacy-Act-FERPA-2020.pdf'])"
            ]
          },
          "metadata": {},
          "execution_count": 51
        }
      ]
    }
  ]
}