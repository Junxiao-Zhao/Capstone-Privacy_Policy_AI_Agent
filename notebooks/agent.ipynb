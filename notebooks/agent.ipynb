{
 "cells": [
  {
   "cell_type": "code",
   "execution_count": 1,
   "metadata": {},
   "outputs": [],
   "source": [
    "import os\n",
    "\n",
    "import regex as re\n",
    "import pandas as pd\n",
    "from llama_index.llms.openai import OpenAI\n",
    "from llama_index.core import Settings\n",
    "from llama_index.core import SummaryIndex, VectorStoreIndex\n",
    "from llama_index.readers.web import SimpleWebPageReader\n",
    "from llama_index.core.tools import BaseTool, FunctionTool\n",
    "from llama_index.core.tools import QueryEngineTool, ToolMetadata\n",
    "from llama_index.core.query_engine import SubQuestionQueryEngine\n",
    "from llama_index.core.agent import ReActAgent\n",
    "from IPython.display import Markdown, display\n",
    "from duckduckgo_search import DDGS"
   ]
  },
  {
   "cell_type": "markdown",
   "metadata": {},
   "source": [
    "### Syllabus Generator:\n",
    "- input: json (names of regulations)\n",
    "- realize: \n",
    "    1. `SubQuestionQueryEngine` collects regulations\n",
    "    2. llm generate syllabus for each\n",
    "    3. llm merges the syllabus to one\n",
    "- output: Pydantic (sections with bullet-points)\n",
    "\n",
    "### Section Generator:\n",
    "- input: json (section name & templates)\n",
    "- realize: \n",
    "    1. `SubQuestionQueryEngine` collects examples (?)\n",
    "    2. llm generate sections for each based on examples, input templates, bullet points from regulations\n",
    "    3. call judge generator\n",
    "    4. if not pass, call sections modify\n",
    "- output: json (success, sections)\n",
    "\n",
    "### Section Modify:\n",
    "- input: str (generated sections), str (suggestions), str (bullet points from syllabus)\n",
    "- realize: \n",
    "    1. for loop\n",
    "    2. let llm regenerate\n",
    "    3. call judge generator\n",
    "    4. if pass, break; else, continue\n",
    "- output: json (success, sections)\n",
    "\n",
    "### Judge Generator:\n",
    "- input: str (generated section), section name, regulation names\n",
    "- realize: use law model to judge the sections\n",
    "- output: json (pass, suggestions)\n"
   ]
  },
  {
   "cell_type": "markdown",
   "metadata": {},
   "source": [
    "1. 用户输入信息，填入预设模板 (template)\n",
    "2. template传到后端，作为模型输入\n",
    "3. 模型输出完整的隐私协议session，传回前端 (template)\n",
    "4. 当用户提出修改意见之后，将template和修改意见传回后端"
   ]
  },
  {
   "cell_type": "code",
   "execution_count": 2,
   "metadata": {},
   "outputs": [],
   "source": [
    "import nest_asyncio\n",
    "\n",
    "nest_asyncio.apply()"
   ]
  },
  {
   "cell_type": "code",
   "execution_count": 3,
   "metadata": {},
   "outputs": [],
   "source": [
    "llm = OpenAI(model=\"gpt-4o\")\n",
    "Settings.llm = llm"
   ]
  },
  {
   "cell_type": "markdown",
   "metadata": {},
   "source": [
    "## [Step-by-Step Guide To Writing Your Privacy Policy](https://termly.io/resources/guides/how-to-write-a-privacy-policy/)\n",
    "\n",
    "- **Step 1: Data Privacy Laws.** First, take the time to verify what data privacy legislation applies to your business and familiarize yourself with all guidelines and legal obligations that affect your privacy policy and practices\n",
    "- **Step 2: Privacy audit.** Then perform a thorough privacy audit on your platform to determine and record every piece of personal information you collect from users, including through internet cookies or other trackers\n",
    "- **Step 3: Categories of personal information.** Next, determine which categories of personal data you collect under the data privacy regulations your business must follow; this may include sensitive personal information which is subject to stricter guidelines under laws like the amended CCPA and the CDPA\n",
    "- **Step 4: Why you collect personal data.** You now need to determine and record your legal basis for why you collect each piece of personal data, which may be subject to legal guidelines if you fall under regulations like the GDPR\n",
    "- **Step 5: How you collect the data.** Afterward, you also must note how you plan on collecting each piece of personal data and explain those practices clearly and straightforwardly in your privacy policy\n",
    "- **Step 6: How you use the personal data.** Under legislation like the GDPR and amended CCPA, you also need to state how you use personal data, including if it’s shared or sold to any third parties, so clearly describe if this is the case or not\n",
    "- **Step 7: Safety and security practices.** You also must include a clause in your privacy policy explaining how you plan to keep your users’ personal information stored safely and securely per regulations like the GDPR and the amended CCPA"
   ]
  },
  {
   "cell_type": "markdown",
   "metadata": {},
   "source": [
    "## Privacy Policies from large companies as Examples"
   ]
  },
  {
   "cell_type": "code",
   "execution_count": 4,
   "metadata": {},
   "outputs": [],
   "source": [
    "policies = pd.read_csv(\"../privacy_policies.csv\")\n",
    "policies.drop_duplicates(subset=[\"link\"], inplace=True, ignore_index=True)"
   ]
  },
  {
   "cell_type": "code",
   "execution_count": 15,
   "metadata": {},
   "outputs": [
    {
     "data": {
      "text/html": [
       "<div>\n",
       "<style scoped>\n",
       "    .dataframe tbody tr th:only-of-type {\n",
       "        vertical-align: middle;\n",
       "    }\n",
       "\n",
       "    .dataframe tbody tr th {\n",
       "        vertical-align: top;\n",
       "    }\n",
       "\n",
       "    .dataframe thead th {\n",
       "        text-align: right;\n",
       "    }\n",
       "</style>\n",
       "<table border=\"1\" class=\"dataframe\">\n",
       "  <thead>\n",
       "    <tr style=\"text-align: right;\">\n",
       "      <th></th>\n",
       "      <th>name</th>\n",
       "      <th>model</th>\n",
       "      <th>link</th>\n",
       "    </tr>\n",
       "  </thead>\n",
       "  <tbody>\n",
       "    <tr>\n",
       "      <th>0</th>\n",
       "      <td>Google Analytics</td>\n",
       "      <td>google</td>\n",
       "      <td>https://policies.google.com/privacy</td>\n",
       "    </tr>\n",
       "    <tr>\n",
       "      <th>1</th>\n",
       "      <td>Google Analytics for Firebase</td>\n",
       "      <td>firebase</td>\n",
       "      <td>https://firebase.google.com/policies/analytics</td>\n",
       "    </tr>\n",
       "    <tr>\n",
       "      <th>2</th>\n",
       "      <td>Twitter</td>\n",
       "      <td>twitter</td>\n",
       "      <td>https://twitter.com/privacy</td>\n",
       "    </tr>\n",
       "    <tr>\n",
       "      <th>3</th>\n",
       "      <td>Facebook</td>\n",
       "      <td>facebook</td>\n",
       "      <td>https://www.facebook.com/about/privacy/</td>\n",
       "    </tr>\n",
       "    <tr>\n",
       "      <th>4</th>\n",
       "      <td>WhatsApp</td>\n",
       "      <td>whatsapp</td>\n",
       "      <td>https://www.whatsapp.com/legal/privacy-policy/</td>\n",
       "    </tr>\n",
       "    <tr>\n",
       "      <th>5</th>\n",
       "      <td>Instagram</td>\n",
       "      <td>insta</td>\n",
       "      <td>https://help.instagram.com/519522125107875</td>\n",
       "    </tr>\n",
       "    <tr>\n",
       "      <th>6</th>\n",
       "      <td>Messenger</td>\n",
       "      <td>msgr</td>\n",
       "      <td>https://www.messenger.com/privacy</td>\n",
       "    </tr>\n",
       "    <tr>\n",
       "      <th>7</th>\n",
       "      <td>Disqus</td>\n",
       "      <td>disqus</td>\n",
       "      <td>https://help.disqus.com/en/articles/1717103-di...</td>\n",
       "    </tr>\n",
       "    <tr>\n",
       "      <th>8</th>\n",
       "      <td>Microsoft Clarity</td>\n",
       "      <td>clarity</td>\n",
       "      <td>https://privacy.microsoft.com/en-gb/privacysta...</td>\n",
       "    </tr>\n",
       "    <tr>\n",
       "      <th>9</th>\n",
       "      <td>Matomo</td>\n",
       "      <td>matomo</td>\n",
       "      <td>https://matomo.org/privacy-policy/</td>\n",
       "    </tr>\n",
       "    <tr>\n",
       "      <th>10</th>\n",
       "      <td>Statcounter</td>\n",
       "      <td>statcounter</td>\n",
       "      <td>https://statcounter.com/about/legal/</td>\n",
       "    </tr>\n",
       "    <tr>\n",
       "      <th>11</th>\n",
       "      <td>Fathom Analytics</td>\n",
       "      <td>fathom</td>\n",
       "      <td>https://usefathom.com/privacy/</td>\n",
       "    </tr>\n",
       "    <tr>\n",
       "      <th>12</th>\n",
       "      <td>Yandex.Metrika</td>\n",
       "      <td>yandex</td>\n",
       "      <td>https://yandex.com/legal/privacy/</td>\n",
       "    </tr>\n",
       "    <tr>\n",
       "      <th>13</th>\n",
       "      <td>Hubspot</td>\n",
       "      <td>hubspot</td>\n",
       "      <td>https://legal.hubspot.com/privacy-policy</td>\n",
       "    </tr>\n",
       "    <tr>\n",
       "      <th>14</th>\n",
       "      <td>Mixpanel</td>\n",
       "      <td>mixpanel</td>\n",
       "      <td>https://mixpanel.com/legal/privacy-policy/</td>\n",
       "    </tr>\n",
       "  </tbody>\n",
       "</table>\n",
       "</div>"
      ],
      "text/plain": [
       "                             name        model   \n",
       "0                Google Analytics       google  \\\n",
       "1   Google Analytics for Firebase     firebase   \n",
       "2                         Twitter      twitter   \n",
       "3                        Facebook     facebook   \n",
       "4                        WhatsApp     whatsapp   \n",
       "5                       Instagram        insta   \n",
       "6                       Messenger         msgr   \n",
       "7                          Disqus       disqus   \n",
       "8               Microsoft Clarity      clarity   \n",
       "9                          Matomo       matomo   \n",
       "10                    Statcounter  statcounter   \n",
       "11               Fathom Analytics       fathom   \n",
       "12                 Yandex.Metrika       yandex   \n",
       "13                        Hubspot      hubspot   \n",
       "14                       Mixpanel     mixpanel   \n",
       "\n",
       "                                                 link  \n",
       "0                 https://policies.google.com/privacy  \n",
       "1      https://firebase.google.com/policies/analytics  \n",
       "2                         https://twitter.com/privacy  \n",
       "3             https://www.facebook.com/about/privacy/  \n",
       "4      https://www.whatsapp.com/legal/privacy-policy/  \n",
       "5          https://help.instagram.com/519522125107875  \n",
       "6                   https://www.messenger.com/privacy  \n",
       "7   https://help.disqus.com/en/articles/1717103-di...  \n",
       "8   https://privacy.microsoft.com/en-gb/privacysta...  \n",
       "9                  https://matomo.org/privacy-policy/  \n",
       "10               https://statcounter.com/about/legal/  \n",
       "11                     https://usefathom.com/privacy/  \n",
       "12                  https://yandex.com/legal/privacy/  \n",
       "13           https://legal.hubspot.com/privacy-policy  \n",
       "14         https://mixpanel.com/legal/privacy-policy/  "
      ]
     },
     "execution_count": 15,
     "metadata": {},
     "output_type": "execute_result"
    }
   ],
   "source": [
    "policies"
   ]
  },
  {
   "cell_type": "code",
   "execution_count": 5,
   "metadata": {},
   "outputs": [],
   "source": [
    "companies_documents = SimpleWebPageReader(html_to_text=True).load_data(\n",
    "    policies['link'].to_list())"
   ]
  },
  {
   "cell_type": "code",
   "execution_count": 6,
   "metadata": {},
   "outputs": [],
   "source": [
    "policies_query_tool = [\n",
    "    QueryEngineTool(\n",
    "        query_engine=VectorStoreIndex.from_documents([companies_documents[i]\n",
    "                                                      ]).as_query_engine(),\n",
    "        metadata=ToolMetadata(\n",
    "            name=f\"privacy_policy_for_{policies.loc[i, 'name']}\",\n",
    "            description=(\"useful for when you want to know \"\n",
    "                         f\"{policies.loc[i, 'name']}'s privacy policy\"),\n",
    "        ),\n",
    "    ) for i in range(len(companies_documents))\n",
    "]"
   ]
  },
  {
   "cell_type": "code",
   "execution_count": 7,
   "metadata": {},
   "outputs": [],
   "source": [
    "policies_query_engine = SubQuestionQueryEngine.from_defaults(\n",
    "    query_engine_tools=policies_query_tool)"
   ]
  },
  {
   "cell_type": "code",
   "execution_count": 8,
   "metadata": {},
   "outputs": [],
   "source": [
    "privacy_query_engine_tool = QueryEngineTool(\n",
    "    query_engine=policies_query_engine,\n",
    "    metadata=ToolMetadata(\n",
    "        name=\"sub_question_query_engine_for_privacy_policies\",\n",
    "        description=\n",
    "        (\"useful for when you want to answer queries that require analyzing\"\n",
    "         f\" multiple privacy policies from different companies, including: {', '.join(policies['name'].to_list())}\"\n",
    "         ),\n",
    "    ),\n",
    ")"
   ]
  },
  {
   "cell_type": "markdown",
   "metadata": {},
   "source": [
    "## Regulations"
   ]
  },
  {
   "cell_type": "code",
   "execution_count": 4,
   "metadata": {},
   "outputs": [],
   "source": [
    "euro_dgpr_query_tool = QueryEngineTool(\n",
    "    query_engine=VectorStoreIndex.from_documents(\n",
    "        SimpleWebPageReader(html_to_text=True).load_data([\n",
    "            'https://eur-lex.europa.eu/legal-content/EN/TXT/HTML/?uri=CELEX:32016L0680'\n",
    "        ])).as_query_engine(),\n",
    "    metadata=ToolMetadata(\n",
    "        name=\"euro_dgpr_query_tool\",\n",
    "        description=\n",
    "        \"useful for when you want to know about the European General Data Protection Regulation\",\n",
    "    ),\n",
    ")"
   ]
  },
  {
   "cell_type": "code",
   "execution_count": 5,
   "metadata": {},
   "outputs": [
    {
     "data": {
      "text/markdown": [
       "<b>To write a privacy policy compliant with the European GDPR, you need to follow these core principles:\n",
       "\n",
       "1. **Data Protection by Design and by Default**: Implement appropriate technical and organizational measures to ensure data protection principles such as data minimization are integrated into processing activities.\n",
       "\n",
       "2. **Transparency and Joint Controllers**: Clearly define and communicate the responsibilities of joint controllers, if applicable, and ensure transparency in the processing activities.\n",
       "\n",
       "3. **Processor Requirements**: Use only processors that provide sufficient guarantees to implement appropriate measures and ensure compliance with GDPR. Ensure processors act only on instructions from the controller and maintain confidentiality.\n",
       "\n",
       "4. **Records of Processing Activities**: Maintain detailed records of all processing activities, including the purposes of processing, categories of data subjects, recipients of data, and security measures.\n",
       "\n",
       "5. **Logging**: Keep logs of key processing operations to ensure the integrity and security of personal data and to verify the lawfulness of processing.\n",
       "\n",
       "6. **Cooperation with Supervisory Authorities**: Be prepared to cooperate with supervisory authorities upon request.\n",
       "\n",
       "7. **Data Protection Impact Assessment**: Conduct an impact assessment for processing activities that are likely to result in high risks to the rights and freedoms of individuals, especially when using new technologies.\n",
       "\n",
       "By adhering to these principles, you can ensure that your privacy policy aligns with GDPR requirements and adequately protects the rights of data subjects.</b>"
      ],
      "text/plain": [
       "<IPython.core.display.Markdown object>"
      ]
     },
     "metadata": {},
     "output_type": "display_data"
    }
   ],
   "source": [
    "output = euro_dgpr_query_tool.query_engine.query(\n",
    "    \"To write a privacy policy compliant with the European GDPR, what are the core principles I need to follow?\"\n",
    ")\n",
    "display(Markdown(f\"<b>{output.response}</b>\"))"
   ]
  },
  {
   "cell_type": "code",
   "execution_count": 14,
   "metadata": {},
   "outputs": [
    {
     "data": {
      "text/markdown": [
       "<b>To write a privacy policy compliant with the European GDPR, the following sections should be included, along with the key points to be covered in each section:\n",
       "\n",
       "1. **Introduction**\n",
       "   - Purpose of the privacy policy.\n",
       "   - Overview of the organization's commitment to data protection.\n",
       "\n",
       "2. **Identity and Contact Details of the Controller**\n",
       "   - Name and contact details of the data controller.\n",
       "   - Contact details of the data protection officer, if applicable.\n",
       "\n",
       "3. **Data Collection and Use**\n",
       "   - Types of personal data collected.\n",
       "   - Purposes for which the personal data are processed.\n",
       "   - Legal basis for processing the data.\n",
       "\n",
       "4. **Data Subject Rights**\n",
       "   - Right to access personal data.\n",
       "   - Right to rectification or erasure of personal data.\n",
       "   - Right to restrict processing.\n",
       "   - Right to data portability.\n",
       "   - Right to object to processing.\n",
       "   - Right to lodge a complaint with a supervisory authority.\n",
       "\n",
       "5. **Data Sharing and Transfers**\n",
       "   - Categories of recipients of personal data.\n",
       "   - Information on transfers of personal data to third countries or international organizations.\n",
       "   - Safeguards in place for international data transfers.\n",
       "\n",
       "6. **Data Retention**\n",
       "   - Period for which personal data will be stored.\n",
       "   - Criteria used to determine the retention period if the exact period is not specified.\n",
       "\n",
       "7. **Security Measures**\n",
       "   - General description of technical and organizational security measures in place to protect personal data.\n",
       "\n",
       "8. **Automated Decision-Making and Profiling**\n",
       "   - Information on the use of automated decision-making, including profiling.\n",
       "   - Logic involved and potential consequences for the data subject.\n",
       "\n",
       "9. **Cookies and Tracking Technologies**\n",
       "   - Types of cookies and tracking technologies used.\n",
       "   - Purposes for using cookies and tracking technologies.\n",
       "   - How users can manage or disable cookies.\n",
       "\n",
       "10. **Changes to the Privacy Policy**\n",
       "    - How changes to the privacy policy will be communicated to data subjects.\n",
       "    - Effective date of the privacy policy.\n",
       "\n",
       "11. **Contact Information**\n",
       "    - How data subjects can contact the organization for questions or concerns regarding the privacy policy.\n",
       "\n",
       "Each section should be clearly written and easily understandable to ensure transparency and compliance with GDPR requirements.</b>"
      ],
      "text/plain": [
       "<IPython.core.display.Markdown object>"
      ]
     },
     "metadata": {},
     "output_type": "display_data"
    }
   ],
   "source": [
    "output = euro_dgpr_query_tool.query_engine.query(\n",
    "    \"To write a privacy policy compliant with the European GDPR, what sections should it include? And for each section, what key points should be covered?\"\n",
    ")\n",
    "display(Markdown(f\"<b>{output.response}</b>\"))"
   ]
  },
  {
   "cell_type": "code",
   "execution_count": 12,
   "metadata": {},
   "outputs": [],
   "source": [
    "instance = DDGS()\n",
    "methods = [\n",
    "    FunctionTool.from_defaults(fn=getattr(instance, method),\n",
    "                               description=re.match(\n",
    "                                   r\"^(.*?)(?:\\bRaises:\\n|$)\",\n",
    "                                   getattr(instance, method).__doc__,\n",
    "                                   re.DOTALL).group(1).strip())\n",
    "    for method in ['text']  # dir(instance)\n",
    "    if callable(getattr(instance, method)) and not method.startswith(\"_\")\n",
    "]\n",
    "methods = list(filter(lambda x: len(x.metadata.description) <= 1024, methods))"
   ]
  },
  {
   "cell_type": "code",
   "execution_count": 10,
   "metadata": {},
   "outputs": [],
   "source": [
    "agent = ReActAgent.from_tools(\n",
    "    [privacy_query_engine_tool, euro_dgpr_query_tool],\n",
    "    llm=llm,\n",
    "    verbose=True,\n",
    "    # context=context\n",
    ")"
   ]
  },
  {
   "cell_type": "code",
   "execution_count": 14,
   "metadata": {},
   "outputs": [
    {
     "name": "stdout",
     "output_type": "stream",
     "text": [
      "\u001b[1;3;38;5;200mThought: The current language of the user is: English. I need to use a tool to help me answer the question.\n",
      "Action: sub_question_query_engine_for_privacy_policies\n",
      "Action Input: {'input': 'introduction part of the privacy policy for Google Analytics, Facebook, and Twitter'}\n",
      "\u001b[0mGenerated 3 sub questions.\n",
      "\u001b[1;3;38;2;237;90;200m[privacy_policy_for_Google Analytics] Q: What is the introduction part of the privacy policy for Google Analytics?\n",
      "\u001b[0m\u001b[1;3;38;2;90;149;237m[privacy_policy_for_Facebook] Q: What is the introduction part of the privacy policy for Facebook?\n",
      "\u001b[0m\u001b[1;3;38;2;11;159;203m[privacy_policy_for_Twitter] Q: What is the introduction part of the privacy policy for Twitter?\n",
      "\u001b[0m\u001b[1;3;38;2;90;149;237m[privacy_policy_for_Facebook] A: Empty Response\n",
      "\u001b[0m\u001b[1;3;38;2;237;90;200m[privacy_policy_for_Google Analytics] A: The introduction part of the privacy policy for Google Analytics is not explicitly provided in the given information. The context includes general details about Google's privacy policy, the types of information collected, and how it is used, but it does not specifically address Google Analytics.\n",
      "\u001b[0m\u001b[1;3;38;2;11;159;203m[privacy_policy_for_Twitter] A: The introduction part of the privacy policy for Twitter emphasizes the challenge of making a Privacy Policy that satisfies everyone. It highlights the need to balance simplicity and comprehensiveness to meet legal obligations. The policy aims to empower users by ensuring they understand and control the information collected, how it is used, and when it is shared. Key points include that Twitter is a public platform, data collection practices, affiliate services having their own policies, the use of data to improve the platform, user control over their experience, and how to contact Twitter with questions about data usage.\n",
      "\u001b[0m\u001b[1;3;34mObservation: The introduction part of the privacy policy for Google Analytics is not explicitly provided. For Twitter, the introduction emphasizes the challenge of creating a Privacy Policy that balances simplicity and comprehensiveness to meet legal obligations, aiming to empower users with understanding and control over their information. The introduction part of the privacy policy for Facebook is not provided.\n",
      "\u001b[0m\u001b[1;3;38;5;200mThought: I have gathered some information from Twitter's privacy policy introduction. I will now use this information to generate an introduction part for a privacy policy that is compliant with the European General Data Protection Regulation (GDPR).\n",
      "Answer: ---\n",
      "\n",
      "**Privacy Policy Introduction**\n",
      "\n",
      "**Purpose of the Privacy Policy**\n",
      "\n",
      "Welcome to [Your Organization]'s Privacy Policy. This document outlines how we collect, use, and protect your personal data when you interact with our services. Our goal is to provide you with clear and transparent information about our data practices, ensuring you have the knowledge and control over your personal information.\n",
      "\n",
      "**Our Commitment to Data Protection**\n",
      "\n",
      "At [Your Organization], we are committed to safeguarding your privacy and ensuring the security of your personal data. We adhere to the principles of the European General Data Protection Regulation (GDPR), which mandates strict guidelines for data protection and privacy. Our dedication to these principles reflects our commitment to maintaining your trust and confidence in our services. We strive to balance simplicity and comprehensiveness in our privacy practices, empowering you with the understanding and control necessary to manage your personal information effectively.\n",
      "\n",
      "---\n",
      "\u001b[0m"
     ]
    },
    {
     "data": {
      "text/markdown": [
       "<b>---\n",
       "\n",
       "**Privacy Policy Introduction**\n",
       "\n",
       "**Purpose of the Privacy Policy**\n",
       "\n",
       "Welcome to [Your Organization]'s Privacy Policy. This document outlines how we collect, use, and protect your personal data when you interact with our services. Our goal is to provide you with clear and transparent information about our data practices, ensuring you have the knowledge and control over your personal information.\n",
       "\n",
       "**Our Commitment to Data Protection**\n",
       "\n",
       "At [Your Organization], we are committed to safeguarding your privacy and ensuring the security of your personal data. We adhere to the principles of the European General Data Protection Regulation (GDPR), which mandates strict guidelines for data protection and privacy. Our dedication to these principles reflects our commitment to maintaining your trust and confidence in our services. We strive to balance simplicity and comprehensiveness in our privacy practices, empowering you with the understanding and control necessary to manage your personal information effectively.\n",
       "\n",
       "---</b>"
      ],
      "text/plain": [
       "<IPython.core.display.Markdown object>"
      ]
     },
     "metadata": {},
     "output_type": "display_data"
    }
   ],
   "source": [
    "agent.reset()\n",
    "output = agent.chat(\n",
    "    f\"\"\"Help me generate the introduction part for a privacy policy that is compliant with the European General Data Protection Regulation.\n",
    "    \n",
    "    Note for such an introduction, it should include the following contents:\n",
    "    - Purpose of the privacy policy;\n",
    "    - Overview of the organization's commitment to data protection.\n",
    "\n",
    "    You can use the introduction part in privacy policies of those large companies as references.\n",
    "    These companies are: {', '.join(policies['name'].to_list())}.\n",
    "    Do not select more than 3 companies.\n",
    "\n",
    "    Also note that only generate the introduction part for the privacy policy. No need to include information that should be presented other sections.\n",
    "    In the output, do not add any comments or unnecessary information.\n",
    "    \"\"\")\n",
    "\n",
    "display(Markdown(f\"<b>{output.response}</b>\"))"
   ]
  },
  {
   "cell_type": "code",
   "execution_count": null,
   "metadata": {},
   "outputs": [],
   "source": []
  },
  {
   "cell_type": "code",
   "execution_count": null,
   "metadata": {},
   "outputs": [],
   "source": []
  },
  {
   "cell_type": "code",
   "execution_count": 15,
   "metadata": {},
   "outputs": [],
   "source": [
    "# define prompt viewing function\n",
    "def display_prompt_dict(prompts_dict):\n",
    "    for k, p in prompts_dict.items():\n",
    "        text_md = f\"**Prompt Key**: {k}\" f\"**Text:** \"\n",
    "        display(Markdown(text_md))\n",
    "        print(p.get_template())\n",
    "        display(Markdown(\"\"))"
   ]
  },
  {
   "cell_type": "code",
   "execution_count": 16,
   "metadata": {},
   "outputs": [
    {
     "data": {
      "text/markdown": [
       "**Prompt Key**: agent_worker:system_prompt**Text:** "
      ],
      "text/plain": [
       "<IPython.core.display.Markdown object>"
      ]
     },
     "metadata": {},
     "output_type": "display_data"
    },
    {
     "name": "stdout",
     "output_type": "stream",
     "text": [
      "You are designed to help with a variety of tasks, from answering questions to providing summaries to other types of analyses.\n",
      "\n",
      "## Tools\n",
      "\n",
      "You have access to a wide variety of tools. You are responsible for using the tools in any sequence you deem appropriate to complete the task at hand.\n",
      "This may require breaking the task into subtasks and using different tools to complete each subtask.\n",
      "\n",
      "You have access to the following tools:\n",
      "{tool_desc}\n",
      "\n",
      "\n",
      "## Output Format\n",
      "\n",
      "Please answer in the same language as the question and use the following format:\n",
      "\n",
      "```\n",
      "Thought: The current language of the user is: (user's language). I need to use a tool to help me answer the question.\n",
      "Action: tool name (one of {tool_names}) if using a tool.\n",
      "Action Input: the input to the tool, in a JSON format representing the kwargs (e.g. {{\"input\": \"hello world\", \"num_beams\": 5}})\n",
      "```\n",
      "\n",
      "Please ALWAYS start with a Thought.\n",
      "\n",
      "Please use a valid JSON format for the Action Input. Do NOT do this {{'input': 'hello world', 'num_beams': 5}}.\n",
      "\n",
      "If this format is used, the user will respond in the following format:\n",
      "\n",
      "```\n",
      "Observation: tool response\n",
      "```\n",
      "\n",
      "You should keep repeating the above format till you have enough information to answer the question without using any more tools. At that point, you MUST respond in the one of the following two formats:\n",
      "\n",
      "```\n",
      "Thought: I can answer without using any more tools. I'll use the user's language to answer\n",
      "Answer: [your answer here (In the same language as the user's question)]\n",
      "```\n",
      "\n",
      "```\n",
      "Thought: I cannot answer the question with the provided tools.\n",
      "Answer: [your answer here (In the same language as the user's question)]\n",
      "```\n",
      "\n",
      "## Current Conversation\n",
      "\n",
      "Below is the current conversation consisting of interleaving human and assistant messages.\n",
      "\n"
     ]
    },
    {
     "data": {
      "text/markdown": [],
      "text/plain": [
       "<IPython.core.display.Markdown object>"
      ]
     },
     "metadata": {},
     "output_type": "display_data"
    }
   ],
   "source": [
    "display_prompt_dict(agent.get_prompts())"
   ]
  }
 ],
 "metadata": {
  "kernelspec": {
   "display_name": "base",
   "language": "python",
   "name": "python3"
  },
  "language_info": {
   "codemirror_mode": {
    "name": "ipython",
    "version": 3
   },
   "file_extension": ".py",
   "mimetype": "text/x-python",
   "name": "python",
   "nbconvert_exporter": "python",
   "pygments_lexer": "ipython3",
   "version": "3.10.13"
  }
 },
 "nbformat": 4,
 "nbformat_minor": 2
}
