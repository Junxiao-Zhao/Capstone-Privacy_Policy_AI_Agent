{
 "cells": [
  {
   "cell_type": "code",
   "execution_count": 1,
   "metadata": {},
   "outputs": [],
   "source": [
    "import os\n",
    "\n",
    "import regex as re\n",
    "import pandas as pd\n",
    "from llama_index.llms.openai import OpenAI\n",
    "from llama_index.core import Settings\n",
    "from llama_index.core import SummaryIndex, VectorStoreIndex\n",
    "from llama_index.readers.web import SimpleWebPageReader\n",
    "from llama_index.core.tools import BaseTool, FunctionTool\n",
    "from llama_index.core.tools import QueryEngineTool, ToolMetadata\n",
    "from llama_index.core.query_engine import SubQuestionQueryEngine\n",
    "from llama_index.core.agent import ReActAgent\n",
    "from IPython.display import Markdown, display\n",
    "from duckduckgo_search import DDGS"
   ]
  },
  {
   "cell_type": "code",
   "execution_count": 2,
   "metadata": {},
   "outputs": [],
   "source": [
    "import nest_asyncio\n",
    "\n",
    "nest_asyncio.apply()"
   ]
  },
  {
   "cell_type": "code",
   "execution_count": 3,
   "metadata": {},
   "outputs": [],
   "source": [
    "llm = OpenAI(model=\"gpt-4o\")\n",
    "Settings.llm = llm"
   ]
  },
  {
   "cell_type": "code",
   "execution_count": 4,
   "metadata": {},
   "outputs": [],
   "source": [
    "policies = pd.read_csv(\"./privacy_policies.csv\")\n",
    "policies.drop_duplicates(subset=[\"link\"], inplace=True, ignore_index=True)"
   ]
  },
  {
   "cell_type": "code",
   "execution_count": 10,
   "metadata": {},
   "outputs": [
    {
     "data": {
      "text/plain": [
       "Index(['name', 'model', 'link'], dtype='object')"
      ]
     },
     "execution_count": 10,
     "metadata": {},
     "output_type": "execute_result"
    }
   ],
   "source": [
    "policies.columns"
   ]
  },
  {
   "cell_type": "code",
   "execution_count": 5,
   "metadata": {},
   "outputs": [],
   "source": [
    "companies_documents = SimpleWebPageReader(html_to_text=True).load_data(\n",
    "    policies['link'].to_list())"
   ]
  },
  {
   "cell_type": "code",
   "execution_count": 6,
   "metadata": {},
   "outputs": [],
   "source": [
    "policies_query_tool = [\n",
    "    QueryEngineTool(\n",
    "        query_engine=VectorStoreIndex.from_documents([companies_documents[i]\n",
    "                                                      ]).as_query_engine(),\n",
    "        metadata=ToolMetadata(\n",
    "            name=f\"privacy_policy_for_{policies.loc[i, 'name']}\",\n",
    "            description=(\"useful for when you want to know \"\n",
    "                         f\"{policies.loc[i, 'name']}'s privacy policy\"),\n",
    "        ),\n",
    "    ) for i in range(len(companies_documents))\n",
    "]"
   ]
  },
  {
   "cell_type": "code",
   "execution_count": 7,
   "metadata": {},
   "outputs": [],
   "source": [
    "policies_query_engine = SubQuestionQueryEngine.from_defaults(\n",
    "    query_engine_tools=policies_query_tool)"
   ]
  },
  {
   "cell_type": "code",
   "execution_count": 8,
   "metadata": {},
   "outputs": [],
   "source": [
    "privacy_query_engine_tool = QueryEngineTool(\n",
    "    query_engine=policies_query_engine,\n",
    "    metadata=ToolMetadata(\n",
    "        name=\"sub_question_query_engine_for_privacy_policies\",\n",
    "        description=(\n",
    "            \"useful for when you want to answer queries that require analyzing\"\n",
    "            \" multiple privacy policies from different companies\"),\n",
    "    ),\n",
    ")"
   ]
  },
  {
   "cell_type": "code",
   "execution_count": 10,
   "metadata": {},
   "outputs": [],
   "source": [
    "euro_dgpr_query_tool = QueryEngineTool(\n",
    "    query_engine=VectorStoreIndex.from_documents(\n",
    "        SimpleWebPageReader(html_to_text=True).load_data([\n",
    "            'https://eur-lex.europa.eu/legal-content/EN/TXT/HTML/?uri=CELEX:32016L0680'\n",
    "        ])).as_query_engine(),\n",
    "    metadata=ToolMetadata(\n",
    "        name=\"euro_dgpr_query_tool\",\n",
    "        description=\n",
    "        \"useful for when you want to know about the European General Data Protection Regulation\",\n",
    "    ),\n",
    ")"
   ]
  },
  {
   "cell_type": "code",
   "execution_count": 9,
   "metadata": {},
   "outputs": [],
   "source": [
    "instance = DDGS()\n",
    "methods = [\n",
    "    FunctionTool.from_defaults(fn=getattr(instance, method),\n",
    "                               description=re.match(\n",
    "                                   r\"^(.*?)(?:\\bRaises:\\n|$)\",\n",
    "                                   getattr(instance, method).__doc__,\n",
    "                                   re.DOTALL).group(1).strip())\n",
    "    for method in ['text']  # dir(instance)\n",
    "    if callable(getattr(instance, method)) and not method.startswith(\"_\")\n",
    "]\n",
    "methods = list(filter(lambda x: len(x.metadata.description) <= 1024, methods))"
   ]
  },
  {
   "cell_type": "code",
   "execution_count": 11,
   "metadata": {},
   "outputs": [],
   "source": [
    "agent = ReActAgent.from_tools(\n",
    "    [privacy_query_engine_tool, euro_dgpr_query_tool],\n",
    "    llm=llm,\n",
    "    verbose=True,\n",
    "    # context=context\n",
    ")"
   ]
  },
  {
   "cell_type": "code",
   "execution_count": 12,
   "metadata": {},
   "outputs": [
    {
     "name": "stdout",
     "output_type": "stream",
     "text": [
      "\u001b[1;3;38;5;200mThought: The current language of the user is English. I need to use a tool to help me answer the question.\n",
      "Action: euro_dgpr_query_tool\n",
      "Action Input: {'input': 'European General Data Protection Regulation requirements for a privacy policy'}\n",
      "\u001b[0m\u001b[1;3;34mObservation: The European General Data Protection Regulation (GDPR) requires that a privacy policy must be clear, concise, and easily accessible. It should use plain language to ensure that data subjects can understand it. The policy must include information about the processing of personal data, the purposes of the processing, and the legal basis for it. It should also inform data subjects about their rights, such as the right to access, rectify, and erase their data, as well as the right to object to processing and the right to data portability. Additionally, the privacy policy should outline the measures taken to protect personal data and provide contact details for the data protection officer or other relevant contact points.\n",
      "\u001b[0m\u001b[1;3;38;5;200mThought: I have gathered the necessary requirements for a GDPR-compliant privacy policy. Now, I need to use Microsoft's privacy policy as a reference to generate a full privacy policy for the PDF edit tool project.\n",
      "Action: sub_question_query_engine_for_privacy_policies\n",
      "Action Input: {'input': \"Microsoft's privacy policy\"}\n",
      "\u001b[0mGenerated 1 sub questions.\n",
      "\u001b[1;3;38;2;237;90;200m[privacy_policy_for_Microsoft Clarity] Q: What is the privacy policy for Microsoft Clarity?\n",
      "\u001b[0m\u001b[1;3;38;2;237;90;200m[privacy_policy_for_Microsoft Clarity] A: The privacy policy for Microsoft Clarity is not explicitly detailed in the provided information. For specific details regarding the privacy policy for Microsoft Clarity, it is recommended to refer to the general Microsoft Privacy Statement or visit the Microsoft Clarity website directly.\n",
      "\u001b[0m\u001b[1;3;34mObservation: For specific details regarding Microsoft's privacy policy, it is recommended to refer to the general Microsoft Privacy Statement or visit the official Microsoft website directly.\n",
      "\u001b[0m\u001b[1;3;38;5;200mThought: I have the general requirements for a GDPR-compliant privacy policy and a reference to Microsoft's privacy policy. I can now draft a privacy policy for the PDF edit tool project.\n",
      "Answer: ---\n",
      "\n",
      "**Privacy Policy for PDF Edit Tool**\n",
      "\n",
      "**Introduction**\n",
      "\n",
      "Welcome to our PDF Edit Tool. We are committed to protecting your privacy and ensuring that your personal data is handled in a safe and responsible manner. This Privacy Policy outlines how we collect, use, and protect your personal data in compliance with the European General Data Protection Regulation (GDPR).\n",
      "\n",
      "**1. Data Controller**\n",
      "\n",
      "The data controller responsible for your personal data is [Your Company Name], located at [Your Company Address]. You can contact our Data Protection Officer (DPO) at [DPO Email Address] for any questions or concerns regarding your personal data.\n",
      "\n",
      "**2. Personal Data We Collect**\n",
      "\n",
      "We may collect and process the following personal data about you:\n",
      "- Contact information (e.g., name, email address)\n",
      "- Account information (e.g., username, password)\n",
      "- Usage data (e.g., IP address, browser type, operating system)\n",
      "- Uploaded documents and files\n",
      "\n",
      "**3. Purpose of Processing**\n",
      "\n",
      "We process your personal data for the following purposes:\n",
      "- To provide and maintain our PDF edit tool services\n",
      "- To improve and personalize your experience\n",
      "- To communicate with you regarding updates, support, and promotional offers\n",
      "- To ensure the security and integrity of our services\n",
      "\n",
      "**4. Legal Basis for Processing**\n",
      "\n",
      "We rely on the following legal bases for processing your personal data:\n",
      "- Performance of a contract: To provide you with our services as requested\n",
      "- Legitimate interests: To improve our services and ensure their security\n",
      "- Consent: For sending promotional communications (you can withdraw your consent at any time)\n",
      "\n",
      "**5. Data Subject Rights**\n",
      "\n",
      "Under the GDPR, you have the following rights regarding your personal data:\n",
      "- Right to access: You can request a copy of your personal data\n",
      "- Right to rectification: You can request correction of inaccurate or incomplete data\n",
      "- Right to erasure: You can request deletion of your personal data\n",
      "- Right to object: You can object to the processing of your personal data\n",
      "- Right to data portability: You can request transfer of your data to another service provider\n",
      "\n",
      "**6. Data Security**\n",
      "\n",
      "We implement appropriate technical and organizational measures to protect your personal data against unauthorized access, alteration, disclosure, or destruction. These measures include encryption, access controls, and regular security assessments.\n",
      "\n",
      "**7. Data Retention**\n",
      "\n",
      "We retain your personal data only for as long as necessary to fulfill the purposes for which it was collected, or as required by law. Once your data is no longer needed, we will securely delete or anonymize it.\n",
      "\n",
      "**8. Third-Party Sharing**\n",
      "\n",
      "We do not share your personal data with third parties, except as necessary to provide our services or as required by law. Any third-party service providers we engage are bound by data protection agreements to ensure the security and confidentiality of your data.\n",
      "\n",
      "**9. Changes to This Privacy Policy**\n",
      "\n",
      "We may update this Privacy Policy from time to time to reflect changes in our practices or legal requirements. We will notify you of any significant changes and provide the updated policy on our website.\n",
      "\n",
      "**10. Contact Us**\n",
      "\n",
      "If you have any questions or concerns about this Privacy Policy or our data practices, please contact us at [Your Contact Information].\n",
      "\n",
      "---\n",
      "\n",
      "This privacy policy template is designed to comply with the GDPR and can be customized to fit the specific needs of your PDF edit tool project.\n",
      "\u001b[0m"
     ]
    },
    {
     "data": {
      "text/markdown": [
       "<b>---\n",
       "\n",
       "**Privacy Policy for PDF Edit Tool**\n",
       "\n",
       "**Introduction**\n",
       "\n",
       "Welcome to our PDF Edit Tool. We are committed to protecting your privacy and ensuring that your personal data is handled in a safe and responsible manner. This Privacy Policy outlines how we collect, use, and protect your personal data in compliance with the European General Data Protection Regulation (GDPR).\n",
       "\n",
       "**1. Data Controller**\n",
       "\n",
       "The data controller responsible for your personal data is [Your Company Name], located at [Your Company Address]. You can contact our Data Protection Officer (DPO) at [DPO Email Address] for any questions or concerns regarding your personal data.\n",
       "\n",
       "**2. Personal Data We Collect**\n",
       "\n",
       "We may collect and process the following personal data about you:\n",
       "- Contact information (e.g., name, email address)\n",
       "- Account information (e.g., username, password)\n",
       "- Usage data (e.g., IP address, browser type, operating system)\n",
       "- Uploaded documents and files\n",
       "\n",
       "**3. Purpose of Processing**\n",
       "\n",
       "We process your personal data for the following purposes:\n",
       "- To provide and maintain our PDF edit tool services\n",
       "- To improve and personalize your experience\n",
       "- To communicate with you regarding updates, support, and promotional offers\n",
       "- To ensure the security and integrity of our services\n",
       "\n",
       "**4. Legal Basis for Processing**\n",
       "\n",
       "We rely on the following legal bases for processing your personal data:\n",
       "- Performance of a contract: To provide you with our services as requested\n",
       "- Legitimate interests: To improve our services and ensure their security\n",
       "- Consent: For sending promotional communications (you can withdraw your consent at any time)\n",
       "\n",
       "**5. Data Subject Rights**\n",
       "\n",
       "Under the GDPR, you have the following rights regarding your personal data:\n",
       "- Right to access: You can request a copy of your personal data\n",
       "- Right to rectification: You can request correction of inaccurate or incomplete data\n",
       "- Right to erasure: You can request deletion of your personal data\n",
       "- Right to object: You can object to the processing of your personal data\n",
       "- Right to data portability: You can request transfer of your data to another service provider\n",
       "\n",
       "**6. Data Security**\n",
       "\n",
       "We implement appropriate technical and organizational measures to protect your personal data against unauthorized access, alteration, disclosure, or destruction. These measures include encryption, access controls, and regular security assessments.\n",
       "\n",
       "**7. Data Retention**\n",
       "\n",
       "We retain your personal data only for as long as necessary to fulfill the purposes for which it was collected, or as required by law. Once your data is no longer needed, we will securely delete or anonymize it.\n",
       "\n",
       "**8. Third-Party Sharing**\n",
       "\n",
       "We do not share your personal data with third parties, except as necessary to provide our services or as required by law. Any third-party service providers we engage are bound by data protection agreements to ensure the security and confidentiality of your data.\n",
       "\n",
       "**9. Changes to This Privacy Policy**\n",
       "\n",
       "We may update this Privacy Policy from time to time to reflect changes in our practices or legal requirements. We will notify you of any significant changes and provide the updated policy on our website.\n",
       "\n",
       "**10. Contact Us**\n",
       "\n",
       "If you have any questions or concerns about this Privacy Policy or our data practices, please contact us at [Your Contact Information].\n",
       "\n",
       "---\n",
       "\n",
       "This privacy policy template is designed to comply with the GDPR and can be customized to fit the specific needs of your PDF edit tool project.</b>"
      ],
      "text/plain": [
       "<IPython.core.display.Markdown object>"
      ]
     },
     "metadata": {},
     "output_type": "display_data"
    }
   ],
   "source": [
    "output = agent.chat(\n",
    "    \"Help me generate a full privacy policy of my project, which is a PDF edit tool. The privacy policy should obey European General Data Protection Regulation. You can use Microsoft's privacy policy as a reference.\"\n",
    ")\n",
    "\n",
    "display(Markdown(f\"<b>{output.response}</b>\"))"
   ]
  },
  {
   "cell_type": "code",
   "execution_count": 16,
   "metadata": {},
   "outputs": [],
   "source": [
    "# define prompt viewing function\n",
    "def display_prompt_dict(prompts_dict):\n",
    "    for k, p in prompts_dict.items():\n",
    "        text_md = f\"**Prompt Key**: {k}\" f\"**Text:** \"\n",
    "        display(Markdown(text_md))\n",
    "        print(p.get_template())\n",
    "        display(Markdown(\"\"))"
   ]
  },
  {
   "cell_type": "code",
   "execution_count": 17,
   "metadata": {},
   "outputs": [
    {
     "data": {
      "text/markdown": [
       "**Prompt Key**: agent_worker:system_prompt**Text:** "
      ],
      "text/plain": [
       "<IPython.core.display.Markdown object>"
      ]
     },
     "metadata": {},
     "output_type": "display_data"
    },
    {
     "name": "stdout",
     "output_type": "stream",
     "text": [
      "You are designed to help with a variety of tasks, from answering questions to providing summaries to other types of analyses.\n",
      "\n",
      "## Tools\n",
      "\n",
      "You have access to a wide variety of tools. You are responsible for using the tools in any sequence you deem appropriate to complete the task at hand.\n",
      "This may require breaking the task into subtasks and using different tools to complete each subtask.\n",
      "\n",
      "You have access to the following tools:\n",
      "{tool_desc}\n",
      "\n",
      "\n",
      "## Output Format\n",
      "\n",
      "Please answer in the same language as the question and use the following format:\n",
      "\n",
      "```\n",
      "Thought: The current language of the user is: (user's language). I need to use a tool to help me answer the question.\n",
      "Action: tool name (one of {tool_names}) if using a tool.\n",
      "Action Input: the input to the tool, in a JSON format representing the kwargs (e.g. {{\"input\": \"hello world\", \"num_beams\": 5}})\n",
      "```\n",
      "\n",
      "Please ALWAYS start with a Thought.\n",
      "\n",
      "Please use a valid JSON format for the Action Input. Do NOT do this {{'input': 'hello world', 'num_beams': 5}}.\n",
      "\n",
      "If this format is used, the user will respond in the following format:\n",
      "\n",
      "```\n",
      "Observation: tool response\n",
      "```\n",
      "\n",
      "You should keep repeating the above format till you have enough information to answer the question without using any more tools. At that point, you MUST respond in the one of the following two formats:\n",
      "\n",
      "```\n",
      "Thought: I can answer without using any more tools. I'll use the user's language to answer\n",
      "Answer: [your answer here (In the same language as the user's question)]\n",
      "```\n",
      "\n",
      "```\n",
      "Thought: I cannot answer the question with the provided tools.\n",
      "Answer: [your answer here (In the same language as the user's question)]\n",
      "```\n",
      "\n",
      "## Current Conversation\n",
      "\n",
      "Below is the current conversation consisting of interleaving human and assistant messages.\n",
      "\n"
     ]
    },
    {
     "data": {
      "text/markdown": [],
      "text/plain": [
       "<IPython.core.display.Markdown object>"
      ]
     },
     "metadata": {},
     "output_type": "display_data"
    }
   ],
   "source": [
    "display_prompt_dict(agent.get_prompts())"
   ]
  }
 ],
 "metadata": {
  "kernelspec": {
   "display_name": "base",
   "language": "python",
   "name": "python3"
  },
  "language_info": {
   "codemirror_mode": {
    "name": "ipython",
    "version": 3
   },
   "file_extension": ".py",
   "mimetype": "text/x-python",
   "name": "python",
   "nbconvert_exporter": "python",
   "pygments_lexer": "ipython3",
   "version": "3.10.9"
  }
 },
 "nbformat": 4,
 "nbformat_minor": 2
}
