{
 "cells": [
  {
   "cell_type": "code",
   "execution_count": 1,
   "metadata": {},
   "outputs": [],
   "source": [
    "import os\n",
    "\n",
    "import regex as re\n",
    "import pandas as pd\n",
    "from llama_index.llms.openai import OpenAI\n",
    "from llama_index.core import Settings\n",
    "from llama_index.core import SummaryIndex, VectorStoreIndex\n",
    "from llama_index.readers.web import SimpleWebPageReader\n",
    "from llama_index.core.tools import BaseTool, FunctionTool\n",
    "from llama_index.core.tools import QueryEngineTool, ToolMetadata\n",
    "from llama_index.core.query_engine import SubQuestionQueryEngine\n",
    "from llama_index.core.agent import ReActAgent\n",
    "from IPython.display import Markdown, display\n",
    "from duckduckgo_search import DDGS"
   ]
  },
  {
   "cell_type": "code",
   "execution_count": 2,
   "metadata": {},
   "outputs": [],
   "source": [
    "import nest_asyncio\n",
    "\n",
    "nest_asyncio.apply()"
   ]
  },
  {
   "cell_type": "code",
   "execution_count": 3,
   "metadata": {},
   "outputs": [],
   "source": [
    "llm = OpenAI(model=\"gpt-4o\")\n",
    "Settings.llm = llm"
   ]
  },
  {
   "cell_type": "code",
   "execution_count": 4,
   "metadata": {},
   "outputs": [],
   "source": [
    "policies = pd.read_csv(\"./privacy_policies.csv\")\n",
    "policies.drop_duplicates(subset=[\"link\"], inplace=True, ignore_index=True)"
   ]
  },
  {
   "cell_type": "code",
   "execution_count": 10,
   "metadata": {},
   "outputs": [
    {
     "data": {
      "text/plain": [
       "Index(['name', 'model', 'link'], dtype='object')"
      ]
     },
     "execution_count": 10,
     "metadata": {},
     "output_type": "execute_result"
    }
   ],
   "source": [
    "policies.columns"
   ]
  },
  {
   "cell_type": "code",
   "execution_count": 5,
   "metadata": {},
   "outputs": [],
   "source": [
    "documents = SimpleWebPageReader(html_to_text=True).load_data(\n",
    "    policies['link'].to_list())"
   ]
  },
  {
   "cell_type": "code",
   "execution_count": 6,
   "metadata": {},
   "outputs": [],
   "source": [
    "policies_query_tool = [\n",
    "    QueryEngineTool(\n",
    "        query_engine=VectorStoreIndex.from_documents([documents[i]\n",
    "                                                      ]).as_query_engine(),\n",
    "        metadata=ToolMetadata(\n",
    "            name=f\"privacy_policy_for_{policies.loc[i, 'name']}\",\n",
    "            description=(\"useful for when you want to know \"\n",
    "                         f\"{policies.loc[i, 'name']}'s privacy policy\"),\n",
    "        ),\n",
    "    ) for i in range(len(documents))\n",
    "]"
   ]
  },
  {
   "cell_type": "code",
   "execution_count": 7,
   "metadata": {},
   "outputs": [],
   "source": [
    "policies_query_engine = SubQuestionQueryEngine.from_defaults(\n",
    "    query_engine_tools=policies_query_tool)"
   ]
  },
  {
   "cell_type": "code",
   "execution_count": 8,
   "metadata": {},
   "outputs": [],
   "source": [
    "privacy_query_engine_tool = QueryEngineTool(\n",
    "    query_engine=policies_query_engine,\n",
    "    metadata=ToolMetadata(\n",
    "        name=\"sub_question_query_engine_for_privacy_policies\",\n",
    "        description=(\n",
    "            \"useful for when you want to answer queries that require analyzing\"\n",
    "            \" multiple privacy policies from different companies\"),\n",
    "    ),\n",
    ")"
   ]
  },
  {
   "cell_type": "code",
   "execution_count": 9,
   "metadata": {},
   "outputs": [],
   "source": [
    "instance = DDGS()\n",
    "methods = [\n",
    "    FunctionTool.from_defaults(fn=getattr(instance, method),\n",
    "                               description=re.match(\n",
    "                                   r\"^(.*?)(?:\\bRaises:\\n|$)\",\n",
    "                                   getattr(instance, method).__doc__,\n",
    "                                   re.DOTALL).group(1).strip())\n",
    "    for method in ['text']  # dir(instance)\n",
    "    if callable(getattr(instance, method)) and not method.startswith(\"_\")\n",
    "]\n",
    "methods = list(filter(lambda x: len(x.metadata.description) <= 1024, methods))"
   ]
  },
  {
   "cell_type": "code",
   "execution_count": 13,
   "metadata": {},
   "outputs": [],
   "source": [
    "agent = ReActAgent.from_tools(\n",
    "    [privacy_query_engine_tool],\n",
    "    llm=llm,\n",
    "    verbose=True,\n",
    "    # context=context\n",
    ")"
   ]
  },
  {
   "cell_type": "code",
   "execution_count": 15,
   "metadata": {},
   "outputs": [
    {
     "name": "stdout",
     "output_type": "stream",
     "text": [
      "\u001b[1;3;38;5;200mThought: The current language of the user is English. I need to use a tool to help me answer the question.\n",
      "Action: sub_question_query_engine_for_privacy_policies\n",
      "Action Input: {'input': \"full privacy policy of a PDF edit tool following Google's privacy policy\"}\n",
      "\u001b[0mGenerated 2 sub questions.\n",
      "\u001b[1;3;38;2;237;90;200m[privacy_policy_for_Google Analytics] Q: What is the privacy policy for Google Analytics?\n",
      "\u001b[0m\u001b[1;3;38;2;90;149;237m[privacy_policy_for_Google Analytics for Firebase] Q: What is the privacy policy for Google Analytics for Firebase?\n",
      "\u001b[0m\u001b[1;3;38;2;237;90;200m[privacy_policy_for_Google Analytics] A: The privacy policy for Google Analytics is not specifically detailed in the provided information. However, you can find additional information about how Google uses information from sites or apps that use their services, including Google Analytics, under the \"Technologies\" section. For more specific details, you may need to refer to Google's main privacy policy or visit the relevant section on their website.\n",
      "\u001b[0m\u001b[1;3;38;2;90;149;237m[privacy_policy_for_Google Analytics for Firebase] A: The privacy policy for Google Analytics for Firebase is no longer applicable as Google Analytics for Firebase properties no longer exist. Customers who continued using Google Analytics have upgraded to Google Analytics 4 (GA4) properties, which are governed by the Google Analytics Terms of Service. For more details, you can refer to the Google Analytics Terms of Service at https://www.google.com/analytics/terms/.\n",
      "\u001b[0m\u001b[1;3;34mObservation: To find the full privacy policy of a PDF edit tool that follows Google's privacy policy, you would need to visit the specific tool's website and look for their privacy policy section. This document should detail how they handle user data, including any adherence to Google's privacy practices if applicable. For comprehensive information, you may also refer to Google's main privacy policy on their website.\n",
      "\u001b[0m\u001b[1;3;34mObservation: Error: Could not parse output. Please follow the thought-action-input format. Try again.\n",
      "\u001b[0m\u001b[1;3;38;5;200mThought: The current language of the user is English. I need to use a tool to help me answer the question.\n",
      "Action: sub_question_query_engine_for_privacy_policies\n",
      "Action Input: {'input': \"Generate a full privacy policy for a PDF edit tool following Google's privacy policy\"}\n",
      "\u001b[0mGenerated 2 sub questions.\n",
      "\u001b[1;3;38;2;237;90;200m[privacy_policy_for_Google Analytics] Q: What is the privacy policy for Google Analytics?\n",
      "\u001b[0m\u001b[1;3;38;2;90;149;237m[privacy_policy_for_Google Analytics for Firebase] Q: What is the privacy policy for Google Analytics for Firebase?\n",
      "\u001b[0m\u001b[1;3;38;2;90;149;237m[privacy_policy_for_Google Analytics for Firebase] A: The Google Analytics for Firebase Use Policy previously applicable to GA4F properties no longer exists. Customers who continued using Google Analytics upgraded to Google Analytics 4 (GA4) properties, which are now under the Google Analytics Terms of Service. For privacy policy details, you can refer to the Google Analytics Terms of Service.\n",
      "\u001b[0m\u001b[1;3;38;2;237;90;200m[privacy_policy_for_Google Analytics] A: The privacy policy for Google Analytics is not explicitly detailed in the provided information. However, you can find more information about how Google uses information from sites or apps that use their services, including Google Analytics, under the \"Technologies\" section, specifically in the part about \"How Google uses information from sites or apps that use our services.\" For more specific details, you may need to refer to the Google Analytics privacy documentation directly.\n",
      "\u001b[0m\u001b[1;3;34mObservation: Creating a full privacy policy for a PDF edit tool that aligns with Google's privacy policy involves outlining how user data is collected, used, and protected. Below is a sample privacy policy:\n",
      "\n",
      "---\n",
      "\n",
      "**Privacy Policy for [Your PDF Edit Tool]**\n",
      "\n",
      "**Effective Date:** [Insert Date]\n",
      "\n",
      "**1. Introduction**\n",
      "\n",
      "Welcome to [Your PDF Edit Tool]. We are committed to protecting your privacy and ensuring that your personal information is handled in a safe and responsible manner. This Privacy Policy outlines how we collect, use, and protect your information when you use our services.\n",
      "\n",
      "**2. Information We Collect**\n",
      "\n",
      "- **Personal Information:** When you register or use our services, we may collect personal information such as your name, email address, and payment information.\n",
      "- **Usage Data:** We collect information about how you interact with our tool, including the features you use, the files you upload, and the time and duration of your sessions.\n",
      "- **Device Information:** We may collect information about the device you use to access our services, including the device type, operating system, and browser type.\n",
      "\n",
      "**3. How We Use Your Information**\n",
      "\n",
      "- **To Provide and Improve Services:** We use your information to operate, maintain, and improve our services.\n",
      "- **To Communicate with You:** We may use your contact information to send you updates, security alerts, and support messages.\n",
      "- **For Analytics:** We use data analytics to understand how our services are used and to improve user experience.\n",
      "\n",
      "**4. Information Sharing and Disclosure**\n",
      "\n",
      "- **Third-Party Service Providers:** We may share your information with third-party service providers who perform services on our behalf, such as payment processing and data analysis.\n",
      "- **Legal Requirements:** We may disclose your information if required to do so by law or in response to valid requests by public authorities.\n",
      "\n",
      "**5. Data Security**\n",
      "\n",
      "We implement appropriate technical and organizational measures to protect your personal information from unauthorized access, use, or disclosure.\n",
      "\n",
      "**6. Your Rights**\n",
      "\n",
      "- **Access and Update:** You have the right to access and update your personal information.\n",
      "- **Delete:** You can request the deletion of your personal information.\n",
      "- **Opt-Out:** You can opt-out of receiving promotional communications from us.\n",
      "\n",
      "**7. Changes to This Privacy Policy**\n",
      "\n",
      "We may update this Privacy Policy from time to time. We will notify you of any changes by posting the new Privacy Policy on our website.\n",
      "\n",
      "**8. Contact Us**\n",
      "\n",
      "If you have any questions about this Privacy Policy, please contact us at [Your Contact Information].\n",
      "\n",
      "---\n",
      "\n",
      "**Note:** This is a sample privacy policy and should be customized to fit the specific practices and legal requirements of your PDF edit tool. It is advisable to consult with a legal professional to ensure compliance with all applicable laws and regulations.\n",
      "\u001b[0m\u001b[1;3;38;5;200mThought: I can answer without using any more tools. I'll use the user's language to answer.\n",
      "Answer: ---\n",
      "\n",
      "**Privacy Policy for [Your PDF Edit Tool]**\n",
      "\n",
      "**Effective Date:** [Insert Date]\n",
      "\n",
      "**1. Introduction**\n",
      "\n",
      "Welcome to [Your PDF Edit Tool]. We are committed to protecting your privacy and ensuring that your personal information is handled in a safe and responsible manner. This Privacy Policy outlines how we collect, use, and protect your information when you use our services.\n",
      "\n",
      "**2. Information We Collect**\n",
      "\n",
      "- **Personal Information:** When you register or use our services, we may collect personal information such as your name, email address, and payment information.\n",
      "- **Usage Data:** We collect information about how you interact with our tool, including the features you use, the files you upload, and the time and duration of your sessions.\n",
      "- **Device Information:** We may collect information about the device you use to access our services, including the device type, operating system, and browser type.\n",
      "\n",
      "**3. How We Use Your Information**\n",
      "\n",
      "- **To Provide and Improve Services:** We use your information to operate, maintain, and improve our services.\n",
      "- **To Communicate with You:** We may use your contact information to send you updates, security alerts, and support messages.\n",
      "- **For Analytics:** We use data analytics to understand how our services are used and to improve user experience.\n",
      "\n",
      "**4. Information Sharing and Disclosure**\n",
      "\n",
      "- **Third-Party Service Providers:** We may share your information with third-party service providers who perform services on our behalf, such as payment processing and data analysis.\n",
      "- **Legal Requirements:** We may disclose your information if required to do so by law or in response to valid requests by public authorities.\n",
      "\n",
      "**5. Data Security**\n",
      "\n",
      "We implement appropriate technical and organizational measures to protect your personal information from unauthorized access, use, or disclosure.\n",
      "\n",
      "**6. Your Rights**\n",
      "\n",
      "- **Access and Update:** You have the right to access and update your personal information.\n",
      "- **Delete:** You can request the deletion of your personal information.\n",
      "- **Opt-Out:** You can opt-out of receiving promotional communications from us.\n",
      "\n",
      "**7. Changes to This Privacy Policy**\n",
      "\n",
      "We may update this Privacy Policy from time to time. We will notify you of any changes by posting the new Privacy Policy on our website.\n",
      "\n",
      "**8. Contact Us**\n",
      "\n",
      "If you have any questions about this Privacy Policy, please contact us at [Your Contact Information].\n",
      "\n",
      "---\n",
      "\n",
      "**Note:** This is a sample privacy policy and should be customized to fit the specific practices and legal requirements of your PDF edit tool. It is advisable to consult with a legal professional to ensure compliance with all applicable laws and regulations.\n",
      "\u001b[0m"
     ]
    },
    {
     "data": {
      "text/markdown": [
       "<b>---\n",
       "\n",
       "**Privacy Policy for [Your PDF Edit Tool]**\n",
       "\n",
       "**Effective Date:** [Insert Date]\n",
       "\n",
       "**1. Introduction**\n",
       "\n",
       "Welcome to [Your PDF Edit Tool]. We are committed to protecting your privacy and ensuring that your personal information is handled in a safe and responsible manner. This Privacy Policy outlines how we collect, use, and protect your information when you use our services.\n",
       "\n",
       "**2. Information We Collect**\n",
       "\n",
       "- **Personal Information:** When you register or use our services, we may collect personal information such as your name, email address, and payment information.\n",
       "- **Usage Data:** We collect information about how you interact with our tool, including the features you use, the files you upload, and the time and duration of your sessions.\n",
       "- **Device Information:** We may collect information about the device you use to access our services, including the device type, operating system, and browser type.\n",
       "\n",
       "**3. How We Use Your Information**\n",
       "\n",
       "- **To Provide and Improve Services:** We use your information to operate, maintain, and improve our services.\n",
       "- **To Communicate with You:** We may use your contact information to send you updates, security alerts, and support messages.\n",
       "- **For Analytics:** We use data analytics to understand how our services are used and to improve user experience.\n",
       "\n",
       "**4. Information Sharing and Disclosure**\n",
       "\n",
       "- **Third-Party Service Providers:** We may share your information with third-party service providers who perform services on our behalf, such as payment processing and data analysis.\n",
       "- **Legal Requirements:** We may disclose your information if required to do so by law or in response to valid requests by public authorities.\n",
       "\n",
       "**5. Data Security**\n",
       "\n",
       "We implement appropriate technical and organizational measures to protect your personal information from unauthorized access, use, or disclosure.\n",
       "\n",
       "**6. Your Rights**\n",
       "\n",
       "- **Access and Update:** You have the right to access and update your personal information.\n",
       "- **Delete:** You can request the deletion of your personal information.\n",
       "- **Opt-Out:** You can opt-out of receiving promotional communications from us.\n",
       "\n",
       "**7. Changes to This Privacy Policy**\n",
       "\n",
       "We may update this Privacy Policy from time to time. We will notify you of any changes by posting the new Privacy Policy on our website.\n",
       "\n",
       "**8. Contact Us**\n",
       "\n",
       "If you have any questions about this Privacy Policy, please contact us at [Your Contact Information].\n",
       "\n",
       "---\n",
       "\n",
       "**Note:** This is a sample privacy policy and should be customized to fit the specific practices and legal requirements of your PDF edit tool. It is advisable to consult with a legal professional to ensure compliance with all applicable laws and regulations.</b>"
      ],
      "text/plain": [
       "<IPython.core.display.Markdown object>"
      ]
     },
     "metadata": {},
     "output_type": "display_data"
    }
   ],
   "source": [
    "output = agent.chat(\n",
    "    \"Help me generate a full privacy policy of my project, which is a PDF edit tool. Please following Google's privacy policy.\"\n",
    ")\n",
    "\n",
    "display(Markdown(f\"<b>{output.response}</b>\"))"
   ]
  },
  {
   "cell_type": "code",
   "execution_count": null,
   "metadata": {},
   "outputs": [],
   "source": [
    "# 任务分类\n",
    "# prompt 优化\n",
    "# 专业化\n",
    "# 最大化利用\n",
    "# 尽可能的finetuning"
   ]
  }
 ],
 "metadata": {
  "kernelspec": {
   "display_name": "base",
   "language": "python",
   "name": "python3"
  },
  "language_info": {
   "codemirror_mode": {
    "name": "ipython",
    "version": 3
   },
   "file_extension": ".py",
   "mimetype": "text/x-python",
   "name": "python",
   "nbconvert_exporter": "python",
   "pygments_lexer": "ipython3",
   "version": "3.10.9"
  }
 },
 "nbformat": 4,
 "nbformat_minor": 2
}
